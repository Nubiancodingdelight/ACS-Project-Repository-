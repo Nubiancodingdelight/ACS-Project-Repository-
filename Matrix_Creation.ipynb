{
  "nbformat": 4,
  "nbformat_minor": 0,
  "metadata": {
    "colab": {
      "provenance": [],
      "authorship_tag": "ABX9TyO/Wb2hlyWlyBA2B2iZ8Kzr",
      "include_colab_link": true
    },
    "kernelspec": {
      "name": "python3",
      "display_name": "Python 3"
    },
    "language_info": {
      "name": "python"
    }
  },
  "cells": [
    {
      "cell_type": "markdown",
      "metadata": {
        "id": "view-in-github",
        "colab_type": "text"
      },
      "source": [
        "<a href=\"https://colab.research.google.com/github/Nubiancodingdelight/ACS-Project-Repository-/blob/main/Matrix_Creation.ipynb\" target=\"_parent\"><img src=\"https://colab.research.google.com/assets/colab-badge.svg\" alt=\"Open In Colab\"/></a>"
      ]
    },
    {
      "cell_type": "code",
      "source": [
        "#mounts google drive\n",
        "from google.colab import drive\n",
        "drive.mount('/content/drive')"
      ],
      "metadata": {
        "colab": {
          "base_uri": "https://localhost:8080/"
        },
        "id": "VJleKT_wmJl0",
        "outputId": "c25ed64c-a9e7-4e34-dc11-f7ccceb2f988"
      },
      "execution_count": 27,
      "outputs": [
        {
          "output_type": "stream",
          "name": "stdout",
          "text": [
            "Drive already mounted at /content/drive; to attempt to forcibly remount, call drive.mount(\"/content/drive\", force_remount=True).\n"
          ]
        }
      ]
    },
    {
      "cell_type": "code",
      "source": [
        "!pip install pysam\n"
      ],
      "metadata": {
        "colab": {
          "base_uri": "https://localhost:8080/"
        },
        "id": "vAqMuJo_muL8",
        "outputId": "831edd17-c652-4baa-8745-db374ade43f8"
      },
      "execution_count": 28,
      "outputs": [
        {
          "output_type": "stream",
          "name": "stdout",
          "text": [
            "Requirement already satisfied: pysam in /usr/local/lib/python3.10/dist-packages (0.22.0)\n"
          ]
        }
      ]
    },
    {
      "cell_type": "code",
      "source": [
        "# sets correct path\n",
        "%cd drive/MyDrive/'ACS Research'/'Beginning Data'"
      ],
      "metadata": {
        "colab": {
          "base_uri": "https://localhost:8080/"
        },
        "id": "dCjgWG_4mgrC",
        "outputId": "fe08ea3c-1fdb-43b1-b4b3-3838b7d52d2c"
      },
      "execution_count": 29,
      "outputs": [
        {
          "output_type": "stream",
          "name": "stdout",
          "text": [
            "[Errno 2] No such file or directory: 'drive/MyDrive/ACS Research/Beginning Data'\n",
            "/content/drive/MyDrive/ACS Research/Beginning Data\n"
          ]
        }
      ]
    },
    {
      "cell_type": "code",
      "execution_count": 30,
      "metadata": {
        "id": "cXaoLXM8l8Pa"
      },
      "outputs": [],
      "source": [
        "#imports\n",
        "import pysam\n",
        "import re\n",
        "import tensorflow as tf\n",
        "import numpy as np\n",
        "#from pyspark.sql import SparkSession"
      ]
    },
    {
      "cell_type": "code",
      "source": [
        "#parse each row\n",
        "def matrix_row(CIG, SE, PO, INS):\n",
        "  #intialize values here\n",
        "  matrix_list= []\n",
        "  label_list =[]\n",
        "  bases = ['A','T','C','G']\n",
        "  seq_list= list(SE)\n",
        "  cigar_list = re.split(r'(\\d+)', CIG)[1::]\n",
        "\n",
        "  if len(cigar_list) ==2:\n",
        "    #if it is a matched a sequence of 1's based on the base are added\n",
        "    if cigar_list[1] == 'M':\n",
        "      for item in seq_list:\n",
        "\n",
        "        if int(PO) == int(INS):\n",
        "            label_list.append([1,1,1,1])\n",
        "        else:\n",
        "            label_list.append([0,0,0,0])\n",
        "        num_list = [0,0,0,0, PO]\n",
        "        try:\n",
        "            #if statement causes all values not in the base list to be ignored.\n",
        "            num_list[bases.index(item)] = 1\n",
        "            matrix_list.append(num_list)\n",
        "        except ValueError:\n",
        "            matrix_list.append(num_list)\n",
        "\n",
        "            #skips rows with no match\n",
        "      else:\n",
        "        matrix_list.append([0,0,0,0, PO])\n",
        "    else:\n",
        "      for time in range(int(len(cigar_list)/2)):\n",
        "        if cigar_list[(2*time)+1] == 'M':\n",
        "          for item in seq_list:\n",
        "\n",
        "            #generates label matrix\n",
        "            if int(PO) == int(INS):\n",
        "              label_list.append([1,1,1,1])\n",
        "            else:\n",
        "              label_list.append([0,0,0,0])\n",
        "\n",
        "            num_list = [0,0,0,0, PO]\n",
        "\n",
        "             #if statement causes all values not in the base list to be ignored.\n",
        "            try:\n",
        "              num_list[bases.index(item)] = 1\n",
        "              matrix_list.append(num_list)\n",
        "            except ValueError:\n",
        "              matrix_list.append(num_list)\n",
        "\n",
        "        #skips rows with no matches\n",
        "        #add a statement to insert a blank row if there are no matches here\n",
        "        else:\n",
        "          matrix_list.append([0,0,0,0, PO])\n",
        "  return matrix_list, label_list\n"
      ],
      "metadata": {
        "id": "U3pMSI8BmmVs"
      },
      "execution_count": 46,
      "outputs": []
    },
    {
      "cell_type": "code",
      "source": [
        "#create matrix\n",
        "samfile = pysam.AlignmentFile(\"bowtie2/SRR030257.bam\", \"rb\")\n",
        "final_matrix = []\n",
        "label_matrix = []\n",
        "for line in samfile:\n",
        "  line_list = str(line).split(\"\\t\")\n",
        "  #print(line_list)\n",
        "  CIGAR = line_list[5]\n",
        "  #print(CIGAR)\n",
        "  SEQ = line_list[9]\n",
        "  #print(SEQ)\n",
        "  POS = line_list[3]\n",
        "  INS = 950180\n",
        "  #print(POS)\n",
        "  #print(sum(matrix_row(CIGAR, SEQ, POS) , []))\n",
        "  #final_matrix.append(matrix_row(CIGAR, SEQ, POS))\n",
        "  final_matrix_temp, label_matrix_temp = matrix_row(CIGAR, SEQ, POS, INS)\n",
        "  final_matrix += final_matrix_temp\n",
        "  label_matrix += label_matrix_temp\n",
        "  #final_matrix = sum(final_matrix, [])\n",
        "  print(final_matrix)\n",
        "  print(label_matrix)\n",
        "\n",
        "  break"
      ],
      "metadata": {
        "colab": {
          "base_uri": "https://localhost:8080/"
        },
        "id": "qi86w63Nmjh9",
        "outputId": "33d42cb6-df79-4a31-f31f-79d592527b01"
      },
      "execution_count": 47,
      "outputs": [
        {
          "output_type": "stream",
          "name": "stdout",
          "text": [
            "[[0, 1, 0, 0, '950180'], [0, 1, 0, 0, '950180'], [1, 0, 0, 0, '950180'], [0, 0, 1, 0, '950180'], [1, 0, 0, 0, '950180'], [0, 0, 1, 0, '950180'], [0, 1, 0, 0, '950180'], [0, 0, 1, 0, '950180'], [0, 0, 1, 0, '950180'], [0, 1, 0, 0, '950180'], [0, 0, 0, 1, '950180'], [0, 1, 0, 0, '950180'], [0, 1, 0, 0, '950180'], [1, 0, 0, 0, '950180'], [1, 0, 0, 0, '950180'], [0, 1, 0, 0, '950180'], [0, 0, 1, 0, '950180'], [0, 0, 1, 0, '950180'], [1, 0, 0, 0, '950180'], [0, 1, 0, 0, '950180'], [1, 0, 0, 0, '950180'], [0, 0, 1, 0, '950180'], [1, 0, 0, 0, '950180'], [0, 0, 0, 1, '950180'], [0, 0, 1, 0, '950180'], [1, 0, 0, 0, '950180'], [1, 0, 0, 0, '950180'], [0, 0, 1, 0, '950180'], [1, 0, 0, 0, '950180'], [0, 0, 0, 1, '950180'], [0, 1, 0, 0, '950180'], [1, 0, 0, 0, '950180'], [0, 1, 0, 0, '950180'], [0, 1, 0, 0, '950180'], [0, 0, 0, 1, '950180'], [0, 0, 0, 1, '950180'], [0, 0, 0, 0, '950180']]\n",
            "[[1, 1, 1, 1], [1, 1, 1, 1], [1, 1, 1, 1], [1, 1, 1, 1], [1, 1, 1, 1], [1, 1, 1, 1], [1, 1, 1, 1], [1, 1, 1, 1], [1, 1, 1, 1], [1, 1, 1, 1], [1, 1, 1, 1], [1, 1, 1, 1], [1, 1, 1, 1], [1, 1, 1, 1], [1, 1, 1, 1], [1, 1, 1, 1], [1, 1, 1, 1], [1, 1, 1, 1], [1, 1, 1, 1], [1, 1, 1, 1], [1, 1, 1, 1], [1, 1, 1, 1], [1, 1, 1, 1], [1, 1, 1, 1], [1, 1, 1, 1], [1, 1, 1, 1], [1, 1, 1, 1], [1, 1, 1, 1], [1, 1, 1, 1], [1, 1, 1, 1], [1, 1, 1, 1], [1, 1, 1, 1], [1, 1, 1, 1], [1, 1, 1, 1], [1, 1, 1, 1], [1, 1, 1, 1]]\n"
          ]
        }
      ]
    },
    {
      "cell_type": "code",
      "source": [
        "def generate_matrix(filename, viral_pos):\n",
        "  #create matrix\n",
        "  samfile = pysam.AlignmentFile(filename, \"rb\")\n",
        "  final_matrix = []\n",
        "  label_matrix = []\n",
        "  for line in samfile:\n",
        "    line_list = str(line).split(\"\\t\")\n",
        "    CIGAR = line_list[5]\n",
        "    SEQ = line_list[9]\n",
        "    POS = line_list[3]\n",
        "    INS = viral_pos\n",
        "    #calls function to generate a matrix and label for the corresponding row of sequence\n",
        "    final_matrix_temp, label_matrix_temp = matrix_row(CIGAR, SEQ, POS, INS)\n",
        "    final_matrix += final_matrix_temp\n",
        "    label_matrix += label_matrix_temp\n",
        "  return final_matrix, label_matrix\n"
      ],
      "metadata": {
        "id": "K8bXZGJQiSbz"
      },
      "execution_count": null,
      "outputs": []
    },
    {
      "cell_type": "code",
      "source": [
        "final_matrix"
      ],
      "metadata": {
        "colab": {
          "base_uri": "https://localhost:8080/"
        },
        "id": "BCVhKIRcG3oN",
        "outputId": "d714bfbb-494a-4a08-e862-752e3ce520e6"
      },
      "execution_count": 35,
      "outputs": [
        {
          "output_type": "execute_result",
          "data": {
            "text/plain": [
              "[[0, 1, 0, 0, '950180'],\n",
              " [0, 1, 0, 0, '950180'],\n",
              " [1, 0, 0, 0, '950180'],\n",
              " [0, 0, 1, 0, '950180'],\n",
              " [1, 0, 0, 0, '950180'],\n",
              " [0, 0, 1, 0, '950180'],\n",
              " [0, 1, 0, 0, '950180'],\n",
              " [0, 0, 1, 0, '950180'],\n",
              " [0, 0, 1, 0, '950180'],\n",
              " [0, 1, 0, 0, '950180'],\n",
              " [0, 0, 0, 1, '950180'],\n",
              " [0, 1, 0, 0, '950180'],\n",
              " [0, 1, 0, 0, '950180'],\n",
              " [1, 0, 0, 0, '950180'],\n",
              " [1, 0, 0, 0, '950180'],\n",
              " [0, 1, 0, 0, '950180'],\n",
              " [0, 0, 1, 0, '950180'],\n",
              " [0, 0, 1, 0, '950180'],\n",
              " [1, 0, 0, 0, '950180'],\n",
              " [0, 1, 0, 0, '950180'],\n",
              " [1, 0, 0, 0, '950180'],\n",
              " [0, 0, 1, 0, '950180'],\n",
              " [1, 0, 0, 0, '950180'],\n",
              " [0, 0, 0, 1, '950180'],\n",
              " [0, 0, 1, 0, '950180'],\n",
              " [1, 0, 0, 0, '950180'],\n",
              " [1, 0, 0, 0, '950180'],\n",
              " [0, 0, 1, 0, '950180'],\n",
              " [1, 0, 0, 0, '950180'],\n",
              " [0, 0, 0, 1, '950180'],\n",
              " [0, 1, 0, 0, '950180'],\n",
              " [1, 0, 0, 0, '950180'],\n",
              " [0, 1, 0, 0, '950180'],\n",
              " [0, 1, 0, 0, '950180'],\n",
              " [0, 0, 0, 1, '950180'],\n",
              " [0, 0, 0, 1, '950180'],\n",
              " [0, 0, 0, 0, '950180']]"
            ]
          },
          "metadata": {},
          "execution_count": 35
        }
      ]
    }
  ]
}