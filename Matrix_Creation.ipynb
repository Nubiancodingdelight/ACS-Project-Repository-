{
  "nbformat": 4,
  "nbformat_minor": 0,
  "metadata": {
    "colab": {
      "provenance": [],
      "authorship_tag": "ABX9TyN6XZ79xCGsdEFHGjFzS+Kh",
      "include_colab_link": true
    },
    "kernelspec": {
      "name": "python3",
      "display_name": "Python 3"
    },
    "language_info": {
      "name": "python"
    }
  },
  "cells": [
    {
      "cell_type": "markdown",
      "metadata": {
        "id": "view-in-github",
        "colab_type": "text"
      },
      "source": [
        "<a href=\"https://colab.research.google.com/github/Nubiancodingdelight/ACS-Project-Repository-/blob/main/Matrix_Creation.ipynb\" target=\"_parent\"><img src=\"https://colab.research.google.com/assets/colab-badge.svg\" alt=\"Open In Colab\"/></a>"
      ]
    },
    {
      "cell_type": "code",
      "source": [
        "#mounts google drive\n",
        "from google.colab import drive\n",
        "drive.mount('/content/drive')"
      ],
      "metadata": {
        "colab": {
          "base_uri": "https://localhost:8080/"
        },
        "id": "VJleKT_wmJl0",
        "outputId": "37008465-8b1a-4e71-e93b-525ddba173a1"
      },
      "execution_count": 2,
      "outputs": [
        {
          "output_type": "stream",
          "name": "stdout",
          "text": [
            "Mounted at /content/drive\n"
          ]
        }
      ]
    },
    {
      "cell_type": "code",
      "source": [
        "!pip install pysam\n"
      ],
      "metadata": {
        "colab": {
          "base_uri": "https://localhost:8080/"
        },
        "id": "vAqMuJo_muL8",
        "outputId": "ebca9aa9-b7d3-4c10-8da8-d15d6fc08a66"
      },
      "execution_count": 5,
      "outputs": [
        {
          "output_type": "stream",
          "name": "stdout",
          "text": [
            "Collecting pysam\n",
            "  Downloading pysam-0.22.0-cp310-cp310-manylinux_2_28_x86_64.whl (21.9 MB)\n",
            "\u001b[2K     \u001b[90m━━━━━━━━━━━━━━━━━━━━━━━━━━━━━━━━━━━━━━━━\u001b[0m \u001b[32m21.9/21.9 MB\u001b[0m \u001b[31m29.0 MB/s\u001b[0m eta \u001b[36m0:00:00\u001b[0m\n",
            "\u001b[?25hInstalling collected packages: pysam\n",
            "Successfully installed pysam-0.22.0\n"
          ]
        }
      ]
    },
    {
      "cell_type": "code",
      "source": [
        "# sets correct path\n",
        "%cd drive/MyDrive/'ACS Research'/'Beginning Data'"
      ],
      "metadata": {
        "colab": {
          "base_uri": "https://localhost:8080/"
        },
        "id": "dCjgWG_4mgrC",
        "outputId": "96bc0158-d852-4b79-a264-fbbc7f9cbc24"
      },
      "execution_count": 3,
      "outputs": [
        {
          "output_type": "stream",
          "name": "stdout",
          "text": [
            "/content/drive/MyDrive/ACS Research/Beginning Data\n"
          ]
        }
      ]
    },
    {
      "cell_type": "code",
      "execution_count": 8,
      "metadata": {
        "id": "cXaoLXM8l8Pa"
      },
      "outputs": [],
      "source": [
        "#imports\n",
        "import pysam\n",
        "import re\n",
        "import tensorflow as tf\n",
        "import numpy as np\n",
        "#from pyspark.sql import SparkSession"
      ]
    },
    {
      "cell_type": "code",
      "source": [
        "#parse each row\n",
        "def matrix_row(CIG, SE, PO):\n",
        "  matrix_list= []\n",
        "  seq_list= list(SE)\n",
        "  cigar_list = re.split(r'(\\d+)', CIG)[1::]\n",
        "  if len(cigar_list) ==2:\n",
        "    #if it is a matched a sequence of 1's based on the base are added\n",
        "    if cigar_list[1] == 'M':\n",
        "      for item in seq_list:\n",
        "        bases = ['A','T','C','G']\n",
        "        num_list = [0,0,0,0, PO]\n",
        "        #if statement causes all values not in the base list to be ignored.\n",
        "        num_list[bases.index(item)] = 1\n",
        "        matrix_list.append(num_list)\n",
        "    else:\n",
        "      for time in range(int(len(cigar_list)/2)):\n",
        "        if cigar_list[(2*time)+1] == 'M':\n",
        "          for item in seq_list:\n",
        "            bases = ['A','T','C','G']\n",
        "            num_list = [0,0,0,0, PO]\n",
        "            #if statement causes all values not in the base list to be ignored.\n",
        "            num_list[bases.index(item)] = 1\n",
        "            matrix_list.append(num_list)\n",
        "  return matrix_list\n"
      ],
      "metadata": {
        "id": "U3pMSI8BmmVs"
      },
      "execution_count": 13,
      "outputs": []
    },
    {
      "cell_type": "code",
      "source": [
        "#create matrix\n",
        "samfile = pysam.AlignmentFile(\"bowtie2/SRR030257.bam\", \"rb\")\n",
        "final_matrix = []\n",
        "for line in samfile:\n",
        "  line_list = str(line).split(\"\\t\")\n",
        "  #print(line_list)\n",
        "  CIGAR = line_list[5]\n",
        "  #print(CIGAR)\n",
        "  SEQ = line_list[9]\n",
        "  #print(SEQ)\n",
        "  POS = line_list[3]\n",
        "  #print(POS)\n",
        "  #print(sum(matrix_row(CIGAR, SEQ, POS) , []))\n",
        "  final_matrix.append(matrix_row(CIGAR, SEQ, POS))\n",
        "  final_matrix =sum(final_matrix, [])\n",
        "  print(final_matrix)\n",
        "\n",
        "  #break"
      ],
      "metadata": {
        "colab": {
          "base_uri": "https://localhost:8080/"
        },
        "id": "qi86w63Nmjh9",
        "outputId": "29480edf-8599-442c-faa8-aa608a1ca2c8"
      },
      "execution_count": 29,
      "outputs": [
        {
          "output_type": "stream",
          "name": "stdout",
          "text": [
            "[[0, 1, 0, 0, '950180'], [0, 1, 0, 0, '950180'], [1, 0, 0, 0, '950180'], [0, 0, 1, 0, '950180'], [1, 0, 0, 0, '950180'], [0, 0, 1, 0, '950180'], [0, 1, 0, 0, '950180'], [0, 0, 1, 0, '950180'], [0, 0, 1, 0, '950180'], [0, 1, 0, 0, '950180'], [0, 0, 0, 1, '950180'], [0, 1, 0, 0, '950180'], [0, 1, 0, 0, '950180'], [1, 0, 0, 0, '950180'], [1, 0, 0, 0, '950180'], [0, 1, 0, 0, '950180'], [0, 0, 1, 0, '950180'], [0, 0, 1, 0, '950180'], [1, 0, 0, 0, '950180'], [0, 1, 0, 0, '950180'], [1, 0, 0, 0, '950180'], [0, 0, 1, 0, '950180'], [1, 0, 0, 0, '950180'], [0, 0, 0, 1, '950180'], [0, 0, 1, 0, '950180'], [1, 0, 0, 0, '950180'], [1, 0, 0, 0, '950180'], [0, 0, 1, 0, '950180'], [1, 0, 0, 0, '950180'], [0, 0, 0, 1, '950180'], [0, 1, 0, 0, '950180'], [1, 0, 0, 0, '950180'], [0, 1, 0, 0, '950180'], [0, 1, 0, 0, '950180'], [0, 0, 0, 1, '950180'], [0, 0, 0, 1, '950180']]\n"
          ]
        }
      ]
    }
  ]
}