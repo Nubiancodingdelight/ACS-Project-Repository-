{
  "nbformat": 4,
  "nbformat_minor": 0,
  "metadata": {
    "colab": {
      "provenance": [],
      "toc_visible": true,
      "include_colab_link": true
    },
    "kernelspec": {
      "name": "python3",
      "display_name": "Python 3"
    },
    "language_info": {
      "name": "python"
    }
  },
  "cells": [
    {
      "cell_type": "markdown",
      "metadata": {
        "id": "view-in-github",
        "colab_type": "text"
      },
      "source": [
        "<a href=\"https://colab.research.google.com/github/Nubiancodingdelight/ACS-Project-Repository-/blob/main/Generating_VIS.ipynb\" target=\"_parent\"><img src=\"https://colab.research.google.com/assets/colab-badge.svg\" alt=\"Open In Colab\"/></a>"
      ]
    },
    {
      "cell_type": "code",
      "execution_count": 1,
      "metadata": {
        "colab": {
          "base_uri": "https://localhost:8080/"
        },
        "id": "UitA4QM35UrE",
        "outputId": "36ba2b73-4f57-47d5-bfea-b0f61f9cd750"
      },
      "outputs": [
        {
          "output_type": "stream",
          "name": "stdout",
          "text": [
            "Mounted at /content/drive\n"
          ]
        }
      ],
      "source": [
        "#mounts google drive\n",
        "from google.colab import drive\n",
        "drive.mount('/content/drive', force_remount=True)\n"
      ]
    },
    {
      "cell_type": "code",
      "source": [
        "#set path\n",
        "%cd /content/drive/MyDrive/ACS_Research/VISDB_Data/"
      ],
      "metadata": {
        "colab": {
          "base_uri": "https://localhost:8080/"
        },
        "id": "DgBjRq1H_vYS",
        "outputId": "a911729f-fd5f-4922-f2b3-54977cf99d50",
        "collapsed": true
      },
      "execution_count": 2,
      "outputs": [
        {
          "output_type": "stream",
          "name": "stdout",
          "text": [
            "/content/drive/MyDrive/ACS_Research/VISDB_Data\n"
          ]
        }
      ]
    },
    {
      "cell_type": "code",
      "source": [
        "#install Biopython and pyfaidx\n",
        "!pip install Bio pyfaidx"
      ],
      "metadata": {
        "colab": {
          "base_uri": "https://localhost:8080/"
        },
        "id": "wFafUZikMydT",
        "outputId": "08b67b5a-63fd-4234-a36b-83c9ab3c2a5f",
        "collapsed": true
      },
      "execution_count": 4,
      "outputs": [
        {
          "output_type": "stream",
          "name": "stdout",
          "text": [
            "Collecting Bio\n",
            "  Downloading bio-1.7.1-py3-none-any.whl.metadata (5.7 kB)\n",
            "Collecting pyfaidx\n",
            "  Downloading pyfaidx-0.8.1.3-py3-none-any.whl.metadata (25 kB)\n",
            "Collecting biopython>=1.80 (from Bio)\n",
            "  Downloading biopython-1.85-cp311-cp311-manylinux_2_17_x86_64.manylinux2014_x86_64.whl.metadata (13 kB)\n",
            "Collecting gprofiler-official (from Bio)\n",
            "  Downloading gprofiler_official-1.0.0-py3-none-any.whl.metadata (11 kB)\n",
            "Collecting mygene (from Bio)\n",
            "  Downloading mygene-3.2.2-py2.py3-none-any.whl.metadata (10 kB)\n",
            "Requirement already satisfied: pandas in /usr/local/lib/python3.11/dist-packages (from Bio) (2.2.2)\n",
            "Requirement already satisfied: pooch in /usr/local/lib/python3.11/dist-packages (from Bio) (1.8.2)\n",
            "Requirement already satisfied: requests in /usr/local/lib/python3.11/dist-packages (from Bio) (2.32.3)\n",
            "Requirement already satisfied: tqdm in /usr/local/lib/python3.11/dist-packages (from Bio) (4.67.1)\n",
            "Requirement already satisfied: importlib-metadata in /usr/local/lib/python3.11/dist-packages (from pyfaidx) (8.6.1)\n",
            "Requirement already satisfied: packaging in /usr/local/lib/python3.11/dist-packages (from pyfaidx) (24.2)\n",
            "Requirement already satisfied: numpy in /usr/local/lib/python3.11/dist-packages (from biopython>=1.80->Bio) (2.0.2)\n",
            "Requirement already satisfied: zipp>=3.20 in /usr/local/lib/python3.11/dist-packages (from importlib-metadata->pyfaidx) (3.21.0)\n",
            "Collecting biothings-client>=0.2.6 (from mygene->Bio)\n",
            "  Downloading biothings_client-0.4.1-py3-none-any.whl.metadata (10 kB)\n",
            "Requirement already satisfied: python-dateutil>=2.8.2 in /usr/local/lib/python3.11/dist-packages (from pandas->Bio) (2.8.2)\n",
            "Requirement already satisfied: pytz>=2020.1 in /usr/local/lib/python3.11/dist-packages (from pandas->Bio) (2025.2)\n",
            "Requirement already satisfied: tzdata>=2022.7 in /usr/local/lib/python3.11/dist-packages (from pandas->Bio) (2025.2)\n",
            "Requirement already satisfied: platformdirs>=2.5.0 in /usr/local/lib/python3.11/dist-packages (from pooch->Bio) (4.3.7)\n",
            "Requirement already satisfied: charset-normalizer<4,>=2 in /usr/local/lib/python3.11/dist-packages (from requests->Bio) (3.4.1)\n",
            "Requirement already satisfied: idna<4,>=2.5 in /usr/local/lib/python3.11/dist-packages (from requests->Bio) (3.10)\n",
            "Requirement already satisfied: urllib3<3,>=1.21.1 in /usr/local/lib/python3.11/dist-packages (from requests->Bio) (2.3.0)\n",
            "Requirement already satisfied: certifi>=2017.4.17 in /usr/local/lib/python3.11/dist-packages (from requests->Bio) (2025.1.31)\n",
            "Requirement already satisfied: httpx>=0.22.0 in /usr/local/lib/python3.11/dist-packages (from biothings-client>=0.2.6->mygene->Bio) (0.28.1)\n",
            "Requirement already satisfied: six>=1.5 in /usr/local/lib/python3.11/dist-packages (from python-dateutil>=2.8.2->pandas->Bio) (1.17.0)\n",
            "Requirement already satisfied: anyio in /usr/local/lib/python3.11/dist-packages (from httpx>=0.22.0->biothings-client>=0.2.6->mygene->Bio) (4.9.0)\n",
            "Requirement already satisfied: httpcore==1.* in /usr/local/lib/python3.11/dist-packages (from httpx>=0.22.0->biothings-client>=0.2.6->mygene->Bio) (1.0.7)\n",
            "Requirement already satisfied: h11<0.15,>=0.13 in /usr/local/lib/python3.11/dist-packages (from httpcore==1.*->httpx>=0.22.0->biothings-client>=0.2.6->mygene->Bio) (0.14.0)\n",
            "Requirement already satisfied: sniffio>=1.1 in /usr/local/lib/python3.11/dist-packages (from anyio->httpx>=0.22.0->biothings-client>=0.2.6->mygene->Bio) (1.3.1)\n",
            "Requirement already satisfied: typing_extensions>=4.5 in /usr/local/lib/python3.11/dist-packages (from anyio->httpx>=0.22.0->biothings-client>=0.2.6->mygene->Bio) (4.13.1)\n",
            "Downloading bio-1.7.1-py3-none-any.whl (280 kB)\n",
            "\u001b[2K   \u001b[90m━━━━━━━━━━━━━━━━━━━━━━━━━━━━━━━━━━━━━━━━\u001b[0m \u001b[32m281.0/281.0 kB\u001b[0m \u001b[31m7.5 MB/s\u001b[0m eta \u001b[36m0:00:00\u001b[0m\n",
            "\u001b[?25hDownloading pyfaidx-0.8.1.3-py3-none-any.whl (28 kB)\n",
            "Downloading biopython-1.85-cp311-cp311-manylinux_2_17_x86_64.manylinux2014_x86_64.whl (3.3 MB)\n",
            "\u001b[2K   \u001b[90m━━━━━━━━━━━━━━━━━━━━━━━━━━━━━━━━━━━━━━━━\u001b[0m \u001b[32m3.3/3.3 MB\u001b[0m \u001b[31m50.3 MB/s\u001b[0m eta \u001b[36m0:00:00\u001b[0m\n",
            "\u001b[?25hDownloading gprofiler_official-1.0.0-py3-none-any.whl (9.3 kB)\n",
            "Downloading mygene-3.2.2-py2.py3-none-any.whl (5.4 kB)\n",
            "Downloading biothings_client-0.4.1-py3-none-any.whl (46 kB)\n",
            "\u001b[2K   \u001b[90m━━━━━━━━━━━━━━━━━━━━━━━━━━━━━━━━━━━━━━━━\u001b[0m \u001b[32m46.7/46.7 kB\u001b[0m \u001b[31m2.7 MB/s\u001b[0m eta \u001b[36m0:00:00\u001b[0m\n",
            "\u001b[?25hInstalling collected packages: biopython, pyfaidx, gprofiler-official, biothings-client, mygene, Bio\n",
            "Successfully installed Bio-1.7.1 biopython-1.85 biothings-client-0.4.1 gprofiler-official-1.0.0 mygene-3.2.2 pyfaidx-0.8.1.3\n"
          ]
        }
      ]
    },
    {
      "cell_type": "code",
      "source": [
        "#import\n",
        "import pandas as pd\n",
        "import numpy as np\n",
        "import matplotlib.pyplot as plt\n",
        "import seaborn as sns\n",
        "import os\n",
        "from pyfaidx import Fasta"
      ],
      "metadata": {
        "id": "tZ5SZAIFAKAv"
      },
      "execution_count": 5,
      "outputs": []
    },
    {
      "cell_type": "code",
      "source": [],
      "metadata": {
        "id": "sF2FFQtv5vl3"
      },
      "execution_count": null,
      "outputs": []
    },
    {
      "cell_type": "markdown",
      "source": [
        "# FUNCTIONS"
      ],
      "metadata": {
        "id": "uy0BkUxN5wLG"
      }
    },
    {
      "cell_type": "markdown",
      "source": [
        "## Extract sequence from virus"
      ],
      "metadata": {
        "id": "lm38Gg9U-HAS"
      }
    },
    {
      "cell_type": "code",
      "source": [
        "#name: Name of Virus\n",
        "#ref: Specific  Viral Sequence\n",
        "def virus_seq_extract(name, ref, start, stop):\n",
        "  #location of fasta sequence\n",
        "  path = '/content/drive/MyDrive/ACS_Research/VISDB_Data/Viral_Reference/' +name+ \"/\"+ \"sequence.fasta\"\n",
        "  virus_gene = Fasta(path)\n",
        "  if ref in virus_gene.keys():\n",
        "    extracted_seq = virus_gene[ref][start-1:stop]\n",
        "  elif ref in ('NC_003977.1', 'NC_003977'):\n",
        "    path = '/content/drive/MyDrive/ACS_Research/VISDB_Data/Viral_Reference/HBV/NC_003977.1.fasta'\n",
        "    virus_gene = Fasta(path)\n",
        "    extracted_seq = virus_gene['NC_003977.1'][start-1:stop]\n",
        "  else:\n",
        "    print(f\"Reference {ref} not found in {name}\")\n",
        "  return extracted_seq.seq"
      ],
      "metadata": {
        "id": "Yh1y-4gHUIyn"
      },
      "execution_count": 6,
      "outputs": []
    },
    {
      "cell_type": "code",
      "source": [
        "#testing virus\n",
        "#print(virus_seq_extract('HBV', 'NC_003977.1',50, 100))"
      ],
      "metadata": {
        "id": "4BQ2L8anSixt",
        "outputId": "c229deeb-3d85-46c3-ebb3-3da84bb825f0",
        "colab": {
          "base_uri": "https://localhost:8080/"
        }
      },
      "execution_count": null,
      "outputs": [
        {
          "output_type": "stream",
          "name": "stdout",
          "text": [
            "TATTTTCCTGCTGGTGGCTCCAGTTCCGGAACAGTAAACCCTGTTCCGACT\n"
          ]
        }
      ]
    },
    {
      "cell_type": "markdown",
      "source": [
        "## Extract Sequence from Human Reference 100 bp upstream and 100 bp downstream"
      ],
      "metadata": {
        "id": "sazjWlI--KHH"
      }
    },
    {
      "cell_type": "code",
      "source": [
        "def human_seq_extract(ref, chr, start, stop):\n",
        "  seq_list = []\n",
        "  #hg19 human reference genome\n",
        "  if ref.lower() in ('grch37/hg19','hg19','grch37'):\n",
        "    path = '/content/drive/MyDrive/ACS_Research/VISDB_Data/Human_Reference/hg19/uncompressed/' + chr + '.fa'\n",
        "    genes = Fasta(path)\n",
        "    if start < stop:\n",
        "      seq_list.append(genes[0][start-100:start].seq)\n",
        "      seq_list.append(genes[0][stop:stop+100].seq)\n",
        "    else:\n",
        "      seq_list.append(genes[0][start:start+100].seq)\n",
        "      seq_list.append(genes[0][stop-100:stop].seq)\n",
        "\n",
        "  #hg38 human reference\n",
        "  elif ref.lower() in ('hg38'):\n",
        "    path = '/content/drive/MyDrive/ACS_Research/VISDB_Data/Human_Reference/hg38/uncompressed/' + chr + '.fa'\n",
        "    genes = Fasta(path)\n",
        "    if start < stop:\n",
        "      seq_list.append(genes[0][start-100:start])\n",
        "      seq_list.append(genes[0][stop:stop+100])\n",
        "    else:\n",
        "      seq_list.append(genes[0][start:start+100])\n",
        "      seq_list.append(genes[0][stop-100:stop])\n",
        "\n",
        "  #All other references\n",
        "  else:\n",
        "    #hg38\n",
        "    path = '/content/drive/MyDrive/ACS_Research/VISDB_Data/Human_Reference/'+ref + '/' + chr + '.fasta'\n",
        "    genes = Fasta(path)\n",
        "    if start < stop:\n",
        "      seq_list.append(genes[0][start-100:start])\n",
        "      seq_list.append(genes[0][stop:stop+100])\n",
        "    else:\n",
        "      seq_list.append(genes[0][start:start+100])\n",
        "      seq_list.append(genes[0][stop-100:stop])\n",
        "  return seq_list"
      ],
      "metadata": {
        "id": "dZZAzNYG-R38"
      },
      "execution_count": 7,
      "outputs": []
    },
    {
      "cell_type": "code",
      "source": [
        "#testing\n",
        "#print(human_seq_extract('hg19', 'chr1', 100, 200))"
      ],
      "metadata": {
        "id": "OyqDBoCrTN0d",
        "outputId": "da65ef75-8f93-4d5b-d020-ab7e0dcbd023",
        "colab": {
          "base_uri": "https://localhost:8080/"
        }
      },
      "execution_count": null,
      "outputs": [
        {
          "output_type": "stream",
          "name": "stdout",
          "text": [
            "['NNNNNNNNNNNNNNNNNNNNNNNNNNNNNNNNNNNNNNNNNNNNNNNNNNNNNNNNNNNNNNNNNNNNNNNNNNNNNNNNNNNNNNNNNNNNNNNNNNNN', 'NNNNNNNNNNNNNNNNNNNNNNNNNNNNNNNNNNNNNNNNNNNNNNNNNNNNNNNNNNNNNNNNNNNNNNNNNNNNNNNNNNNNNNNNNNNNNNNNNNNN']\n"
          ]
        }
      ]
    },
    {
      "cell_type": "code",
      "source": [
        "#testing\n",
        "#print(human_seq_extract('AL360074', 'chr1', 100, 200))"
      ],
      "metadata": {
        "colab": {
          "base_uri": "https://localhost:8080/"
        },
        "id": "mwtkxTvc2Agi",
        "outputId": "04217fa4-b1c2-483b-eae6-2596b434417a"
      },
      "execution_count": 8,
      "outputs": [
        {
          "output_type": "stream",
          "name": "stdout",
          "text": [
            "[>AL360074.21:1-100\n",
            "AAGCATTTTAGGGCGCTACCCTGTTTCTGTAGGGCATATTGACATCCTGAATGCAAGGAAGTCTGGTTAATGCTATTCTCTCAAATACAGGGTTTTGGTG, >AL360074.21:201-300\n",
            "ATTTACCAGCTTCTGTTGTGGGCCTGTGAATATATTAGGGTGTGATGACAGATGAGGTCTTGTCTTTTGGAAACTTAACAGGATTGTTGGGGGCGGGGAA]\n"
          ]
        }
      ]
    },
    {
      "cell_type": "markdown",
      "source": [
        "##Lowercases all column names and replaces spaces with underscores"
      ],
      "metadata": {
        "id": "R9tEXVbbEMT-"
      }
    },
    {
      "cell_type": "code",
      "source": [
        "def lower_case_and_underscore(df):\n",
        "  \"\"\"Lowercases all column names and replaces spaces with underscores.\"\"\"\n",
        "  new_columns = [col.lower().replace(' ', '_') for col in df.columns]\n",
        "  df.columns = new_columns\n",
        "  return df"
      ],
      "metadata": {
        "id": "H64rswrjBB5n"
      },
      "execution_count": 9,
      "outputs": []
    },
    {
      "cell_type": "markdown",
      "source": [
        "# **HBV**"
      ],
      "metadata": {
        "id": "GLSO4ccB77rj"
      }
    },
    {
      "cell_type": "markdown",
      "source": [
        "Load Data"
      ],
      "metadata": {
        "id": "J6NVK_fAA66R"
      }
    },
    {
      "cell_type": "code",
      "source": [
        "#load xslx\n",
        "hbv_df = pd.read_excel('HBV_VIS.xlsx')\n",
        "hbv_df.head()"
      ],
      "metadata": {
        "colab": {
          "base_uri": "https://localhost:8080/",
          "height": 310
        },
        "id": "E28mDMEfAFI2",
        "outputId": "dac25743-3682-472f-af71-0a52a6862228"
      },
      "execution_count": null,
      "outputs": [
        {
          "output_type": "execute_result",
          "data": {
            "text/plain": [
              "  Virus Virus subtype Reference virus genome  Begin breakpoint  \\\n",
              "0   HBV           NaN             FJ562281.1            1782.0   \n",
              "1   HBV           NaN             GQ377546.1            1820.0   \n",
              "2   HBV           NaN             KC792890.1            1471.0   \n",
              "3   HBV           NaN             FJ622847.1             689.0   \n",
              "4   HBV           NaN             KF166416.1            1807.0   \n",
              "\n",
              "   Stop breakpoint Chromosome  Locus Reference human genome  Begin location  \\\n",
              "0              NaN       chr9  q31.1                 GRCh38     100940295.0   \n",
              "1              NaN       chr9  q31.1                 GRCh38     101030026.0   \n",
              "2              NaN       chr3  p26.3                 GRCh38       2002381.0   \n",
              "3              NaN       chr2    q35                 GRCh38     216281034.0   \n",
              "4              NaN      chr16  q12.1                 GRCh38      51320015.0   \n",
              "\n",
              "   End location Sample                    Disease                     Method  \\\n",
              "0           NaN  Tumor  Hepatocellular  carcinoma  PCR and Sanger sequencing   \n",
              "1           NaN  Tumor  Hepatocellular  carcinoma  PCR and Sanger sequencing   \n",
              "2           NaN  Tumor  Hepatocellular  carcinoma  PCR and Sanger sequencing   \n",
              "3           NaN  Tumor  Hepatocellular  carcinoma  PCR and Sanger sequencing   \n",
              "4           NaN  Tumor  Hepatocellular  carcinoma  PCR and Sanger sequencing   \n",
              "\n",
              "   PubMed ID Target gene  \n",
              "0   30535432      CORO2A  \n",
              "1   30535432         NaN  \n",
              "2   30535432         NaN  \n",
              "3   30535432         NaN  \n",
              "4   30535432         NaN  "
            ],
            "text/html": [
              "\n",
              "  <div id=\"df-f77d4280-66a9-4901-96ea-ba2990023693\" class=\"colab-df-container\">\n",
              "    <div>\n",
              "<style scoped>\n",
              "    .dataframe tbody tr th:only-of-type {\n",
              "        vertical-align: middle;\n",
              "    }\n",
              "\n",
              "    .dataframe tbody tr th {\n",
              "        vertical-align: top;\n",
              "    }\n",
              "\n",
              "    .dataframe thead th {\n",
              "        text-align: right;\n",
              "    }\n",
              "</style>\n",
              "<table border=\"1\" class=\"dataframe\">\n",
              "  <thead>\n",
              "    <tr style=\"text-align: right;\">\n",
              "      <th></th>\n",
              "      <th>Virus</th>\n",
              "      <th>Virus subtype</th>\n",
              "      <th>Reference virus genome</th>\n",
              "      <th>Begin breakpoint</th>\n",
              "      <th>Stop breakpoint</th>\n",
              "      <th>Chromosome</th>\n",
              "      <th>Locus</th>\n",
              "      <th>Reference human genome</th>\n",
              "      <th>Begin location</th>\n",
              "      <th>End location</th>\n",
              "      <th>Sample</th>\n",
              "      <th>Disease</th>\n",
              "      <th>Method</th>\n",
              "      <th>PubMed ID</th>\n",
              "      <th>Target gene</th>\n",
              "    </tr>\n",
              "  </thead>\n",
              "  <tbody>\n",
              "    <tr>\n",
              "      <th>0</th>\n",
              "      <td>HBV</td>\n",
              "      <td>NaN</td>\n",
              "      <td>FJ562281.1</td>\n",
              "      <td>1782.0</td>\n",
              "      <td>NaN</td>\n",
              "      <td>chr9</td>\n",
              "      <td>q31.1</td>\n",
              "      <td>GRCh38</td>\n",
              "      <td>100940295.0</td>\n",
              "      <td>NaN</td>\n",
              "      <td>Tumor</td>\n",
              "      <td>Hepatocellular  carcinoma</td>\n",
              "      <td>PCR and Sanger sequencing</td>\n",
              "      <td>30535432</td>\n",
              "      <td>CORO2A</td>\n",
              "    </tr>\n",
              "    <tr>\n",
              "      <th>1</th>\n",
              "      <td>HBV</td>\n",
              "      <td>NaN</td>\n",
              "      <td>GQ377546.1</td>\n",
              "      <td>1820.0</td>\n",
              "      <td>NaN</td>\n",
              "      <td>chr9</td>\n",
              "      <td>q31.1</td>\n",
              "      <td>GRCh38</td>\n",
              "      <td>101030026.0</td>\n",
              "      <td>NaN</td>\n",
              "      <td>Tumor</td>\n",
              "      <td>Hepatocellular  carcinoma</td>\n",
              "      <td>PCR and Sanger sequencing</td>\n",
              "      <td>30535432</td>\n",
              "      <td>NaN</td>\n",
              "    </tr>\n",
              "    <tr>\n",
              "      <th>2</th>\n",
              "      <td>HBV</td>\n",
              "      <td>NaN</td>\n",
              "      <td>KC792890.1</td>\n",
              "      <td>1471.0</td>\n",
              "      <td>NaN</td>\n",
              "      <td>chr3</td>\n",
              "      <td>p26.3</td>\n",
              "      <td>GRCh38</td>\n",
              "      <td>2002381.0</td>\n",
              "      <td>NaN</td>\n",
              "      <td>Tumor</td>\n",
              "      <td>Hepatocellular  carcinoma</td>\n",
              "      <td>PCR and Sanger sequencing</td>\n",
              "      <td>30535432</td>\n",
              "      <td>NaN</td>\n",
              "    </tr>\n",
              "    <tr>\n",
              "      <th>3</th>\n",
              "      <td>HBV</td>\n",
              "      <td>NaN</td>\n",
              "      <td>FJ622847.1</td>\n",
              "      <td>689.0</td>\n",
              "      <td>NaN</td>\n",
              "      <td>chr2</td>\n",
              "      <td>q35</td>\n",
              "      <td>GRCh38</td>\n",
              "      <td>216281034.0</td>\n",
              "      <td>NaN</td>\n",
              "      <td>Tumor</td>\n",
              "      <td>Hepatocellular  carcinoma</td>\n",
              "      <td>PCR and Sanger sequencing</td>\n",
              "      <td>30535432</td>\n",
              "      <td>NaN</td>\n",
              "    </tr>\n",
              "    <tr>\n",
              "      <th>4</th>\n",
              "      <td>HBV</td>\n",
              "      <td>NaN</td>\n",
              "      <td>KF166416.1</td>\n",
              "      <td>1807.0</td>\n",
              "      <td>NaN</td>\n",
              "      <td>chr16</td>\n",
              "      <td>q12.1</td>\n",
              "      <td>GRCh38</td>\n",
              "      <td>51320015.0</td>\n",
              "      <td>NaN</td>\n",
              "      <td>Tumor</td>\n",
              "      <td>Hepatocellular  carcinoma</td>\n",
              "      <td>PCR and Sanger sequencing</td>\n",
              "      <td>30535432</td>\n",
              "      <td>NaN</td>\n",
              "    </tr>\n",
              "  </tbody>\n",
              "</table>\n",
              "</div>\n",
              "    <div class=\"colab-df-buttons\">\n",
              "\n",
              "  <div class=\"colab-df-container\">\n",
              "    <button class=\"colab-df-convert\" onclick=\"convertToInteractive('df-f77d4280-66a9-4901-96ea-ba2990023693')\"\n",
              "            title=\"Convert this dataframe to an interactive table.\"\n",
              "            style=\"display:none;\">\n",
              "\n",
              "  <svg xmlns=\"http://www.w3.org/2000/svg\" height=\"24px\" viewBox=\"0 -960 960 960\">\n",
              "    <path d=\"M120-120v-720h720v720H120Zm60-500h600v-160H180v160Zm220 220h160v-160H400v160Zm0 220h160v-160H400v160ZM180-400h160v-160H180v160Zm440 0h160v-160H620v160ZM180-180h160v-160H180v160Zm440 0h160v-160H620v160Z\"/>\n",
              "  </svg>\n",
              "    </button>\n",
              "\n",
              "  <style>\n",
              "    .colab-df-container {\n",
              "      display:flex;\n",
              "      gap: 12px;\n",
              "    }\n",
              "\n",
              "    .colab-df-convert {\n",
              "      background-color: #E8F0FE;\n",
              "      border: none;\n",
              "      border-radius: 50%;\n",
              "      cursor: pointer;\n",
              "      display: none;\n",
              "      fill: #1967D2;\n",
              "      height: 32px;\n",
              "      padding: 0 0 0 0;\n",
              "      width: 32px;\n",
              "    }\n",
              "\n",
              "    .colab-df-convert:hover {\n",
              "      background-color: #E2EBFA;\n",
              "      box-shadow: 0px 1px 2px rgba(60, 64, 67, 0.3), 0px 1px 3px 1px rgba(60, 64, 67, 0.15);\n",
              "      fill: #174EA6;\n",
              "    }\n",
              "\n",
              "    .colab-df-buttons div {\n",
              "      margin-bottom: 4px;\n",
              "    }\n",
              "\n",
              "    [theme=dark] .colab-df-convert {\n",
              "      background-color: #3B4455;\n",
              "      fill: #D2E3FC;\n",
              "    }\n",
              "\n",
              "    [theme=dark] .colab-df-convert:hover {\n",
              "      background-color: #434B5C;\n",
              "      box-shadow: 0px 1px 3px 1px rgba(0, 0, 0, 0.15);\n",
              "      filter: drop-shadow(0px 1px 2px rgba(0, 0, 0, 0.3));\n",
              "      fill: #FFFFFF;\n",
              "    }\n",
              "  </style>\n",
              "\n",
              "    <script>\n",
              "      const buttonEl =\n",
              "        document.querySelector('#df-f77d4280-66a9-4901-96ea-ba2990023693 button.colab-df-convert');\n",
              "      buttonEl.style.display =\n",
              "        google.colab.kernel.accessAllowed ? 'block' : 'none';\n",
              "\n",
              "      async function convertToInteractive(key) {\n",
              "        const element = document.querySelector('#df-f77d4280-66a9-4901-96ea-ba2990023693');\n",
              "        const dataTable =\n",
              "          await google.colab.kernel.invokeFunction('convertToInteractive',\n",
              "                                                    [key], {});\n",
              "        if (!dataTable) return;\n",
              "\n",
              "        const docLinkHtml = 'Like what you see? Visit the ' +\n",
              "          '<a target=\"_blank\" href=https://colab.research.google.com/notebooks/data_table.ipynb>data table notebook</a>'\n",
              "          + ' to learn more about interactive tables.';\n",
              "        element.innerHTML = '';\n",
              "        dataTable['output_type'] = 'display_data';\n",
              "        await google.colab.output.renderOutput(dataTable, element);\n",
              "        const docLink = document.createElement('div');\n",
              "        docLink.innerHTML = docLinkHtml;\n",
              "        element.appendChild(docLink);\n",
              "      }\n",
              "    </script>\n",
              "  </div>\n",
              "\n",
              "\n",
              "<div id=\"df-e3978377-02f1-4c33-aba3-d8fa73d5d4aa\">\n",
              "  <button class=\"colab-df-quickchart\" onclick=\"quickchart('df-e3978377-02f1-4c33-aba3-d8fa73d5d4aa')\"\n",
              "            title=\"Suggest charts\"\n",
              "            style=\"display:none;\">\n",
              "\n",
              "<svg xmlns=\"http://www.w3.org/2000/svg\" height=\"24px\"viewBox=\"0 0 24 24\"\n",
              "     width=\"24px\">\n",
              "    <g>\n",
              "        <path d=\"M19 3H5c-1.1 0-2 .9-2 2v14c0 1.1.9 2 2 2h14c1.1 0 2-.9 2-2V5c0-1.1-.9-2-2-2zM9 17H7v-7h2v7zm4 0h-2V7h2v10zm4 0h-2v-4h2v4z\"/>\n",
              "    </g>\n",
              "</svg>\n",
              "  </button>\n",
              "\n",
              "<style>\n",
              "  .colab-df-quickchart {\n",
              "      --bg-color: #E8F0FE;\n",
              "      --fill-color: #1967D2;\n",
              "      --hover-bg-color: #E2EBFA;\n",
              "      --hover-fill-color: #174EA6;\n",
              "      --disabled-fill-color: #AAA;\n",
              "      --disabled-bg-color: #DDD;\n",
              "  }\n",
              "\n",
              "  [theme=dark] .colab-df-quickchart {\n",
              "      --bg-color: #3B4455;\n",
              "      --fill-color: #D2E3FC;\n",
              "      --hover-bg-color: #434B5C;\n",
              "      --hover-fill-color: #FFFFFF;\n",
              "      --disabled-bg-color: #3B4455;\n",
              "      --disabled-fill-color: #666;\n",
              "  }\n",
              "\n",
              "  .colab-df-quickchart {\n",
              "    background-color: var(--bg-color);\n",
              "    border: none;\n",
              "    border-radius: 50%;\n",
              "    cursor: pointer;\n",
              "    display: none;\n",
              "    fill: var(--fill-color);\n",
              "    height: 32px;\n",
              "    padding: 0;\n",
              "    width: 32px;\n",
              "  }\n",
              "\n",
              "  .colab-df-quickchart:hover {\n",
              "    background-color: var(--hover-bg-color);\n",
              "    box-shadow: 0 1px 2px rgba(60, 64, 67, 0.3), 0 1px 3px 1px rgba(60, 64, 67, 0.15);\n",
              "    fill: var(--button-hover-fill-color);\n",
              "  }\n",
              "\n",
              "  .colab-df-quickchart-complete:disabled,\n",
              "  .colab-df-quickchart-complete:disabled:hover {\n",
              "    background-color: var(--disabled-bg-color);\n",
              "    fill: var(--disabled-fill-color);\n",
              "    box-shadow: none;\n",
              "  }\n",
              "\n",
              "  .colab-df-spinner {\n",
              "    border: 2px solid var(--fill-color);\n",
              "    border-color: transparent;\n",
              "    border-bottom-color: var(--fill-color);\n",
              "    animation:\n",
              "      spin 1s steps(1) infinite;\n",
              "  }\n",
              "\n",
              "  @keyframes spin {\n",
              "    0% {\n",
              "      border-color: transparent;\n",
              "      border-bottom-color: var(--fill-color);\n",
              "      border-left-color: var(--fill-color);\n",
              "    }\n",
              "    20% {\n",
              "      border-color: transparent;\n",
              "      border-left-color: var(--fill-color);\n",
              "      border-top-color: var(--fill-color);\n",
              "    }\n",
              "    30% {\n",
              "      border-color: transparent;\n",
              "      border-left-color: var(--fill-color);\n",
              "      border-top-color: var(--fill-color);\n",
              "      border-right-color: var(--fill-color);\n",
              "    }\n",
              "    40% {\n",
              "      border-color: transparent;\n",
              "      border-right-color: var(--fill-color);\n",
              "      border-top-color: var(--fill-color);\n",
              "    }\n",
              "    60% {\n",
              "      border-color: transparent;\n",
              "      border-right-color: var(--fill-color);\n",
              "    }\n",
              "    80% {\n",
              "      border-color: transparent;\n",
              "      border-right-color: var(--fill-color);\n",
              "      border-bottom-color: var(--fill-color);\n",
              "    }\n",
              "    90% {\n",
              "      border-color: transparent;\n",
              "      border-bottom-color: var(--fill-color);\n",
              "    }\n",
              "  }\n",
              "</style>\n",
              "\n",
              "  <script>\n",
              "    async function quickchart(key) {\n",
              "      const quickchartButtonEl =\n",
              "        document.querySelector('#' + key + ' button');\n",
              "      quickchartButtonEl.disabled = true;  // To prevent multiple clicks.\n",
              "      quickchartButtonEl.classList.add('colab-df-spinner');\n",
              "      try {\n",
              "        const charts = await google.colab.kernel.invokeFunction(\n",
              "            'suggestCharts', [key], {});\n",
              "      } catch (error) {\n",
              "        console.error('Error during call to suggestCharts:', error);\n",
              "      }\n",
              "      quickchartButtonEl.classList.remove('colab-df-spinner');\n",
              "      quickchartButtonEl.classList.add('colab-df-quickchart-complete');\n",
              "    }\n",
              "    (() => {\n",
              "      let quickchartButtonEl =\n",
              "        document.querySelector('#df-e3978377-02f1-4c33-aba3-d8fa73d5d4aa button');\n",
              "      quickchartButtonEl.style.display =\n",
              "        google.colab.kernel.accessAllowed ? 'block' : 'none';\n",
              "    })();\n",
              "  </script>\n",
              "</div>\n",
              "\n",
              "    </div>\n",
              "  </div>\n"
            ],
            "application/vnd.google.colaboratory.intrinsic+json": {
              "type": "dataframe",
              "variable_name": "vis_df",
              "summary": "{\n  \"name\": \"vis_df\",\n  \"rows\": 20588,\n  \"fields\": [\n    {\n      \"column\": \"Virus\",\n      \"properties\": {\n        \"dtype\": \"category\",\n        \"num_unique_values\": 1,\n        \"samples\": [\n          \"HBV\"\n        ],\n        \"semantic_type\": \"\",\n        \"description\": \"\"\n      }\n    },\n    {\n      \"column\": \"Virus subtype\",\n      \"properties\": {\n        \"dtype\": \"category\",\n        \"num_unique_values\": 6,\n        \"samples\": [\n          \"B2\"\n        ],\n        \"semantic_type\": \"\",\n        \"description\": \"\"\n      }\n    },\n    {\n      \"column\": \"Reference virus genome\",\n      \"properties\": {\n        \"dtype\": \"category\",\n        \"num_unique_values\": 40,\n        \"samples\": [\n          \" V01460.1\"\n        ],\n        \"semantic_type\": \"\",\n        \"description\": \"\"\n      }\n    },\n    {\n      \"column\": \"Begin breakpoint\",\n      \"properties\": {\n        \"dtype\": \"number\",\n        \"std\": 210338.7192678196,\n        \"min\": 1.0,\n        \"max\": 18003056.0,\n        \"num_unique_values\": 2693,\n        \"samples\": [\n          3218.0\n        ],\n        \"semantic_type\": \"\",\n        \"description\": \"\"\n      }\n    },\n    {\n      \"column\": \"Stop breakpoint\",\n      \"properties\": {\n        \"dtype\": \"number\",\n        \"std\": 654.6863577028345,\n        \"min\": 31.0,\n        \"max\": 3646.0,\n        \"num_unique_values\": 1046,\n        \"samples\": [\n          1206.0\n        ],\n        \"semantic_type\": \"\",\n        \"description\": \"\"\n      }\n    },\n    {\n      \"column\": \"Chromosome\",\n      \"properties\": {\n        \"dtype\": \"category\",\n        \"num_unique_values\": 56,\n        \"samples\": [\n          \"chr9\"\n        ],\n        \"semantic_type\": \"\",\n        \"description\": \"\"\n      }\n    },\n    {\n      \"column\": \"Locus\",\n      \"properties\": {\n        \"dtype\": \"category\",\n        \"num_unique_values\": 187,\n        \"samples\": [\n          \"p16\"\n        ],\n        \"semantic_type\": \"\",\n        \"description\": \"\"\n      }\n    },\n    {\n      \"column\": \"Reference human genome\",\n      \"properties\": {\n        \"dtype\": \"category\",\n        \"num_unique_values\": 27,\n        \"samples\": [\n          \"Feb_2009 build\"\n        ],\n        \"semantic_type\": \"\",\n        \"description\": \"\"\n      }\n    },\n    {\n      \"column\": \"Begin location\",\n      \"properties\": {\n        \"dtype\": \"number\",\n        \"std\": 61091376.55399811,\n        \"min\": 54.0,\n        \"max\": 2000084860.0,\n        \"num_unique_values\": 18445,\n        \"samples\": [\n          54182535.0\n        ],\n        \"semantic_type\": \"\",\n        \"description\": \"\"\n      }\n    },\n    {\n      \"column\": \"End location\",\n      \"properties\": {\n        \"dtype\": \"number\",\n        \"std\": 60794458.37028902,\n        \"min\": 27.0,\n        \"max\": 249241007.0,\n        \"num_unique_values\": 2008,\n        \"samples\": [\n          129392031.0\n        ],\n        \"semantic_type\": \"\",\n        \"description\": \"\"\n      }\n    },\n    {\n      \"column\": \"Sample\",\n      \"properties\": {\n        \"dtype\": \"category\",\n        \"num_unique_values\": 12,\n        \"samples\": [\n          \"Cell line\"\n        ],\n        \"semantic_type\": \"\",\n        \"description\": \"\"\n      }\n    },\n    {\n      \"column\": \"Disease\",\n      \"properties\": {\n        \"dtype\": \"category\",\n        \"num_unique_values\": 2,\n        \"samples\": [\n          \" Chronic HBV (CHB) infection\"\n        ],\n        \"semantic_type\": \"\",\n        \"description\": \"\"\n      }\n    },\n    {\n      \"column\": \"Method\",\n      \"properties\": {\n        \"dtype\": \"category\",\n        \"num_unique_values\": 22,\n        \"samples\": [\n          \"PCR and Sanger sequencing\"\n        ],\n        \"semantic_type\": \"\",\n        \"description\": \"\"\n      }\n    },\n    {\n      \"column\": \"PubMed ID\",\n      \"properties\": {\n        \"dtype\": \"number\",\n        \"std\": 2664585,\n        \"min\": 11593432,\n        \"max\": 30535432,\n        \"num_unique_values\": 45,\n        \"samples\": [\n          14712219\n        ],\n        \"semantic_type\": \"\",\n        \"description\": \"\"\n      }\n    },\n    {\n      \"column\": \"Target gene\",\n      \"properties\": {\n        \"dtype\": \"category\",\n        \"num_unique_values\": 3942,\n        \"samples\": [\n          \"RAI1\"\n        ],\n        \"semantic_type\": \"\",\n        \"description\": \"\"\n      }\n    }\n  ]\n}"
            }
          },
          "metadata": {},
          "execution_count": 14
        }
      ]
    },
    {
      "cell_type": "markdown",
      "source": [
        "Transform Data"
      ],
      "metadata": {
        "id": "lsIU_RuFA-76"
      }
    },
    {
      "cell_type": "code",
      "source": [
        "vis = hbv_df['reference_virus_genome'].unique()\n",
        "for item in vis:\n",
        "  print(f\"{item} or \")\n",
        "print(len(vis))"
      ],
      "metadata": {
        "colab": {
          "base_uri": "https://localhost:8080/"
        },
        "id": "CcoywJoRoMSu",
        "outputId": "f2d4fa29-5985-42db-89df-e40e3e49f485"
      },
      "execution_count": null,
      "outputs": [
        {
          "output_type": "stream",
          "name": "stdout",
          "text": [
            "FJ562281.1 or \n",
            "GQ377546.1 or \n",
            "KC792890.1 or \n",
            "FJ622847.1 or \n",
            "KF166416.1 or \n",
            "KF167170.1 or \n",
            "GU815714.1 or \n",
            "GU815645.1 or \n",
            "JN827419.1 or \n",
            "JQ688405 or \n",
            "JX026886.1 or \n",
            "AB713529.1 or \n",
            "KC792925.1  or \n",
            "JX507212.1 or \n",
            "nan or \n",
            "U95551.1 or \n",
            "X70185.1 or \n",
            "AB033556.1 or \n",
            "X75657.1 or \n",
            "AP011098 or \n",
            " V01460.1 or \n",
            "JQ688404 or \n",
            "NC_003977 or \n",
            "AP011098.1 or \n",
            "AF533983.1 or \n",
            "AB033550.1 or \n",
            "D00329.1 or \n",
            "D00330.1 or \n",
            "AF043594.1 or \n",
            "D00630.1 or \n",
            "NC_003977.1 or \n",
            "AY800389.1\n",
            " or \n",
            "AY033073.1 or \n",
            "V01460.1 or \n",
            "AB241115 or \n",
            "X0276 or \n",
            "DQ089769.1 or \n",
            "V00866 or \n",
            "AF068756  or \n",
            "AF330110 or \n",
            "D50519.1 or \n",
            "41\n"
          ]
        }
      ]
    },
    {
      "cell_type": "code",
      "source": [
        "#filter out rows where begin_breakpoint or stop breakpoint  and also begin and end location are NA\n",
        "\n",
        "hbv_df = hbv_df.dropna(subset=['begin_breakpoint', 'stop_breakpoint', 'begin_location', 'end_location', 'reference_virus_genome'], how='any')\n",
        "hbv_df.head()"
      ],
      "metadata": {
        "colab": {
          "base_uri": "https://localhost:8080/",
          "height": 313
        },
        "id": "nnRB-Q5MBLx0",
        "outputId": "b8d5a0b2-b851-4d3e-cbf5-9971533b4984"
      },
      "execution_count": null,
      "outputs": [
        {
          "output_type": "execute_result",
          "data": {
            "text/plain": [
              "    virus virus_subtype reference_virus_genome  begin_breakpoint  \\\n",
              "346   HBV           NaN               X70185.1            1720.0   \n",
              "347   HBV           NaN               X70185.1            1246.0   \n",
              "348   HBV           NaN               X70185.1            1603.0   \n",
              "349   HBV           NaN               X70185.1            1623.0   \n",
              "350   HBV           NaN               X70185.1            1638.0   \n",
              "\n",
              "     stop_breakpoint chromosome  locus reference_human_genome  begin_location  \\\n",
              "346           1603.0       chr1  q21.1            GRCh37/hg19           420.0   \n",
              "347           1390.0       chr1  p21.3            GRCh37/hg19      97732036.0   \n",
              "348           1664.0       chr1  q31.3            GRCh37/hg19     194161891.0   \n",
              "349           1717.0       chr2  q31.1            GRCh37/hg19     171450967.0   \n",
              "350           1717.0       chr2  q31.1            GRCh37/hg19     171450967.0   \n",
              "\n",
              "     end_location sample                    disease      method  pubmed_id  \\\n",
              "346         437.0   cell  Hepatocellular  carcinoma  invPCR+NAH   28414318   \n",
              "347    97732056.0   cell  Hepatocellular  carcinoma  invPCR+NAH   28414318   \n",
              "348   194161910.0   cell  Hepatocellular  carcinoma  invPCR+NAH   28414318   \n",
              "349   171450816.0   cell  Hepatocellular  carcinoma  invPCR+NAH   28414318   \n",
              "350   171450816.0   cell  Hepatocellular  carcinoma  invPCR+NAH   28414318   \n",
              "\n",
              "    target_gene  \n",
              "346      ANP32E  \n",
              "347        DPYD  \n",
              "348         NaN  \n",
              "349       MYO3B  \n",
              "350       MYO3B  "
            ],
            "text/html": [
              "\n",
              "  <div id=\"df-e19bbbff-c732-4fb3-8053-363a78772c34\" class=\"colab-df-container\">\n",
              "    <div>\n",
              "<style scoped>\n",
              "    .dataframe tbody tr th:only-of-type {\n",
              "        vertical-align: middle;\n",
              "    }\n",
              "\n",
              "    .dataframe tbody tr th {\n",
              "        vertical-align: top;\n",
              "    }\n",
              "\n",
              "    .dataframe thead th {\n",
              "        text-align: right;\n",
              "    }\n",
              "</style>\n",
              "<table border=\"1\" class=\"dataframe\">\n",
              "  <thead>\n",
              "    <tr style=\"text-align: right;\">\n",
              "      <th></th>\n",
              "      <th>virus</th>\n",
              "      <th>virus_subtype</th>\n",
              "      <th>reference_virus_genome</th>\n",
              "      <th>begin_breakpoint</th>\n",
              "      <th>stop_breakpoint</th>\n",
              "      <th>chromosome</th>\n",
              "      <th>locus</th>\n",
              "      <th>reference_human_genome</th>\n",
              "      <th>begin_location</th>\n",
              "      <th>end_location</th>\n",
              "      <th>sample</th>\n",
              "      <th>disease</th>\n",
              "      <th>method</th>\n",
              "      <th>pubmed_id</th>\n",
              "      <th>target_gene</th>\n",
              "    </tr>\n",
              "  </thead>\n",
              "  <tbody>\n",
              "    <tr>\n",
              "      <th>346</th>\n",
              "      <td>HBV</td>\n",
              "      <td>NaN</td>\n",
              "      <td>X70185.1</td>\n",
              "      <td>1720.0</td>\n",
              "      <td>1603.0</td>\n",
              "      <td>chr1</td>\n",
              "      <td>q21.1</td>\n",
              "      <td>GRCh37/hg19</td>\n",
              "      <td>420.0</td>\n",
              "      <td>437.0</td>\n",
              "      <td>cell</td>\n",
              "      <td>Hepatocellular  carcinoma</td>\n",
              "      <td>invPCR+NAH</td>\n",
              "      <td>28414318</td>\n",
              "      <td>ANP32E</td>\n",
              "    </tr>\n",
              "    <tr>\n",
              "      <th>347</th>\n",
              "      <td>HBV</td>\n",
              "      <td>NaN</td>\n",
              "      <td>X70185.1</td>\n",
              "      <td>1246.0</td>\n",
              "      <td>1390.0</td>\n",
              "      <td>chr1</td>\n",
              "      <td>p21.3</td>\n",
              "      <td>GRCh37/hg19</td>\n",
              "      <td>97732036.0</td>\n",
              "      <td>97732056.0</td>\n",
              "      <td>cell</td>\n",
              "      <td>Hepatocellular  carcinoma</td>\n",
              "      <td>invPCR+NAH</td>\n",
              "      <td>28414318</td>\n",
              "      <td>DPYD</td>\n",
              "    </tr>\n",
              "    <tr>\n",
              "      <th>348</th>\n",
              "      <td>HBV</td>\n",
              "      <td>NaN</td>\n",
              "      <td>X70185.1</td>\n",
              "      <td>1603.0</td>\n",
              "      <td>1664.0</td>\n",
              "      <td>chr1</td>\n",
              "      <td>q31.3</td>\n",
              "      <td>GRCh37/hg19</td>\n",
              "      <td>194161891.0</td>\n",
              "      <td>194161910.0</td>\n",
              "      <td>cell</td>\n",
              "      <td>Hepatocellular  carcinoma</td>\n",
              "      <td>invPCR+NAH</td>\n",
              "      <td>28414318</td>\n",
              "      <td>NaN</td>\n",
              "    </tr>\n",
              "    <tr>\n",
              "      <th>349</th>\n",
              "      <td>HBV</td>\n",
              "      <td>NaN</td>\n",
              "      <td>X70185.1</td>\n",
              "      <td>1623.0</td>\n",
              "      <td>1717.0</td>\n",
              "      <td>chr2</td>\n",
              "      <td>q31.1</td>\n",
              "      <td>GRCh37/hg19</td>\n",
              "      <td>171450967.0</td>\n",
              "      <td>171450816.0</td>\n",
              "      <td>cell</td>\n",
              "      <td>Hepatocellular  carcinoma</td>\n",
              "      <td>invPCR+NAH</td>\n",
              "      <td>28414318</td>\n",
              "      <td>MYO3B</td>\n",
              "    </tr>\n",
              "    <tr>\n",
              "      <th>350</th>\n",
              "      <td>HBV</td>\n",
              "      <td>NaN</td>\n",
              "      <td>X70185.1</td>\n",
              "      <td>1638.0</td>\n",
              "      <td>1717.0</td>\n",
              "      <td>chr2</td>\n",
              "      <td>q31.1</td>\n",
              "      <td>GRCh37/hg19</td>\n",
              "      <td>171450967.0</td>\n",
              "      <td>171450816.0</td>\n",
              "      <td>cell</td>\n",
              "      <td>Hepatocellular  carcinoma</td>\n",
              "      <td>invPCR+NAH</td>\n",
              "      <td>28414318</td>\n",
              "      <td>MYO3B</td>\n",
              "    </tr>\n",
              "  </tbody>\n",
              "</table>\n",
              "</div>\n",
              "    <div class=\"colab-df-buttons\">\n",
              "\n",
              "  <div class=\"colab-df-container\">\n",
              "    <button class=\"colab-df-convert\" onclick=\"convertToInteractive('df-e19bbbff-c732-4fb3-8053-363a78772c34')\"\n",
              "            title=\"Convert this dataframe to an interactive table.\"\n",
              "            style=\"display:none;\">\n",
              "\n",
              "  <svg xmlns=\"http://www.w3.org/2000/svg\" height=\"24px\" viewBox=\"0 -960 960 960\">\n",
              "    <path d=\"M120-120v-720h720v720H120Zm60-500h600v-160H180v160Zm220 220h160v-160H400v160Zm0 220h160v-160H400v160ZM180-400h160v-160H180v160Zm440 0h160v-160H620v160ZM180-180h160v-160H180v160Zm440 0h160v-160H620v160Z\"/>\n",
              "  </svg>\n",
              "    </button>\n",
              "\n",
              "  <style>\n",
              "    .colab-df-container {\n",
              "      display:flex;\n",
              "      gap: 12px;\n",
              "    }\n",
              "\n",
              "    .colab-df-convert {\n",
              "      background-color: #E8F0FE;\n",
              "      border: none;\n",
              "      border-radius: 50%;\n",
              "      cursor: pointer;\n",
              "      display: none;\n",
              "      fill: #1967D2;\n",
              "      height: 32px;\n",
              "      padding: 0 0 0 0;\n",
              "      width: 32px;\n",
              "    }\n",
              "\n",
              "    .colab-df-convert:hover {\n",
              "      background-color: #E2EBFA;\n",
              "      box-shadow: 0px 1px 2px rgba(60, 64, 67, 0.3), 0px 1px 3px 1px rgba(60, 64, 67, 0.15);\n",
              "      fill: #174EA6;\n",
              "    }\n",
              "\n",
              "    .colab-df-buttons div {\n",
              "      margin-bottom: 4px;\n",
              "    }\n",
              "\n",
              "    [theme=dark] .colab-df-convert {\n",
              "      background-color: #3B4455;\n",
              "      fill: #D2E3FC;\n",
              "    }\n",
              "\n",
              "    [theme=dark] .colab-df-convert:hover {\n",
              "      background-color: #434B5C;\n",
              "      box-shadow: 0px 1px 3px 1px rgba(0, 0, 0, 0.15);\n",
              "      filter: drop-shadow(0px 1px 2px rgba(0, 0, 0, 0.3));\n",
              "      fill: #FFFFFF;\n",
              "    }\n",
              "  </style>\n",
              "\n",
              "    <script>\n",
              "      const buttonEl =\n",
              "        document.querySelector('#df-e19bbbff-c732-4fb3-8053-363a78772c34 button.colab-df-convert');\n",
              "      buttonEl.style.display =\n",
              "        google.colab.kernel.accessAllowed ? 'block' : 'none';\n",
              "\n",
              "      async function convertToInteractive(key) {\n",
              "        const element = document.querySelector('#df-e19bbbff-c732-4fb3-8053-363a78772c34');\n",
              "        const dataTable =\n",
              "          await google.colab.kernel.invokeFunction('convertToInteractive',\n",
              "                                                    [key], {});\n",
              "        if (!dataTable) return;\n",
              "\n",
              "        const docLinkHtml = 'Like what you see? Visit the ' +\n",
              "          '<a target=\"_blank\" href=https://colab.research.google.com/notebooks/data_table.ipynb>data table notebook</a>'\n",
              "          + ' to learn more about interactive tables.';\n",
              "        element.innerHTML = '';\n",
              "        dataTable['output_type'] = 'display_data';\n",
              "        await google.colab.output.renderOutput(dataTable, element);\n",
              "        const docLink = document.createElement('div');\n",
              "        docLink.innerHTML = docLinkHtml;\n",
              "        element.appendChild(docLink);\n",
              "      }\n",
              "    </script>\n",
              "  </div>\n",
              "\n",
              "\n",
              "<div id=\"df-436815bc-a00f-4ec7-a46a-b9db3107d031\">\n",
              "  <button class=\"colab-df-quickchart\" onclick=\"quickchart('df-436815bc-a00f-4ec7-a46a-b9db3107d031')\"\n",
              "            title=\"Suggest charts\"\n",
              "            style=\"display:none;\">\n",
              "\n",
              "<svg xmlns=\"http://www.w3.org/2000/svg\" height=\"24px\"viewBox=\"0 0 24 24\"\n",
              "     width=\"24px\">\n",
              "    <g>\n",
              "        <path d=\"M19 3H5c-1.1 0-2 .9-2 2v14c0 1.1.9 2 2 2h14c1.1 0 2-.9 2-2V5c0-1.1-.9-2-2-2zM9 17H7v-7h2v7zm4 0h-2V7h2v10zm4 0h-2v-4h2v4z\"/>\n",
              "    </g>\n",
              "</svg>\n",
              "  </button>\n",
              "\n",
              "<style>\n",
              "  .colab-df-quickchart {\n",
              "      --bg-color: #E8F0FE;\n",
              "      --fill-color: #1967D2;\n",
              "      --hover-bg-color: #E2EBFA;\n",
              "      --hover-fill-color: #174EA6;\n",
              "      --disabled-fill-color: #AAA;\n",
              "      --disabled-bg-color: #DDD;\n",
              "  }\n",
              "\n",
              "  [theme=dark] .colab-df-quickchart {\n",
              "      --bg-color: #3B4455;\n",
              "      --fill-color: #D2E3FC;\n",
              "      --hover-bg-color: #434B5C;\n",
              "      --hover-fill-color: #FFFFFF;\n",
              "      --disabled-bg-color: #3B4455;\n",
              "      --disabled-fill-color: #666;\n",
              "  }\n",
              "\n",
              "  .colab-df-quickchart {\n",
              "    background-color: var(--bg-color);\n",
              "    border: none;\n",
              "    border-radius: 50%;\n",
              "    cursor: pointer;\n",
              "    display: none;\n",
              "    fill: var(--fill-color);\n",
              "    height: 32px;\n",
              "    padding: 0;\n",
              "    width: 32px;\n",
              "  }\n",
              "\n",
              "  .colab-df-quickchart:hover {\n",
              "    background-color: var(--hover-bg-color);\n",
              "    box-shadow: 0 1px 2px rgba(60, 64, 67, 0.3), 0 1px 3px 1px rgba(60, 64, 67, 0.15);\n",
              "    fill: var(--button-hover-fill-color);\n",
              "  }\n",
              "\n",
              "  .colab-df-quickchart-complete:disabled,\n",
              "  .colab-df-quickchart-complete:disabled:hover {\n",
              "    background-color: var(--disabled-bg-color);\n",
              "    fill: var(--disabled-fill-color);\n",
              "    box-shadow: none;\n",
              "  }\n",
              "\n",
              "  .colab-df-spinner {\n",
              "    border: 2px solid var(--fill-color);\n",
              "    border-color: transparent;\n",
              "    border-bottom-color: var(--fill-color);\n",
              "    animation:\n",
              "      spin 1s steps(1) infinite;\n",
              "  }\n",
              "\n",
              "  @keyframes spin {\n",
              "    0% {\n",
              "      border-color: transparent;\n",
              "      border-bottom-color: var(--fill-color);\n",
              "      border-left-color: var(--fill-color);\n",
              "    }\n",
              "    20% {\n",
              "      border-color: transparent;\n",
              "      border-left-color: var(--fill-color);\n",
              "      border-top-color: var(--fill-color);\n",
              "    }\n",
              "    30% {\n",
              "      border-color: transparent;\n",
              "      border-left-color: var(--fill-color);\n",
              "      border-top-color: var(--fill-color);\n",
              "      border-right-color: var(--fill-color);\n",
              "    }\n",
              "    40% {\n",
              "      border-color: transparent;\n",
              "      border-right-color: var(--fill-color);\n",
              "      border-top-color: var(--fill-color);\n",
              "    }\n",
              "    60% {\n",
              "      border-color: transparent;\n",
              "      border-right-color: var(--fill-color);\n",
              "    }\n",
              "    80% {\n",
              "      border-color: transparent;\n",
              "      border-right-color: var(--fill-color);\n",
              "      border-bottom-color: var(--fill-color);\n",
              "    }\n",
              "    90% {\n",
              "      border-color: transparent;\n",
              "      border-bottom-color: var(--fill-color);\n",
              "    }\n",
              "  }\n",
              "</style>\n",
              "\n",
              "  <script>\n",
              "    async function quickchart(key) {\n",
              "      const quickchartButtonEl =\n",
              "        document.querySelector('#' + key + ' button');\n",
              "      quickchartButtonEl.disabled = true;  // To prevent multiple clicks.\n",
              "      quickchartButtonEl.classList.add('colab-df-spinner');\n",
              "      try {\n",
              "        const charts = await google.colab.kernel.invokeFunction(\n",
              "            'suggestCharts', [key], {});\n",
              "      } catch (error) {\n",
              "        console.error('Error during call to suggestCharts:', error);\n",
              "      }\n",
              "      quickchartButtonEl.classList.remove('colab-df-spinner');\n",
              "      quickchartButtonEl.classList.add('colab-df-quickchart-complete');\n",
              "    }\n",
              "    (() => {\n",
              "      let quickchartButtonEl =\n",
              "        document.querySelector('#df-436815bc-a00f-4ec7-a46a-b9db3107d031 button');\n",
              "      quickchartButtonEl.style.display =\n",
              "        google.colab.kernel.accessAllowed ? 'block' : 'none';\n",
              "    })();\n",
              "  </script>\n",
              "</div>\n",
              "\n",
              "    </div>\n",
              "  </div>\n"
            ],
            "application/vnd.google.colaboratory.intrinsic+json": {
              "type": "dataframe",
              "variable_name": "vis_df",
              "summary": "{\n  \"name\": \"vis_df\",\n  \"rows\": 1509,\n  \"fields\": [\n    {\n      \"column\": \"virus\",\n      \"properties\": {\n        \"dtype\": \"category\",\n        \"num_unique_values\": 1,\n        \"samples\": [\n          \"HBV\"\n        ],\n        \"semantic_type\": \"\",\n        \"description\": \"\"\n      }\n    },\n    {\n      \"column\": \"virus_subtype\",\n      \"properties\": {\n        \"dtype\": \"category\",\n        \"num_unique_values\": 3,\n        \"samples\": [\n          \"C\"\n        ],\n        \"semantic_type\": \"\",\n        \"description\": \"\"\n      }\n    },\n    {\n      \"column\": \"reference_virus_genome\",\n      \"properties\": {\n        \"dtype\": \"category\",\n        \"num_unique_values\": 11,\n        \"samples\": [\n          \"AY033073.1\"\n        ],\n        \"semantic_type\": \"\",\n        \"description\": \"\"\n      }\n    },\n    {\n      \"column\": \"begin_breakpoint\",\n      \"properties\": {\n        \"dtype\": \"number\",\n        \"std\": 751.759081783155,\n        \"min\": 1.0,\n        \"max\": 3210.0,\n        \"num_unique_values\": 864,\n        \"samples\": [\n          1470.0\n        ],\n        \"semantic_type\": \"\",\n        \"description\": \"\"\n      }\n    },\n    {\n      \"column\": \"stop_breakpoint\",\n      \"properties\": {\n        \"dtype\": \"number\",\n        \"std\": 726.2967002344485,\n        \"min\": 31.0,\n        \"max\": 3646.0,\n        \"num_unique_values\": 859,\n        \"samples\": [\n          1597.0\n        ],\n        \"semantic_type\": \"\",\n        \"description\": \"\"\n      }\n    },\n    {\n      \"column\": \"chromosome\",\n      \"properties\": {\n        \"dtype\": \"category\",\n        \"num_unique_values\": 31,\n        \"samples\": [\n          \"GL000237.1\"\n        ],\n        \"semantic_type\": \"\",\n        \"description\": \"\"\n      }\n    },\n    {\n      \"column\": \"locus\",\n      \"properties\": {\n        \"dtype\": \"category\",\n        \"num_unique_values\": 30,\n        \"samples\": [\n          \"p\"\n        ],\n        \"semantic_type\": \"\",\n        \"description\": \"\"\n      }\n    },\n    {\n      \"column\": \"reference_human_genome\",\n      \"properties\": {\n        \"dtype\": \"category\",\n        \"num_unique_values\": 11,\n        \"samples\": [\n          \"U96773\"\n        ],\n        \"semantic_type\": \"\",\n        \"description\": \"\"\n      }\n    },\n    {\n      \"column\": \"begin_location\",\n      \"properties\": {\n        \"dtype\": \"number\",\n        \"std\": 77493193.55510998,\n        \"min\": 54.0,\n        \"max\": 2000084860.0,\n        \"num_unique_values\": 1457,\n        \"samples\": [\n          36212916.0\n        ],\n        \"semantic_type\": \"\",\n        \"description\": \"\"\n      }\n    },\n    {\n      \"column\": \"end_location\",\n      \"properties\": {\n        \"dtype\": \"number\",\n        \"std\": 59638565.721075185,\n        \"min\": 27.0,\n        \"max\": 249241007.0,\n        \"num_unique_values\": 1475,\n        \"samples\": [\n          139027412.0\n        ],\n        \"semantic_type\": \"\",\n        \"description\": \"\"\n      }\n    },\n    {\n      \"column\": \"sample\",\n      \"properties\": {\n        \"dtype\": \"category\",\n        \"num_unique_values\": 5,\n        \"samples\": [\n          \"Tumor\"\n        ],\n        \"semantic_type\": \"\",\n        \"description\": \"\"\n      }\n    },\n    {\n      \"column\": \"disease\",\n      \"properties\": {\n        \"dtype\": \"category\",\n        \"num_unique_values\": 1,\n        \"samples\": [\n          \"Hepatocellular  carcinoma\"\n        ],\n        \"semantic_type\": \"\",\n        \"description\": \"\"\n      }\n    },\n    {\n      \"column\": \"method\",\n      \"properties\": {\n        \"dtype\": \"category\",\n        \"num_unique_values\": 9,\n        \"samples\": [\n          \"RT-PCR+Long-range PCR\"\n        ],\n        \"semantic_type\": \"\",\n        \"description\": \"\"\n      }\n    },\n    {\n      \"column\": \"pubmed_id\",\n      \"properties\": {\n        \"dtype\": \"number\",\n        \"std\": 3240855,\n        \"min\": 11593432,\n        \"max\": 30531861,\n        \"num_unique_values\": 12,\n        \"samples\": [\n          12802289\n        ],\n        \"semantic_type\": \"\",\n        \"description\": \"\"\n      }\n    },\n    {\n      \"column\": \"target_gene\",\n      \"properties\": {\n        \"dtype\": \"category\",\n        \"num_unique_values\": 223,\n        \"samples\": [\n          \"TET1\"\n        ],\n        \"semantic_type\": \"\",\n        \"description\": \"\"\n      }\n    }\n  ]\n}"
            }
          },
          "metadata": {},
          "execution_count": 18
        }
      ]
    },
    {
      "cell_type": "code",
      "source": [
        "# Filter for 'GRCh37/hg19', 'hg19', or 'GRCh37' in the 'reference_human_genome' column (case-insensitive)\n",
        "hbv_df = hbv_df[hbv_df['reference_human_genome'].str.lower().isin(['grch37/hg19', 'hg19', 'grch37'])]\n",
        "hbv_df['reference_human_genome'].unique()\n"
      ],
      "metadata": {
        "colab": {
          "base_uri": "https://localhost:8080/"
        },
        "id": "WERBhR4S2u51",
        "outputId": "674bff20-6f44-4c8e-fd96-168e3006233f"
      },
      "execution_count": null,
      "outputs": [
        {
          "output_type": "execute_result",
          "data": {
            "text/plain": [
              "array(['GRCh37/hg19', 'GRCh37'], dtype=object)"
            ]
          },
          "metadata": {},
          "execution_count": 19
        }
      ]
    },
    {
      "cell_type": "code",
      "source": [
        "#make all values lowercase\n",
        "hbv_df = lower_case_and_underscore(hbv_df)"
      ],
      "metadata": {
        "id": "PY9fYTgGAkfy"
      },
      "execution_count": null,
      "outputs": []
    },
    {
      "cell_type": "markdown",
      "source": [
        "Data Visualization to Characterize Data"
      ],
      "metadata": {
        "id": "6a4XaUca4GFV"
      }
    },
    {
      "cell_type": "code",
      "source": [
        "import natsort\n",
        "chromosome_counts = hbv_df.sort_values(by='chromosome')['chromosome'].value_counts()\n",
        "chromosome_counts = chromosome_counts.reindex(natsort.natsorted(chromosome_counts.index))"
      ],
      "metadata": {
        "id": "1h9K38G0im0Y"
      },
      "execution_count": null,
      "outputs": []
    },
    {
      "cell_type": "code",
      "source": [
        "# Create the bar plot\n",
        "plt.figure(figsize=(12, 6))\n",
        "sns.barplot(x=chromosome_counts.index, y=chromosome_counts.values, color='#6b173b')\n",
        "plt.xlabel('Chromosome')\n",
        "plt.ylabel('Count')\n",
        "plt.title('HBV Integration Sites per Chromosome')\n",
        "plt.xticks(rotation=45, ha='right')  # Rotate x-axis labels for better readability\n",
        "plt.tight_layout()\n",
        "plt.show()\n"
      ],
      "metadata": {
        "colab": {
          "base_uri": "https://localhost:8080/",
          "height": 607
        },
        "id": "EKtq9jb83Ao4",
        "outputId": "4bf11f7d-1d24-407e-b572-cd08304acac8"
      },
      "execution_count": null,
      "outputs": [
        {
          "output_type": "display_data",
          "data": {
            "text/plain": [
              "<Figure size 1200x600 with 1 Axes>"
            ],
            "image/png": "[encoded data removed]"
          },
          "metadata": {}
        }
      ]
    },
    {
      "cell_type": "markdown",
      "source": [
        "Concatenate Viral and Human Sequence and Insert into"
      ],
      "metadata": {
        "id": "YWBjwZNPGHi1"
      }
    },
    {
      "cell_type": "code",
      "source": [
        "#loop through data\n",
        "seq_list =[]\n",
        "for ind, row in hbv_df.iterrows():\n",
        "    try:\n",
        "      virus_name = row['virus']\n",
        "      virus_ref = row['reference_virus_genome']\n",
        "      hum_ref = row['reference_human_genome']\n",
        "      chrom = row['chromosome']\n",
        "      begin_ref = int(row['begin_location'])\n",
        "      stop_ref = int(row['end_location'])\n",
        "      human_seq = human_seq_extract(hum_ref, chrom, begin_ref, stop_ref )\n",
        "      viral_seq = virus_seq_extract(virus_name, virus_ref, int(row['begin_breakpoint']), int(row['stop_breakpoint']))\n",
        "      spliced_seq = human_seq[0] + viral_seq + human_seq[1]\n",
        "      seq_list.append([virus_name, virus_ref, hum_ref, spliced_seq, viral_seq, human_seq[0], human_seq[1]])\n",
        "      #print(ind)\n",
        "    except:\n",
        "      print(f\"Virus Name:{virus_name}  Virus Reference: {virus_ref} \\n Human Reference: {hum_ref} , Chromosome: {chrom} , Begin Location:{begin_ref} , End Location:{stop_ref} \")\n",
        "      pass\n",
        "\n",
        "\n"
      ],
      "metadata": {
        "id": "vUpW4sGwF-eB",
        "colab": {
          "base_uri": "https://localhost:8080/"
        },
        "outputId": "2cfc98bb-80c0-4c69-c979-9f6c80d769fc"
      },
      "execution_count": null,
      "outputs": [
        {
          "output_type": "stream",
          "name": "stderr",
          "text": [
            "Exception ignored in: <function Faidx.__del__ at 0x7f4243bf16c0>\n",
            "Traceback (most recent call last):\n",
            "  File \"/usr/local/lib/python3.11/dist-packages/pyfaidx/__init__.py\", line 883, in __del__\n",
            "    self.__exit__()\n",
            "  File \"/usr/local/lib/python3.11/dist-packages/pyfaidx/__init__.py\", line 889, in __exit__\n",
            "    self.file.close()\n",
            "    ^^^^^^^^^\n",
            "AttributeError: 'Faidx' object has no attribute 'file'\n"
          ]
        },
        {
          "output_type": "stream",
          "name": "stdout",
          "text": [
            "Virus Name:HBV  Virus Reference: NC_003977 \n",
            " Human Reference: GRCh37 , Chromosome: chrMT , Begin Location:8932 , End Location:9044 \n",
            "Reference X0276 not found in HBV\n",
            "Virus Name:HBV  Virus Reference: X0276 \n",
            " Human Reference: GRCh37/hg19 , Chromosome: chr4 , Begin Location:122742792 , End Location:122742755 \n",
            "Reference X0276 not found in HBV\n",
            "Virus Name:HBV  Virus Reference: X0276 \n",
            " Human Reference: GRCh37/hg19 , Chromosome: chr19 , Begin Location:30291247 , End Location:30291287 \n"
          ]
        },
        {
          "output_type": "stream",
          "name": "stderr",
          "text": [
            "Exception ignored in: <function Faidx.__del__ at 0x7f4243bf16c0>\n",
            "Traceback (most recent call last):\n",
            "  File \"/usr/local/lib/python3.11/dist-packages/pyfaidx/__init__.py\", line 883, in __del__\n",
            "    self.__exit__()\n",
            "  File \"/usr/local/lib/python3.11/dist-packages/pyfaidx/__init__.py\", line 889, in __exit__\n",
            "    self.file.close()\n",
            "    ^^^^^^^^^\n",
            "AttributeError: 'Faidx' object has no attribute 'file'\n",
            "Exception ignored in: <function Faidx.__del__ at 0x7f4243bf16c0>\n",
            "Traceback (most recent call last):\n",
            "  File \"/usr/local/lib/python3.11/dist-packages/pyfaidx/__init__.py\", line 883, in __del__\n",
            "    self.__exit__()\n",
            "  File \"/usr/local/lib/python3.11/dist-packages/pyfaidx/__init__.py\", line 889, in __exit__\n",
            "    self.file.close()\n",
            "    ^^^^^^^^^\n",
            "AttributeError: 'Faidx' object has no attribute 'file'\n"
          ]
        },
        {
          "output_type": "stream",
          "name": "stdout",
          "text": [
            "Virus Name:HBV  Virus Reference: NC_003977.1 \n",
            " Human Reference: GRCh37 , Chromosome: chrMT , Begin Location:6598 , End Location:7646 \n",
            "Virus Name:HBV  Virus Reference: NC_003977.1 \n",
            " Human Reference: GRCh37 , Chromosome: chrMT , Begin Location:11243 , End Location:12291 \n"
          ]
        },
        {
          "output_type": "stream",
          "name": "stderr",
          "text": [
            "Exception ignored in: <function Faidx.__del__ at 0x7f4243bf16c0>\n",
            "Traceback (most recent call last):\n",
            "  File \"/usr/local/lib/python3.11/dist-packages/pyfaidx/__init__.py\", line 883, in __del__\n",
            "    self.__exit__()\n",
            "  File \"/usr/local/lib/python3.11/dist-packages/pyfaidx/__init__.py\", line 889, in __exit__\n",
            "    self.file.close()\n",
            "    ^^^^^^^^^\n",
            "AttributeError: 'Faidx' object has no attribute 'file'\n",
            "Exception ignored in: <function Faidx.__del__ at 0x7f4243bf16c0>\n",
            "Traceback (most recent call last):\n",
            "  File \"/usr/local/lib/python3.11/dist-packages/pyfaidx/__init__.py\", line 883, in __del__\n",
            "    self.__exit__()\n",
            "  File \"/usr/local/lib/python3.11/dist-packages/pyfaidx/__init__.py\", line 889, in __exit__\n",
            "    self.file.close()\n",
            "    ^^^^^^^^^\n",
            "AttributeError: 'Faidx' object has no attribute 'file'\n"
          ]
        },
        {
          "output_type": "stream",
          "name": "stdout",
          "text": [
            "Virus Name:HBV  Virus Reference: NC_003977.1 \n",
            " Human Reference: GRCh37 , Chromosome: GL000195.1 , Begin Location:48483 , End Location:49531 \n",
            "Virus Name:HBV  Virus Reference: NC_003977.1 \n",
            " Human Reference: GRCh37 , Chromosome: GL000195.1 , Begin Location:49475 , End Location:50523 \n"
          ]
        },
        {
          "output_type": "stream",
          "name": "stderr",
          "text": [
            "Exception ignored in: <function Faidx.__del__ at 0x7f4243bf16c0>\n",
            "Traceback (most recent call last):\n",
            "  File \"/usr/local/lib/python3.11/dist-packages/pyfaidx/__init__.py\", line 883, in __del__\n",
            "    self.__exit__()\n",
            "  File \"/usr/local/lib/python3.11/dist-packages/pyfaidx/__init__.py\", line 889, in __exit__\n",
            "    self.file.close()\n",
            "    ^^^^^^^^^\n",
            "AttributeError: 'Faidx' object has no attribute 'file'\n"
          ]
        },
        {
          "output_type": "stream",
          "name": "stdout",
          "text": [
            "Virus Name:HBV  Virus Reference: NC_003977.1 \n",
            " Human Reference: GRCh37 , Chromosome: GL000227.1 , Begin Location:73446 , End Location:74494 \n"
          ]
        },
        {
          "output_type": "stream",
          "name": "stderr",
          "text": [
            "Exception ignored in: <function Faidx.__del__ at 0x7f4243bf16c0>\n",
            "Traceback (most recent call last):\n",
            "  File \"/usr/local/lib/python3.11/dist-packages/pyfaidx/__init__.py\", line 883, in __del__\n",
            "    self.__exit__()\n",
            "  File \"/usr/local/lib/python3.11/dist-packages/pyfaidx/__init__.py\", line 889, in __exit__\n",
            "    self.file.close()\n",
            "    ^^^^^^^^^\n",
            "AttributeError: 'Faidx' object has no attribute 'file'\n",
            "Exception ignored in: <function Faidx.__del__ at 0x7f4243bf16c0>\n",
            "Traceback (most recent call last):\n",
            "  File \"/usr/local/lib/python3.11/dist-packages/pyfaidx/__init__.py\", line 883, in __del__\n",
            "    self.__exit__()\n",
            "  File \"/usr/local/lib/python3.11/dist-packages/pyfaidx/__init__.py\", line 889, in __exit__\n",
            "    self.file.close()\n",
            "    ^^^^^^^^^\n",
            "AttributeError: 'Faidx' object has no attribute 'file'\n"
          ]
        },
        {
          "output_type": "stream",
          "name": "stdout",
          "text": [
            "Virus Name:HBV  Virus Reference: NC_003977.1 \n",
            " Human Reference: GRCh37 , Chromosome: chrMT , Begin Location:11350 , End Location:12398 \n",
            "Virus Name:HBV  Virus Reference: NC_003977.1 \n",
            " Human Reference: GRCh37 , Chromosome: chrMT , Begin Location:8431 , End Location:9479 \n"
          ]
        },
        {
          "output_type": "stream",
          "name": "stderr",
          "text": [
            "Exception ignored in: <function Faidx.__del__ at 0x7f4243bf16c0>\n",
            "Traceback (most recent call last):\n",
            "  File \"/usr/local/lib/python3.11/dist-packages/pyfaidx/__init__.py\", line 883, in __del__\n",
            "    self.__exit__()\n",
            "  File \"/usr/local/lib/python3.11/dist-packages/pyfaidx/__init__.py\", line 889, in __exit__\n",
            "    self.file.close()\n",
            "    ^^^^^^^^^\n",
            "AttributeError: 'Faidx' object has no attribute 'file'\n"
          ]
        },
        {
          "output_type": "stream",
          "name": "stdout",
          "text": [
            "Virus Name:HBV  Virus Reference: NC_003977.1 \n",
            " Human Reference: GRCh37 , Chromosome: chrMT , Begin Location:13743 , End Location:14791 \n"
          ]
        },
        {
          "output_type": "stream",
          "name": "stderr",
          "text": [
            "Exception ignored in: <function Faidx.__del__ at 0x7f4243bf16c0>\n",
            "Traceback (most recent call last):\n",
            "  File \"/usr/local/lib/python3.11/dist-packages/pyfaidx/__init__.py\", line 883, in __del__\n",
            "    self.__exit__()\n",
            "  File \"/usr/local/lib/python3.11/dist-packages/pyfaidx/__init__.py\", line 889, in __exit__\n",
            "    self.file.close()\n",
            "    ^^^^^^^^^\n",
            "AttributeError: 'Faidx' object has no attribute 'file'\n",
            "Exception ignored in: <function Faidx.__del__ at 0x7f4243bf16c0>\n",
            "Traceback (most recent call last):\n",
            "  File \"/usr/local/lib/python3.11/dist-packages/pyfaidx/__init__.py\", line 883, in __del__\n",
            "    self.__exit__()\n",
            "  File \"/usr/local/lib/python3.11/dist-packages/pyfaidx/__init__.py\", line 889, in __exit__\n",
            "    self.file.close()\n",
            "    ^^^^^^^^^\n",
            "AttributeError: 'Faidx' object has no attribute 'file'\n"
          ]
        },
        {
          "output_type": "stream",
          "name": "stdout",
          "text": [
            "Virus Name:HBV  Virus Reference: NC_003977.1 \n",
            " Human Reference: GRCh37 , Chromosome: GL000237.1 , Begin Location:32834 , End Location:33882 \n",
            "Virus Name:HBV  Virus Reference: NC_003977.1 \n",
            " Human Reference: GRCh37 , Chromosome: GL000239.1 , Begin Location:14424 , End Location:15472 \n"
          ]
        },
        {
          "output_type": "stream",
          "name": "stderr",
          "text": [
            "Exception ignored in: <function Faidx.__del__ at 0x7f4243bf16c0>\n",
            "Traceback (most recent call last):\n",
            "  File \"/usr/local/lib/python3.11/dist-packages/pyfaidx/__init__.py\", line 883, in __del__\n",
            "    self.__exit__()\n",
            "  File \"/usr/local/lib/python3.11/dist-packages/pyfaidx/__init__.py\", line 889, in __exit__\n",
            "    self.file.close()\n",
            "    ^^^^^^^^^\n",
            "AttributeError: 'Faidx' object has no attribute 'file'\n",
            "Exception ignored in: <function Faidx.__del__ at 0x7f4243bf16c0>\n",
            "Traceback (most recent call last):\n",
            "  File \"/usr/local/lib/python3.11/dist-packages/pyfaidx/__init__.py\", line 883, in __del__\n",
            "    self.__exit__()\n",
            "  File \"/usr/local/lib/python3.11/dist-packages/pyfaidx/__init__.py\", line 889, in __exit__\n",
            "    self.file.close()\n",
            "    ^^^^^^^^^\n",
            "AttributeError: 'Faidx' object has no attribute 'file'\n",
            "Exception ignored in: <function Faidx.__del__ at 0x7f4243bf16c0>\n",
            "Traceback (most recent call last):\n",
            "  File \"/usr/local/lib/python3.11/dist-packages/pyfaidx/__init__.py\", line 883, in __del__\n",
            "    self.__exit__()\n",
            "  File \"/usr/local/lib/python3.11/dist-packages/pyfaidx/__init__.py\", line 889, in __exit__\n",
            "    self.file.close()\n",
            "    ^^^^^^^^^\n",
            "AttributeError: 'Faidx' object has no attribute 'file'\n",
            "Exception ignored in: <function Faidx.__del__ at 0x7f4243bf16c0>\n",
            "Traceback (most recent call last):\n",
            "  File \"/usr/local/lib/python3.11/dist-packages/pyfaidx/__init__.py\", line 883, in __del__\n",
            "    self.__exit__()\n",
            "  File \"/usr/local/lib/python3.11/dist-packages/pyfaidx/__init__.py\", line 889, in __exit__\n",
            "    self.file.close()\n",
            "    ^^^^^^^^^\n",
            "AttributeError: 'Faidx' object has no attribute 'file'\n"
          ]
        },
        {
          "output_type": "stream",
          "name": "stdout",
          "text": [
            "Virus Name:HBV  Virus Reference: NC_003977.1 \n",
            " Human Reference: GRCh37 , Chromosome: chrGL000237.1 , Begin Location:33183 , End Location:34231 \n",
            "Virus Name:HBV  Virus Reference: NC_003977.1 \n",
            " Human Reference: GRCh37 , Chromosome: GL000239.1 , Begin Location:14877 , End Location:15925 \n",
            "Virus Name:HBV  Virus Reference: NC_003977.1 \n",
            " Human Reference: GRCh37 , Chromosome: GL000239.1 , Begin Location:14320 , End Location:15368 \n",
            "Virus Name:HBV  Virus Reference: NC_003977.1 \n",
            " Human Reference: GRCh37 , Chromosome: chrMT , Begin Location:8130 , End Location:9178 \n"
          ]
        },
        {
          "output_type": "stream",
          "name": "stderr",
          "text": [
            "Exception ignored in: <function Faidx.__del__ at 0x7f4243bf16c0>\n",
            "Traceback (most recent call last):\n",
            "  File \"/usr/local/lib/python3.11/dist-packages/pyfaidx/__init__.py\", line 883, in __del__\n",
            "    self.__exit__()\n",
            "  File \"/usr/local/lib/python3.11/dist-packages/pyfaidx/__init__.py\", line 889, in __exit__\n",
            "    self.file.close()\n",
            "    ^^^^^^^^^\n",
            "AttributeError: 'Faidx' object has no attribute 'file'\n"
          ]
        },
        {
          "output_type": "stream",
          "name": "stdout",
          "text": [
            "Virus Name:HBV  Virus Reference: NC_003977.1 \n",
            " Human Reference: GRCh37 , Chromosome: chrMT , Begin Location:11397 , End Location:12445 \n"
          ]
        },
        {
          "output_type": "stream",
          "name": "stderr",
          "text": [
            "Exception ignored in: <function Faidx.__del__ at 0x7f4243bf16c0>\n",
            "Traceback (most recent call last):\n",
            "  File \"/usr/local/lib/python3.11/dist-packages/pyfaidx/__init__.py\", line 883, in __del__\n",
            "    self.__exit__()\n",
            "  File \"/usr/local/lib/python3.11/dist-packages/pyfaidx/__init__.py\", line 889, in __exit__\n",
            "    self.file.close()\n",
            "    ^^^^^^^^^\n",
            "AttributeError: 'Faidx' object has no attribute 'file'\n"
          ]
        },
        {
          "output_type": "stream",
          "name": "stdout",
          "text": [
            "Virus Name:HBV  Virus Reference: NC_003977.1 \n",
            " Human Reference: GRCh37 , Chromosome: GL000217.1 , Begin Location:116229 , End Location:117277 \n"
          ]
        }
      ]
    },
    {
      "cell_type": "code",
      "source": [
        "#make seq_list a dataframe save as a csv\n",
        "seq_df = pd.DataFrame(seq_list, columns=['virus', 'virus_ref', 'human_ref', 'spliced_seq', 'viral_seq', 'human_seq_upstream', 'human_seq_downstream'])\n",
        "seq_df.to_csv('Spliced_Data_HBV.csv')\n"
      ],
      "metadata": {
        "id": "YLzLRB52Ja3Z"
      },
      "execution_count": null,
      "outputs": []
    },
    {
      "cell_type": "markdown",
      "source": [
        "# HPV"
      ],
      "metadata": {
        "id": "CehXuAA96XJB"
      }
    },
    {
      "cell_type": "code",
      "source": [
        "#load xslx\n",
        "hpv_df = pd.read_excel('HPV_VIS.xlsx')\n",
        "hpv_df.head()"
      ],
      "metadata": {
        "id": "J4aEP9d26bcw"
      },
      "execution_count": null,
      "outputs": []
    },
    {
      "cell_type": "markdown",
      "source": [
        "Data Cleaning"
      ],
      "metadata": {
        "id": "73J5g2183D6V"
      }
    },
    {
      "cell_type": "code",
      "source": [
        "#filter out rows where begin_breakpoint or stop breakpoint  and also begin and end location are NA\n",
        "hpv_df = hpv_df.dropna(subset=['begin_breakpoint', 'stop_breakpoint', 'begin_location', 'end_location', 'reference_virus_genome'], how='any')\n",
        "hpv_df.head()"
      ],
      "metadata": {
        "id": "AJYTDY483KSm"
      },
      "execution_count": null,
      "outputs": []
    },
    {
      "cell_type": "code",
      "source": [
        "# Filter for 'GRCh37/hg19', 'hg19', or 'GRCh37' in the 'reference_human_genome' column (case-insensitive)\n",
        "hpv_df = hpv_df[hpv_df['reference_human_genome'].str.lower().isin(['grch37/hg19', 'hg19', 'grch37'])]\n",
        "hpv_df['reference_human_genome'].unique()\n"
      ],
      "metadata": {
        "id": "e6YMFSIN3QQY"
      },
      "execution_count": null,
      "outputs": []
    },
    {
      "cell_type": "code",
      "source": [
        "hpv_df = lower_case_and_underscore(hpv_df)\n"
      ],
      "metadata": {
        "id": "rVwbar5H3ES7"
      },
      "execution_count": null,
      "outputs": []
    },
    {
      "cell_type": "code",
      "source": [
        "hpv_chromosome_counts = hpv_df.sort_values(by='chromosome')['chromosome'].value_counts()\n",
        "hpv_chromosome_counts = chromosome_counts.reindex(natsort.natsorted(chromosome_counts.index))"
      ],
      "metadata": {
        "id": "lf0cROpn3RqJ",
        "outputId": "2940be28-c939-4b3d-86a6-08ea3bafd8d2",
        "colab": {
          "base_uri": "https://localhost:8080/",
          "height": 165
        }
      },
      "execution_count": 10,
      "outputs": [
        {
          "output_type": "error",
          "ename": "NameError",
          "evalue": "name 'hpv_df' is not defined",
          "traceback": [
            "\u001b[0;31m---------------------------------------------------------------------------\u001b[0m",
            "\u001b[0;31mNameError\u001b[0m                                 Traceback (most recent call last)",
            "\u001b[0;32m<ipython-input-10-3edc1fea20a7>\u001b[0m in \u001b[0;36m<cell line: 0>\u001b[0;34m()\u001b[0m\n\u001b[0;32m----> 1\u001b[0;31m \u001b[0mchromosome_counts\u001b[0m \u001b[0;34m=\u001b[0m \u001b[0mhpv_df\u001b[0m\u001b[0;34m.\u001b[0m\u001b[0msort_values\u001b[0m\u001b[0;34m(\u001b[0m\u001b[0mby\u001b[0m\u001b[0;34m=\u001b[0m\u001b[0;34m'chromosome'\u001b[0m\u001b[0;34m)\u001b[0m\u001b[0;34m[\u001b[0m\u001b[0;34m'chromosome'\u001b[0m\u001b[0;34m]\u001b[0m\u001b[0;34m.\u001b[0m\u001b[0mvalue_counts\u001b[0m\u001b[0;34m(\u001b[0m\u001b[0;34m)\u001b[0m\u001b[0;34m\u001b[0m\u001b[0;34m\u001b[0m\u001b[0m\n\u001b[0m\u001b[1;32m      2\u001b[0m \u001b[0mchromosome_counts\u001b[0m \u001b[0;34m=\u001b[0m \u001b[0mchromosome_counts\u001b[0m\u001b[0;34m.\u001b[0m\u001b[0mreindex\u001b[0m\u001b[0;34m(\u001b[0m\u001b[0mnatsort\u001b[0m\u001b[0;34m.\u001b[0m\u001b[0mnatsorted\u001b[0m\u001b[0;34m(\u001b[0m\u001b[0mchromosome_counts\u001b[0m\u001b[0;34m.\u001b[0m\u001b[0mindex\u001b[0m\u001b[0;34m)\u001b[0m\u001b[0;34m)\u001b[0m\u001b[0;34m\u001b[0m\u001b[0;34m\u001b[0m\u001b[0m\n",
            "\u001b[0;31mNameError\u001b[0m: name 'hpv_df' is not defined"
          ]
        }
      ]
    },
    {
      "cell_type": "code",
      "source": [
        "# Create the bar plot\n",
        "plt.figure(figsize=(12, 6))\n",
        "sns.barplot(x=hpv_chromosome_counts.index, y=hpv_chromosome_counts.values, color='#6b173b')\n",
        "plt.xlabel('Chromosome')\n",
        "plt.ylabel('Count')\n",
        "plt.title('HBV Integration Sites per Chromosome')\n",
        "plt.xticks(rotation=45, ha='right')  # Rotate x-axis labels for better readability\n",
        "plt.tight_layout()\n",
        "plt.show()\n"
      ],
      "metadata": {
        "id": "8dkFya6k3VwQ"
      },
      "execution_count": null,
      "outputs": []
    },
    {
      "cell_type": "code",
      "source": [
        "vis = hpv_df['reference_virus_genome'].unique()\n",
        "for item in vis:\n",
        "  print(f\"{item} or \")\n",
        "print(len(vis))\n",
        ""
      ],
      "metadata": {
        "id": "3QfdiSf-3JfA"
      },
      "execution_count": null,
      "outputs": []
    },
    {
      "cell_type": "code",
      "source": [
        "\n",
        "#loop through data\n",
        "seq_list =[]\n",
        "for ind, row in hpv_df.iterrows():\n",
        "    try:\n",
        "      virus_name = row['virus']\n",
        "      virus_ref = row['reference_virus_genome']\n",
        "      hum_ref = row['reference_human_genome']\n",
        "      chrom = row['chromosome']\n",
        "      begin_ref = int(row['begin_location'])\n",
        "      stop_ref = int(row['end_location'])\n",
        "      human_seq = human_seq_extract(hum_ref, chrom, begin_ref, stop_ref )\n",
        "      viral_seq = virus_seq_extract(virus_name, virus_ref, int(row['begin_breakpoint']), int(row['stop_breakpoint']))\n",
        "      spliced_seq = human_seq[0] + viral_seq + human_seq[1]\n",
        "      seq_list.append([virus_name, virus_ref, hum_ref, spliced_seq, viral_seq, human_seq[0], human_seq[1]])\n",
        "      #print(ind)\n",
        "    except:\n",
        "      print(f\"Virus Name:{virus_name}  Virus Reference: {virus_ref} \\n Human Reference: {hum_ref} , Chromosome: {chrom} , Begin Location:{begin_ref} , End Location:{stop_ref} \")\n",
        "      pass\n",
        "\n"
      ],
      "metadata": {
        "id": "znu582Tw3X31"
      },
      "execution_count": null,
      "outputs": []
    },
    {
      "cell_type": "code",
      "source": [
        "#make seq_list a dataframe save as a csv\n",
        "seq_df = pd.DataFrame(seq_list, columns=['virus', 'virus_ref', 'human_ref', 'spliced_seq', 'viral_seq', 'human_seq_upstream', 'human_seq_downstream'])\n",
        "seq_df.to_csv('Spliced_Data_HPV.csv')"
      ],
      "metadata": {
        "id": "U39pnPEi3boW",
        "outputId": "b1780667-da05-41d1-a4e3-a047ef2b923b",
        "colab": {
          "base_uri": "https://localhost:8080/",
          "height": 183
        }
      },
      "execution_count": 11,
      "outputs": [
        {
          "output_type": "error",
          "ename": "NameError",
          "evalue": "name 'seq_list' is not defined",
          "traceback": [
            "\u001b[0;31m---------------------------------------------------------------------------\u001b[0m",
            "\u001b[0;31mNameError\u001b[0m                                 Traceback (most recent call last)",
            "\u001b[0;32m<ipython-input-11-45c4366e6173>\u001b[0m in \u001b[0;36m<cell line: 0>\u001b[0;34m()\u001b[0m\n\u001b[1;32m      1\u001b[0m \u001b[0;31m#make seq_list a dataframe save as a csv\u001b[0m\u001b[0;34m\u001b[0m\u001b[0;34m\u001b[0m\u001b[0m\n\u001b[0;32m----> 2\u001b[0;31m \u001b[0mseq_df\u001b[0m \u001b[0;34m=\u001b[0m \u001b[0mpd\u001b[0m\u001b[0;34m.\u001b[0m\u001b[0mDataFrame\u001b[0m\u001b[0;34m(\u001b[0m\u001b[0mseq_list\u001b[0m\u001b[0;34m,\u001b[0m \u001b[0mcolumns\u001b[0m\u001b[0;34m=\u001b[0m\u001b[0;34m[\u001b[0m\u001b[0;34m'virus'\u001b[0m\u001b[0;34m,\u001b[0m \u001b[0;34m'virus_ref'\u001b[0m\u001b[0;34m,\u001b[0m \u001b[0;34m'human_ref'\u001b[0m\u001b[0;34m,\u001b[0m \u001b[0;34m'spliced_seq'\u001b[0m\u001b[0;34m,\u001b[0m \u001b[0;34m'viral_seq'\u001b[0m\u001b[0;34m,\u001b[0m \u001b[0;34m'human_seq_upstream'\u001b[0m\u001b[0;34m,\u001b[0m \u001b[0;34m'human_seq_downstream'\u001b[0m\u001b[0;34m]\u001b[0m\u001b[0;34m)\u001b[0m\u001b[0;34m\u001b[0m\u001b[0;34m\u001b[0m\u001b[0m\n\u001b[0m\u001b[1;32m      3\u001b[0m \u001b[0mseq_df\u001b[0m\u001b[0;34m.\u001b[0m\u001b[0mto_csv\u001b[0m\u001b[0;34m(\u001b[0m\u001b[0;34m'Spliced_Data.csv'\u001b[0m\u001b[0;34m)\u001b[0m\u001b[0;34m\u001b[0m\u001b[0;34m\u001b[0m\u001b[0m\n",
            "\u001b[0;31mNameError\u001b[0m: name 'seq_list' is not defined"
          ]
        }
      ]
    },
    {
      "cell_type": "markdown",
      "source": [
        "# EBV"
      ],
      "metadata": {
        "id": "71r5mpZA4Xrv"
      }
    },
    {
      "cell_type": "code",
      "source": [
        "#load xslx into dataframe\n",
        "ebv_df = pd.read_excel('EBV_VIS.xlsx')\n",
        "ebv_df.head()"
      ],
      "metadata": {
        "id": "vx0VlN7Q4Y_z"
      },
      "execution_count": null,
      "outputs": []
    },
    {
      "cell_type": "code",
      "source": [
        "#filter out rows where begin_breakpoint or stop breakpoint  and also begin and end location are NA\n",
        "ebv_df = ebv_df.dropna(subset=['begin_breakpoint', 'stop_breakpoint', 'begin_location', 'end_location', 'reference_virus_genome'], how='any')\n",
        "ebv_df.head()\n",
        "\n",
        "# Filter for 'GRCh37/hg19', 'hg19', or 'GRCh37' in the 'reference_human_genome' column (case-insensitive)\n",
        "ebv_df = ebv_df[ebv_df['reference_human_genome'].str.lower().isin(['grch37/hg19', 'hg19', 'grch37'])]\n"
      ],
      "metadata": {
        "id": "IvUmEnA94mRE"
      },
      "execution_count": null,
      "outputs": []
    },
    {
      "cell_type": "code",
      "source": [
        "#lowercase all values\n",
        "ebv_df = lower_case_and_underscore(ebv_df)"
      ],
      "metadata": {
        "id": "dR9caGXC4fmR"
      },
      "execution_count": null,
      "outputs": []
    },
    {
      "cell_type": "code",
      "source": [
        "import natsort\n",
        "ebv_chromosome_counts = ebv_df.sort_values(by='chromosome')['chromosome'].value_counts()\n",
        "ebv_chromosome_counts = ebv_chromosome_counts.reindex(natsort.natsorted(chromosome_counts.index))\n",
        ""
      ],
      "metadata": {
        "id": "t0VTaAda4xpZ"
      },
      "execution_count": null,
      "outputs": []
    },
    {
      "cell_type": "code",
      "source": [
        "# Create the bar plot\n",
        "plt.figure(figsize=(12, 6))\n",
        "sns.barplot(x=ebv_chromosome_counts.index, y=ebv_chromosome_counts.values, color='#6b173b')\n",
        "plt.xlabel('Chromosome')\n",
        "plt.ylabel('Count')\n",
        "plt.title('HBV Integration Sites per Chromosome')\n",
        "plt.xticks(rotation=45, ha='right')  # Rotate x-axis labels for better readability\n",
        "plt.tight_layout()\n",
        "plt.show()\n",
        "\n",
        ""
      ],
      "metadata": {
        "id": "_Zu0PAOH4z-s"
      },
      "execution_count": null,
      "outputs": []
    },
    {
      "cell_type": "code",
      "source": [
        "\n",
        "#loop through data\n",
        "seq_list =[]\n",
        "for ind, row in ebv_df.iterrows():\n",
        "    try:\n",
        "      virus_name = row['virus']\n",
        "      virus_ref = row['reference_virus_genome']\n",
        "      hum_ref = row['reference_human_genome']\n",
        "      chrom = row['chromosome']\n",
        "      begin_ref = int(row['begin_location'])\n",
        "      stop_ref = int(row['end_location'])\n",
        "      human_seq = human_seq_extract(hum_ref, chrom, begin_ref, stop_ref )\n",
        "      viral_seq = virus_seq_extract(virus_name, virus_ref, int(row['begin_breakpoint']), int(row['stop_breakpoint']))\n",
        "      spliced_seq = human_seq[0] + viral_seq + human_seq[1]\n",
        "      seq_list.append([virus_name, virus_ref, hum_ref, spliced_seq, viral_seq, human_seq[0], human_seq[1]])\n",
        "      #print(ind)\n",
        "    except:\n",
        "      print(f\"Virus Name:{virus_name}  Virus Reference: {virus_ref} \\n Human Reference: {hum_ref} , Chromosome: {chrom} , Begin Location:{begin_ref} , End Location:{stop_ref} \")\n",
        "      pass\n",
        "\n"
      ],
      "metadata": {
        "id": "KhUArYwe42Mf"
      },
      "execution_count": null,
      "outputs": []
    },
    {
      "cell_type": "code",
      "source": [
        "#make seq_list a dataframe save as a csv\n",
        "seq_df = pd.DataFrame(seq_list, columns=['virus', 'virus_ref', 'human_ref', 'spliced_seq', 'viral_seq', 'human_seq_upstream', 'human_seq_downstream'])\n",
        "seq_df.to_csv('Spliced_Data_EBV.csv')"
      ],
      "metadata": {
        "id": "YrqpVolo45jK"
      },
      "execution_count": null,
      "outputs": []
    }
  ]
}