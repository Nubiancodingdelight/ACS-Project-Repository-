{
  "nbformat": 4,
  "nbformat_minor": 0,
  "metadata": {
    "colab": {
      "provenance": [],
      "toc_visible": true,
      "include_colab_link": true
    },
    "kernelspec": {
      "name": "python3",
      "display_name": "Python 3"
    },
    "language_info": {
      "name": "python"
    }
  },
  "cells": [
    {
      "cell_type": "markdown",
      "metadata": {
        "id": "view-in-github",
        "colab_type": "text"
      },
      "source": [
        "<a href=\"https://colab.research.google.com/github/Nubiancodingdelight/ACS-Project-Repository-/blob/main/Generating_VIS.ipynb\" target=\"_parent\"><img src=\"https://colab.research.google.com/assets/colab-badge.svg\" alt=\"Open In Colab\"/></a>"
      ]
    },
    {
      "cell_type": "markdown",
      "source": [
        "Created by: Lorrayya Williams\n",
        "Last Modified: April 10, 2025\n",
        "The purpose of this file is to extract DeepVisp data and place it into spreadsheets."
      ],
      "metadata": {
        "id": "1oge6h3I8We-"
      }
    },
    {
      "cell_type": "code",
      "execution_count": 4,
      "metadata": {
        "colab": {
          "base_uri": "https://localhost:8080/"
        },
        "id": "UitA4QM35UrE",
        "outputId": "8703478a-8afd-4dda-dd4c-ef804f8fa41e"
      },
      "outputs": [
        {
          "output_type": "stream",
          "name": "stdout",
          "text": [
            "Mounted at /content/drive\n"
          ]
        }
      ],
      "source": [
        "#mounts google drive\n",
        "from google.colab import drive\n",
        "drive.mount('/content/drive', force_remount=True)\n"
      ]
    },
    {
      "cell_type": "code",
      "source": [
        "#set path\n",
        "%cd /content/drive/MyDrive/ACS_Research/VISDB_Data/"
      ],
      "metadata": {
        "colab": {
          "base_uri": "https://localhost:8080/"
        },
        "id": "DgBjRq1H_vYS",
        "outputId": "3ae062cd-3d63-4f17-b163-629af27c722d",
        "collapsed": true
      },
      "execution_count": 5,
      "outputs": [
        {
          "output_type": "stream",
          "name": "stdout",
          "text": [
            "/content/drive/MyDrive/ACS_Research/VISDB_Data\n"
          ]
        }
      ]
    },
    {
      "cell_type": "code",
      "source": [
        "#install Biopython and pyfaidx\n",
        "!pip install Bio pyfaidx"
      ],
      "metadata": {
        "colab": {
          "base_uri": "https://localhost:8080/"
        },
        "id": "wFafUZikMydT",
        "outputId": "fb6b5991-0967-4df7-cd04-8791913888ee",
        "collapsed": true
      },
      "execution_count": 6,
      "outputs": [
        {
          "output_type": "stream",
          "name": "stdout",
          "text": [
            "Requirement already satisfied: Bio in /usr/local/lib/python3.11/dist-packages (1.7.1)\n",
            "Requirement already satisfied: pyfaidx in /usr/local/lib/python3.11/dist-packages (0.8.1.3)\n",
            "Requirement already satisfied: biopython>=1.80 in /usr/local/lib/python3.11/dist-packages (from Bio) (1.85)\n",
            "Requirement already satisfied: gprofiler-official in /usr/local/lib/python3.11/dist-packages (from Bio) (1.0.0)\n",
            "Requirement already satisfied: mygene in /usr/local/lib/python3.11/dist-packages (from Bio) (3.2.2)\n",
            "Requirement already satisfied: pandas in /usr/local/lib/python3.11/dist-packages (from Bio) (2.2.2)\n",
            "Requirement already satisfied: pooch in /usr/local/lib/python3.11/dist-packages (from Bio) (1.8.2)\n",
            "Requirement already satisfied: requests in /usr/local/lib/python3.11/dist-packages (from Bio) (2.32.3)\n",
            "Requirement already satisfied: tqdm in /usr/local/lib/python3.11/dist-packages (from Bio) (4.67.1)\n",
            "Requirement already satisfied: importlib-metadata in /usr/local/lib/python3.11/dist-packages (from pyfaidx) (8.6.1)\n",
            "Requirement already satisfied: packaging in /usr/local/lib/python3.11/dist-packages (from pyfaidx) (24.2)\n",
            "Requirement already satisfied: numpy in /usr/local/lib/python3.11/dist-packages (from biopython>=1.80->Bio) (2.0.2)\n",
            "Requirement already satisfied: zipp>=3.20 in /usr/local/lib/python3.11/dist-packages (from importlib-metadata->pyfaidx) (3.21.0)\n",
            "Requirement already satisfied: biothings-client>=0.2.6 in /usr/local/lib/python3.11/dist-packages (from mygene->Bio) (0.4.1)\n",
            "Requirement already satisfied: python-dateutil>=2.8.2 in /usr/local/lib/python3.11/dist-packages (from pandas->Bio) (2.8.2)\n",
            "Requirement already satisfied: pytz>=2020.1 in /usr/local/lib/python3.11/dist-packages (from pandas->Bio) (2025.2)\n",
            "Requirement already satisfied: tzdata>=2022.7 in /usr/local/lib/python3.11/dist-packages (from pandas->Bio) (2025.2)\n",
            "Requirement already satisfied: platformdirs>=2.5.0 in /usr/local/lib/python3.11/dist-packages (from pooch->Bio) (4.3.7)\n",
            "Requirement already satisfied: charset-normalizer<4,>=2 in /usr/local/lib/python3.11/dist-packages (from requests->Bio) (3.4.1)\n",
            "Requirement already satisfied: idna<4,>=2.5 in /usr/local/lib/python3.11/dist-packages (from requests->Bio) (3.10)\n",
            "Requirement already satisfied: urllib3<3,>=1.21.1 in /usr/local/lib/python3.11/dist-packages (from requests->Bio) (2.3.0)\n",
            "Requirement already satisfied: certifi>=2017.4.17 in /usr/local/lib/python3.11/dist-packages (from requests->Bio) (2025.1.31)\n",
            "Requirement already satisfied: httpx>=0.22.0 in /usr/local/lib/python3.11/dist-packages (from biothings-client>=0.2.6->mygene->Bio) (0.28.1)\n",
            "Requirement already satisfied: six>=1.5 in /usr/local/lib/python3.11/dist-packages (from python-dateutil>=2.8.2->pandas->Bio) (1.17.0)\n",
            "Requirement already satisfied: anyio in /usr/local/lib/python3.11/dist-packages (from httpx>=0.22.0->biothings-client>=0.2.6->mygene->Bio) (4.9.0)\n",
            "Requirement already satisfied: httpcore==1.* in /usr/local/lib/python3.11/dist-packages (from httpx>=0.22.0->biothings-client>=0.2.6->mygene->Bio) (1.0.7)\n",
            "Requirement already satisfied: h11<0.15,>=0.13 in /usr/local/lib/python3.11/dist-packages (from httpcore==1.*->httpx>=0.22.0->biothings-client>=0.2.6->mygene->Bio) (0.14.0)\n",
            "Requirement already satisfied: sniffio>=1.1 in /usr/local/lib/python3.11/dist-packages (from anyio->httpx>=0.22.0->biothings-client>=0.2.6->mygene->Bio) (1.3.1)\n",
            "Requirement already satisfied: typing_extensions>=4.5 in /usr/local/lib/python3.11/dist-packages (from anyio->httpx>=0.22.0->biothings-client>=0.2.6->mygene->Bio) (4.13.1)\n"
          ]
        }
      ]
    },
    {
      "cell_type": "code",
      "source": [
        "#import\n",
        "import pandas as pd\n",
        "import numpy as np\n",
        "import matplotlib.pyplot as plt\n",
        "import seaborn as sns\n",
        "import os\n",
        "from pyfaidx import Fasta"
      ],
      "metadata": {
        "id": "tZ5SZAIFAKAv"
      },
      "execution_count": 7,
      "outputs": []
    },
    {
      "cell_type": "markdown",
      "source": [
        "# FUNCTIONS"
      ],
      "metadata": {
        "id": "uy0BkUxN5wLG"
      }
    },
    {
      "cell_type": "markdown",
      "source": [
        "## Virus sequence extract\n"
      ],
      "metadata": {
        "id": "lm38Gg9U-HAS"
      }
    },
    {
      "cell_type": "code",
      "source": [
        "#name: Name of Virus\n",
        "#ref: Specific  Viral Sequence\n",
        "def virus_seq_extract(name, ref, start, stop):\n",
        "  #location of fasta sequence\n",
        "  if name == 'HBV':\n",
        "    path = '/content/drive/MyDrive/ACS_Research/VISDB_Data/Viral_Reference/' +name+ \"/\"+ \"sequence.fasta\"\n",
        "    virus_gene = Fasta(path)\n",
        "    if ref in virus_gene.keys():\n",
        "      extracted_seq = virus_gene[ref][start-1:stop]\n",
        "    elif ref in ('NC_003977.1', 'NC_003977'):\n",
        "      path = '/content/drive/MyDrive/ACS_Research/VISDB_Data/Viral_Reference/HBV/NC_003977.1.fasta'\n",
        "      virus_gene = Fasta(path)\n",
        "      extracted_seq = virus_gene['NC_003977.1'][start-1:stop]\n",
        "\n",
        "  elif name == 'HPV':\n",
        "    path = '/content/drive/MyDrive/ACS_Research/VISDB_Data/Viral_Reference/HPV/'  + ref + '.fasta'\n",
        "    virus_gene = Fasta(path)\n",
        "    extracted_seq = virus_gene[ref][start-1:stop]\n",
        "\n",
        "  elif name == 'EBV':\n",
        "    path = '/content/drive/MyDrive/ACS_Research/VISDB_Data/Viral_Reference/EBV/NC_007605.1.fasta'\n",
        "    virus_gene = Fasta(path)\n",
        "    extracted_seq = virus_gene['NC_007605.1'][start-1:stop]\n",
        "\n",
        "  else:\n",
        "    print(f\"Reference {ref} not found in {name}\")\n",
        "  return extracted_seq.seq"
      ],
      "metadata": {
        "id": "Yh1y-4gHUIyn"
      },
      "execution_count": 33,
      "outputs": []
    },
    {
      "cell_type": "code",
      "source": [
        "#testing virus\n",
        "print(virus_seq_extract('HPV', 'NC_001526.2',36878593, 1000))"
      ],
      "metadata": {
        "id": "4BQ2L8anSixt",
        "outputId": "6ab7fd39-7554-4a2c-d310-c2691bbc7238",
        "colab": {
          "base_uri": "https://localhost:8080/"
        }
      },
      "execution_count": 6,
      "outputs": [
        {
          "output_type": "stream",
          "name": "stdout",
          "text": [
            "\n"
          ]
        }
      ]
    },
    {
      "cell_type": "markdown",
      "source": [
        "## Human Reference sequence extract"
      ],
      "metadata": {
        "id": "sazjWlI--KHH"
      }
    },
    {
      "cell_type": "code",
      "source": [
        "def human_seq_extract(ref, chr, start, stop):\n",
        "  import random\n",
        "  num1 = random.randint(1, 199)\n",
        "  num2 = 200 -num1\n",
        "  seq_list = []\n",
        "  #hg19 human reference genome\n",
        "  if ref.lower() in ('grch37/hg19','hg19','grch37'):\n",
        "    path = '/content/drive/MyDrive/ACS_Research/VISDB_Data/Human_Reference/hg19/uncompressed/' + chr + '.fa'\n",
        "    genes = Fasta(path)\n",
        "    if start < stop:\n",
        "      seq_list.append(genes[0][start-num1:start].seq)\n",
        "      seq_list.append(genes[0][stop:stop+num2].seq)\n",
        "    else:\n",
        "      seq_list.append(genes[0][start:start+num1].seq)\n",
        "      seq_list.append(genes[0][stop-num2:stop].seq)\n",
        "\n",
        "  #hg38 human reference\n",
        "  elif ref.lower() in ('hg38'):\n",
        "    path = '/content/drive/MyDrive/ACS_Research/VISDB_Data/Human_Reference/hg38/uncompressed/' + chr + '.fa'\n",
        "    genes = Fasta(path)\n",
        "    if start < stop:\n",
        "      seq_list.append(genes[0][start-num1:start].seq)\n",
        "      seq_list.append(genes[0][stop:stop+num2].seq)\n",
        "    else:\n",
        "      seq_list.append(genes[0][start:start+num1].seq)\n",
        "      seq_list.append(genes[0][stop-num2:stop].seq)\n",
        "\n",
        "  #All other references\n",
        "  else:\n",
        "    #hg38\n",
        "    path = '/content/drive/MyDrive/ACS_Research/VISDB_Data/Human_Reference/'+ref + '/' + chr + '.fasta'\n",
        "    genes = Fasta(path)\n",
        "    if start < stop:\n",
        "      seq_list.append(genes[0][start-num1:start].seq)\n",
        "      seq_list.append(genes[0][stop:stop+num2].seq)\n",
        "    else:\n",
        "      seq_list.append(genes[0][start:start+num1].seq)\n",
        "      seq_list.append(genes[0][stop-num2:stop].seq)\n",
        "  return seq_list"
      ],
      "metadata": {
        "id": "dZZAzNYG-R38"
      },
      "execution_count": 35,
      "outputs": []
    },
    {
      "cell_type": "code",
      "source": [
        "#testing\n",
        "print(human_seq_extract('hg19', 'chr1', 1000, 1200))"
      ],
      "metadata": {
        "id": "OyqDBoCrTN0d",
        "outputId": "44270245-8030-46c3-cf3f-870d61287b32",
        "colab": {
          "base_uri": "https://localhost:8080/"
        }
      },
      "execution_count": 23,
      "outputs": [
        {
          "output_type": "stream",
          "name": "stdout",
          "text": [
            "186 14\n",
            "['NNNNNNNNNNNNNNNNNNNNNNNNNNNNNNNNNNNNNNNNNNNNNNNNNNNNNNNNNNNNNNNNNNNNNNNNNNNNNNNNNNNNNNNNNNNNNNNNNNNNNNNNNNNNNNNNNNNNNNNNNNNNNNNNNNNNNNNNNNNNNNNNNNNNNNNNNNNNNNNNNNNNNNNNNNNNNNNNNNNNNNNNNN', 'NNNNNNNNNNNNNN']\n"
          ]
        }
      ]
    },
    {
      "cell_type": "code",
      "source": [
        "#testing\n",
        "#print(human_seq_extract('AL360074', 'chr1', 100, 200))"
      ],
      "metadata": {
        "id": "mwtkxTvc2Agi"
      },
      "execution_count": 9,
      "outputs": []
    },
    {
      "cell_type": "markdown",
      "source": [
        "##Lowercases all column names and replaces spaces with underscores"
      ],
      "metadata": {
        "id": "R9tEXVbbEMT-"
      }
    },
    {
      "cell_type": "code",
      "source": [
        "def lower_case_and_underscore(df):\n",
        "  \"\"\"Lowercases all column names and replaces spaces with underscores.\"\"\"\n",
        "  new_columns = [col.lower().replace(' ', '_') for col in df.columns]\n",
        "  df.columns = new_columns\n",
        "  return df"
      ],
      "metadata": {
        "id": "H64rswrjBB5n"
      },
      "execution_count": 24,
      "outputs": []
    },
    {
      "cell_type": "markdown",
      "source": [
        "# **HBV**"
      ],
      "metadata": {
        "id": "GLSO4ccB77rj"
      }
    },
    {
      "cell_type": "markdown",
      "source": [
        "### Load Data"
      ],
      "metadata": {
        "id": "J6NVK_fAA66R"
      }
    },
    {
      "cell_type": "code",
      "source": [
        "#load xslx\n",
        "hbv_df = pd.read_excel('HBV_VIS.xlsx')\n",
        "hbv_df.head()"
      ],
      "metadata": {
        "colab": {
          "base_uri": "https://localhost:8080/",
          "height": 414
        },
        "id": "E28mDMEfAFI2",
        "outputId": "257236e4-58a8-4bb6-ceb5-e590fdad80a0"
      },
      "execution_count": 25,
      "outputs": [
        {
          "output_type": "execute_result",
          "data": {
            "text/plain": [
              "  Virus Virus subtype Reference virus genome  Begin breakpoint  \\\n",
              "0   HBV           NaN             FJ562281.1            1782.0   \n",
              "1   HBV           NaN             GQ377546.1            1820.0   \n",
              "2   HBV           NaN             KC792890.1            1471.0   \n",
              "3   HBV           NaN             FJ622847.1             689.0   \n",
              "4   HBV           NaN             KF166416.1            1807.0   \n",
              "\n",
              "   Stop breakpoint Chromosome  Locus Reference human genome  Begin location  \\\n",
              "0              NaN       chr9  q31.1                 GRCh38     100940295.0   \n",
              "1              NaN       chr9  q31.1                 GRCh38     101030026.0   \n",
              "2              NaN       chr3  p26.3                 GRCh38       2002381.0   \n",
              "3              NaN       chr2    q35                 GRCh38     216281034.0   \n",
              "4              NaN      chr16  q12.1                 GRCh38      51320015.0   \n",
              "\n",
              "   End location Sample                    Disease                     Method  \\\n",
              "0           NaN  Tumor  Hepatocellular  carcinoma  PCR and Sanger sequencing   \n",
              "1           NaN  Tumor  Hepatocellular  carcinoma  PCR and Sanger sequencing   \n",
              "2           NaN  Tumor  Hepatocellular  carcinoma  PCR and Sanger sequencing   \n",
              "3           NaN  Tumor  Hepatocellular  carcinoma  PCR and Sanger sequencing   \n",
              "4           NaN  Tumor  Hepatocellular  carcinoma  PCR and Sanger sequencing   \n",
              "\n",
              "   PubMed ID Target gene  \n",
              "0   30535432      CORO2A  \n",
              "1   30535432         NaN  \n",
              "2   30535432         NaN  \n",
              "3   30535432         NaN  \n",
              "4   30535432         NaN  "
            ],
            "text/html": [
              "\n",
              "  <div id=\"df-771042a2-3a06-40d4-9d40-8c90c0d9f818\" class=\"colab-df-container\">\n",
              "    <div>\n",
              "<style scoped>\n",
              "    .dataframe tbody tr th:only-of-type {\n",
              "        vertical-align: middle;\n",
              "    }\n",
              "\n",
              "    .dataframe tbody tr th {\n",
              "        vertical-align: top;\n",
              "    }\n",
              "\n",
              "    .dataframe thead th {\n",
              "        text-align: right;\n",
              "    }\n",
              "</style>\n",
              "<table border=\"1\" class=\"dataframe\">\n",
              "  <thead>\n",
              "    <tr style=\"text-align: right;\">\n",
              "      <th></th>\n",
              "      <th>Virus</th>\n",
              "      <th>Virus subtype</th>\n",
              "      <th>Reference virus genome</th>\n",
              "      <th>Begin breakpoint</th>\n",
              "      <th>Stop breakpoint</th>\n",
              "      <th>Chromosome</th>\n",
              "      <th>Locus</th>\n",
              "      <th>Reference human genome</th>\n",
              "      <th>Begin location</th>\n",
              "      <th>End location</th>\n",
              "      <th>Sample</th>\n",
              "      <th>Disease</th>\n",
              "      <th>Method</th>\n",
              "      <th>PubMed ID</th>\n",
              "      <th>Target gene</th>\n",
              "    </tr>\n",
              "  </thead>\n",
              "  <tbody>\n",
              "    <tr>\n",
              "      <th>0</th>\n",
              "      <td>HBV</td>\n",
              "      <td>NaN</td>\n",
              "      <td>FJ562281.1</td>\n",
              "      <td>1782.0</td>\n",
              "      <td>NaN</td>\n",
              "      <td>chr9</td>\n",
              "      <td>q31.1</td>\n",
              "      <td>GRCh38</td>\n",
              "      <td>100940295.0</td>\n",
              "      <td>NaN</td>\n",
              "      <td>Tumor</td>\n",
              "      <td>Hepatocellular  carcinoma</td>\n",
              "      <td>PCR and Sanger sequencing</td>\n",
              "      <td>30535432</td>\n",
              "      <td>CORO2A</td>\n",
              "    </tr>\n",
              "    <tr>\n",
              "      <th>1</th>\n",
              "      <td>HBV</td>\n",
              "      <td>NaN</td>\n",
              "      <td>GQ377546.1</td>\n",
              "      <td>1820.0</td>\n",
              "      <td>NaN</td>\n",
              "      <td>chr9</td>\n",
              "      <td>q31.1</td>\n",
              "      <td>GRCh38</td>\n",
              "      <td>101030026.0</td>\n",
              "      <td>NaN</td>\n",
              "      <td>Tumor</td>\n",
              "      <td>Hepatocellular  carcinoma</td>\n",
              "      <td>PCR and Sanger sequencing</td>\n",
              "      <td>30535432</td>\n",
              "      <td>NaN</td>\n",
              "    </tr>\n",
              "    <tr>\n",
              "      <th>2</th>\n",
              "      <td>HBV</td>\n",
              "      <td>NaN</td>\n",
              "      <td>KC792890.1</td>\n",
              "      <td>1471.0</td>\n",
              "      <td>NaN</td>\n",
              "      <td>chr3</td>\n",
              "      <td>p26.3</td>\n",
              "      <td>GRCh38</td>\n",
              "      <td>2002381.0</td>\n",
              "      <td>NaN</td>\n",
              "      <td>Tumor</td>\n",
              "      <td>Hepatocellular  carcinoma</td>\n",
              "      <td>PCR and Sanger sequencing</td>\n",
              "      <td>30535432</td>\n",
              "      <td>NaN</td>\n",
              "    </tr>\n",
              "    <tr>\n",
              "      <th>3</th>\n",
              "      <td>HBV</td>\n",
              "      <td>NaN</td>\n",
              "      <td>FJ622847.1</td>\n",
              "      <td>689.0</td>\n",
              "      <td>NaN</td>\n",
              "      <td>chr2</td>\n",
              "      <td>q35</td>\n",
              "      <td>GRCh38</td>\n",
              "      <td>216281034.0</td>\n",
              "      <td>NaN</td>\n",
              "      <td>Tumor</td>\n",
              "      <td>Hepatocellular  carcinoma</td>\n",
              "      <td>PCR and Sanger sequencing</td>\n",
              "      <td>30535432</td>\n",
              "      <td>NaN</td>\n",
              "    </tr>\n",
              "    <tr>\n",
              "      <th>4</th>\n",
              "      <td>HBV</td>\n",
              "      <td>NaN</td>\n",
              "      <td>KF166416.1</td>\n",
              "      <td>1807.0</td>\n",
              "      <td>NaN</td>\n",
              "      <td>chr16</td>\n",
              "      <td>q12.1</td>\n",
              "      <td>GRCh38</td>\n",
              "      <td>51320015.0</td>\n",
              "      <td>NaN</td>\n",
              "      <td>Tumor</td>\n",
              "      <td>Hepatocellular  carcinoma</td>\n",
              "      <td>PCR and Sanger sequencing</td>\n",
              "      <td>30535432</td>\n",
              "      <td>NaN</td>\n",
              "    </tr>\n",
              "  </tbody>\n",
              "</table>\n",
              "</div>\n",
              "    <div class=\"colab-df-buttons\">\n",
              "\n",
              "  <div class=\"colab-df-container\">\n",
              "    <button class=\"colab-df-convert\" onclick=\"convertToInteractive('df-771042a2-3a06-40d4-9d40-8c90c0d9f818')\"\n",
              "            title=\"Convert this dataframe to an interactive table.\"\n",
              "            style=\"display:none;\">\n",
              "\n",
              "  <svg xmlns=\"http://www.w3.org/2000/svg\" height=\"24px\" viewBox=\"0 -960 960 960\">\n",
              "    <path d=\"M120-120v-720h720v720H120Zm60-500h600v-160H180v160Zm220 220h160v-160H400v160Zm0 220h160v-160H400v160ZM180-400h160v-160H180v160Zm440 0h160v-160H620v160ZM180-180h160v-160H180v160Zm440 0h160v-160H620v160Z\"/>\n",
              "  </svg>\n",
              "    </button>\n",
              "\n",
              "  <style>\n",
              "    .colab-df-container {\n",
              "      display:flex;\n",
              "      gap: 12px;\n",
              "    }\n",
              "\n",
              "    .colab-df-convert {\n",
              "      background-color: #E8F0FE;\n",
              "      border: none;\n",
              "      border-radius: 50%;\n",
              "      cursor: pointer;\n",
              "      display: none;\n",
              "      fill: #1967D2;\n",
              "      height: 32px;\n",
              "      padding: 0 0 0 0;\n",
              "      width: 32px;\n",
              "    }\n",
              "\n",
              "    .colab-df-convert:hover {\n",
              "      background-color: #E2EBFA;\n",
              "      box-shadow: 0px 1px 2px rgba(60, 64, 67, 0.3), 0px 1px 3px 1px rgba(60, 64, 67, 0.15);\n",
              "      fill: #174EA6;\n",
              "    }\n",
              "\n",
              "    .colab-df-buttons div {\n",
              "      margin-bottom: 4px;\n",
              "    }\n",
              "\n",
              "    [theme=dark] .colab-df-convert {\n",
              "      background-color: #3B4455;\n",
              "      fill: #D2E3FC;\n",
              "    }\n",
              "\n",
              "    [theme=dark] .colab-df-convert:hover {\n",
              "      background-color: #434B5C;\n",
              "      box-shadow: 0px 1px 3px 1px rgba(0, 0, 0, 0.15);\n",
              "      filter: drop-shadow(0px 1px 2px rgba(0, 0, 0, 0.3));\n",
              "      fill: #FFFFFF;\n",
              "    }\n",
              "  </style>\n",
              "\n",
              "    <script>\n",
              "      const buttonEl =\n",
              "        document.querySelector('#df-771042a2-3a06-40d4-9d40-8c90c0d9f818 button.colab-df-convert');\n",
              "      buttonEl.style.display =\n",
              "        google.colab.kernel.accessAllowed ? 'block' : 'none';\n",
              "\n",
              "      async function convertToInteractive(key) {\n",
              "        const element = document.querySelector('#df-771042a2-3a06-40d4-9d40-8c90c0d9f818');\n",
              "        const dataTable =\n",
              "          await google.colab.kernel.invokeFunction('convertToInteractive',\n",
              "                                                    [key], {});\n",
              "        if (!dataTable) return;\n",
              "\n",
              "        const docLinkHtml = 'Like what you see? Visit the ' +\n",
              "          '<a target=\"_blank\" href=https://colab.research.google.com/notebooks/data_table.ipynb>data table notebook</a>'\n",
              "          + ' to learn more about interactive tables.';\n",
              "        element.innerHTML = '';\n",
              "        dataTable['output_type'] = 'display_data';\n",
              "        await google.colab.output.renderOutput(dataTable, element);\n",
              "        const docLink = document.createElement('div');\n",
              "        docLink.innerHTML = docLinkHtml;\n",
              "        element.appendChild(docLink);\n",
              "      }\n",
              "    </script>\n",
              "  </div>\n",
              "\n",
              "\n",
              "<div id=\"df-c251fe98-1c54-4d9f-b999-7549e5d764ec\">\n",
              "  <button class=\"colab-df-quickchart\" onclick=\"quickchart('df-c251fe98-1c54-4d9f-b999-7549e5d764ec')\"\n",
              "            title=\"Suggest charts\"\n",
              "            style=\"display:none;\">\n",
              "\n",
              "<svg xmlns=\"http://www.w3.org/2000/svg\" height=\"24px\"viewBox=\"0 0 24 24\"\n",
              "     width=\"24px\">\n",
              "    <g>\n",
              "        <path d=\"M19 3H5c-1.1 0-2 .9-2 2v14c0 1.1.9 2 2 2h14c1.1 0 2-.9 2-2V5c0-1.1-.9-2-2-2zM9 17H7v-7h2v7zm4 0h-2V7h2v10zm4 0h-2v-4h2v4z\"/>\n",
              "    </g>\n",
              "</svg>\n",
              "  </button>\n",
              "\n",
              "<style>\n",
              "  .colab-df-quickchart {\n",
              "      --bg-color: #E8F0FE;\n",
              "      --fill-color: #1967D2;\n",
              "      --hover-bg-color: #E2EBFA;\n",
              "      --hover-fill-color: #174EA6;\n",
              "      --disabled-fill-color: #AAA;\n",
              "      --disabled-bg-color: #DDD;\n",
              "  }\n",
              "\n",
              "  [theme=dark] .colab-df-quickchart {\n",
              "      --bg-color: #3B4455;\n",
              "      --fill-color: #D2E3FC;\n",
              "      --hover-bg-color: #434B5C;\n",
              "      --hover-fill-color: #FFFFFF;\n",
              "      --disabled-bg-color: #3B4455;\n",
              "      --disabled-fill-color: #666;\n",
              "  }\n",
              "\n",
              "  .colab-df-quickchart {\n",
              "    background-color: var(--bg-color);\n",
              "    border: none;\n",
              "    border-radius: 50%;\n",
              "    cursor: pointer;\n",
              "    display: none;\n",
              "    fill: var(--fill-color);\n",
              "    height: 32px;\n",
              "    padding: 0;\n",
              "    width: 32px;\n",
              "  }\n",
              "\n",
              "  .colab-df-quickchart:hover {\n",
              "    background-color: var(--hover-bg-color);\n",
              "    box-shadow: 0 1px 2px rgba(60, 64, 67, 0.3), 0 1px 3px 1px rgba(60, 64, 67, 0.15);\n",
              "    fill: var(--button-hover-fill-color);\n",
              "  }\n",
              "\n",
              "  .colab-df-quickchart-complete:disabled,\n",
              "  .colab-df-quickchart-complete:disabled:hover {\n",
              "    background-color: var(--disabled-bg-color);\n",
              "    fill: var(--disabled-fill-color);\n",
              "    box-shadow: none;\n",
              "  }\n",
              "\n",
              "  .colab-df-spinner {\n",
              "    border: 2px solid var(--fill-color);\n",
              "    border-color: transparent;\n",
              "    border-bottom-color: var(--fill-color);\n",
              "    animation:\n",
              "      spin 1s steps(1) infinite;\n",
              "  }\n",
              "\n",
              "  @keyframes spin {\n",
              "    0% {\n",
              "      border-color: transparent;\n",
              "      border-bottom-color: var(--fill-color);\n",
              "      border-left-color: var(--fill-color);\n",
              "    }\n",
              "    20% {\n",
              "      border-color: transparent;\n",
              "      border-left-color: var(--fill-color);\n",
              "      border-top-color: var(--fill-color);\n",
              "    }\n",
              "    30% {\n",
              "      border-color: transparent;\n",
              "      border-left-color: var(--fill-color);\n",
              "      border-top-color: var(--fill-color);\n",
              "      border-right-color: var(--fill-color);\n",
              "    }\n",
              "    40% {\n",
              "      border-color: transparent;\n",
              "      border-right-color: var(--fill-color);\n",
              "      border-top-color: var(--fill-color);\n",
              "    }\n",
              "    60% {\n",
              "      border-color: transparent;\n",
              "      border-right-color: var(--fill-color);\n",
              "    }\n",
              "    80% {\n",
              "      border-color: transparent;\n",
              "      border-right-color: var(--fill-color);\n",
              "      border-bottom-color: var(--fill-color);\n",
              "    }\n",
              "    90% {\n",
              "      border-color: transparent;\n",
              "      border-bottom-color: var(--fill-color);\n",
              "    }\n",
              "  }\n",
              "</style>\n",
              "\n",
              "  <script>\n",
              "    async function quickchart(key) {\n",
              "      const quickchartButtonEl =\n",
              "        document.querySelector('#' + key + ' button');\n",
              "      quickchartButtonEl.disabled = true;  // To prevent multiple clicks.\n",
              "      quickchartButtonEl.classList.add('colab-df-spinner');\n",
              "      try {\n",
              "        const charts = await google.colab.kernel.invokeFunction(\n",
              "            'suggestCharts', [key], {});\n",
              "      } catch (error) {\n",
              "        console.error('Error during call to suggestCharts:', error);\n",
              "      }\n",
              "      quickchartButtonEl.classList.remove('colab-df-spinner');\n",
              "      quickchartButtonEl.classList.add('colab-df-quickchart-complete');\n",
              "    }\n",
              "    (() => {\n",
              "      let quickchartButtonEl =\n",
              "        document.querySelector('#df-c251fe98-1c54-4d9f-b999-7549e5d764ec button');\n",
              "      quickchartButtonEl.style.display =\n",
              "        google.colab.kernel.accessAllowed ? 'block' : 'none';\n",
              "    })();\n",
              "  </script>\n",
              "</div>\n",
              "\n",
              "    </div>\n",
              "  </div>\n"
            ],
            "application/vnd.google.colaboratory.intrinsic+json": {
              "type": "dataframe",
              "variable_name": "hbv_df",
              "summary": "{\n  \"name\": \"hbv_df\",\n  \"rows\": 20588,\n  \"fields\": [\n    {\n      \"column\": \"Virus\",\n      \"properties\": {\n        \"dtype\": \"category\",\n        \"num_unique_values\": 1,\n        \"samples\": [\n          \"HBV\"\n        ],\n        \"semantic_type\": \"\",\n        \"description\": \"\"\n      }\n    },\n    {\n      \"column\": \"Virus subtype\",\n      \"properties\": {\n        \"dtype\": \"category\",\n        \"num_unique_values\": 6,\n        \"samples\": [\n          \"B2\"\n        ],\n        \"semantic_type\": \"\",\n        \"description\": \"\"\n      }\n    },\n    {\n      \"column\": \"Reference virus genome\",\n      \"properties\": {\n        \"dtype\": \"category\",\n        \"num_unique_values\": 40,\n        \"samples\": [\n          \" V01460.1\"\n        ],\n        \"semantic_type\": \"\",\n        \"description\": \"\"\n      }\n    },\n    {\n      \"column\": \"Begin breakpoint\",\n      \"properties\": {\n        \"dtype\": \"number\",\n        \"std\": 210338.7192678196,\n        \"min\": 1.0,\n        \"max\": 18003056.0,\n        \"num_unique_values\": 2693,\n        \"samples\": [\n          3218.0\n        ],\n        \"semantic_type\": \"\",\n        \"description\": \"\"\n      }\n    },\n    {\n      \"column\": \"Stop breakpoint\",\n      \"properties\": {\n        \"dtype\": \"number\",\n        \"std\": 654.6863577028345,\n        \"min\": 31.0,\n        \"max\": 3646.0,\n        \"num_unique_values\": 1046,\n        \"samples\": [\n          1206.0\n        ],\n        \"semantic_type\": \"\",\n        \"description\": \"\"\n      }\n    },\n    {\n      \"column\": \"Chromosome\",\n      \"properties\": {\n        \"dtype\": \"category\",\n        \"num_unique_values\": 56,\n        \"samples\": [\n          \"chr9\"\n        ],\n        \"semantic_type\": \"\",\n        \"description\": \"\"\n      }\n    },\n    {\n      \"column\": \"Locus\",\n      \"properties\": {\n        \"dtype\": \"category\",\n        \"num_unique_values\": 187,\n        \"samples\": [\n          \"p16\"\n        ],\n        \"semantic_type\": \"\",\n        \"description\": \"\"\n      }\n    },\n    {\n      \"column\": \"Reference human genome\",\n      \"properties\": {\n        \"dtype\": \"category\",\n        \"num_unique_values\": 27,\n        \"samples\": [\n          \"Feb_2009 build\"\n        ],\n        \"semantic_type\": \"\",\n        \"description\": \"\"\n      }\n    },\n    {\n      \"column\": \"Begin location\",\n      \"properties\": {\n        \"dtype\": \"number\",\n        \"std\": 61091376.55399811,\n        \"min\": 54.0,\n        \"max\": 2000084860.0,\n        \"num_unique_values\": 18445,\n        \"samples\": [\n          54182535.0\n        ],\n        \"semantic_type\": \"\",\n        \"description\": \"\"\n      }\n    },\n    {\n      \"column\": \"End location\",\n      \"properties\": {\n        \"dtype\": \"number\",\n        \"std\": 60794458.37028902,\n        \"min\": 27.0,\n        \"max\": 249241007.0,\n        \"num_unique_values\": 2008,\n        \"samples\": [\n          129392031.0\n        ],\n        \"semantic_type\": \"\",\n        \"description\": \"\"\n      }\n    },\n    {\n      \"column\": \"Sample\",\n      \"properties\": {\n        \"dtype\": \"category\",\n        \"num_unique_values\": 12,\n        \"samples\": [\n          \"Cell line\"\n        ],\n        \"semantic_type\": \"\",\n        \"description\": \"\"\n      }\n    },\n    {\n      \"column\": \"Disease\",\n      \"properties\": {\n        \"dtype\": \"category\",\n        \"num_unique_values\": 2,\n        \"samples\": [\n          \" Chronic HBV (CHB) infection\"\n        ],\n        \"semantic_type\": \"\",\n        \"description\": \"\"\n      }\n    },\n    {\n      \"column\": \"Method\",\n      \"properties\": {\n        \"dtype\": \"category\",\n        \"num_unique_values\": 22,\n        \"samples\": [\n          \"PCR and Sanger sequencing\"\n        ],\n        \"semantic_type\": \"\",\n        \"description\": \"\"\n      }\n    },\n    {\n      \"column\": \"PubMed ID\",\n      \"properties\": {\n        \"dtype\": \"number\",\n        \"std\": 2664585,\n        \"min\": 11593432,\n        \"max\": 30535432,\n        \"num_unique_values\": 45,\n        \"samples\": [\n          14712219\n        ],\n        \"semantic_type\": \"\",\n        \"description\": \"\"\n      }\n    },\n    {\n      \"column\": \"Target gene\",\n      \"properties\": {\n        \"dtype\": \"category\",\n        \"num_unique_values\": 3942,\n        \"samples\": [\n          \"RAI1\"\n        ],\n        \"semantic_type\": \"\",\n        \"description\": \"\"\n      }\n    }\n  ]\n}"
            }
          },
          "metadata": {},
          "execution_count": 25
        }
      ]
    },
    {
      "cell_type": "markdown",
      "source": [
        "## Data Cleaning"
      ],
      "metadata": {
        "id": "lsIU_RuFA-76"
      }
    },
    {
      "cell_type": "code",
      "source": [
        "#make all values lowercase\n",
        "hbv_df = lower_case_and_underscore(hbv_df)"
      ],
      "metadata": {
        "id": "PY9fYTgGAkfy"
      },
      "execution_count": 26,
      "outputs": []
    },
    {
      "cell_type": "code",
      "source": [
        "#filter out rows where begin_breakpoint or stop breakpoint  and also begin and end location are NA\n",
        "hbv_df = hbv_df.dropna(subset=['begin_breakpoint', 'stop_breakpoint', 'begin_location', 'end_location', 'reference_virus_genome'], how='any')\n",
        "hbv_df.head()"
      ],
      "metadata": {
        "colab": {
          "base_uri": "https://localhost:8080/",
          "height": 313
        },
        "id": "nnRB-Q5MBLx0",
        "outputId": "360bb002-2d02-4616-9785-e8e225804887"
      },
      "execution_count": 27,
      "outputs": [
        {
          "output_type": "execute_result",
          "data": {
            "text/plain": [
              "    virus virus_subtype reference_virus_genome  begin_breakpoint  \\\n",
              "346   HBV           NaN               X70185.1            1720.0   \n",
              "347   HBV           NaN               X70185.1            1246.0   \n",
              "348   HBV           NaN               X70185.1            1603.0   \n",
              "349   HBV           NaN               X70185.1            1623.0   \n",
              "350   HBV           NaN               X70185.1            1638.0   \n",
              "\n",
              "     stop_breakpoint chromosome  locus reference_human_genome  begin_location  \\\n",
              "346           1603.0       chr1  q21.1            GRCh37/hg19           420.0   \n",
              "347           1390.0       chr1  p21.3            GRCh37/hg19      97732036.0   \n",
              "348           1664.0       chr1  q31.3            GRCh37/hg19     194161891.0   \n",
              "349           1717.0       chr2  q31.1            GRCh37/hg19     171450967.0   \n",
              "350           1717.0       chr2  q31.1            GRCh37/hg19     171450967.0   \n",
              "\n",
              "     end_location sample                    disease      method  pubmed_id  \\\n",
              "346         437.0   cell  Hepatocellular  carcinoma  invPCR+NAH   28414318   \n",
              "347    97732056.0   cell  Hepatocellular  carcinoma  invPCR+NAH   28414318   \n",
              "348   194161910.0   cell  Hepatocellular  carcinoma  invPCR+NAH   28414318   \n",
              "349   171450816.0   cell  Hepatocellular  carcinoma  invPCR+NAH   28414318   \n",
              "350   171450816.0   cell  Hepatocellular  carcinoma  invPCR+NAH   28414318   \n",
              "\n",
              "    target_gene  \n",
              "346      ANP32E  \n",
              "347        DPYD  \n",
              "348         NaN  \n",
              "349       MYO3B  \n",
              "350       MYO3B  "
            ],
            "text/html": [
              "\n",
              "  <div id=\"df-472aef3a-7043-4d63-816b-7e9dd65ddd0b\" class=\"colab-df-container\">\n",
              "    <div>\n",
              "<style scoped>\n",
              "    .dataframe tbody tr th:only-of-type {\n",
              "        vertical-align: middle;\n",
              "    }\n",
              "\n",
              "    .dataframe tbody tr th {\n",
              "        vertical-align: top;\n",
              "    }\n",
              "\n",
              "    .dataframe thead th {\n",
              "        text-align: right;\n",
              "    }\n",
              "</style>\n",
              "<table border=\"1\" class=\"dataframe\">\n",
              "  <thead>\n",
              "    <tr style=\"text-align: right;\">\n",
              "      <th></th>\n",
              "      <th>virus</th>\n",
              "      <th>virus_subtype</th>\n",
              "      <th>reference_virus_genome</th>\n",
              "      <th>begin_breakpoint</th>\n",
              "      <th>stop_breakpoint</th>\n",
              "      <th>chromosome</th>\n",
              "      <th>locus</th>\n",
              "      <th>reference_human_genome</th>\n",
              "      <th>begin_location</th>\n",
              "      <th>end_location</th>\n",
              "      <th>sample</th>\n",
              "      <th>disease</th>\n",
              "      <th>method</th>\n",
              "      <th>pubmed_id</th>\n",
              "      <th>target_gene</th>\n",
              "    </tr>\n",
              "  </thead>\n",
              "  <tbody>\n",
              "    <tr>\n",
              "      <th>346</th>\n",
              "      <td>HBV</td>\n",
              "      <td>NaN</td>\n",
              "      <td>X70185.1</td>\n",
              "      <td>1720.0</td>\n",
              "      <td>1603.0</td>\n",
              "      <td>chr1</td>\n",
              "      <td>q21.1</td>\n",
              "      <td>GRCh37/hg19</td>\n",
              "      <td>420.0</td>\n",
              "      <td>437.0</td>\n",
              "      <td>cell</td>\n",
              "      <td>Hepatocellular  carcinoma</td>\n",
              "      <td>invPCR+NAH</td>\n",
              "      <td>28414318</td>\n",
              "      <td>ANP32E</td>\n",
              "    </tr>\n",
              "    <tr>\n",
              "      <th>347</th>\n",
              "      <td>HBV</td>\n",
              "      <td>NaN</td>\n",
              "      <td>X70185.1</td>\n",
              "      <td>1246.0</td>\n",
              "      <td>1390.0</td>\n",
              "      <td>chr1</td>\n",
              "      <td>p21.3</td>\n",
              "      <td>GRCh37/hg19</td>\n",
              "      <td>97732036.0</td>\n",
              "      <td>97732056.0</td>\n",
              "      <td>cell</td>\n",
              "      <td>Hepatocellular  carcinoma</td>\n",
              "      <td>invPCR+NAH</td>\n",
              "      <td>28414318</td>\n",
              "      <td>DPYD</td>\n",
              "    </tr>\n",
              "    <tr>\n",
              "      <th>348</th>\n",
              "      <td>HBV</td>\n",
              "      <td>NaN</td>\n",
              "      <td>X70185.1</td>\n",
              "      <td>1603.0</td>\n",
              "      <td>1664.0</td>\n",
              "      <td>chr1</td>\n",
              "      <td>q31.3</td>\n",
              "      <td>GRCh37/hg19</td>\n",
              "      <td>194161891.0</td>\n",
              "      <td>194161910.0</td>\n",
              "      <td>cell</td>\n",
              "      <td>Hepatocellular  carcinoma</td>\n",
              "      <td>invPCR+NAH</td>\n",
              "      <td>28414318</td>\n",
              "      <td>NaN</td>\n",
              "    </tr>\n",
              "    <tr>\n",
              "      <th>349</th>\n",
              "      <td>HBV</td>\n",
              "      <td>NaN</td>\n",
              "      <td>X70185.1</td>\n",
              "      <td>1623.0</td>\n",
              "      <td>1717.0</td>\n",
              "      <td>chr2</td>\n",
              "      <td>q31.1</td>\n",
              "      <td>GRCh37/hg19</td>\n",
              "      <td>171450967.0</td>\n",
              "      <td>171450816.0</td>\n",
              "      <td>cell</td>\n",
              "      <td>Hepatocellular  carcinoma</td>\n",
              "      <td>invPCR+NAH</td>\n",
              "      <td>28414318</td>\n",
              "      <td>MYO3B</td>\n",
              "    </tr>\n",
              "    <tr>\n",
              "      <th>350</th>\n",
              "      <td>HBV</td>\n",
              "      <td>NaN</td>\n",
              "      <td>X70185.1</td>\n",
              "      <td>1638.0</td>\n",
              "      <td>1717.0</td>\n",
              "      <td>chr2</td>\n",
              "      <td>q31.1</td>\n",
              "      <td>GRCh37/hg19</td>\n",
              "      <td>171450967.0</td>\n",
              "      <td>171450816.0</td>\n",
              "      <td>cell</td>\n",
              "      <td>Hepatocellular  carcinoma</td>\n",
              "      <td>invPCR+NAH</td>\n",
              "      <td>28414318</td>\n",
              "      <td>MYO3B</td>\n",
              "    </tr>\n",
              "  </tbody>\n",
              "</table>\n",
              "</div>\n",
              "    <div class=\"colab-df-buttons\">\n",
              "\n",
              "  <div class=\"colab-df-container\">\n",
              "    <button class=\"colab-df-convert\" onclick=\"convertToInteractive('df-472aef3a-7043-4d63-816b-7e9dd65ddd0b')\"\n",
              "            title=\"Convert this dataframe to an interactive table.\"\n",
              "            style=\"display:none;\">\n",
              "\n",
              "  <svg xmlns=\"http://www.w3.org/2000/svg\" height=\"24px\" viewBox=\"0 -960 960 960\">\n",
              "    <path d=\"M120-120v-720h720v720H120Zm60-500h600v-160H180v160Zm220 220h160v-160H400v160Zm0 220h160v-160H400v160ZM180-400h160v-160H180v160Zm440 0h160v-160H620v160ZM180-180h160v-160H180v160Zm440 0h160v-160H620v160Z\"/>\n",
              "  </svg>\n",
              "    </button>\n",
              "\n",
              "  <style>\n",
              "    .colab-df-container {\n",
              "      display:flex;\n",
              "      gap: 12px;\n",
              "    }\n",
              "\n",
              "    .colab-df-convert {\n",
              "      background-color: #E8F0FE;\n",
              "      border: none;\n",
              "      border-radius: 50%;\n",
              "      cursor: pointer;\n",
              "      display: none;\n",
              "      fill: #1967D2;\n",
              "      height: 32px;\n",
              "      padding: 0 0 0 0;\n",
              "      width: 32px;\n",
              "    }\n",
              "\n",
              "    .colab-df-convert:hover {\n",
              "      background-color: #E2EBFA;\n",
              "      box-shadow: 0px 1px 2px rgba(60, 64, 67, 0.3), 0px 1px 3px 1px rgba(60, 64, 67, 0.15);\n",
              "      fill: #174EA6;\n",
              "    }\n",
              "\n",
              "    .colab-df-buttons div {\n",
              "      margin-bottom: 4px;\n",
              "    }\n",
              "\n",
              "    [theme=dark] .colab-df-convert {\n",
              "      background-color: #3B4455;\n",
              "      fill: #D2E3FC;\n",
              "    }\n",
              "\n",
              "    [theme=dark] .colab-df-convert:hover {\n",
              "      background-color: #434B5C;\n",
              "      box-shadow: 0px 1px 3px 1px rgba(0, 0, 0, 0.15);\n",
              "      filter: drop-shadow(0px 1px 2px rgba(0, 0, 0, 0.3));\n",
              "      fill: #FFFFFF;\n",
              "    }\n",
              "  </style>\n",
              "\n",
              "    <script>\n",
              "      const buttonEl =\n",
              "        document.querySelector('#df-472aef3a-7043-4d63-816b-7e9dd65ddd0b button.colab-df-convert');\n",
              "      buttonEl.style.display =\n",
              "        google.colab.kernel.accessAllowed ? 'block' : 'none';\n",
              "\n",
              "      async function convertToInteractive(key) {\n",
              "        const element = document.querySelector('#df-472aef3a-7043-4d63-816b-7e9dd65ddd0b');\n",
              "        const dataTable =\n",
              "          await google.colab.kernel.invokeFunction('convertToInteractive',\n",
              "                                                    [key], {});\n",
              "        if (!dataTable) return;\n",
              "\n",
              "        const docLinkHtml = 'Like what you see? Visit the ' +\n",
              "          '<a target=\"_blank\" href=https://colab.research.google.com/notebooks/data_table.ipynb>data table notebook</a>'\n",
              "          + ' to learn more about interactive tables.';\n",
              "        element.innerHTML = '';\n",
              "        dataTable['output_type'] = 'display_data';\n",
              "        await google.colab.output.renderOutput(dataTable, element);\n",
              "        const docLink = document.createElement('div');\n",
              "        docLink.innerHTML = docLinkHtml;\n",
              "        element.appendChild(docLink);\n",
              "      }\n",
              "    </script>\n",
              "  </div>\n",
              "\n",
              "\n",
              "<div id=\"df-f7881fea-f474-481d-841d-52a14ec4d519\">\n",
              "  <button class=\"colab-df-quickchart\" onclick=\"quickchart('df-f7881fea-f474-481d-841d-52a14ec4d519')\"\n",
              "            title=\"Suggest charts\"\n",
              "            style=\"display:none;\">\n",
              "\n",
              "<svg xmlns=\"http://www.w3.org/2000/svg\" height=\"24px\"viewBox=\"0 0 24 24\"\n",
              "     width=\"24px\">\n",
              "    <g>\n",
              "        <path d=\"M19 3H5c-1.1 0-2 .9-2 2v14c0 1.1.9 2 2 2h14c1.1 0 2-.9 2-2V5c0-1.1-.9-2-2-2zM9 17H7v-7h2v7zm4 0h-2V7h2v10zm4 0h-2v-4h2v4z\"/>\n",
              "    </g>\n",
              "</svg>\n",
              "  </button>\n",
              "\n",
              "<style>\n",
              "  .colab-df-quickchart {\n",
              "      --bg-color: #E8F0FE;\n",
              "      --fill-color: #1967D2;\n",
              "      --hover-bg-color: #E2EBFA;\n",
              "      --hover-fill-color: #174EA6;\n",
              "      --disabled-fill-color: #AAA;\n",
              "      --disabled-bg-color: #DDD;\n",
              "  }\n",
              "\n",
              "  [theme=dark] .colab-df-quickchart {\n",
              "      --bg-color: #3B4455;\n",
              "      --fill-color: #D2E3FC;\n",
              "      --hover-bg-color: #434B5C;\n",
              "      --hover-fill-color: #FFFFFF;\n",
              "      --disabled-bg-color: #3B4455;\n",
              "      --disabled-fill-color: #666;\n",
              "  }\n",
              "\n",
              "  .colab-df-quickchart {\n",
              "    background-color: var(--bg-color);\n",
              "    border: none;\n",
              "    border-radius: 50%;\n",
              "    cursor: pointer;\n",
              "    display: none;\n",
              "    fill: var(--fill-color);\n",
              "    height: 32px;\n",
              "    padding: 0;\n",
              "    width: 32px;\n",
              "  }\n",
              "\n",
              "  .colab-df-quickchart:hover {\n",
              "    background-color: var(--hover-bg-color);\n",
              "    box-shadow: 0 1px 2px rgba(60, 64, 67, 0.3), 0 1px 3px 1px rgba(60, 64, 67, 0.15);\n",
              "    fill: var(--button-hover-fill-color);\n",
              "  }\n",
              "\n",
              "  .colab-df-quickchart-complete:disabled,\n",
              "  .colab-df-quickchart-complete:disabled:hover {\n",
              "    background-color: var(--disabled-bg-color);\n",
              "    fill: var(--disabled-fill-color);\n",
              "    box-shadow: none;\n",
              "  }\n",
              "\n",
              "  .colab-df-spinner {\n",
              "    border: 2px solid var(--fill-color);\n",
              "    border-color: transparent;\n",
              "    border-bottom-color: var(--fill-color);\n",
              "    animation:\n",
              "      spin 1s steps(1) infinite;\n",
              "  }\n",
              "\n",
              "  @keyframes spin {\n",
              "    0% {\n",
              "      border-color: transparent;\n",
              "      border-bottom-color: var(--fill-color);\n",
              "      border-left-color: var(--fill-color);\n",
              "    }\n",
              "    20% {\n",
              "      border-color: transparent;\n",
              "      border-left-color: var(--fill-color);\n",
              "      border-top-color: var(--fill-color);\n",
              "    }\n",
              "    30% {\n",
              "      border-color: transparent;\n",
              "      border-left-color: var(--fill-color);\n",
              "      border-top-color: var(--fill-color);\n",
              "      border-right-color: var(--fill-color);\n",
              "    }\n",
              "    40% {\n",
              "      border-color: transparent;\n",
              "      border-right-color: var(--fill-color);\n",
              "      border-top-color: var(--fill-color);\n",
              "    }\n",
              "    60% {\n",
              "      border-color: transparent;\n",
              "      border-right-color: var(--fill-color);\n",
              "    }\n",
              "    80% {\n",
              "      border-color: transparent;\n",
              "      border-right-color: var(--fill-color);\n",
              "      border-bottom-color: var(--fill-color);\n",
              "    }\n",
              "    90% {\n",
              "      border-color: transparent;\n",
              "      border-bottom-color: var(--fill-color);\n",
              "    }\n",
              "  }\n",
              "</style>\n",
              "\n",
              "  <script>\n",
              "    async function quickchart(key) {\n",
              "      const quickchartButtonEl =\n",
              "        document.querySelector('#' + key + ' button');\n",
              "      quickchartButtonEl.disabled = true;  // To prevent multiple clicks.\n",
              "      quickchartButtonEl.classList.add('colab-df-spinner');\n",
              "      try {\n",
              "        const charts = await google.colab.kernel.invokeFunction(\n",
              "            'suggestCharts', [key], {});\n",
              "      } catch (error) {\n",
              "        console.error('Error during call to suggestCharts:', error);\n",
              "      }\n",
              "      quickchartButtonEl.classList.remove('colab-df-spinner');\n",
              "      quickchartButtonEl.classList.add('colab-df-quickchart-complete');\n",
              "    }\n",
              "    (() => {\n",
              "      let quickchartButtonEl =\n",
              "        document.querySelector('#df-f7881fea-f474-481d-841d-52a14ec4d519 button');\n",
              "      quickchartButtonEl.style.display =\n",
              "        google.colab.kernel.accessAllowed ? 'block' : 'none';\n",
              "    })();\n",
              "  </script>\n",
              "</div>\n",
              "\n",
              "    </div>\n",
              "  </div>\n"
            ],
            "application/vnd.google.colaboratory.intrinsic+json": {
              "type": "dataframe",
              "variable_name": "hbv_df",
              "summary": "{\n  \"name\": \"hbv_df\",\n  \"rows\": 1509,\n  \"fields\": [\n    {\n      \"column\": \"virus\",\n      \"properties\": {\n        \"dtype\": \"category\",\n        \"num_unique_values\": 1,\n        \"samples\": [\n          \"HBV\"\n        ],\n        \"semantic_type\": \"\",\n        \"description\": \"\"\n      }\n    },\n    {\n      \"column\": \"virus_subtype\",\n      \"properties\": {\n        \"dtype\": \"category\",\n        \"num_unique_values\": 3,\n        \"samples\": [\n          \"C\"\n        ],\n        \"semantic_type\": \"\",\n        \"description\": \"\"\n      }\n    },\n    {\n      \"column\": \"reference_virus_genome\",\n      \"properties\": {\n        \"dtype\": \"category\",\n        \"num_unique_values\": 11,\n        \"samples\": [\n          \"AY033073.1\"\n        ],\n        \"semantic_type\": \"\",\n        \"description\": \"\"\n      }\n    },\n    {\n      \"column\": \"begin_breakpoint\",\n      \"properties\": {\n        \"dtype\": \"number\",\n        \"std\": 751.759081783155,\n        \"min\": 1.0,\n        \"max\": 3210.0,\n        \"num_unique_values\": 864,\n        \"samples\": [\n          1470.0\n        ],\n        \"semantic_type\": \"\",\n        \"description\": \"\"\n      }\n    },\n    {\n      \"column\": \"stop_breakpoint\",\n      \"properties\": {\n        \"dtype\": \"number\",\n        \"std\": 726.2967002344485,\n        \"min\": 31.0,\n        \"max\": 3646.0,\n        \"num_unique_values\": 859,\n        \"samples\": [\n          1597.0\n        ],\n        \"semantic_type\": \"\",\n        \"description\": \"\"\n      }\n    },\n    {\n      \"column\": \"chromosome\",\n      \"properties\": {\n        \"dtype\": \"category\",\n        \"num_unique_values\": 31,\n        \"samples\": [\n          \"GL000237.1\"\n        ],\n        \"semantic_type\": \"\",\n        \"description\": \"\"\n      }\n    },\n    {\n      \"column\": \"locus\",\n      \"properties\": {\n        \"dtype\": \"category\",\n        \"num_unique_values\": 30,\n        \"samples\": [\n          \"p\"\n        ],\n        \"semantic_type\": \"\",\n        \"description\": \"\"\n      }\n    },\n    {\n      \"column\": \"reference_human_genome\",\n      \"properties\": {\n        \"dtype\": \"category\",\n        \"num_unique_values\": 11,\n        \"samples\": [\n          \"U96773\"\n        ],\n        \"semantic_type\": \"\",\n        \"description\": \"\"\n      }\n    },\n    {\n      \"column\": \"begin_location\",\n      \"properties\": {\n        \"dtype\": \"number\",\n        \"std\": 77493193.55510998,\n        \"min\": 54.0,\n        \"max\": 2000084860.0,\n        \"num_unique_values\": 1457,\n        \"samples\": [\n          36212916.0\n        ],\n        \"semantic_type\": \"\",\n        \"description\": \"\"\n      }\n    },\n    {\n      \"column\": \"end_location\",\n      \"properties\": {\n        \"dtype\": \"number\",\n        \"std\": 59638565.721075185,\n        \"min\": 27.0,\n        \"max\": 249241007.0,\n        \"num_unique_values\": 1475,\n        \"samples\": [\n          139027412.0\n        ],\n        \"semantic_type\": \"\",\n        \"description\": \"\"\n      }\n    },\n    {\n      \"column\": \"sample\",\n      \"properties\": {\n        \"dtype\": \"category\",\n        \"num_unique_values\": 5,\n        \"samples\": [\n          \"Tumor\"\n        ],\n        \"semantic_type\": \"\",\n        \"description\": \"\"\n      }\n    },\n    {\n      \"column\": \"disease\",\n      \"properties\": {\n        \"dtype\": \"category\",\n        \"num_unique_values\": 1,\n        \"samples\": [\n          \"Hepatocellular  carcinoma\"\n        ],\n        \"semantic_type\": \"\",\n        \"description\": \"\"\n      }\n    },\n    {\n      \"column\": \"method\",\n      \"properties\": {\n        \"dtype\": \"category\",\n        \"num_unique_values\": 9,\n        \"samples\": [\n          \"RT-PCR+Long-range PCR\"\n        ],\n        \"semantic_type\": \"\",\n        \"description\": \"\"\n      }\n    },\n    {\n      \"column\": \"pubmed_id\",\n      \"properties\": {\n        \"dtype\": \"number\",\n        \"std\": 3240855,\n        \"min\": 11593432,\n        \"max\": 30531861,\n        \"num_unique_values\": 12,\n        \"samples\": [\n          12802289\n        ],\n        \"semantic_type\": \"\",\n        \"description\": \"\"\n      }\n    },\n    {\n      \"column\": \"target_gene\",\n      \"properties\": {\n        \"dtype\": \"category\",\n        \"num_unique_values\": 223,\n        \"samples\": [\n          \"TET1\"\n        ],\n        \"semantic_type\": \"\",\n        \"description\": \"\"\n      }\n    }\n  ]\n}"
            }
          },
          "metadata": {},
          "execution_count": 27
        }
      ]
    },
    {
      "cell_type": "code",
      "source": [
        "# Filter for 'GRCh37/hg19', 'hg19', or 'GRCh37' in the 'reference_human_genome' column (case-insensitive)\n",
        "hbv_df = hbv_df[hbv_df['reference_human_genome'].str.lower().isin(['grch37/hg19', 'hg19', 'grch37'])]\n",
        "hbv_df['reference_human_genome'].unique()\n"
      ],
      "metadata": {
        "colab": {
          "base_uri": "https://localhost:8080/"
        },
        "id": "WERBhR4S2u51",
        "outputId": "18ee0d68-c694-4185-8ee3-01ce408766aa"
      },
      "execution_count": 28,
      "outputs": [
        {
          "output_type": "execute_result",
          "data": {
            "text/plain": [
              "array(['GRCh37/hg19', 'GRCh37'], dtype=object)"
            ]
          },
          "metadata": {},
          "execution_count": 28
        }
      ]
    },
    {
      "cell_type": "markdown",
      "source": [
        "## Data Visualization"
      ],
      "metadata": {
        "id": "6a4XaUca4GFV"
      }
    },
    {
      "cell_type": "code",
      "source": [
        "import natsort\n",
        "chromosome_counts = hbv_df.sort_values(by='chromosome')['chromosome'].value_counts()\n",
        "chromosome_counts = chromosome_counts.reindex(natsort.natsorted(chromosome_counts.index))"
      ],
      "metadata": {
        "id": "1h9K38G0im0Y"
      },
      "execution_count": 29,
      "outputs": []
    },
    {
      "cell_type": "code",
      "source": [
        "# Create the bar plot\n",
        "plt.figure(figsize=(12, 6))\n",
        "sns.barplot(x=chromosome_counts.index, y=chromosome_counts.values, color='#6b173b')\n",
        "plt.xlabel('Chromosome')\n",
        "plt.ylabel('Count')\n",
        "plt.title('HBV Integration Sites per Chromosome')\n",
        "plt.xticks(rotation=45, ha='right')  # Rotate x-axis labels for better readability\n",
        "plt.tight_layout()\n",
        "plt.show()\n"
      ],
      "metadata": {
        "colab": {
          "base_uri": "https://localhost:8080/",
          "height": 607
        },
        "id": "EKtq9jb83Ao4",
        "outputId": "d68d0b3b-ee13-4f52-aa87-2a1533ea1198"
      },
      "execution_count": 30,
      "outputs": [
        {
          "output_type": "display_data",
          "data": {
            "text/plain": [
              "<Figure size 1200x600 with 1 Axes>"
            ],
            "image/png": "[encoded data removed]"
          },
          "metadata": {}
        }
      ]
    },
    {
      "cell_type": "markdown",
      "source": [
        "## Data Extraction"
      ],
      "metadata": {
        "id": "YWBjwZNPGHi1"
      }
    },
    {
      "cell_type": "code",
      "source": [
        "#loop through data\n",
        "seq_list =[]\n",
        "for ind, row in hbv_df.iterrows():\n",
        "    try:\n",
        "      virus_name = row['virus']\n",
        "      virus_ref = row['reference_virus_genome']\n",
        "      hum_ref = row['reference_human_genome']\n",
        "      chrom = row['chromosome']\n",
        "      begin_ref = int(row['begin_location'])\n",
        "      stop_ref = int(row['end_location'])\n",
        "      human_seq = human_seq_extract(hum_ref, chrom, begin_ref, stop_ref )\n",
        "      viral_seq = virus_seq_extract(virus_name, virus_ref, int(row['begin_breakpoint']), int(row['stop_breakpoint']))\n",
        "      spliced_seq = human_seq[0] + viral_seq + human_seq[1]\n",
        "      seq_list.append([virus_name, virus_ref, hum_ref, spliced_seq, viral_seq, human_seq[0], human_seq[1]])\n",
        "\n",
        "    except:\n",
        "      print(f\"Virus Name:{virus_name}  Virus Reference: {virus_ref} \\n Human Reference: {hum_ref} , Chromosome: {chrom} , Begin Location:{begin_ref} , End Location:{stop_ref} \")\n",
        "      pass\n",
        "\n",
        "\n"
      ],
      "metadata": {
        "id": "vUpW4sGwF-eB",
        "colab": {
          "base_uri": "https://localhost:8080/"
        },
        "outputId": "b30611d1-e792-47dc-b335-49744d78f1c1",
        "collapsed": true
      },
      "execution_count": 36,
      "outputs": [
        {
          "output_type": "stream",
          "name": "stderr",
          "text": [
            "Exception ignored in: <function Faidx.__del__ at 0x7e5cd6765260>\n",
            "Traceback (most recent call last):\n",
            "  File \"/usr/local/lib/python3.11/dist-packages/pyfaidx/__init__.py\", line 883, in __del__\n",
            "    self.__exit__()\n",
            "  File \"/usr/local/lib/python3.11/dist-packages/pyfaidx/__init__.py\", line 889, in __exit__\n",
            "    self.file.close()\n",
            "    ^^^^^^^^^\n",
            "AttributeError: 'Faidx' object has no attribute 'file'\n"
          ]
        },
        {
          "output_type": "stream",
          "name": "stdout",
          "text": [
            "Virus Name:HBV  Virus Reference: NC_003977 \n",
            " Human Reference: GRCh37 , Chromosome: chrMT , Begin Location:8932 , End Location:9044 \n",
            "Virus Name:HBV  Virus Reference: X0276 \n",
            " Human Reference: GRCh37/hg19 , Chromosome: chr4 , Begin Location:122742792 , End Location:122742755 \n",
            "Virus Name:HBV  Virus Reference: X0276 \n",
            " Human Reference: GRCh37/hg19 , Chromosome: chr19 , Begin Location:30291247 , End Location:30291287 \n"
          ]
        },
        {
          "output_type": "stream",
          "name": "stderr",
          "text": [
            "Exception ignored in: <function Faidx.__del__ at 0x7e5cd6765260>\n",
            "Traceback (most recent call last):\n",
            "  File \"/usr/local/lib/python3.11/dist-packages/pyfaidx/__init__.py\", line 883, in __del__\n",
            "    self.__exit__()\n",
            "  File \"/usr/local/lib/python3.11/dist-packages/pyfaidx/__init__.py\", line 889, in __exit__\n",
            "    self.file.close()\n",
            "    ^^^^^^^^^\n",
            "AttributeError: 'Faidx' object has no attribute 'file'\n",
            "Exception ignored in: <function Faidx.__del__ at 0x7e5cd6765260>\n",
            "Traceback (most recent call last):\n",
            "  File \"/usr/local/lib/python3.11/dist-packages/pyfaidx/__init__.py\", line 883, in __del__\n",
            "    self.__exit__()\n",
            "  File \"/usr/local/lib/python3.11/dist-packages/pyfaidx/__init__.py\", line 889, in __exit__\n",
            "    self.file.close()\n",
            "    ^^^^^^^^^\n",
            "AttributeError: 'Faidx' object has no attribute 'file'\n"
          ]
        },
        {
          "output_type": "stream",
          "name": "stdout",
          "text": [
            "Virus Name:HBV  Virus Reference: NC_003977.1 \n",
            " Human Reference: GRCh37 , Chromosome: chrMT , Begin Location:6598 , End Location:7646 \n",
            "Virus Name:HBV  Virus Reference: NC_003977.1 \n",
            " Human Reference: GRCh37 , Chromosome: chrMT , Begin Location:11243 , End Location:12291 \n"
          ]
        },
        {
          "output_type": "stream",
          "name": "stderr",
          "text": [
            "Exception ignored in: <function Faidx.__del__ at 0x7e5cd6765260>\n",
            "Traceback (most recent call last):\n",
            "  File \"/usr/local/lib/python3.11/dist-packages/pyfaidx/__init__.py\", line 883, in __del__\n",
            "    self.__exit__()\n",
            "  File \"/usr/local/lib/python3.11/dist-packages/pyfaidx/__init__.py\", line 889, in __exit__\n",
            "    self.file.close()\n",
            "    ^^^^^^^^^\n",
            "AttributeError: 'Faidx' object has no attribute 'file'\n",
            "Exception ignored in: <function Faidx.__del__ at 0x7e5cd6765260>\n",
            "Traceback (most recent call last):\n",
            "  File \"/usr/local/lib/python3.11/dist-packages/pyfaidx/__init__.py\", line 883, in __del__\n",
            "    self.__exit__()\n",
            "  File \"/usr/local/lib/python3.11/dist-packages/pyfaidx/__init__.py\", line 889, in __exit__\n",
            "    self.file.close()\n",
            "    ^^^^^^^^^\n",
            "AttributeError: 'Faidx' object has no attribute 'file'\n"
          ]
        },
        {
          "output_type": "stream",
          "name": "stdout",
          "text": [
            "Virus Name:HBV  Virus Reference: NC_003977.1 \n",
            " Human Reference: GRCh37 , Chromosome: GL000195.1 , Begin Location:48483 , End Location:49531 \n",
            "Virus Name:HBV  Virus Reference: NC_003977.1 \n",
            " Human Reference: GRCh37 , Chromosome: GL000195.1 , Begin Location:49475 , End Location:50523 \n"
          ]
        },
        {
          "output_type": "stream",
          "name": "stderr",
          "text": [
            "Exception ignored in: <function Faidx.__del__ at 0x7e5cd6765260>\n",
            "Traceback (most recent call last):\n",
            "  File \"/usr/local/lib/python3.11/dist-packages/pyfaidx/__init__.py\", line 883, in __del__\n",
            "    self.__exit__()\n",
            "  File \"/usr/local/lib/python3.11/dist-packages/pyfaidx/__init__.py\", line 889, in __exit__\n",
            "    self.file.close()\n",
            "    ^^^^^^^^^\n",
            "AttributeError: 'Faidx' object has no attribute 'file'\n"
          ]
        },
        {
          "output_type": "stream",
          "name": "stdout",
          "text": [
            "Virus Name:HBV  Virus Reference: NC_003977.1 \n",
            " Human Reference: GRCh37 , Chromosome: GL000227.1 , Begin Location:73446 , End Location:74494 \n"
          ]
        },
        {
          "output_type": "stream",
          "name": "stderr",
          "text": [
            "Exception ignored in: <function Faidx.__del__ at 0x7e5cd6765260>\n",
            "Traceback (most recent call last):\n",
            "  File \"/usr/local/lib/python3.11/dist-packages/pyfaidx/__init__.py\", line 883, in __del__\n",
            "    self.__exit__()\n",
            "  File \"/usr/local/lib/python3.11/dist-packages/pyfaidx/__init__.py\", line 889, in __exit__\n",
            "    self.file.close()\n",
            "    ^^^^^^^^^\n",
            "AttributeError: 'Faidx' object has no attribute 'file'\n",
            "Exception ignored in: <function Faidx.__del__ at 0x7e5cd6765260>\n",
            "Traceback (most recent call last):\n",
            "  File \"/usr/local/lib/python3.11/dist-packages/pyfaidx/__init__.py\", line 883, in __del__\n",
            "    self.__exit__()\n",
            "  File \"/usr/local/lib/python3.11/dist-packages/pyfaidx/__init__.py\", line 889, in __exit__\n",
            "    self.file.close()\n",
            "    ^^^^^^^^^\n",
            "AttributeError: 'Faidx' object has no attribute 'file'\n"
          ]
        },
        {
          "output_type": "stream",
          "name": "stdout",
          "text": [
            "Virus Name:HBV  Virus Reference: NC_003977.1 \n",
            " Human Reference: GRCh37 , Chromosome: chrMT , Begin Location:11350 , End Location:12398 \n",
            "Virus Name:HBV  Virus Reference: NC_003977.1 \n",
            " Human Reference: GRCh37 , Chromosome: chrMT , Begin Location:8431 , End Location:9479 \n"
          ]
        },
        {
          "output_type": "stream",
          "name": "stderr",
          "text": [
            "Exception ignored in: <function Faidx.__del__ at 0x7e5cd6765260>\n",
            "Traceback (most recent call last):\n",
            "  File \"/usr/local/lib/python3.11/dist-packages/pyfaidx/__init__.py\", line 883, in __del__\n",
            "    self.__exit__()\n",
            "  File \"/usr/local/lib/python3.11/dist-packages/pyfaidx/__init__.py\", line 889, in __exit__\n",
            "    self.file.close()\n",
            "    ^^^^^^^^^\n",
            "AttributeError: 'Faidx' object has no attribute 'file'\n"
          ]
        },
        {
          "output_type": "stream",
          "name": "stdout",
          "text": [
            "Virus Name:HBV  Virus Reference: NC_003977.1 \n",
            " Human Reference: GRCh37 , Chromosome: chrMT , Begin Location:13743 , End Location:14791 \n"
          ]
        },
        {
          "output_type": "stream",
          "name": "stderr",
          "text": [
            "Exception ignored in: <function Faidx.__del__ at 0x7e5cd6765260>\n",
            "Traceback (most recent call last):\n",
            "  File \"/usr/local/lib/python3.11/dist-packages/pyfaidx/__init__.py\", line 883, in __del__\n",
            "    self.__exit__()\n",
            "  File \"/usr/local/lib/python3.11/dist-packages/pyfaidx/__init__.py\", line 889, in __exit__\n",
            "    self.file.close()\n",
            "    ^^^^^^^^^\n",
            "AttributeError: 'Faidx' object has no attribute 'file'\n",
            "Exception ignored in: <function Faidx.__del__ at 0x7e5cd6765260>\n",
            "Traceback (most recent call last):\n",
            "  File \"/usr/local/lib/python3.11/dist-packages/pyfaidx/__init__.py\", line 883, in __del__\n",
            "    self.__exit__()\n",
            "  File \"/usr/local/lib/python3.11/dist-packages/pyfaidx/__init__.py\", line 889, in __exit__\n",
            "    self.file.close()\n",
            "    ^^^^^^^^^\n",
            "AttributeError: 'Faidx' object has no attribute 'file'\n"
          ]
        },
        {
          "output_type": "stream",
          "name": "stdout",
          "text": [
            "Virus Name:HBV  Virus Reference: NC_003977.1 \n",
            " Human Reference: GRCh37 , Chromosome: GL000237.1 , Begin Location:32834 , End Location:33882 \n",
            "Virus Name:HBV  Virus Reference: NC_003977.1 \n",
            " Human Reference: GRCh37 , Chromosome: GL000239.1 , Begin Location:14424 , End Location:15472 \n"
          ]
        },
        {
          "output_type": "stream",
          "name": "stderr",
          "text": [
            "Exception ignored in: <function Faidx.__del__ at 0x7e5cd6765260>\n",
            "Traceback (most recent call last):\n",
            "  File \"/usr/local/lib/python3.11/dist-packages/pyfaidx/__init__.py\", line 883, in __del__\n",
            "    self.__exit__()\n",
            "  File \"/usr/local/lib/python3.11/dist-packages/pyfaidx/__init__.py\", line 889, in __exit__\n",
            "    self.file.close()\n",
            "    ^^^^^^^^^\n",
            "AttributeError: 'Faidx' object has no attribute 'file'\n",
            "Exception ignored in: <function Faidx.__del__ at 0x7e5cd6765260>\n",
            "Traceback (most recent call last):\n",
            "  File \"/usr/local/lib/python3.11/dist-packages/pyfaidx/__init__.py\", line 883, in __del__\n",
            "    self.__exit__()\n",
            "  File \"/usr/local/lib/python3.11/dist-packages/pyfaidx/__init__.py\", line 889, in __exit__\n",
            "    self.file.close()\n",
            "    ^^^^^^^^^\n",
            "AttributeError: 'Faidx' object has no attribute 'file'\n",
            "Exception ignored in: <function Faidx.__del__ at 0x7e5cd6765260>\n",
            "Traceback (most recent call last):\n",
            "  File \"/usr/local/lib/python3.11/dist-packages/pyfaidx/__init__.py\", line 883, in __del__\n",
            "    self.__exit__()\n",
            "  File \"/usr/local/lib/python3.11/dist-packages/pyfaidx/__init__.py\", line 889, in __exit__\n",
            "    self.file.close()\n",
            "    ^^^^^^^^^\n",
            "AttributeError: 'Faidx' object has no attribute 'file'\n",
            "Exception ignored in: <function Faidx.__del__ at 0x7e5cd6765260>\n",
            "Traceback (most recent call last):\n",
            "  File \"/usr/local/lib/python3.11/dist-packages/pyfaidx/__init__.py\", line 883, in __del__\n",
            "    self.__exit__()\n",
            "  File \"/usr/local/lib/python3.11/dist-packages/pyfaidx/__init__.py\", line 889, in __exit__\n",
            "    self.file.close()\n",
            "    ^^^^^^^^^\n",
            "AttributeError: 'Faidx' object has no attribute 'file'\n"
          ]
        },
        {
          "output_type": "stream",
          "name": "stdout",
          "text": [
            "Virus Name:HBV  Virus Reference: NC_003977.1 \n",
            " Human Reference: GRCh37 , Chromosome: chrGL000237.1 , Begin Location:33183 , End Location:34231 \n",
            "Virus Name:HBV  Virus Reference: NC_003977.1 \n",
            " Human Reference: GRCh37 , Chromosome: GL000239.1 , Begin Location:14877 , End Location:15925 \n",
            "Virus Name:HBV  Virus Reference: NC_003977.1 \n",
            " Human Reference: GRCh37 , Chromosome: GL000239.1 , Begin Location:14320 , End Location:15368 \n",
            "Virus Name:HBV  Virus Reference: NC_003977.1 \n",
            " Human Reference: GRCh37 , Chromosome: chrMT , Begin Location:8130 , End Location:9178 \n"
          ]
        },
        {
          "output_type": "stream",
          "name": "stderr",
          "text": [
            "Exception ignored in: <function Faidx.__del__ at 0x7e5cd6765260>\n",
            "Traceback (most recent call last):\n",
            "  File \"/usr/local/lib/python3.11/dist-packages/pyfaidx/__init__.py\", line 883, in __del__\n",
            "    self.__exit__()\n",
            "  File \"/usr/local/lib/python3.11/dist-packages/pyfaidx/__init__.py\", line 889, in __exit__\n",
            "    self.file.close()\n",
            "    ^^^^^^^^^\n",
            "AttributeError: 'Faidx' object has no attribute 'file'\n"
          ]
        },
        {
          "output_type": "stream",
          "name": "stdout",
          "text": [
            "Virus Name:HBV  Virus Reference: NC_003977.1 \n",
            " Human Reference: GRCh37 , Chromosome: chrMT , Begin Location:11397 , End Location:12445 \n"
          ]
        },
        {
          "output_type": "stream",
          "name": "stderr",
          "text": [
            "Exception ignored in: <function Faidx.__del__ at 0x7e5cd6765260>\n",
            "Traceback (most recent call last):\n",
            "  File \"/usr/local/lib/python3.11/dist-packages/pyfaidx/__init__.py\", line 883, in __del__\n",
            "    self.__exit__()\n",
            "  File \"/usr/local/lib/python3.11/dist-packages/pyfaidx/__init__.py\", line 889, in __exit__\n",
            "    self.file.close()\n",
            "    ^^^^^^^^^\n",
            "AttributeError: 'Faidx' object has no attribute 'file'\n"
          ]
        },
        {
          "output_type": "stream",
          "name": "stdout",
          "text": [
            "Virus Name:HBV  Virus Reference: NC_003977.1 \n",
            " Human Reference: GRCh37 , Chromosome: GL000217.1 , Begin Location:116229 , End Location:117277 \n"
          ]
        }
      ]
    },
    {
      "cell_type": "code",
      "source": [
        "#make seq_list a dataframe save as a csv\n",
        "seq_df = pd.DataFrame(seq_list, columns=['virus', 'virus_ref', 'human_ref', 'spliced_seq', 'viral_seq', 'human_seq_upstream', 'human_seq_downstream'])\n",
        "seq_df.to_csv('Spliced_Data_HBV.csv')\n"
      ],
      "metadata": {
        "id": "YLzLRB52Ja3Z"
      },
      "execution_count": 37,
      "outputs": []
    },
    {
      "cell_type": "markdown",
      "source": [
        "# HPV"
      ],
      "metadata": {
        "id": "CehXuAA96XJB"
      }
    },
    {
      "cell_type": "markdown",
      "source": [
        "## Load Data"
      ],
      "metadata": {
        "id": "Ptg4hi88vzZR"
      }
    },
    {
      "cell_type": "code",
      "source": [
        "#load xslx\n",
        "hpv_df = pd.read_excel('HPV_VIS.xlsx')\n",
        "hpv_df.head()"
      ],
      "metadata": {
        "colab": {
          "base_uri": "https://localhost:8080/",
          "height": 293
        },
        "id": "J4aEP9d26bcw",
        "outputId": "a1bfd5a1-f194-4500-a182-5628131d21c7"
      },
      "execution_count": 60,
      "outputs": [
        {
          "output_type": "execute_result",
          "data": {
            "text/plain": [
              "   HPV  HPV16  NC_001526.4 Unnamed: 3 Unnamed: 4   chr1  p36.22  NCBI36/hg18  \\\n",
              "0  HPV  HPV16  NC_001526.4          7        NaN  chr11   p15.4  GRCh37/hg19   \n",
              "1  HPV  HPV16   AF125673.1         36        583   chr2     NaN  GRCh37/hg19   \n",
              "2  HPV  HPV16  NC_001526.4         38        NaN   chrX     q25  GRCh37/hg19   \n",
              "3  HPV  HPV16          NaN         43        NaN   chr9  q34.11  GRCh37/hg19   \n",
              "4  HPV  HPV16          NaN         60        NaN  chr13   q22.1  GRCh37/hg19   \n",
              "\n",
              "     9819841 Unnamed: 9      Tumor Cervical intraepithelial neoplasia  \\\n",
              "0    9283840        NaN      Tumor                 Cervical carcinoma   \n",
              "1   33141299   33141662  Cell line                 Cervical carcinoma   \n",
              "2  126566946        NaN      Tumor                 Cervical carcinoma   \n",
              "3  131856423        NaN      Tumor                 Cervical carcinoma   \n",
              "4   73910872        NaN      Tumor                 Cervical carcinoma   \n",
              "\n",
              "  PCR  Ion Torrent Sequencing  26660085 Unnamed: 14  \n",
              "0   PCR and Sanger sequencing  26735580     DENND5A  \n",
              "1         APOT and sequencing  29364907   LINC00486  \n",
              "2   PCR and Sanger sequencing  26735580         NaN  \n",
              "3                     RNA-Seq  23740984        CRAT  \n",
              "4                     RNA-Seq  23740984       KLF12  "
            ],
            "text/html": [
              "\n",
              "  <div id=\"df-d354918e-84b5-4492-90fd-b09167294b8a\" class=\"colab-df-container\">\n",
              "    <div>\n",
              "<style scoped>\n",
              "    .dataframe tbody tr th:only-of-type {\n",
              "        vertical-align: middle;\n",
              "    }\n",
              "\n",
              "    .dataframe tbody tr th {\n",
              "        vertical-align: top;\n",
              "    }\n",
              "\n",
              "    .dataframe thead th {\n",
              "        text-align: right;\n",
              "    }\n",
              "</style>\n",
              "<table border=\"1\" class=\"dataframe\">\n",
              "  <thead>\n",
              "    <tr style=\"text-align: right;\">\n",
              "      <th></th>\n",
              "      <th>HPV</th>\n",
              "      <th>HPV16</th>\n",
              "      <th>NC_001526.4</th>\n",
              "      <th>Unnamed: 3</th>\n",
              "      <th>Unnamed: 4</th>\n",
              "      <th>chr1</th>\n",
              "      <th>p36.22</th>\n",
              "      <th>NCBI36/hg18</th>\n",
              "      <th>9819841</th>\n",
              "      <th>Unnamed: 9</th>\n",
              "      <th>Tumor</th>\n",
              "      <th>Cervical intraepithelial neoplasia</th>\n",
              "      <th>PCR  Ion Torrent Sequencing</th>\n",
              "      <th>26660085</th>\n",
              "      <th>Unnamed: 14</th>\n",
              "    </tr>\n",
              "  </thead>\n",
              "  <tbody>\n",
              "    <tr>\n",
              "      <th>0</th>\n",
              "      <td>HPV</td>\n",
              "      <td>HPV16</td>\n",
              "      <td>NC_001526.4</td>\n",
              "      <td>7</td>\n",
              "      <td>NaN</td>\n",
              "      <td>chr11</td>\n",
              "      <td>p15.4</td>\n",
              "      <td>GRCh37/hg19</td>\n",
              "      <td>9283840</td>\n",
              "      <td>NaN</td>\n",
              "      <td>Tumor</td>\n",
              "      <td>Cervical carcinoma</td>\n",
              "      <td>PCR and Sanger sequencing</td>\n",
              "      <td>26735580</td>\n",
              "      <td>DENND5A</td>\n",
              "    </tr>\n",
              "    <tr>\n",
              "      <th>1</th>\n",
              "      <td>HPV</td>\n",
              "      <td>HPV16</td>\n",
              "      <td>AF125673.1</td>\n",
              "      <td>36</td>\n",
              "      <td>583</td>\n",
              "      <td>chr2</td>\n",
              "      <td>NaN</td>\n",
              "      <td>GRCh37/hg19</td>\n",
              "      <td>33141299</td>\n",
              "      <td>33141662</td>\n",
              "      <td>Cell line</td>\n",
              "      <td>Cervical carcinoma</td>\n",
              "      <td>APOT and sequencing</td>\n",
              "      <td>29364907</td>\n",
              "      <td>LINC00486</td>\n",
              "    </tr>\n",
              "    <tr>\n",
              "      <th>2</th>\n",
              "      <td>HPV</td>\n",
              "      <td>HPV16</td>\n",
              "      <td>NC_001526.4</td>\n",
              "      <td>38</td>\n",
              "      <td>NaN</td>\n",
              "      <td>chrX</td>\n",
              "      <td>q25</td>\n",
              "      <td>GRCh37/hg19</td>\n",
              "      <td>126566946</td>\n",
              "      <td>NaN</td>\n",
              "      <td>Tumor</td>\n",
              "      <td>Cervical carcinoma</td>\n",
              "      <td>PCR and Sanger sequencing</td>\n",
              "      <td>26735580</td>\n",
              "      <td>NaN</td>\n",
              "    </tr>\n",
              "    <tr>\n",
              "      <th>3</th>\n",
              "      <td>HPV</td>\n",
              "      <td>HPV16</td>\n",
              "      <td>NaN</td>\n",
              "      <td>43</td>\n",
              "      <td>NaN</td>\n",
              "      <td>chr9</td>\n",
              "      <td>q34.11</td>\n",
              "      <td>GRCh37/hg19</td>\n",
              "      <td>131856423</td>\n",
              "      <td>NaN</td>\n",
              "      <td>Tumor</td>\n",
              "      <td>Cervical carcinoma</td>\n",
              "      <td>RNA-Seq</td>\n",
              "      <td>23740984</td>\n",
              "      <td>CRAT</td>\n",
              "    </tr>\n",
              "    <tr>\n",
              "      <th>4</th>\n",
              "      <td>HPV</td>\n",
              "      <td>HPV16</td>\n",
              "      <td>NaN</td>\n",
              "      <td>60</td>\n",
              "      <td>NaN</td>\n",
              "      <td>chr13</td>\n",
              "      <td>q22.1</td>\n",
              "      <td>GRCh37/hg19</td>\n",
              "      <td>73910872</td>\n",
              "      <td>NaN</td>\n",
              "      <td>Tumor</td>\n",
              "      <td>Cervical carcinoma</td>\n",
              "      <td>RNA-Seq</td>\n",
              "      <td>23740984</td>\n",
              "      <td>KLF12</td>\n",
              "    </tr>\n",
              "  </tbody>\n",
              "</table>\n",
              "</div>\n",
              "    <div class=\"colab-df-buttons\">\n",
              "\n",
              "  <div class=\"colab-df-container\">\n",
              "    <button class=\"colab-df-convert\" onclick=\"convertToInteractive('df-d354918e-84b5-4492-90fd-b09167294b8a')\"\n",
              "            title=\"Convert this dataframe to an interactive table.\"\n",
              "            style=\"display:none;\">\n",
              "\n",
              "  <svg xmlns=\"http://www.w3.org/2000/svg\" height=\"24px\" viewBox=\"0 -960 960 960\">\n",
              "    <path d=\"M120-120v-720h720v720H120Zm60-500h600v-160H180v160Zm220 220h160v-160H400v160Zm0 220h160v-160H400v160ZM180-400h160v-160H180v160Zm440 0h160v-160H620v160ZM180-180h160v-160H180v160Zm440 0h160v-160H620v160Z\"/>\n",
              "  </svg>\n",
              "    </button>\n",
              "\n",
              "  <style>\n",
              "    .colab-df-container {\n",
              "      display:flex;\n",
              "      gap: 12px;\n",
              "    }\n",
              "\n",
              "    .colab-df-convert {\n",
              "      background-color: #E8F0FE;\n",
              "      border: none;\n",
              "      border-radius: 50%;\n",
              "      cursor: pointer;\n",
              "      display: none;\n",
              "      fill: #1967D2;\n",
              "      height: 32px;\n",
              "      padding: 0 0 0 0;\n",
              "      width: 32px;\n",
              "    }\n",
              "\n",
              "    .colab-df-convert:hover {\n",
              "      background-color: #E2EBFA;\n",
              "      box-shadow: 0px 1px 2px rgba(60, 64, 67, 0.3), 0px 1px 3px 1px rgba(60, 64, 67, 0.15);\n",
              "      fill: #174EA6;\n",
              "    }\n",
              "\n",
              "    .colab-df-buttons div {\n",
              "      margin-bottom: 4px;\n",
              "    }\n",
              "\n",
              "    [theme=dark] .colab-df-convert {\n",
              "      background-color: #3B4455;\n",
              "      fill: #D2E3FC;\n",
              "    }\n",
              "\n",
              "    [theme=dark] .colab-df-convert:hover {\n",
              "      background-color: #434B5C;\n",
              "      box-shadow: 0px 1px 3px 1px rgba(0, 0, 0, 0.15);\n",
              "      filter: drop-shadow(0px 1px 2px rgba(0, 0, 0, 0.3));\n",
              "      fill: #FFFFFF;\n",
              "    }\n",
              "  </style>\n",
              "\n",
              "    <script>\n",
              "      const buttonEl =\n",
              "        document.querySelector('#df-d354918e-84b5-4492-90fd-b09167294b8a button.colab-df-convert');\n",
              "      buttonEl.style.display =\n",
              "        google.colab.kernel.accessAllowed ? 'block' : 'none';\n",
              "\n",
              "      async function convertToInteractive(key) {\n",
              "        const element = document.querySelector('#df-d354918e-84b5-4492-90fd-b09167294b8a');\n",
              "        const dataTable =\n",
              "          await google.colab.kernel.invokeFunction('convertToInteractive',\n",
              "                                                    [key], {});\n",
              "        if (!dataTable) return;\n",
              "\n",
              "        const docLinkHtml = 'Like what you see? Visit the ' +\n",
              "          '<a target=\"_blank\" href=https://colab.research.google.com/notebooks/data_table.ipynb>data table notebook</a>'\n",
              "          + ' to learn more about interactive tables.';\n",
              "        element.innerHTML = '';\n",
              "        dataTable['output_type'] = 'display_data';\n",
              "        await google.colab.output.renderOutput(dataTable, element);\n",
              "        const docLink = document.createElement('div');\n",
              "        docLink.innerHTML = docLinkHtml;\n",
              "        element.appendChild(docLink);\n",
              "      }\n",
              "    </script>\n",
              "  </div>\n",
              "\n",
              "\n",
              "<div id=\"df-f78e17ea-06f1-43b4-be40-835351513c9b\">\n",
              "  <button class=\"colab-df-quickchart\" onclick=\"quickchart('df-f78e17ea-06f1-43b4-be40-835351513c9b')\"\n",
              "            title=\"Suggest charts\"\n",
              "            style=\"display:none;\">\n",
              "\n",
              "<svg xmlns=\"http://www.w3.org/2000/svg\" height=\"24px\"viewBox=\"0 0 24 24\"\n",
              "     width=\"24px\">\n",
              "    <g>\n",
              "        <path d=\"M19 3H5c-1.1 0-2 .9-2 2v14c0 1.1.9 2 2 2h14c1.1 0 2-.9 2-2V5c0-1.1-.9-2-2-2zM9 17H7v-7h2v7zm4 0h-2V7h2v10zm4 0h-2v-4h2v4z\"/>\n",
              "    </g>\n",
              "</svg>\n",
              "  </button>\n",
              "\n",
              "<style>\n",
              "  .colab-df-quickchart {\n",
              "      --bg-color: #E8F0FE;\n",
              "      --fill-color: #1967D2;\n",
              "      --hover-bg-color: #E2EBFA;\n",
              "      --hover-fill-color: #174EA6;\n",
              "      --disabled-fill-color: #AAA;\n",
              "      --disabled-bg-color: #DDD;\n",
              "  }\n",
              "\n",
              "  [theme=dark] .colab-df-quickchart {\n",
              "      --bg-color: #3B4455;\n",
              "      --fill-color: #D2E3FC;\n",
              "      --hover-bg-color: #434B5C;\n",
              "      --hover-fill-color: #FFFFFF;\n",
              "      --disabled-bg-color: #3B4455;\n",
              "      --disabled-fill-color: #666;\n",
              "  }\n",
              "\n",
              "  .colab-df-quickchart {\n",
              "    background-color: var(--bg-color);\n",
              "    border: none;\n",
              "    border-radius: 50%;\n",
              "    cursor: pointer;\n",
              "    display: none;\n",
              "    fill: var(--fill-color);\n",
              "    height: 32px;\n",
              "    padding: 0;\n",
              "    width: 32px;\n",
              "  }\n",
              "\n",
              "  .colab-df-quickchart:hover {\n",
              "    background-color: var(--hover-bg-color);\n",
              "    box-shadow: 0 1px 2px rgba(60, 64, 67, 0.3), 0 1px 3px 1px rgba(60, 64, 67, 0.15);\n",
              "    fill: var(--button-hover-fill-color);\n",
              "  }\n",
              "\n",
              "  .colab-df-quickchart-complete:disabled,\n",
              "  .colab-df-quickchart-complete:disabled:hover {\n",
              "    background-color: var(--disabled-bg-color);\n",
              "    fill: var(--disabled-fill-color);\n",
              "    box-shadow: none;\n",
              "  }\n",
              "\n",
              "  .colab-df-spinner {\n",
              "    border: 2px solid var(--fill-color);\n",
              "    border-color: transparent;\n",
              "    border-bottom-color: var(--fill-color);\n",
              "    animation:\n",
              "      spin 1s steps(1) infinite;\n",
              "  }\n",
              "\n",
              "  @keyframes spin {\n",
              "    0% {\n",
              "      border-color: transparent;\n",
              "      border-bottom-color: var(--fill-color);\n",
              "      border-left-color: var(--fill-color);\n",
              "    }\n",
              "    20% {\n",
              "      border-color: transparent;\n",
              "      border-left-color: var(--fill-color);\n",
              "      border-top-color: var(--fill-color);\n",
              "    }\n",
              "    30% {\n",
              "      border-color: transparent;\n",
              "      border-left-color: var(--fill-color);\n",
              "      border-top-color: var(--fill-color);\n",
              "      border-right-color: var(--fill-color);\n",
              "    }\n",
              "    40% {\n",
              "      border-color: transparent;\n",
              "      border-right-color: var(--fill-color);\n",
              "      border-top-color: var(--fill-color);\n",
              "    }\n",
              "    60% {\n",
              "      border-color: transparent;\n",
              "      border-right-color: var(--fill-color);\n",
              "    }\n",
              "    80% {\n",
              "      border-color: transparent;\n",
              "      border-right-color: var(--fill-color);\n",
              "      border-bottom-color: var(--fill-color);\n",
              "    }\n",
              "    90% {\n",
              "      border-color: transparent;\n",
              "      border-bottom-color: var(--fill-color);\n",
              "    }\n",
              "  }\n",
              "</style>\n",
              "\n",
              "  <script>\n",
              "    async function quickchart(key) {\n",
              "      const quickchartButtonEl =\n",
              "        document.querySelector('#' + key + ' button');\n",
              "      quickchartButtonEl.disabled = true;  // To prevent multiple clicks.\n",
              "      quickchartButtonEl.classList.add('colab-df-spinner');\n",
              "      try {\n",
              "        const charts = await google.colab.kernel.invokeFunction(\n",
              "            'suggestCharts', [key], {});\n",
              "      } catch (error) {\n",
              "        console.error('Error during call to suggestCharts:', error);\n",
              "      }\n",
              "      quickchartButtonEl.classList.remove('colab-df-spinner');\n",
              "      quickchartButtonEl.classList.add('colab-df-quickchart-complete');\n",
              "    }\n",
              "    (() => {\n",
              "      let quickchartButtonEl =\n",
              "        document.querySelector('#df-f78e17ea-06f1-43b4-be40-835351513c9b button');\n",
              "      quickchartButtonEl.style.display =\n",
              "        google.colab.kernel.accessAllowed ? 'block' : 'none';\n",
              "    })();\n",
              "  </script>\n",
              "</div>\n",
              "\n",
              "    </div>\n",
              "  </div>\n"
            ],
            "application/vnd.google.colaboratory.intrinsic+json": {
              "type": "dataframe",
              "variable_name": "hpv_df",
              "summary": "{\n  \"name\": \"hpv_df\",\n  \"rows\": 5118,\n  \"fields\": [\n    {\n      \"column\": \"HPV\",\n      \"properties\": {\n        \"dtype\": \"category\",\n        \"num_unique_values\": 2,\n        \"samples\": [\n          \"Virus\",\n          \"HPV\"\n        ],\n        \"semantic_type\": \"\",\n        \"description\": \"\"\n      }\n    },\n    {\n      \"column\": \"HPV16\",\n      \"properties\": {\n        \"dtype\": \"category\",\n        \"num_unique_values\": 11,\n        \"samples\": [\n          \"HPV31\",\n          \"HPV16\"\n        ],\n        \"semantic_type\": \"\",\n        \"description\": \"\"\n      }\n    },\n    {\n      \"column\": \"NC_001526.4\",\n      \"properties\": {\n        \"dtype\": \"category\",\n        \"num_unique_values\": 18,\n        \"samples\": [\n          \"NC_001526.4\",\n          \"AF125673.1\"\n        ],\n        \"semantic_type\": \"\",\n        \"description\": \"\"\n      }\n    },\n    {\n      \"column\": \"Unnamed: 3\",\n      \"properties\": {\n        \"dtype\": \"category\",\n        \"num_unique_values\": 1003,\n        \"samples\": [\n          3156,\n          3163\n        ],\n        \"semantic_type\": \"\",\n        \"description\": \"\"\n      }\n    },\n    {\n      \"column\": \"Unnamed: 4\",\n      \"properties\": {\n        \"dtype\": \"category\",\n        \"num_unique_values\": 342,\n        \"samples\": [\n          4255,\n          2057\n        ],\n        \"semantic_type\": \"\",\n        \"description\": \"\"\n      }\n    },\n    {\n      \"column\": \"chr1\",\n      \"properties\": {\n        \"dtype\": \"category\",\n        \"num_unique_values\": 25,\n        \"samples\": [\n          \"chr3\",\n          \"chr7\"\n        ],\n        \"semantic_type\": \"\",\n        \"description\": \"\"\n      }\n    },\n    {\n      \"column\": \"p36.22\",\n      \"properties\": {\n        \"dtype\": \"category\",\n        \"num_unique_values\": 263,\n        \"samples\": [\n          \"q23.1\",\n          \"q26.2\"\n        ],\n        \"semantic_type\": \"\",\n        \"description\": \"\"\n      }\n    },\n    {\n      \"column\": \"NCBI36/hg18\",\n      \"properties\": {\n        \"dtype\": \"category\",\n        \"num_unique_values\": 10,\n        \"samples\": [\n          \"NCBI36/hg18\",\n          \"GRCh37.p10\"\n        ],\n        \"semantic_type\": \"\",\n        \"description\": \"\"\n      }\n    },\n    {\n      \"column\": 9819841,\n      \"properties\": {\n        \"dtype\": \"string\",\n        \"num_unique_values\": 4620,\n        \"samples\": [\n          29041014,\n          40041297\n        ],\n        \"semantic_type\": \"\",\n        \"description\": \"\"\n      }\n    },\n    {\n      \"column\": \"Unnamed: 9\",\n      \"properties\": {\n        \"dtype\": \"category\",\n        \"num_unique_values\": 218,\n        \"samples\": [\n          7680957,\n          59289544\n        ],\n        \"semantic_type\": \"\",\n        \"description\": \"\"\n      }\n    },\n    {\n      \"column\": \"Tumor\",\n      \"properties\": {\n        \"dtype\": \"category\",\n        \"num_unique_values\": 7,\n        \"samples\": [\n          \"Tumor\",\n          \"Cell line\"\n        ],\n        \"semantic_type\": \"\",\n        \"description\": \"\"\n      }\n    },\n    {\n      \"column\": \"Cervical intraepithelial neoplasia\",\n      \"properties\": {\n        \"dtype\": \"category\",\n        \"num_unique_values\": 14,\n        \"samples\": [\n          \"Adenocarcinoma\",\n          \"Adenosquamous carcinoma\"\n        ],\n        \"semantic_type\": \"\",\n        \"description\": \"\"\n      }\n    },\n    {\n      \"column\": \"PCR  Ion Torrent Sequencing\",\n      \"properties\": {\n        \"dtype\": \"category\",\n        \"num_unique_values\": 20,\n        \"samples\": [\n          \"PCR and Sanger sequencing\",\n          \"RNA-Seq+RT-PCR\"\n        ],\n        \"semantic_type\": \"\",\n        \"description\": \"\"\n      }\n    },\n    {\n      \"column\": 26660085,\n      \"properties\": {\n        \"dtype\": \"category\",\n        \"num_unique_values\": 32,\n        \"samples\": [\n          18381461,\n          25082736\n        ],\n        \"semantic_type\": \"\",\n        \"description\": \"\"\n      }\n    },\n    {\n      \"column\": \"Unnamed: 14\",\n      \"properties\": {\n        \"dtype\": \"category\",\n        \"num_unique_values\": 1672,\n        \"samples\": [\n          \"LOC105374425\",\n          \"KCNIP4\"\n        ],\n        \"semantic_type\": \"\",\n        \"description\": \"\"\n      }\n    }\n  ]\n}"
            }
          },
          "metadata": {},
          "execution_count": 60
        }
      ]
    },
    {
      "cell_type": "markdown",
      "source": [
        "## Data Cleaning"
      ],
      "metadata": {
        "id": "73J5g2183D6V"
      }
    },
    {
      "cell_type": "code",
      "source": [
        "hpv_df = lower_case_and_underscore(hpv_df)\n"
      ],
      "metadata": {
        "id": "rVwbar5H3ES7",
        "outputId": "d7afe368-544b-4c72-eacd-10687f121d59",
        "colab": {
          "base_uri": "https://localhost:8080/",
          "height": 298
        }
      },
      "execution_count": 59,
      "outputs": [
        {
          "output_type": "error",
          "ename": "AttributeError",
          "evalue": "'int' object has no attribute 'lower'",
          "traceback": [
            "\u001b[0;31m---------------------------------------------------------------------------\u001b[0m",
            "\u001b[0;31mAttributeError\u001b[0m                            Traceback (most recent call last)",
            "\u001b[0;32m<ipython-input-59-81d7f4d42240>\u001b[0m in \u001b[0;36m<cell line: 0>\u001b[0;34m()\u001b[0m\n\u001b[0;32m----> 1\u001b[0;31m \u001b[0mhpv_df\u001b[0m \u001b[0;34m=\u001b[0m \u001b[0mlower_case_and_underscore\u001b[0m\u001b[0;34m(\u001b[0m\u001b[0mhpv_df\u001b[0m\u001b[0;34m)\u001b[0m\u001b[0;34m\u001b[0m\u001b[0;34m\u001b[0m\u001b[0m\n\u001b[0m",
            "\u001b[0;32m<ipython-input-24-dcb8f987e837>\u001b[0m in \u001b[0;36mlower_case_and_underscore\u001b[0;34m(df)\u001b[0m\n\u001b[1;32m      1\u001b[0m \u001b[0;32mdef\u001b[0m \u001b[0mlower_case_and_underscore\u001b[0m\u001b[0;34m(\u001b[0m\u001b[0mdf\u001b[0m\u001b[0;34m)\u001b[0m\u001b[0;34m:\u001b[0m\u001b[0;34m\u001b[0m\u001b[0;34m\u001b[0m\u001b[0m\n\u001b[1;32m      2\u001b[0m   \u001b[0;34m\"\"\"Lowercases all column names and replaces spaces with underscores.\"\"\"\u001b[0m\u001b[0;34m\u001b[0m\u001b[0;34m\u001b[0m\u001b[0m\n\u001b[0;32m----> 3\u001b[0;31m   \u001b[0mnew_columns\u001b[0m \u001b[0;34m=\u001b[0m \u001b[0;34m[\u001b[0m\u001b[0mcol\u001b[0m\u001b[0;34m.\u001b[0m\u001b[0mlower\u001b[0m\u001b[0;34m(\u001b[0m\u001b[0;34m)\u001b[0m\u001b[0;34m.\u001b[0m\u001b[0mreplace\u001b[0m\u001b[0;34m(\u001b[0m\u001b[0;34m' '\u001b[0m\u001b[0;34m,\u001b[0m \u001b[0;34m'_'\u001b[0m\u001b[0;34m)\u001b[0m \u001b[0;32mfor\u001b[0m \u001b[0mcol\u001b[0m \u001b[0;32min\u001b[0m \u001b[0mdf\u001b[0m\u001b[0;34m.\u001b[0m\u001b[0mcolumns\u001b[0m\u001b[0;34m]\u001b[0m\u001b[0;34m\u001b[0m\u001b[0;34m\u001b[0m\u001b[0m\n\u001b[0m\u001b[1;32m      4\u001b[0m   \u001b[0mdf\u001b[0m\u001b[0;34m.\u001b[0m\u001b[0mcolumns\u001b[0m \u001b[0;34m=\u001b[0m \u001b[0mnew_columns\u001b[0m\u001b[0;34m\u001b[0m\u001b[0;34m\u001b[0m\u001b[0m\n\u001b[1;32m      5\u001b[0m   \u001b[0;32mreturn\u001b[0m \u001b[0mdf\u001b[0m\u001b[0;34m\u001b[0m\u001b[0;34m\u001b[0m\u001b[0m\n",
            "\u001b[0;32m<ipython-input-24-dcb8f987e837>\u001b[0m in \u001b[0;36m<listcomp>\u001b[0;34m(.0)\u001b[0m\n\u001b[1;32m      1\u001b[0m \u001b[0;32mdef\u001b[0m \u001b[0mlower_case_and_underscore\u001b[0m\u001b[0;34m(\u001b[0m\u001b[0mdf\u001b[0m\u001b[0;34m)\u001b[0m\u001b[0;34m:\u001b[0m\u001b[0;34m\u001b[0m\u001b[0;34m\u001b[0m\u001b[0m\n\u001b[1;32m      2\u001b[0m   \u001b[0;34m\"\"\"Lowercases all column names and replaces spaces with underscores.\"\"\"\u001b[0m\u001b[0;34m\u001b[0m\u001b[0;34m\u001b[0m\u001b[0m\n\u001b[0;32m----> 3\u001b[0;31m   \u001b[0mnew_columns\u001b[0m \u001b[0;34m=\u001b[0m \u001b[0;34m[\u001b[0m\u001b[0mcol\u001b[0m\u001b[0;34m.\u001b[0m\u001b[0mlower\u001b[0m\u001b[0;34m(\u001b[0m\u001b[0;34m)\u001b[0m\u001b[0;34m.\u001b[0m\u001b[0mreplace\u001b[0m\u001b[0;34m(\u001b[0m\u001b[0;34m' '\u001b[0m\u001b[0;34m,\u001b[0m \u001b[0;34m'_'\u001b[0m\u001b[0;34m)\u001b[0m \u001b[0;32mfor\u001b[0m \u001b[0mcol\u001b[0m \u001b[0;32min\u001b[0m \u001b[0mdf\u001b[0m\u001b[0;34m.\u001b[0m\u001b[0mcolumns\u001b[0m\u001b[0;34m]\u001b[0m\u001b[0;34m\u001b[0m\u001b[0;34m\u001b[0m\u001b[0m\n\u001b[0m\u001b[1;32m      4\u001b[0m   \u001b[0mdf\u001b[0m\u001b[0;34m.\u001b[0m\u001b[0mcolumns\u001b[0m \u001b[0;34m=\u001b[0m \u001b[0mnew_columns\u001b[0m\u001b[0;34m\u001b[0m\u001b[0;34m\u001b[0m\u001b[0m\n\u001b[1;32m      5\u001b[0m   \u001b[0;32mreturn\u001b[0m \u001b[0mdf\u001b[0m\u001b[0;34m\u001b[0m\u001b[0;34m\u001b[0m\u001b[0m\n",
            "\u001b[0;31mAttributeError\u001b[0m: 'int' object has no attribute 'lower'"
          ]
        }
      ]
    },
    {
      "cell_type": "code",
      "source": [
        "#filter out rows where begin_breakpoint or stop breakpoint  and also begin and end location are NA\n",
        "hpv_df = hpv_df.dropna(subset=['begin_breakpoint', 'stop_breakpoint', 'begin_location', 'end_location', 'reference_virus_genome'], how='any')\n",
        "hpv_df.head()"
      ],
      "metadata": {
        "colab": {
          "base_uri": "https://localhost:8080/",
          "height": 311
        },
        "id": "AJYTDY483KSm",
        "outputId": "b03d30a7-42a6-44e2-e454-e475af0389d5"
      },
      "execution_count": 43,
      "outputs": [
        {
          "output_type": "error",
          "ename": "KeyError",
          "evalue": "['begin_breakpoint', 'stop_breakpoint', 'begin_location', 'end_location', 'reference_virus_genome']",
          "traceback": [
            "\u001b[0;31m---------------------------------------------------------------------------\u001b[0m",
            "\u001b[0;31mKeyError\u001b[0m                                  Traceback (most recent call last)",
            "\u001b[0;32m<ipython-input-43-eb2a3fe2c1eb>\u001b[0m in \u001b[0;36m<cell line: 0>\u001b[0;34m()\u001b[0m\n\u001b[1;32m      1\u001b[0m \u001b[0;31m#filter out rows where begin_breakpoint or stop breakpoint  and also begin and end location are NA\u001b[0m\u001b[0;34m\u001b[0m\u001b[0;34m\u001b[0m\u001b[0m\n\u001b[0;32m----> 2\u001b[0;31m \u001b[0mhpv_df\u001b[0m \u001b[0;34m=\u001b[0m \u001b[0mhpv_df\u001b[0m\u001b[0;34m.\u001b[0m\u001b[0mdropna\u001b[0m\u001b[0;34m(\u001b[0m\u001b[0msubset\u001b[0m\u001b[0;34m=\u001b[0m\u001b[0;34m[\u001b[0m\u001b[0;34m'begin_breakpoint'\u001b[0m\u001b[0;34m,\u001b[0m \u001b[0;34m'stop_breakpoint'\u001b[0m\u001b[0;34m,\u001b[0m \u001b[0;34m'begin_location'\u001b[0m\u001b[0;34m,\u001b[0m \u001b[0;34m'end_location'\u001b[0m\u001b[0;34m,\u001b[0m \u001b[0;34m'reference_virus_genome'\u001b[0m\u001b[0;34m]\u001b[0m\u001b[0;34m,\u001b[0m \u001b[0mhow\u001b[0m\u001b[0;34m=\u001b[0m\u001b[0;34m'any'\u001b[0m\u001b[0;34m)\u001b[0m\u001b[0;34m\u001b[0m\u001b[0;34m\u001b[0m\u001b[0m\n\u001b[0m\u001b[1;32m      3\u001b[0m \u001b[0mhpv_df\u001b[0m\u001b[0;34m.\u001b[0m\u001b[0mhead\u001b[0m\u001b[0;34m(\u001b[0m\u001b[0;34m)\u001b[0m\u001b[0;34m\u001b[0m\u001b[0;34m\u001b[0m\u001b[0m\n",
            "\u001b[0;32m/usr/local/lib/python3.11/dist-packages/pandas/core/frame.py\u001b[0m in \u001b[0;36mdropna\u001b[0;34m(self, axis, how, thresh, subset, inplace, ignore_index)\u001b[0m\n\u001b[1;32m   6668\u001b[0m             \u001b[0mcheck\u001b[0m \u001b[0;34m=\u001b[0m \u001b[0mindices\u001b[0m \u001b[0;34m==\u001b[0m \u001b[0;34m-\u001b[0m\u001b[0;36m1\u001b[0m\u001b[0;34m\u001b[0m\u001b[0;34m\u001b[0m\u001b[0m\n\u001b[1;32m   6669\u001b[0m             \u001b[0;32mif\u001b[0m \u001b[0mcheck\u001b[0m\u001b[0;34m.\u001b[0m\u001b[0many\u001b[0m\u001b[0;34m(\u001b[0m\u001b[0;34m)\u001b[0m\u001b[0;34m:\u001b[0m\u001b[0;34m\u001b[0m\u001b[0;34m\u001b[0m\u001b[0m\n\u001b[0;32m-> 6670\u001b[0;31m                 \u001b[0;32mraise\u001b[0m \u001b[0mKeyError\u001b[0m\u001b[0;34m(\u001b[0m\u001b[0mnp\u001b[0m\u001b[0;34m.\u001b[0m\u001b[0marray\u001b[0m\u001b[0;34m(\u001b[0m\u001b[0msubset\u001b[0m\u001b[0;34m)\u001b[0m\u001b[0;34m[\u001b[0m\u001b[0mcheck\u001b[0m\u001b[0;34m]\u001b[0m\u001b[0;34m.\u001b[0m\u001b[0mtolist\u001b[0m\u001b[0;34m(\u001b[0m\u001b[0;34m)\u001b[0m\u001b[0;34m)\u001b[0m\u001b[0;34m\u001b[0m\u001b[0;34m\u001b[0m\u001b[0m\n\u001b[0m\u001b[1;32m   6671\u001b[0m             \u001b[0magg_obj\u001b[0m \u001b[0;34m=\u001b[0m \u001b[0mself\u001b[0m\u001b[0;34m.\u001b[0m\u001b[0mtake\u001b[0m\u001b[0;34m(\u001b[0m\u001b[0mindices\u001b[0m\u001b[0;34m,\u001b[0m \u001b[0maxis\u001b[0m\u001b[0;34m=\u001b[0m\u001b[0magg_axis\u001b[0m\u001b[0;34m)\u001b[0m\u001b[0;34m\u001b[0m\u001b[0;34m\u001b[0m\u001b[0m\n\u001b[1;32m   6672\u001b[0m \u001b[0;34m\u001b[0m\u001b[0m\n",
            "\u001b[0;31mKeyError\u001b[0m: ['begin_breakpoint', 'stop_breakpoint', 'begin_location', 'end_location', 'reference_virus_genome']"
          ]
        }
      ]
    },
    {
      "cell_type": "code",
      "source": [
        "# Filter for 'GRCh37/hg19', 'hg19', or 'GRCh37' in the 'reference_human_genome' column (case-insensitive)\n",
        "hpv_df = hpv_df[hpv_df['reference_human_genome'].str.lower().isin(['grch37/hg19', 'hg19', 'grch37'])]\n",
        "hpv_df['reference_human_genome'].unique()\n"
      ],
      "metadata": {
        "colab": {
          "base_uri": "https://localhost:8080/",
          "height": 572
        },
        "id": "e6YMFSIN3QQY",
        "outputId": "19452253-782e-4331-887a-bdb75625d18e"
      },
      "execution_count": 51,
      "outputs": [
        {
          "output_type": "error",
          "ename": "KeyError",
          "evalue": "'reference_human_genome'",
          "traceback": [
            "\u001b[0;31m---------------------------------------------------------------------------\u001b[0m",
            "\u001b[0;31mKeyError\u001b[0m                                  Traceback (most recent call last)",
            "\u001b[0;32m/usr/local/lib/python3.11/dist-packages/pandas/core/indexes/base.py\u001b[0m in \u001b[0;36mget_loc\u001b[0;34m(self, key)\u001b[0m\n\u001b[1;32m   3804\u001b[0m         \u001b[0;32mtry\u001b[0m\u001b[0;34m:\u001b[0m\u001b[0;34m\u001b[0m\u001b[0;34m\u001b[0m\u001b[0m\n\u001b[0;32m-> 3805\u001b[0;31m             \u001b[0;32mreturn\u001b[0m \u001b[0mself\u001b[0m\u001b[0;34m.\u001b[0m\u001b[0m_engine\u001b[0m\u001b[0;34m.\u001b[0m\u001b[0mget_loc\u001b[0m\u001b[0;34m(\u001b[0m\u001b[0mcasted_key\u001b[0m\u001b[0;34m)\u001b[0m\u001b[0;34m\u001b[0m\u001b[0;34m\u001b[0m\u001b[0m\n\u001b[0m\u001b[1;32m   3806\u001b[0m         \u001b[0;32mexcept\u001b[0m \u001b[0mKeyError\u001b[0m \u001b[0;32mas\u001b[0m \u001b[0merr\u001b[0m\u001b[0;34m:\u001b[0m\u001b[0;34m\u001b[0m\u001b[0;34m\u001b[0m\u001b[0m\n",
            "\u001b[0;32mindex.pyx\u001b[0m in \u001b[0;36mpandas._libs.index.IndexEngine.get_loc\u001b[0;34m()\u001b[0m\n",
            "\u001b[0;32mindex.pyx\u001b[0m in \u001b[0;36mpandas._libs.index.IndexEngine.get_loc\u001b[0;34m()\u001b[0m\n",
            "\u001b[0;32mpandas/_libs/hashtable_class_helper.pxi\u001b[0m in \u001b[0;36mpandas._libs.hashtable.PyObjectHashTable.get_item\u001b[0;34m()\u001b[0m\n",
            "\u001b[0;32mpandas/_libs/hashtable_class_helper.pxi\u001b[0m in \u001b[0;36mpandas._libs.hashtable.PyObjectHashTable.get_item\u001b[0;34m()\u001b[0m\n",
            "\u001b[0;31mKeyError\u001b[0m: 'reference_human_genome'",
            "\nThe above exception was the direct cause of the following exception:\n",
            "\u001b[0;31mKeyError\u001b[0m                                  Traceback (most recent call last)",
            "\u001b[0;32m<ipython-input-51-24f9103e9980>\u001b[0m in \u001b[0;36m<cell line: 0>\u001b[0;34m()\u001b[0m\n\u001b[1;32m      1\u001b[0m \u001b[0;31m# Filter for 'GRCh37/hg19', 'hg19', or 'GRCh37' in the 'reference_human_genome' column (case-insensitive)\u001b[0m\u001b[0;34m\u001b[0m\u001b[0;34m\u001b[0m\u001b[0m\n\u001b[0;32m----> 2\u001b[0;31m \u001b[0mhpv_df\u001b[0m \u001b[0;34m=\u001b[0m \u001b[0mhpv_df\u001b[0m\u001b[0;34m[\u001b[0m\u001b[0mhpv_df\u001b[0m\u001b[0;34m[\u001b[0m\u001b[0;34m'reference_human_genome'\u001b[0m\u001b[0;34m]\u001b[0m\u001b[0;34m.\u001b[0m\u001b[0mstr\u001b[0m\u001b[0;34m.\u001b[0m\u001b[0mlower\u001b[0m\u001b[0;34m(\u001b[0m\u001b[0;34m)\u001b[0m\u001b[0;34m.\u001b[0m\u001b[0misin\u001b[0m\u001b[0;34m(\u001b[0m\u001b[0;34m[\u001b[0m\u001b[0;34m'grch37/hg19'\u001b[0m\u001b[0;34m,\u001b[0m \u001b[0;34m'hg19'\u001b[0m\u001b[0;34m,\u001b[0m \u001b[0;34m'grch37'\u001b[0m\u001b[0;34m]\u001b[0m\u001b[0;34m)\u001b[0m\u001b[0;34m]\u001b[0m\u001b[0;34m\u001b[0m\u001b[0;34m\u001b[0m\u001b[0m\n\u001b[0m\u001b[1;32m      3\u001b[0m \u001b[0mhpv_df\u001b[0m\u001b[0;34m[\u001b[0m\u001b[0;34m'reference_human_genome'\u001b[0m\u001b[0;34m]\u001b[0m\u001b[0;34m.\u001b[0m\u001b[0munique\u001b[0m\u001b[0;34m(\u001b[0m\u001b[0;34m)\u001b[0m\u001b[0;34m\u001b[0m\u001b[0;34m\u001b[0m\u001b[0m\n",
            "\u001b[0;32m/usr/local/lib/python3.11/dist-packages/pandas/core/frame.py\u001b[0m in \u001b[0;36m__getitem__\u001b[0;34m(self, key)\u001b[0m\n\u001b[1;32m   4100\u001b[0m             \u001b[0;32mif\u001b[0m \u001b[0mself\u001b[0m\u001b[0;34m.\u001b[0m\u001b[0mcolumns\u001b[0m\u001b[0;34m.\u001b[0m\u001b[0mnlevels\u001b[0m \u001b[0;34m>\u001b[0m \u001b[0;36m1\u001b[0m\u001b[0;34m:\u001b[0m\u001b[0;34m\u001b[0m\u001b[0;34m\u001b[0m\u001b[0m\n\u001b[1;32m   4101\u001b[0m                 \u001b[0;32mreturn\u001b[0m \u001b[0mself\u001b[0m\u001b[0;34m.\u001b[0m\u001b[0m_getitem_multilevel\u001b[0m\u001b[0;34m(\u001b[0m\u001b[0mkey\u001b[0m\u001b[0;34m)\u001b[0m\u001b[0;34m\u001b[0m\u001b[0;34m\u001b[0m\u001b[0m\n\u001b[0;32m-> 4102\u001b[0;31m             \u001b[0mindexer\u001b[0m \u001b[0;34m=\u001b[0m \u001b[0mself\u001b[0m\u001b[0;34m.\u001b[0m\u001b[0mcolumns\u001b[0m\u001b[0;34m.\u001b[0m\u001b[0mget_loc\u001b[0m\u001b[0;34m(\u001b[0m\u001b[0mkey\u001b[0m\u001b[0;34m)\u001b[0m\u001b[0;34m\u001b[0m\u001b[0;34m\u001b[0m\u001b[0m\n\u001b[0m\u001b[1;32m   4103\u001b[0m             \u001b[0;32mif\u001b[0m \u001b[0mis_integer\u001b[0m\u001b[0;34m(\u001b[0m\u001b[0mindexer\u001b[0m\u001b[0;34m)\u001b[0m\u001b[0;34m:\u001b[0m\u001b[0;34m\u001b[0m\u001b[0;34m\u001b[0m\u001b[0m\n\u001b[1;32m   4104\u001b[0m                 \u001b[0mindexer\u001b[0m \u001b[0;34m=\u001b[0m \u001b[0;34m[\u001b[0m\u001b[0mindexer\u001b[0m\u001b[0;34m]\u001b[0m\u001b[0;34m\u001b[0m\u001b[0;34m\u001b[0m\u001b[0m\n",
            "\u001b[0;32m/usr/local/lib/python3.11/dist-packages/pandas/core/indexes/base.py\u001b[0m in \u001b[0;36mget_loc\u001b[0;34m(self, key)\u001b[0m\n\u001b[1;32m   3810\u001b[0m             ):\n\u001b[1;32m   3811\u001b[0m                 \u001b[0;32mraise\u001b[0m \u001b[0mInvalidIndexError\u001b[0m\u001b[0;34m(\u001b[0m\u001b[0mkey\u001b[0m\u001b[0;34m)\u001b[0m\u001b[0;34m\u001b[0m\u001b[0;34m\u001b[0m\u001b[0m\n\u001b[0;32m-> 3812\u001b[0;31m             \u001b[0;32mraise\u001b[0m \u001b[0mKeyError\u001b[0m\u001b[0;34m(\u001b[0m\u001b[0mkey\u001b[0m\u001b[0;34m)\u001b[0m \u001b[0;32mfrom\u001b[0m \u001b[0merr\u001b[0m\u001b[0;34m\u001b[0m\u001b[0;34m\u001b[0m\u001b[0m\n\u001b[0m\u001b[1;32m   3813\u001b[0m         \u001b[0;32mexcept\u001b[0m \u001b[0mTypeError\u001b[0m\u001b[0;34m:\u001b[0m\u001b[0;34m\u001b[0m\u001b[0;34m\u001b[0m\u001b[0m\n\u001b[1;32m   3814\u001b[0m             \u001b[0;31m# If we have a listlike key, _check_indexing_error will raise\u001b[0m\u001b[0;34m\u001b[0m\u001b[0;34m\u001b[0m\u001b[0m\n",
            "\u001b[0;31mKeyError\u001b[0m: 'reference_human_genome'"
          ]
        }
      ]
    },
    {
      "cell_type": "markdown",
      "source": [
        "##Data Visualization"
      ],
      "metadata": {
        "id": "kjyAGaQjwKwB"
      }
    },
    {
      "cell_type": "code",
      "source": [
        "import natsort\n",
        "hpv_chromosome_counts = hpv_df.sort_values(by='chromosome')['chromosome'].value_counts()\n",
        "hpv_chromosome_counts = hpv_chromosome_counts.reindex(natsort.natsorted(hpv_chromosome_counts.index))"
      ],
      "metadata": {
        "id": "lf0cROpn3RqJ"
      },
      "execution_count": null,
      "outputs": []
    },
    {
      "cell_type": "code",
      "source": [
        "# Create the bar plot\n",
        "plt.figure(figsize=(12, 6))\n",
        "sns.barplot(x=hpv_chromosome_counts.index, y=hpv_chromosome_counts.values, color='#6b173b')\n",
        "plt.xlabel('Chromosome')\n",
        "plt.ylabel('Count')\n",
        "plt.title('HPV Integration Sites per Chromosome')\n",
        "plt.xticks(rotation=45, ha='right')  # Rotate x-axis labels for better readability\n",
        "plt.tight_layout()\n",
        "plt.show()\n"
      ],
      "metadata": {
        "id": "8dkFya6k3VwQ"
      },
      "execution_count": null,
      "outputs": []
    },
    {
      "cell_type": "markdown",
      "source": [
        "## Data Extraction"
      ],
      "metadata": {
        "id": "jL0VU6FdxdKF"
      }
    },
    {
      "cell_type": "code",
      "source": [
        "\n",
        "#loop through data\n",
        "seq_list =[]\n",
        "for ind, row in hpv_df.iterrows():\n",
        "    #try:\n",
        "    virus_name = row['virus']\n",
        "    virus_ref = row['reference_virus_genome']\n",
        "    hum_ref = row['reference_human_genome']\n",
        "    chrom = row['chromosome']\n",
        "    begin_ref = int(row['begin_location'])\n",
        "    stop_ref = int(row['end_location'])\n",
        "    human_seq = human_seq_extract(hum_ref, chrom, begin_ref, stop_ref )\n",
        "    viral_seq = virus_seq_extract(virus_name, virus_ref.strip(\" \"), int(row['begin_breakpoint']), int(row['stop_breakpoint']))\n",
        "    spliced_seq = human_seq[0] + viral_seq + human_seq[1]\n",
        "    seq_list.append([virus_name, virus_ref, hum_ref, spliced_seq, viral_seq, human_seq[0], human_seq[1]])\n",
        "    #print(ind)\n",
        "    #except:\n",
        "    #  print(f\"Virus Name:{virus_name}  Virus Reference: {virus_ref} Virus Begin Breakpoint: {row['begin_breakpoint']} Virus Stop Breakpoint: {row['stop_breakpoint']} \\n Human Reference: {hum_ref} , Chromosome: {chrom} , Begin Location:{begin_ref} , End Location:{stop_ref} \")\n",
        "\n",
        "\n"
      ],
      "metadata": {
        "id": "znu582Tw3X31"
      },
      "execution_count": null,
      "outputs": []
    },
    {
      "cell_type": "code",
      "source": [
        "#make seq_list a dataframe save as a csv\n",
        "seq_df = pd.DataFrame(seq_list, columns=['virus', 'virus_ref', 'human_ref', 'spliced_seq', 'viral_seq', 'human_seq_upstream', 'human_seq_downstream'])\n",
        "seq_df.to_csv('Spliced_Data_HPV.csv')"
      ],
      "metadata": {
        "id": "U39pnPEi3boW"
      },
      "execution_count": null,
      "outputs": []
    },
    {
      "cell_type": "markdown",
      "source": [
        "# EBV"
      ],
      "metadata": {
        "id": "71r5mpZA4Xrv"
      }
    },
    {
      "cell_type": "markdown",
      "source": [
        "## Load Data"
      ],
      "metadata": {
        "id": "7RFcsZqv6-Up"
      }
    },
    {
      "cell_type": "code",
      "source": [
        "#load xslx into dataframe\n",
        "ebv_df = pd.read_excel('EBV_VIS.xlsx')\n",
        "ebv_df.head()"
      ],
      "metadata": {
        "colab": {
          "base_uri": "https://localhost:8080/",
          "height": 327
        },
        "id": "vx0VlN7Q4Y_z",
        "outputId": "7b4db106-9cb0-45d0-89ae-7334ca57236a"
      },
      "execution_count": 44,
      "outputs": [
        {
          "output_type": "execute_result",
          "data": {
            "text/plain": [
              "  Virus  Virus subtype Reference virus genome  Begin breakpoint  \\\n",
              "0   EBV            NaN               KC207813               NaN   \n",
              "1   EBV            NaN               KC207813               NaN   \n",
              "2   EBV            NaN               NC007605          132586.0   \n",
              "3   EBV            NaN               NC007605            9446.0   \n",
              "4   EBV            NaN               NC007605           54922.0   \n",
              "\n",
              "   Stop breakpoint Chromosome Locus Reference human genome  Begin location  \\\n",
              "0              NaN       chr6   NaN            GRCh37/hg19      91004306.0   \n",
              "1              NaN       chr6   NaN            GRCh37/hg19      91006199.0   \n",
              "2              NaN      chr12   NaN            GRCh37/hg19      74764643.0   \n",
              "3              NaN       chr1   NaN            GRCh37/hg19      27648679.0   \n",
              "4              NaN       chr1   NaN            GRCh37/hg19     142314854.0   \n",
              "\n",
              "   End location     Sample                  Disease   Method  PubMed ID  \\\n",
              "0    91005711.0  cell line          B-cell lymphoma  RNA-Seq   25355872   \n",
              "1    91006488.0  cell line          B-cell lymphoma  RNA-Seq   25355872   \n",
              "2           NaN  cell line  Nasopharyngeal carcinom      WGS   26819646   \n",
              "3           NaN  cell line  Nasopharyngeal carcinom      WGS   26819646   \n",
              "4           NaN  cell line  Nasopharyngeal carcinom      WGS   26819646   \n",
              "\n",
              "  Target gene  \n",
              "0       BACH2  \n",
              "1       BACH2  \n",
              "2         NaN  \n",
              "3     TMEM222  \n",
              "4         NaN  "
            ],
            "text/html": [
              "\n",
              "  <div id=\"df-b08b6e25-6944-4356-b7b7-b7ab6bf3fb6d\" class=\"colab-df-container\">\n",
              "    <div>\n",
              "<style scoped>\n",
              "    .dataframe tbody tr th:only-of-type {\n",
              "        vertical-align: middle;\n",
              "    }\n",
              "\n",
              "    .dataframe tbody tr th {\n",
              "        vertical-align: top;\n",
              "    }\n",
              "\n",
              "    .dataframe thead th {\n",
              "        text-align: right;\n",
              "    }\n",
              "</style>\n",
              "<table border=\"1\" class=\"dataframe\">\n",
              "  <thead>\n",
              "    <tr style=\"text-align: right;\">\n",
              "      <th></th>\n",
              "      <th>Virus</th>\n",
              "      <th>Virus subtype</th>\n",
              "      <th>Reference virus genome</th>\n",
              "      <th>Begin breakpoint</th>\n",
              "      <th>Stop breakpoint</th>\n",
              "      <th>Chromosome</th>\n",
              "      <th>Locus</th>\n",
              "      <th>Reference human genome</th>\n",
              "      <th>Begin location</th>\n",
              "      <th>End location</th>\n",
              "      <th>Sample</th>\n",
              "      <th>Disease</th>\n",
              "      <th>Method</th>\n",
              "      <th>PubMed ID</th>\n",
              "      <th>Target gene</th>\n",
              "    </tr>\n",
              "  </thead>\n",
              "  <tbody>\n",
              "    <tr>\n",
              "      <th>0</th>\n",
              "      <td>EBV</td>\n",
              "      <td>NaN</td>\n",
              "      <td>KC207813</td>\n",
              "      <td>NaN</td>\n",
              "      <td>NaN</td>\n",
              "      <td>chr6</td>\n",
              "      <td>NaN</td>\n",
              "      <td>GRCh37/hg19</td>\n",
              "      <td>91004306.0</td>\n",
              "      <td>91005711.0</td>\n",
              "      <td>cell line</td>\n",
              "      <td>B-cell lymphoma</td>\n",
              "      <td>RNA-Seq</td>\n",
              "      <td>25355872</td>\n",
              "      <td>BACH2</td>\n",
              "    </tr>\n",
              "    <tr>\n",
              "      <th>1</th>\n",
              "      <td>EBV</td>\n",
              "      <td>NaN</td>\n",
              "      <td>KC207813</td>\n",
              "      <td>NaN</td>\n",
              "      <td>NaN</td>\n",
              "      <td>chr6</td>\n",
              "      <td>NaN</td>\n",
              "      <td>GRCh37/hg19</td>\n",
              "      <td>91006199.0</td>\n",
              "      <td>91006488.0</td>\n",
              "      <td>cell line</td>\n",
              "      <td>B-cell lymphoma</td>\n",
              "      <td>RNA-Seq</td>\n",
              "      <td>25355872</td>\n",
              "      <td>BACH2</td>\n",
              "    </tr>\n",
              "    <tr>\n",
              "      <th>2</th>\n",
              "      <td>EBV</td>\n",
              "      <td>NaN</td>\n",
              "      <td>NC007605</td>\n",
              "      <td>132586.0</td>\n",
              "      <td>NaN</td>\n",
              "      <td>chr12</td>\n",
              "      <td>NaN</td>\n",
              "      <td>GRCh37/hg19</td>\n",
              "      <td>74764643.0</td>\n",
              "      <td>NaN</td>\n",
              "      <td>cell line</td>\n",
              "      <td>Nasopharyngeal carcinom</td>\n",
              "      <td>WGS</td>\n",
              "      <td>26819646</td>\n",
              "      <td>NaN</td>\n",
              "    </tr>\n",
              "    <tr>\n",
              "      <th>3</th>\n",
              "      <td>EBV</td>\n",
              "      <td>NaN</td>\n",
              "      <td>NC007605</td>\n",
              "      <td>9446.0</td>\n",
              "      <td>NaN</td>\n",
              "      <td>chr1</td>\n",
              "      <td>NaN</td>\n",
              "      <td>GRCh37/hg19</td>\n",
              "      <td>27648679.0</td>\n",
              "      <td>NaN</td>\n",
              "      <td>cell line</td>\n",
              "      <td>Nasopharyngeal carcinom</td>\n",
              "      <td>WGS</td>\n",
              "      <td>26819646</td>\n",
              "      <td>TMEM222</td>\n",
              "    </tr>\n",
              "    <tr>\n",
              "      <th>4</th>\n",
              "      <td>EBV</td>\n",
              "      <td>NaN</td>\n",
              "      <td>NC007605</td>\n",
              "      <td>54922.0</td>\n",
              "      <td>NaN</td>\n",
              "      <td>chr1</td>\n",
              "      <td>NaN</td>\n",
              "      <td>GRCh37/hg19</td>\n",
              "      <td>142314854.0</td>\n",
              "      <td>NaN</td>\n",
              "      <td>cell line</td>\n",
              "      <td>Nasopharyngeal carcinom</td>\n",
              "      <td>WGS</td>\n",
              "      <td>26819646</td>\n",
              "      <td>NaN</td>\n",
              "    </tr>\n",
              "  </tbody>\n",
              "</table>\n",
              "</div>\n",
              "    <div class=\"colab-df-buttons\">\n",
              "\n",
              "  <div class=\"colab-df-container\">\n",
              "    <button class=\"colab-df-convert\" onclick=\"convertToInteractive('df-b08b6e25-6944-4356-b7b7-b7ab6bf3fb6d')\"\n",
              "            title=\"Convert this dataframe to an interactive table.\"\n",
              "            style=\"display:none;\">\n",
              "\n",
              "  <svg xmlns=\"http://www.w3.org/2000/svg\" height=\"24px\" viewBox=\"0 -960 960 960\">\n",
              "    <path d=\"M120-120v-720h720v720H120Zm60-500h600v-160H180v160Zm220 220h160v-160H400v160Zm0 220h160v-160H400v160ZM180-400h160v-160H180v160Zm440 0h160v-160H620v160ZM180-180h160v-160H180v160Zm440 0h160v-160H620v160Z\"/>\n",
              "  </svg>\n",
              "    </button>\n",
              "\n",
              "  <style>\n",
              "    .colab-df-container {\n",
              "      display:flex;\n",
              "      gap: 12px;\n",
              "    }\n",
              "\n",
              "    .colab-df-convert {\n",
              "      background-color: #E8F0FE;\n",
              "      border: none;\n",
              "      border-radius: 50%;\n",
              "      cursor: pointer;\n",
              "      display: none;\n",
              "      fill: #1967D2;\n",
              "      height: 32px;\n",
              "      padding: 0 0 0 0;\n",
              "      width: 32px;\n",
              "    }\n",
              "\n",
              "    .colab-df-convert:hover {\n",
              "      background-color: #E2EBFA;\n",
              "      box-shadow: 0px 1px 2px rgba(60, 64, 67, 0.3), 0px 1px 3px 1px rgba(60, 64, 67, 0.15);\n",
              "      fill: #174EA6;\n",
              "    }\n",
              "\n",
              "    .colab-df-buttons div {\n",
              "      margin-bottom: 4px;\n",
              "    }\n",
              "\n",
              "    [theme=dark] .colab-df-convert {\n",
              "      background-color: #3B4455;\n",
              "      fill: #D2E3FC;\n",
              "    }\n",
              "\n",
              "    [theme=dark] .colab-df-convert:hover {\n",
              "      background-color: #434B5C;\n",
              "      box-shadow: 0px 1px 3px 1px rgba(0, 0, 0, 0.15);\n",
              "      filter: drop-shadow(0px 1px 2px rgba(0, 0, 0, 0.3));\n",
              "      fill: #FFFFFF;\n",
              "    }\n",
              "  </style>\n",
              "\n",
              "    <script>\n",
              "      const buttonEl =\n",
              "        document.querySelector('#df-b08b6e25-6944-4356-b7b7-b7ab6bf3fb6d button.colab-df-convert');\n",
              "      buttonEl.style.display =\n",
              "        google.colab.kernel.accessAllowed ? 'block' : 'none';\n",
              "\n",
              "      async function convertToInteractive(key) {\n",
              "        const element = document.querySelector('#df-b08b6e25-6944-4356-b7b7-b7ab6bf3fb6d');\n",
              "        const dataTable =\n",
              "          await google.colab.kernel.invokeFunction('convertToInteractive',\n",
              "                                                    [key], {});\n",
              "        if (!dataTable) return;\n",
              "\n",
              "        const docLinkHtml = 'Like what you see? Visit the ' +\n",
              "          '<a target=\"_blank\" href=https://colab.research.google.com/notebooks/data_table.ipynb>data table notebook</a>'\n",
              "          + ' to learn more about interactive tables.';\n",
              "        element.innerHTML = '';\n",
              "        dataTable['output_type'] = 'display_data';\n",
              "        await google.colab.output.renderOutput(dataTable, element);\n",
              "        const docLink = document.createElement('div');\n",
              "        docLink.innerHTML = docLinkHtml;\n",
              "        element.appendChild(docLink);\n",
              "      }\n",
              "    </script>\n",
              "  </div>\n",
              "\n",
              "\n",
              "<div id=\"df-5e612301-42e2-49a9-8fb2-7de5e932dfba\">\n",
              "  <button class=\"colab-df-quickchart\" onclick=\"quickchart('df-5e612301-42e2-49a9-8fb2-7de5e932dfba')\"\n",
              "            title=\"Suggest charts\"\n",
              "            style=\"display:none;\">\n",
              "\n",
              "<svg xmlns=\"http://www.w3.org/2000/svg\" height=\"24px\"viewBox=\"0 0 24 24\"\n",
              "     width=\"24px\">\n",
              "    <g>\n",
              "        <path d=\"M19 3H5c-1.1 0-2 .9-2 2v14c0 1.1.9 2 2 2h14c1.1 0 2-.9 2-2V5c0-1.1-.9-2-2-2zM9 17H7v-7h2v7zm4 0h-2V7h2v10zm4 0h-2v-4h2v4z\"/>\n",
              "    </g>\n",
              "</svg>\n",
              "  </button>\n",
              "\n",
              "<style>\n",
              "  .colab-df-quickchart {\n",
              "      --bg-color: #E8F0FE;\n",
              "      --fill-color: #1967D2;\n",
              "      --hover-bg-color: #E2EBFA;\n",
              "      --hover-fill-color: #174EA6;\n",
              "      --disabled-fill-color: #AAA;\n",
              "      --disabled-bg-color: #DDD;\n",
              "  }\n",
              "\n",
              "  [theme=dark] .colab-df-quickchart {\n",
              "      --bg-color: #3B4455;\n",
              "      --fill-color: #D2E3FC;\n",
              "      --hover-bg-color: #434B5C;\n",
              "      --hover-fill-color: #FFFFFF;\n",
              "      --disabled-bg-color: #3B4455;\n",
              "      --disabled-fill-color: #666;\n",
              "  }\n",
              "\n",
              "  .colab-df-quickchart {\n",
              "    background-color: var(--bg-color);\n",
              "    border: none;\n",
              "    border-radius: 50%;\n",
              "    cursor: pointer;\n",
              "    display: none;\n",
              "    fill: var(--fill-color);\n",
              "    height: 32px;\n",
              "    padding: 0;\n",
              "    width: 32px;\n",
              "  }\n",
              "\n",
              "  .colab-df-quickchart:hover {\n",
              "    background-color: var(--hover-bg-color);\n",
              "    box-shadow: 0 1px 2px rgba(60, 64, 67, 0.3), 0 1px 3px 1px rgba(60, 64, 67, 0.15);\n",
              "    fill: var(--button-hover-fill-color);\n",
              "  }\n",
              "\n",
              "  .colab-df-quickchart-complete:disabled,\n",
              "  .colab-df-quickchart-complete:disabled:hover {\n",
              "    background-color: var(--disabled-bg-color);\n",
              "    fill: var(--disabled-fill-color);\n",
              "    box-shadow: none;\n",
              "  }\n",
              "\n",
              "  .colab-df-spinner {\n",
              "    border: 2px solid var(--fill-color);\n",
              "    border-color: transparent;\n",
              "    border-bottom-color: var(--fill-color);\n",
              "    animation:\n",
              "      spin 1s steps(1) infinite;\n",
              "  }\n",
              "\n",
              "  @keyframes spin {\n",
              "    0% {\n",
              "      border-color: transparent;\n",
              "      border-bottom-color: var(--fill-color);\n",
              "      border-left-color: var(--fill-color);\n",
              "    }\n",
              "    20% {\n",
              "      border-color: transparent;\n",
              "      border-left-color: var(--fill-color);\n",
              "      border-top-color: var(--fill-color);\n",
              "    }\n",
              "    30% {\n",
              "      border-color: transparent;\n",
              "      border-left-color: var(--fill-color);\n",
              "      border-top-color: var(--fill-color);\n",
              "      border-right-color: var(--fill-color);\n",
              "    }\n",
              "    40% {\n",
              "      border-color: transparent;\n",
              "      border-right-color: var(--fill-color);\n",
              "      border-top-color: var(--fill-color);\n",
              "    }\n",
              "    60% {\n",
              "      border-color: transparent;\n",
              "      border-right-color: var(--fill-color);\n",
              "    }\n",
              "    80% {\n",
              "      border-color: transparent;\n",
              "      border-right-color: var(--fill-color);\n",
              "      border-bottom-color: var(--fill-color);\n",
              "    }\n",
              "    90% {\n",
              "      border-color: transparent;\n",
              "      border-bottom-color: var(--fill-color);\n",
              "    }\n",
              "  }\n",
              "</style>\n",
              "\n",
              "  <script>\n",
              "    async function quickchart(key) {\n",
              "      const quickchartButtonEl =\n",
              "        document.querySelector('#' + key + ' button');\n",
              "      quickchartButtonEl.disabled = true;  // To prevent multiple clicks.\n",
              "      quickchartButtonEl.classList.add('colab-df-spinner');\n",
              "      try {\n",
              "        const charts = await google.colab.kernel.invokeFunction(\n",
              "            'suggestCharts', [key], {});\n",
              "      } catch (error) {\n",
              "        console.error('Error during call to suggestCharts:', error);\n",
              "      }\n",
              "      quickchartButtonEl.classList.remove('colab-df-spinner');\n",
              "      quickchartButtonEl.classList.add('colab-df-quickchart-complete');\n",
              "    }\n",
              "    (() => {\n",
              "      let quickchartButtonEl =\n",
              "        document.querySelector('#df-5e612301-42e2-49a9-8fb2-7de5e932dfba button');\n",
              "      quickchartButtonEl.style.display =\n",
              "        google.colab.kernel.accessAllowed ? 'block' : 'none';\n",
              "    })();\n",
              "  </script>\n",
              "</div>\n",
              "\n",
              "    </div>\n",
              "  </div>\n"
            ],
            "application/vnd.google.colaboratory.intrinsic+json": {
              "type": "dataframe",
              "variable_name": "ebv_df",
              "summary": "{\n  \"name\": \"ebv_df\",\n  \"rows\": 1144,\n  \"fields\": [\n    {\n      \"column\": \"Virus\",\n      \"properties\": {\n        \"dtype\": \"category\",\n        \"num_unique_values\": 1,\n        \"samples\": [\n          \"EBV\"\n        ],\n        \"semantic_type\": \"\",\n        \"description\": \"\"\n      }\n    },\n    {\n      \"column\": \"Virus subtype\",\n      \"properties\": {\n        \"dtype\": \"number\",\n        \"std\": null,\n        \"min\": null,\n        \"max\": null,\n        \"num_unique_values\": 0,\n        \"samples\": [],\n        \"semantic_type\": \"\",\n        \"description\": \"\"\n      }\n    },\n    {\n      \"column\": \"Reference virus genome\",\n      \"properties\": {\n        \"dtype\": \"category\",\n        \"num_unique_values\": 4,\n        \"samples\": [],\n        \"semantic_type\": \"\",\n        \"description\": \"\"\n      }\n    },\n    {\n      \"column\": \"Begin breakpoint\",\n      \"properties\": {\n        \"dtype\": \"number\",\n        \"std\": 46612.97843296963,\n        \"min\": 70.0,\n        \"max\": 172250.0,\n        \"num_unique_values\": 1133,\n        \"samples\": [],\n        \"semantic_type\": \"\",\n        \"description\": \"\"\n      }\n    },\n    {\n      \"column\": \"Stop breakpoint\",\n      \"properties\": {\n        \"dtype\": \"number\",\n        \"std\": 38730.63905735868,\n        \"min\": 3544.0,\n        \"max\": 161222.0,\n        \"num_unique_values\": 31,\n        \"samples\": [],\n        \"semantic_type\": \"\",\n        \"description\": \"\"\n      }\n    },\n    {\n      \"column\": \"Chromosome\",\n      \"properties\": {\n        \"dtype\": \"category\",\n        \"num_unique_values\": 26,\n        \"samples\": [],\n        \"semantic_type\": \"\",\n        \"description\": \"\"\n      }\n    },\n    {\n      \"column\": \"Locus\",\n      \"properties\": {\n        \"dtype\": \"category\",\n        \"num_unique_values\": 107,\n        \"samples\": [],\n        \"semantic_type\": \"\",\n        \"description\": \"\"\n      }\n    },\n    {\n      \"column\": \"Reference human genome\",\n      \"properties\": {\n        \"dtype\": \"category\",\n        \"num_unique_values\": 4,\n        \"samples\": [],\n        \"semantic_type\": \"\",\n        \"description\": \"\"\n      }\n    },\n    {\n      \"column\": \"Begin location\",\n      \"properties\": {\n        \"dtype\": \"number\",\n        \"std\": 55851694.91276122,\n        \"min\": 14915.0,\n        \"max\": 248870199.0,\n        \"num_unique_values\": 1113,\n        \"samples\": [],\n        \"semantic_type\": \"\",\n        \"description\": \"\"\n      }\n    },\n    {\n      \"column\": \"End location\",\n      \"properties\": {\n        \"dtype\": \"number\",\n        \"std\": 74459519.28094748,\n        \"min\": 91005711.0,\n        \"max\": 219973770.0,\n        \"num_unique_values\": 3,\n        \"samples\": [],\n        \"semantic_type\": \"\",\n        \"description\": \"\"\n      }\n    },\n    {\n      \"column\": \"Sample\",\n      \"properties\": {\n        \"dtype\": \"category\",\n        \"num_unique_values\": 2,\n        \"samples\": [],\n        \"semantic_type\": \"\",\n        \"description\": \"\"\n      }\n    },\n    {\n      \"column\": \"Disease\",\n      \"properties\": {\n        \"dtype\": \"category\",\n        \"num_unique_values\": 7,\n        \"samples\": [],\n        \"semantic_type\": \"\",\n        \"description\": \"\"\n      }\n    },\n    {\n      \"column\": \"Method\",\n      \"properties\": {\n        \"dtype\": \"category\",\n        \"num_unique_values\": 7,\n        \"samples\": [],\n        \"semantic_type\": \"\",\n        \"description\": \"\"\n      }\n    },\n    {\n      \"column\": \"PubMed ID\",\n      \"properties\": {\n        \"dtype\": \"number\",\n        \"std\": 2190378,\n        \"min\": 14982850,\n        \"max\": 30867819,\n        \"num_unique_values\": 7,\n        \"samples\": [],\n        \"semantic_type\": \"\",\n        \"description\": \"\"\n      }\n    },\n    {\n      \"column\": \"Target gene\",\n      \"properties\": {\n        \"dtype\": \"category\",\n        \"num_unique_values\": 456,\n        \"samples\": [],\n        \"semantic_type\": \"\",\n        \"description\": \"\"\n      }\n    }\n  ]\n}"
            }
          },
          "metadata": {},
          "execution_count": 44
        }
      ]
    },
    {
      "cell_type": "markdown",
      "source": [
        "## Data Cleaning"
      ],
      "metadata": {
        "id": "YF-RUpqd7DWy"
      }
    },
    {
      "cell_type": "code",
      "source": [
        "#lowercase all values\n",
        "ebv_df = lower_case_and_underscore(ebv_df)"
      ],
      "metadata": {
        "id": "dR9caGXC4fmR"
      },
      "execution_count": 45,
      "outputs": []
    },
    {
      "cell_type": "code",
      "source": [
        "#filter out rows where begin_breakpoint or stop breakpoint  and also begin and end location are NA\n",
        "ebv_df = ebv_df.dropna(subset=['begin_breakpoint', 'stop_breakpoint', 'begin_location', 'end_location', 'reference_virus_genome'], how='any')\n",
        "ebv_df.head()\n",
        "\n",
        "# Filter for 'GRCh37/hg19', 'hg19', or 'GRCh37' in the 'reference_human_genome' column (case-insensitive)\n",
        "ebv_df = ebv_df[ebv_df['reference_human_genome'].str.lower().isin(['grch37/hg19', 'hg19', 'grch37'])]\n"
      ],
      "metadata": {
        "id": "IvUmEnA94mRE"
      },
      "execution_count": 46,
      "outputs": []
    },
    {
      "cell_type": "markdown",
      "source": [
        "## Data Visualization"
      ],
      "metadata": {
        "id": "mt2WmEh87F3K"
      }
    },
    {
      "cell_type": "code",
      "source": [
        "import natsort\n",
        "ebv_chromosome_counts = ebv_df.sort_values(by='chromosome')['chromosome'].value_counts()\n",
        "ebv_chromosome_counts = ebv_chromosome_counts.reindex(natsort.natsorted(ebv_chromosome_counts.index))\n"
      ],
      "metadata": {
        "id": "t0VTaAda4xpZ"
      },
      "execution_count": 47,
      "outputs": []
    },
    {
      "cell_type": "code",
      "source": [
        "# Create the bar plot\n",
        "plt.figure(figsize=(12, 6))\n",
        "sns.barplot(x=ebv_chromosome_counts.index, y=ebv_chromosome_counts.values, color='#6b173b')\n",
        "plt.xlabel('Chromosome')\n",
        "plt.ylabel('Count')\n",
        "plt.title('EBV Integration Sites per Chromosome')\n",
        "plt.xticks(rotation=45, ha='right')  # Rotate x-axis labels for better readability\n",
        "plt.tight_layout()\n",
        "plt.show()\n",
        "\n"
      ],
      "metadata": {
        "colab": {
          "base_uri": "https://localhost:8080/",
          "height": 607
        },
        "id": "_Zu0PAOH4z-s",
        "outputId": "63e32241-9469-43b2-8cd8-d382646982e6"
      },
      "execution_count": 48,
      "outputs": [
        {
          "output_type": "display_data",
          "data": {
            "text/plain": [
              "<Figure size 1200x600 with 1 Axes>"
            ],
            "image/png": "[encoded data removed]"
          },
          "metadata": {}
        }
      ]
    },
    {
      "cell_type": "markdown",
      "source": [
        "## Data Extraction"
      ],
      "metadata": {
        "id": "CKgK-dMt7IhF"
      }
    },
    {
      "cell_type": "code",
      "source": [
        "#loop through data\n",
        "seq_list =[]\n",
        "for ind, row in ebv_df.iterrows():\n",
        "    #try:\n",
        "    virus_name = row['virus']\n",
        "    virus_ref = row['reference_virus_genome']\n",
        "    hum_ref = row['reference_human_genome']\n",
        "    chrom = row['chromosome']\n",
        "    begin_ref = int(row['begin_location'])\n",
        "    stop_ref = int(row['end_location'])\n",
        "    human_seq = human_seq_extract(hum_ref, chrom, begin_ref, stop_ref )\n",
        "    viral_seq = virus_seq_extract(virus_name, virus_ref, int(row['begin_breakpoint']), int(row['stop_breakpoint']))\n",
        "    spliced_seq = human_seq[0] + viral_seq + human_seq[1]\n",
        "    seq_list.append([virus_name, virus_ref, hum_ref, spliced_seq, viral_seq, human_seq[0], human_seq[1]])\n",
        "      #print(ind)\n",
        "    #except:\n",
        "     # print(f\"Virus Name:{virus_name}  Virus Reference: {virus_ref} \\n Human Reference: {hum_ref} , Chromosome: {chrom} , Begin Location:{begin_ref} , End Location:{stop_ref} \")\n",
        "\n",
        "      #pass\n",
        "\n"
      ],
      "metadata": {
        "id": "KhUArYwe42Mf"
      },
      "execution_count": 49,
      "outputs": []
    },
    {
      "cell_type": "code",
      "source": [
        "#make seq_list a dataframe save as a csv\n",
        "seq_df = pd.DataFrame(seq_list, columns=['virus', 'virus_ref', 'human_ref', 'spliced_seq', 'viral_seq', 'human_seq_upstream', 'human_seq_downstream'])\n",
        "seq_df.to_csv('Spliced_Data_EBV.csv')"
      ],
      "metadata": {
        "id": "YrqpVolo45jK"
      },
      "execution_count": 50,
      "outputs": []
    }
  ]
}