{
  "nbformat": 4,
  "nbformat_minor": 0,
  "metadata": {
    "colab": {
      "provenance": [],
      "include_colab_link": true
    },
    "kernelspec": {
      "name": "python3",
      "display_name": "Python 3"
    },
    "language_info": {
      "name": "python"
    }
  },
  "cells": [
    {
      "cell_type": "markdown",
      "metadata": {
        "id": "view-in-github",
        "colab_type": "text"
      },
      "source": [
        "<a href=\"https://colab.research.google.com/github/Nubiancodingdelight/ACS-Project-Repository-/blob/main/Generating_VIS.ipynb\" target=\"_parent\"><img src=\"https://colab.research.google.com/assets/colab-badge.svg\" alt=\"Open In Colab\"/></a>"
      ]
    },
    {
      "cell_type": "code",
      "execution_count": null,
      "metadata": {
        "colab": {
          "base_uri": "https://localhost:8080/"
        },
        "id": "UitA4QM35UrE",
        "outputId": "4059fae1-610f-4871-d523-04c657c33506"
      },
      "outputs": [
        {
          "output_type": "stream",
          "name": "stdout",
          "text": [
            "Mounted at /content/drive\n"
          ]
        }
      ],
      "source": [
        "#mounts google drive\n",
        "from google.colab import drive\n",
        "drive.mount('/content/drive')"
      ]
    },
    {
      "cell_type": "markdown",
      "source": [
        "Extract sequence from virus"
      ],
      "metadata": {
        "id": "lm38Gg9U-HAS"
      }
    },
    {
      "cell_type": "code",
      "source": [
        "def virus_seq_extract(ref, start, stop):\n",
        "\n",
        "  return seq"
      ],
      "metadata": {
        "id": "FNDCBtmP-GZL"
      },
      "execution_count": null,
      "outputs": []
    },
    {
      "cell_type": "markdown",
      "source": [
        "Extract Sequence from Human Reference 100 bp upstream and 100 bp downstream"
      ],
      "metadata": {
        "id": "sazjWlI--KHH"
      }
    },
    {
      "cell_type": "code",
      "source": [
        "def human_seq_extract(ref, start, stop):\n",
        "\n",
        "  return seq_list"
      ],
      "metadata": {
        "id": "dZZAzNYG-R38"
      },
      "execution_count": null,
      "outputs": []
    },
    {
      "cell_type": "markdown",
      "source": [
        "Concatenate Viral and Human Sequence and Insert into"
      ],
      "metadata": {
        "id": "dKfrwuDj-TRl"
      }
    },
    {
      "cell_type": "code",
      "source": [
        "df = pd.read_csv()\n",
        "seq_list =[]\n",
        "for row,ind in df:\n",
        "  virus_name =\n",
        "  virus_ref =\n",
        "  hum_ref =\n",
        "  human_seq = human_seq_extract()\n",
        "  viral_seq = virus_seq_extract()\n",
        "  spliced_seq = human_seq[0] + viral_seq + human_seq[1]\n",
        "  seq_list.append([virus_name, virus_ref, hum_ref, spliced_seq, viral_seq, human_seq[0], human_seq[1]])\n",
        "\n"
      ],
      "metadata": {
        "id": "vUpW4sGwF-eB"
      },
      "execution_count": null,
      "outputs": []
    },
    {
      "cell_type": "code",
      "source": [
        "#make seq_list a dataframe save as a csv"
      ],
      "metadata": {
        "id": "YLzLRB52Ja3Z"
      },
      "execution_count": null,
      "outputs": []
    }
  ]
}