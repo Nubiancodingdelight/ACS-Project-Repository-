{
  "nbformat": 4,
  "nbformat_minor": 0,
  "metadata": {
    "colab": {
      "provenance": [],
      "toc_visible": true,
      "authorship_tag": "ABX9TyPNnFV39sbqqt5I8hSHX/ZH",
      "include_colab_link": true
    },
    "kernelspec": {
      "name": "python3",
      "display_name": "Python 3"
    },
    "language_info": {
      "name": "python"
    }
  },
  "cells": [
    {
      "cell_type": "markdown",
      "metadata": {
        "id": "view-in-github",
        "colab_type": "text"
      },
      "source": [
        "<a href=\"https://colab.research.google.com/github/Nubiancodingdelight/ACS-Project-Repository-/blob/main/Generate_Matrix.ipynb\" target=\"_parent\"><img src=\"https://colab.research.google.com/assets/colab-badge.svg\" alt=\"Open In Colab\"/></a>"
      ]
    },
    {
      "cell_type": "markdown",
      "source": [
        "This notebooks generates matrices as numpy arrays.\n",
        "Created By: Lorrayya Williams\n",
        "Updated On: 4/13/2025"
      ],
      "metadata": {
        "id": "UvXls329dons"
      }
    },
    {
      "cell_type": "code",
      "execution_count": 1,
      "metadata": {
        "id": "ETdsGE0vcgEq",
        "colab": {
          "base_uri": "https://localhost:8080/"
        },
        "outputId": "dbf55f59-ce30-4292-a345-a73a8aa476a4"
      },
      "outputs": [
        {
          "output_type": "stream",
          "name": "stdout",
          "text": [
            "Mounted at /content/drive\n"
          ]
        }
      ],
      "source": [
        "#mounts google drive\n",
        "from google.colab import drive\n",
        "drive.mount('/content/drive', force_remount=True)"
      ]
    },
    {
      "cell_type": "code",
      "source": [
        "#set path\n",
        "%cd /content/drive/MyDrive/ACS_Research/VISDB_Data/"
      ],
      "metadata": {
        "id": "-I4DAI_3eAfu",
        "colab": {
          "base_uri": "https://localhost:8080/"
        },
        "outputId": "05c7acb0-cef4-45b0-eefd-c3777bbc7708"
      },
      "execution_count": 2,
      "outputs": [
        {
          "output_type": "stream",
          "name": "stdout",
          "text": [
            "/content/drive/MyDrive/ACS_Research/VISDB_Data\n"
          ]
        }
      ]
    },
    {
      "cell_type": "markdown",
      "source": [
        "INSTALL"
      ],
      "metadata": {
        "id": "G--T3GMI_ORT"
      }
    },
    {
      "cell_type": "code",
      "source": [
        "!pip install pysam"
      ],
      "metadata": {
        "colab": {
          "base_uri": "https://localhost:8080/"
        },
        "id": "cgQC1gd-_NO5",
        "outputId": "8d7e1af5-e888-4780-a93a-0b882a0fbaf6"
      },
      "execution_count": 3,
      "outputs": [
        {
          "output_type": "stream",
          "name": "stdout",
          "text": [
            "Collecting pysam\n",
            "  Downloading pysam-0.23.0-cp311-cp311-manylinux_2_28_x86_64.whl.metadata (1.6 kB)\n",
            "Downloading pysam-0.23.0-cp311-cp311-manylinux_2_28_x86_64.whl (26.0 MB)\n",
            "\u001b[2K   \u001b[90m━━━━━━━━━━━━━━━━━━━━━━━━━━━━━━━━━━━━━━━━\u001b[0m \u001b[32m26.0/26.0 MB\u001b[0m \u001b[31m18.1 MB/s\u001b[0m eta \u001b[36m0:00:00\u001b[0m\n",
            "\u001b[?25hInstalling collected packages: pysam\n",
            "Successfully installed pysam-0.23.0\n"
          ]
        }
      ]
    },
    {
      "cell_type": "markdown",
      "source": [
        "#Imports"
      ],
      "metadata": {
        "id": "m0qTrxoW_6Wa"
      }
    },
    {
      "cell_type": "code",
      "source": [
        "#imports\n",
        "import numpy as np\n",
        "import subprocess\n",
        "import shlex\n",
        "import pysam\n",
        "import re\n",
        "import tensorflow as tf\n",
        "import re\n",
        "import math\n",
        "import statistics as stat\n"
      ],
      "metadata": {
        "id": "IYWVvEG2_5qi"
      },
      "execution_count": 4,
      "outputs": []
    },
    {
      "cell_type": "markdown",
      "source": [
        "# Functions\n",
        "\n",
        "\n"
      ],
      "metadata": {
        "id": "rgXbYXkQAACJ"
      }
    },
    {
      "cell_type": "markdown",
      "source": [
        "## Generate Cigar"
      ],
      "metadata": {
        "id": "oSrz1PWUJUVq"
      }
    },
    {
      "cell_type": "code",
      "source": [
        "def generate_cigar(ref, seq):\n",
        "    cigar = []\n",
        "    count = 0\n",
        "    op = ''\n",
        "\n",
        "    for r, s in zip(ref, seq):\n",
        "        # Determine operation\n",
        "        if r == s and r != '-':\n",
        "            current_op = 'M'\n",
        "        elif r != s and r != '-' and s != '-':\n",
        "            current_op = 'X'\n",
        "        elif r == '-' and s != '-':\n",
        "            current_op = 'I'\n",
        "        elif s == '-' and r != '-':\n",
        "            current_op = 'D'\n",
        "        else:\n",
        "            continue  # skip if both are gaps\n",
        "\n",
        "        # Group by same operation\n",
        "        if current_op == op:\n",
        "            count += 1\n",
        "        else:\n",
        "            if op:\n",
        "                cigar.append(f\"{count}{op}\")\n",
        "            op = current_op\n",
        "            count = 1\n",
        "\n",
        "    if op:\n",
        "        cigar.append(f\"{count}{op}\")\n",
        "\n",
        "    return ''.join(cigar)\n",
        "\n",
        "# Example usage (aligned input)\n",
        "#ref = \"ACCGT-A\"\n",
        "#seq = \"AC-GTGA\"\n",
        "#print(generate_cigar(ref, seq))  # Output: 2=1D2=1I1=\n"
      ],
      "metadata": {
        "id": "zoFzrUZb6qCi"
      },
      "execution_count": 5,
      "outputs": []
    },
    {
      "cell_type": "code",
      "source": [
        "def reverse_complement(seq):\n",
        "    complement = str.maketrans('ACGTNacgtn', 'TGCANtgcan')\n",
        "    return seq.translate(complement)[::-1]"
      ],
      "metadata": {
        "id": "knqs12-J-EjU"
      },
      "execution_count": 41,
      "outputs": []
    },
    {
      "cell_type": "markdown",
      "source": [
        "## Create Bam from Sequence"
      ],
      "metadata": {
        "id": "nq4eKJq7JYVu"
      }
    },
    {
      "cell_type": "code",
      "source": [
        "import pysam\n",
        "from pysam import AlignmentHeader, AlignedSegment\n",
        "def create_bam_from_sequence(output_bam_path, dna_sequence,ref_seq, reference_name, start_pos):\n",
        "  \"\"\"\n",
        "  Creates a BAM file from a DNA sequence and its coordinates.\n",
        "\n",
        "  Args:\n",
        "      output_bam_path (str): Path to save the BAM file (e.g., \"output.bam\").\n",
        "      dna_sequence (str): DNA sequence (e.g., \"ATCGATCG\").\n",
        "      reference_name (str): Reference sequence name (e.g., \"chr1\").\n",
        "      start_pos (int): 1-based start position on the reference.\n",
        "  \"\"\"\n",
        "  # 1. Create a BAM header\n",
        "  header = AlignmentHeader.from_references(\n",
        "      [reference_name],  # List of reference names\n",
        "      [len(dna_sequence)]  # Lengths of references\n",
        "  )\n",
        "\n",
        "  # 2. Open a BAM file for writing\n",
        "  with pysam.AlignmentFile(output_bam_path, \"wb\", header=header) as bam_file:\n",
        "    # 3. Create an aligned segment (read)\n",
        "    read = AlignedSegment(header)\n",
        "    read.query_name = \"read1\"  # Read ID\n",
        "    read.query_sequence = dna_sequence  # DNA sequence\n",
        "    read.flag = 0  # No flags set (0 means mapped)\n",
        "    read.reference_id = 0  # Index of reference in header (0 = first one)\n",
        "    read.reference_start = start_pos - 1  # 0-based position\n",
        "    read.mapping_quality = 60  # High mapping quality\n",
        "    read.cigarstring = generate_cigar(dna_sequence,ref_seq)  # CIGAR string (exact match)\n",
        "\n",
        "    # 4. Write the read to the BAM file\n",
        "    bam_file.write(read)\n",
        "\n",
        "     # Reverse strand read\n",
        "    read_rev = AlignedSegment(header)\n",
        "    read_rev.query_name = \"read2\"\n",
        "    rev_seq = reverse_complement(dna_sequence)\n",
        "    rev_ref = reverse_complement(ref_seq)\n",
        "\n",
        "    read_rev.query_sequence = rev_seq\n",
        "    read_rev.flag = 16  # Reverse strand flag\n",
        "    read_rev.reference_id = 0\n",
        "    read_rev.reference_start = start_pos - 1\n",
        "    read_rev.mapping_quality = 60\n",
        "    read_rev.cigartuples = generate_cigar(rev_seq,rev_ref)\n",
        "\n",
        "    bam_file.write(read_rev)\n",
        "\n",
        "    return read\n"
      ],
      "metadata": {
        "id": "53BK8xewyGHG"
      },
      "execution_count": 42,
      "outputs": []
    },
    {
      "cell_type": "markdown",
      "source": [
        "Generate SAM file"
      ],
      "metadata": {
        "id": "ZP6x32b6AIAJ"
      }
    },
    {
      "cell_type": "markdown",
      "source": [
        "#Matrix Generator 1 -- DeepHBV\n"
      ],
      "metadata": {
        "id": "2exCcZa_Bdgg"
      }
    },
    {
      "cell_type": "code",
      "source": [
        "def extract_virus(samfile,start, end):\n",
        "  for line in samfile:\n",
        "    line_list = str(line).split(\"\\t\")\n",
        "    CIGAR = line_list[5]\n",
        "    SEQ = line_list[9]\n",
        "    POS = line_list[3]\n",
        "    SEQ = line_list[9]\n",
        "    if int(POS) in range(start,end):\n",
        "      POS_SEQ.append(SEQ)\n",
        "    else:\n",
        "      NEG_SEQ.append(SEQ)\n",
        "  return POS_SEQ, NEG_SEQ\n"
      ],
      "metadata": {
        "id": "-vXgSMcd-ghb"
      },
      "execution_count": 7,
      "outputs": []
    },
    {
      "cell_type": "code",
      "source": [
        "import numpy as np\n",
        "import os\n",
        "from scipy.io import loadmat\n",
        "# from array import array\n",
        "# from util import seq_matrix\n",
        "\n",
        "def matrix_generator_uno(seq_list, dim, isvirus=True):  # One Hot Encoding\n",
        "    tensor = np.zeros((len(seq_list), dim, 4))\n",
        "    if isvirus:\n",
        "      label = np.ones(len(seq_list))\n",
        "    else:\n",
        "      label = np.zeros(len(seq_list))\n",
        "    for i in range(len(seq_list)):\n",
        "        seq = seq_list[i]\n",
        "        j = 0\n",
        "        for s in seq:\n",
        "            if s == 'A' or s == 'a':\n",
        "                tensor[i][j] = [1, 0, 0, 0]\n",
        "            if s == 'T' or s == 't':\n",
        "                tensor[i][j] = [0, 1, 0, 0]\n",
        "            if s == 'C' or s == 'c':\n",
        "                tensor[i][j] = [0, 0, 1, 0]\n",
        "            if s == 'G' or s == 'g':\n",
        "                tensor[i][j] = [0, 0, 0, 1]\n",
        "            if s == 'N':\n",
        "                tensor[i][j] = [0, 0, 0, 0]\n",
        "            j += 1\n",
        "    return tensor, label"
      ],
      "metadata": {
        "id": "_C1Rpc6h7JmQ"
      },
      "execution_count": 8,
      "outputs": []
    },
    {
      "cell_type": "markdown",
      "source": [
        "# Matrix Generator 2 -- Novel Matrix"
      ],
      "metadata": {
        "id": "Ew7WzqoiBw49"
      }
    },
    {
      "cell_type": "code",
      "source": [
        "#matrix row generator from CIGAR, SEQuence, Position of Insert\n",
        "def matrix_row(CIG, SEQ, POS, start, end):\n",
        "  matrix_list= []\n",
        "  label_list =[]\n",
        "  bases = ['A','T','C','G']\n",
        "  seq_list= list(SEQ)\n",
        "  cigar_list = re.split(r'(\\d+)', CIG)[1::]\n",
        "  tensor= np.zeros((1,75, 4))\n",
        "  if int(POS) in range(start,end):\n",
        "    label_list.append(1)\n",
        "  else:\n",
        "    label_list.append(0)\n",
        "\n",
        "  #print(len(seq_list))\n",
        "  #FIX LOOP\n",
        "  if len(cigar_list) ==2:\n",
        "    #if it is a matched a sequence of 1's based on the base are added\n",
        "    if cigar_list[1] == 'M':\n",
        "      i= 0\n",
        "      for j in range(int(cigar_list[0])):\n",
        "        num_list = [0,0,0,0]\n",
        "        try:\n",
        "          num_list[bases.index(seq_list[j])] = 1\n",
        "          #print(num_list)\n",
        "          tensor[i][j]= num_list\n",
        "          #print(tensor[i][j])\n",
        "        except ValueError:\n",
        "          tensor[i][j]= num_list\n",
        "\n",
        "\n",
        "    else:\n",
        "      for j in range(len(seq_list)):\n",
        "        num_list = [0,0,0,0]\n",
        "\n",
        "#  return tensor, label_list\n",
        "\n",
        "  else:\n",
        "    length = 0\n",
        "    i = 0\n",
        "    for time in range(int(len(cigar_list)/2)):\n",
        "      if cigar_list[(2*time)+1] == 'M':\n",
        "        for j in range(length,length + int(cigar_list[(2*time)])):\n",
        "          num_list = [0,0,0,0]\n",
        "          try:\n",
        "            num_list[bases.index(seq_list[j])] = 1\n",
        "            tensor[i][j]= num_list\n",
        "          except ValueError:\n",
        "            tensor[i][j]= num_list\n",
        "        length += int(cigar_list[(2*time)])\n",
        "  return tensor, label_list\n"
      ],
      "metadata": {
        "id": "fx6xyh275bOv"
      },
      "execution_count": 9,
      "outputs": []
    },
    {
      "cell_type": "code",
      "source": [
        "from os.path import samefile\n",
        "def matrix_generator_dos (read, start, end, Matrix_Name ='Matrix_data', Label_Name='Label_data', save_file_path=os.getcwd()):\n",
        "  final_matrix = []\n",
        "  label_list = []\n",
        "\n",
        "  CIGAR = read.cigarstring\n",
        "  SEQ = read.query_sequence\n",
        "  POS = read.reference_start\n",
        "  final_matrix_temp, label_list_temp = matrix_row(CIGAR, SEQ, POS, start,end)\n",
        "  if len(final_matrix) == 0:\n",
        "    final_matrix = final_matrix_temp\n",
        "  else:\n",
        "    final_matrix = np.concatenate([final_matrix, final_matrix_temp])\n",
        "\n",
        "  label_list += label_list_temp\n",
        "\n",
        "  #saves matrix to specified path\n",
        "  os.chdir(save_file_path)\n",
        "  Data = np.asarray(final_matrix)\n",
        "  Label = np.asarray(label_list)\n",
        "  return Data, Label"
      ],
      "metadata": {
        "id": "LgfTPG5OO7zY"
      },
      "execution_count": 10,
      "outputs": []
    },
    {
      "cell_type": "markdown",
      "source": [
        "# Matrix Generator 3 -- 3D Matrix\n",
        "\n",
        "> Add blockquote\n",
        "\n"
      ],
      "metadata": {
        "id": "wgsWjkESB0Bs"
      }
    },
    {
      "cell_type": "code",
      "source": [
        "def generate_mapping_list(read, int_start, int_end, direction):\n",
        "  CIGAR = re.split(r'(\\d+)', read.cigarstring)[1::]\n",
        "  SEQ =  read.query_sequence\n",
        "  POS = int(read.reference_start)\n",
        "  DIR = 0 if direction == '-' or direction == 0 else 1\n",
        "  mapping_list = []\n",
        "  COUNT= 0\n",
        "  if len(CIGAR) ==2:\n",
        "  #if it is a matched a sequence of 1's based on the base are added\n",
        "    if CIGAR[1] == 'M':\n",
        "      mat = 1\n",
        "      for i in range(len(SEQ)):\n",
        "        mapping_list.append([SEQ[i], mat, int(POS) + i ,DIR, COUNT])\n",
        "        if dir ==0:\n",
        "          POS +=1\n",
        "        else: POS -=1\n",
        "    else:\n",
        "      mat=0\n",
        "      for i in range(len(SEQ)):\n",
        "        mapping_list.append([SEQ[i], mat, int(POS) + i ,DIR, COUNT])\n",
        "        if dir ==0:\n",
        "          POS +=1\n",
        "        else: POS -=1\n",
        "  else:\n",
        "    length = 0\n",
        "    i = 0\n",
        "    for time in range(int(len(CIGAR)/2)):\n",
        "      if CIGAR[(2*time)+1] == 'M':\n",
        "        mat =1\n",
        "        for j in range(length,length + int(CIGAR[(2*time)])):\n",
        "          mapping_list.append([SEQ[i], mat, int(POS) + i ,DIR, COUNT])\n",
        "          if dir ==0:\n",
        "            POS +=1\n",
        "          else: POS -=1\n",
        "      else:\n",
        "        mat =0\n",
        "        for j in range(length,length + int(CIGAR[(2*time)])):\n",
        "          mapping_list.append([SEQ[i], mat, int(POS) + i ,DIR, COUNT])\n",
        "          if dir ==0:\n",
        "            POS +=1\n",
        "          else: POS -=1\n",
        "      COUNT += 1\n",
        "\n",
        "  #order a list lists\n",
        "  df = pd.DataFrame(mapping_list, columns = ['Base', 'Match', 'Position', 'Direction', 'Row_count'])\n",
        "  df = df.sort_values(by=['Position'])\n",
        "  #df = df.reset_index(drop=True)\n",
        "  df = df.tail(-1).drop_duplicates()\n",
        "  df = df.reset_index(drop=True)\n",
        "  three_five = df[df['Direction'] ==0]\n",
        "  five_three = df[df['Direction'] ==1]\n",
        "  return df, three_five, five_three"
      ],
      "metadata": {
        "id": "PqoF2HTuFYew"
      },
      "execution_count": 40,
      "outputs": []
    },
    {
      "cell_type": "code",
      "source": [
        "def matrix_generator_tres(read, int_start, int_end, direction, Matrix_Name ='Matrix_data', Label_Name='Label_data', save_file_path=os.getcwd()):\n",
        "  df, three_five, five_three = generate_mapping_list(read, int_start, int_end, direction)\n",
        "\n",
        "  #create tensor\n",
        "  tensor = np.zeros((len(df),2000,  4))\n",
        "  label = np.zeros(len(df))\n",
        "  label_list= [0] * len(df)\n",
        "\n",
        "  col_count = 0\n",
        "  curr_pos = 0\n",
        "  end_pos = 0\n",
        "  bases = ['A','T','C','G']\n",
        "  match_dict ={'A':'T', 'T':'A', 'C':'G', 'G':'C'}\n",
        "  for row in range(1,len(df)):\n",
        "    curr_pos = df['Position'][row]\n",
        "\n",
        "  #3' -->5' Direction\n",
        "    if df['Direction'][row] == 0:\n",
        "      #checks to see if it matches with alignment genome\n",
        "      if three_five['Base'][row//2] in bases and three_five['Match'][row] == 1:\n",
        "        tensor[row][col_count][bases.index(df['Base'][row])] = 1\n",
        "\n",
        "        #checks if the bases match with each other\n",
        "        #print(df[df['Position']== df['Position'][row]].Base.values[0])\n",
        "        if five_three[df['Position']== df['Position'][row//2]].Base.values[0] == match_dict[df['Base'][row//2]]:\n",
        "          tensor[row][col_count][bases.index(df['Base'][row//2])] =3\n",
        "\n",
        "      #checks if it matches with each other but not with alignment genome\n",
        "      elif five_three[df['Position']== df['Position'][row//2]].Base.values[0] == match_dict[df['Base'][row//2]]:\n",
        "          tensor[row][col_count][bases.index(df['Base'][row//2])]=2\n",
        "\n",
        "  #5'-->3' Direction\n",
        "    else:\n",
        "      #checks to see if it matches with alignment genome\n",
        "      if five_three['Base'][row] in bases and five_three['Match'][row//2] == 1:\n",
        "        tensor[row][col_count][bases.index(five_three['Base'][row//2])] = 1\n",
        "\n",
        "        #checks if the bases match with each other\n",
        "        #print( match_dict[df['Base'][row]])\n",
        "\n",
        "        #print(df[df['Position']== df['Position'][row]].Base.item())\n",
        "        if three_five[three_five['Position']== three_five['Position'][row//2]].Base.values[0] == match_dict[three_five['Base'][row//2]]:\n",
        "          tensor[row][col_count][bases.index(df['Base'][row//2])] =3\n",
        "\n",
        "      #checks if it matches with each other but not with alignment genome\n",
        "      elif three_five[three_five['Position']== three_five['Position'][row//2]].Base.values[0] == match_dict[three_five['Base'][row//2]]:\n",
        "          tensor[row][col_count][bases.index(df['Base'][row//2])]=2\n",
        "  if curr_pos in range(int_start,int_end):\n",
        "    label[row] =1\n",
        "  else:\n",
        "    label[row] =0\n",
        "  return tensor, label\n",
        "'''\n",
        "    if curr_pos == end_pos:\n",
        "      if int(curr_pos) in range(int_start,int_end):\n",
        "        label_list.append(1)\n",
        "      else:\n",
        "        label_list.append(0)\n",
        "      end_pos +=75\n",
        "      col_count +=1\n",
        "      if col_count == 150:\n",
        "        col_count =0\n",
        "\n",
        "    elif end_pos == 0:\n",
        "      end_pos= curr_pos +75\n",
        "      if int(curr_pos) in range(int_start,int_end):\n",
        "        label_list.append(1)\n",
        "      else:\n",
        "        label_list.append(0)\n",
        " '''\n",
        "\n",
        "\n",
        "\n"
      ],
      "metadata": {
        "id": "toCzHoNZ7fy1",
        "colab": {
          "base_uri": "https://localhost:8080/",
          "height": 70
        },
        "outputId": "149bd35f-8a35-4b6b-c55d-cc7c2ba5fbf9"
      },
      "execution_count": 43,
      "outputs": [
        {
          "output_type": "execute_result",
          "data": {
            "text/plain": [
              "'\\n    if curr_pos == end_pos:\\n      if int(curr_pos) in range(int_start,int_end):\\n        label_list.append(1)\\n      else:\\n        label_list.append(0)\\n      end_pos +=75\\n      col_count +=1\\n      if col_count == 150:\\n        col_count =0\\n\\n    elif end_pos == 0:\\n      end_pos= curr_pos +75\\n      if int(curr_pos) in range(int_start,int_end):\\n        label_list.append(1)\\n      else:\\n        label_list.append(0)\\n '"
            ],
            "application/vnd.google.colaboratory.intrinsic+json": {
              "type": "string"
            }
          },
          "metadata": {},
          "execution_count": 43
        }
      ]
    },
    {
      "cell_type": "markdown",
      "source": [
        "# HBV"
      ],
      "metadata": {
        "id": "7Jxu7cg2I-UH"
      }
    },
    {
      "cell_type": "markdown",
      "source": [
        "## Generate Bam File"
      ],
      "metadata": {
        "id": "tXoCbFSHJDH2"
      }
    },
    {
      "cell_type": "code",
      "source": [
        "#load hbv data\n",
        "import pandas as pd\n",
        "hbv_data = pd.read_csv('Spliced_Data_HBV.csv')\n",
        "hbv_data.head()"
      ],
      "metadata": {
        "colab": {
          "base_uri": "https://localhost:8080/",
          "height": 244
        },
        "id": "P9ZMnmMX1mDP",
        "outputId": "da6f7799-5ee9-4839-ed0c-f92b081bd74a"
      },
      "execution_count": 13,
      "outputs": [
        {
          "output_type": "execute_result",
          "data": {
            "text/plain": [
              "   Unnamed: 0 virus virus_ref  begin_ref   stop_ref    human_ref  \\\n",
              "0           0   HBV  X70185.1        420        437  GRCh37/hg19   \n",
              "1           1   HBV  X70185.1   97732036   97732056  GRCh37/hg19   \n",
              "2           2   HBV  X70185.1  194161891  194161910  GRCh37/hg19   \n",
              "3           3   HBV  X70185.1  171450967  171450816  GRCh37/hg19   \n",
              "4           4   HBV  X70185.1  171450967  171450816  GRCh37/hg19   \n",
              "\n",
              "   begin_breakpoint  stop_breakpoint  \\\n",
              "0              1720             1603   \n",
              "1              1246             1390   \n",
              "2              1603             1664   \n",
              "3              1623             1717   \n",
              "4              1638             1717   \n",
              "\n",
              "                                         spliced_seq  \\\n",
              "0  NNNNNNNNNNNNNNNNNNNNNNNNNNNNNNNNNNNNNNNNNNNNNN...   \n",
              "1  TACTTTTAAAGTCACATGAATTTAGACAAATAGTACTACACAATAA...   \n",
              "2  GGTTTGTGGTTGTTTCAACTTAGATTGACAGTTGTATACtgtgtgt...   \n",
              "3  ctagtaagccagtgtttcctatgttgggtaaacacatttgcagtgg...   \n",
              "4  ctagtaagccagtgtttcctatgttgggtaaacacatttgcagtgg...   \n",
              "\n",
              "                                           viral_seq  \\\n",
              "0                                                NaN   \n",
              "1  TTTGTGGCTCCTCTGCCGATCCATACTGCGGAACTCCTAGCCGCTT...   \n",
              "2  GTTGCATGGAGACCACCGTGAACGCCCATCAGATCCTGCCCAAGGT...   \n",
              "3  AACGCCCATCAGATCCTGCCCAAGGTCTTACATAAGAGGACTCTTG...   \n",
              "4  CTGCCCAAGGTCTTACATAAGAGGACTCTTGGACTCTCAGCAATGT...   \n",
              "\n",
              "                                  human_ref_sequence  \\\n",
              "0                                                NaN   \n",
              "1  TACTTTTAAAGTCACATGAATTTAGACAAATAGTACTACACAATAA...   \n",
              "2  GGTTTGTGGTTGTTTCAACTTAGATTGACAGTTGTATACtgtgtgt...   \n",
              "3  cagggtggagtgtagtggcatgatcatagatcactgcaacctcaaa...   \n",
              "4  accataaggttcatgagggcagggcagggatcatgtacattctctt...   \n",
              "\n",
              "                                  human_seq_upstream  \\\n",
              "0                                                NaN   \n",
              "1  TACTTTTAAAGTCACATGAATTTAGACAAATAGTACTACACAATAA...   \n",
              "2  GGTTTGTGGTTGTTTCAACTTAGATTGACAGTTGTATACtgtgtgt...   \n",
              "3  ctagtaagccagtgtttcctatgttgggtaaacacatttgcagtgg...   \n",
              "4  ctagtaagccagtgtttcctatgttgggtaaacacatttgcagtgg...   \n",
              "\n",
              "                                human_seq_downstream  \n",
              "0  NNNNNNNNNNNNNNNNNNNNNNNNNNNNNNNNNNNNNNNNNNNNNN...  \n",
              "1  gtaatttgtaatgaacagatattcatttCtttttttattattatta...  \n",
              "2  AGTGTTTGCTTTTTAAAATGTTAAGATTAAATCATATTGTTACttt...  \n",
              "3  cagggtggagtgtagtggcatgatcatagatcactgcaacctcaaa...  \n",
              "4  accataaggttcatgagggcagggcagggatcatgtacattctctt...  "
            ],
            "text/html": [
              "\n",
              "  <div id=\"df-5fbac004-6f67-4dcc-ada7-1415a4d35e56\" class=\"colab-df-container\">\n",
              "    <div>\n",
              "<style scoped>\n",
              "    .dataframe tbody tr th:only-of-type {\n",
              "        vertical-align: middle;\n",
              "    }\n",
              "\n",
              "    .dataframe tbody tr th {\n",
              "        vertical-align: top;\n",
              "    }\n",
              "\n",
              "    .dataframe thead th {\n",
              "        text-align: right;\n",
              "    }\n",
              "</style>\n",
              "<table border=\"1\" class=\"dataframe\">\n",
              "  <thead>\n",
              "    <tr style=\"text-align: right;\">\n",
              "      <th></th>\n",
              "      <th>Unnamed: 0</th>\n",
              "      <th>virus</th>\n",
              "      <th>virus_ref</th>\n",
              "      <th>begin_ref</th>\n",
              "      <th>stop_ref</th>\n",
              "      <th>human_ref</th>\n",
              "      <th>begin_breakpoint</th>\n",
              "      <th>stop_breakpoint</th>\n",
              "      <th>spliced_seq</th>\n",
              "      <th>viral_seq</th>\n",
              "      <th>human_ref_sequence</th>\n",
              "      <th>human_seq_upstream</th>\n",
              "      <th>human_seq_downstream</th>\n",
              "    </tr>\n",
              "  </thead>\n",
              "  <tbody>\n",
              "    <tr>\n",
              "      <th>0</th>\n",
              "      <td>0</td>\n",
              "      <td>HBV</td>\n",
              "      <td>X70185.1</td>\n",
              "      <td>420</td>\n",
              "      <td>437</td>\n",
              "      <td>GRCh37/hg19</td>\n",
              "      <td>1720</td>\n",
              "      <td>1603</td>\n",
              "      <td>NNNNNNNNNNNNNNNNNNNNNNNNNNNNNNNNNNNNNNNNNNNNNN...</td>\n",
              "      <td>NaN</td>\n",
              "      <td>NaN</td>\n",
              "      <td>NaN</td>\n",
              "      <td>NNNNNNNNNNNNNNNNNNNNNNNNNNNNNNNNNNNNNNNNNNNNNN...</td>\n",
              "    </tr>\n",
              "    <tr>\n",
              "      <th>1</th>\n",
              "      <td>1</td>\n",
              "      <td>HBV</td>\n",
              "      <td>X70185.1</td>\n",
              "      <td>97732036</td>\n",
              "      <td>97732056</td>\n",
              "      <td>GRCh37/hg19</td>\n",
              "      <td>1246</td>\n",
              "      <td>1390</td>\n",
              "      <td>TACTTTTAAAGTCACATGAATTTAGACAAATAGTACTACACAATAA...</td>\n",
              "      <td>TTTGTGGCTCCTCTGCCGATCCATACTGCGGAACTCCTAGCCGCTT...</td>\n",
              "      <td>TACTTTTAAAGTCACATGAATTTAGACAAATAGTACTACACAATAA...</td>\n",
              "      <td>TACTTTTAAAGTCACATGAATTTAGACAAATAGTACTACACAATAA...</td>\n",
              "      <td>gtaatttgtaatgaacagatattcatttCtttttttattattatta...</td>\n",
              "    </tr>\n",
              "    <tr>\n",
              "      <th>2</th>\n",
              "      <td>2</td>\n",
              "      <td>HBV</td>\n",
              "      <td>X70185.1</td>\n",
              "      <td>194161891</td>\n",
              "      <td>194161910</td>\n",
              "      <td>GRCh37/hg19</td>\n",
              "      <td>1603</td>\n",
              "      <td>1664</td>\n",
              "      <td>GGTTTGTGGTTGTTTCAACTTAGATTGACAGTTGTATACtgtgtgt...</td>\n",
              "      <td>GTTGCATGGAGACCACCGTGAACGCCCATCAGATCCTGCCCAAGGT...</td>\n",
              "      <td>GGTTTGTGGTTGTTTCAACTTAGATTGACAGTTGTATACtgtgtgt...</td>\n",
              "      <td>GGTTTGTGGTTGTTTCAACTTAGATTGACAGTTGTATACtgtgtgt...</td>\n",
              "      <td>AGTGTTTGCTTTTTAAAATGTTAAGATTAAATCATATTGTTACttt...</td>\n",
              "    </tr>\n",
              "    <tr>\n",
              "      <th>3</th>\n",
              "      <td>3</td>\n",
              "      <td>HBV</td>\n",
              "      <td>X70185.1</td>\n",
              "      <td>171450967</td>\n",
              "      <td>171450816</td>\n",
              "      <td>GRCh37/hg19</td>\n",
              "      <td>1623</td>\n",
              "      <td>1717</td>\n",
              "      <td>ctagtaagccagtgtttcctatgttgggtaaacacatttgcagtgg...</td>\n",
              "      <td>AACGCCCATCAGATCCTGCCCAAGGTCTTACATAAGAGGACTCTTG...</td>\n",
              "      <td>cagggtggagtgtagtggcatgatcatagatcactgcaacctcaaa...</td>\n",
              "      <td>ctagtaagccagtgtttcctatgttgggtaaacacatttgcagtgg...</td>\n",
              "      <td>cagggtggagtgtagtggcatgatcatagatcactgcaacctcaaa...</td>\n",
              "    </tr>\n",
              "    <tr>\n",
              "      <th>4</th>\n",
              "      <td>4</td>\n",
              "      <td>HBV</td>\n",
              "      <td>X70185.1</td>\n",
              "      <td>171450967</td>\n",
              "      <td>171450816</td>\n",
              "      <td>GRCh37/hg19</td>\n",
              "      <td>1638</td>\n",
              "      <td>1717</td>\n",
              "      <td>ctagtaagccagtgtttcctatgttgggtaaacacatttgcagtgg...</td>\n",
              "      <td>CTGCCCAAGGTCTTACATAAGAGGACTCTTGGACTCTCAGCAATGT...</td>\n",
              "      <td>accataaggttcatgagggcagggcagggatcatgtacattctctt...</td>\n",
              "      <td>ctagtaagccagtgtttcctatgttgggtaaacacatttgcagtgg...</td>\n",
              "      <td>accataaggttcatgagggcagggcagggatcatgtacattctctt...</td>\n",
              "    </tr>\n",
              "  </tbody>\n",
              "</table>\n",
              "</div>\n",
              "    <div class=\"colab-df-buttons\">\n",
              "\n",
              "  <div class=\"colab-df-container\">\n",
              "    <button class=\"colab-df-convert\" onclick=\"convertToInteractive('df-5fbac004-6f67-4dcc-ada7-1415a4d35e56')\"\n",
              "            title=\"Convert this dataframe to an interactive table.\"\n",
              "            style=\"display:none;\">\n",
              "\n",
              "  <svg xmlns=\"http://www.w3.org/2000/svg\" height=\"24px\" viewBox=\"0 -960 960 960\">\n",
              "    <path d=\"M120-120v-720h720v720H120Zm60-500h600v-160H180v160Zm220 220h160v-160H400v160Zm0 220h160v-160H400v160ZM180-400h160v-160H180v160Zm440 0h160v-160H620v160ZM180-180h160v-160H180v160Zm440 0h160v-160H620v160Z\"/>\n",
              "  </svg>\n",
              "    </button>\n",
              "\n",
              "  <style>\n",
              "    .colab-df-container {\n",
              "      display:flex;\n",
              "      gap: 12px;\n",
              "    }\n",
              "\n",
              "    .colab-df-convert {\n",
              "      background-color: #E8F0FE;\n",
              "      border: none;\n",
              "      border-radius: 50%;\n",
              "      cursor: pointer;\n",
              "      display: none;\n",
              "      fill: #1967D2;\n",
              "      height: 32px;\n",
              "      padding: 0 0 0 0;\n",
              "      width: 32px;\n",
              "    }\n",
              "\n",
              "    .colab-df-convert:hover {\n",
              "      background-color: #E2EBFA;\n",
              "      box-shadow: 0px 1px 2px rgba(60, 64, 67, 0.3), 0px 1px 3px 1px rgba(60, 64, 67, 0.15);\n",
              "      fill: #174EA6;\n",
              "    }\n",
              "\n",
              "    .colab-df-buttons div {\n",
              "      margin-bottom: 4px;\n",
              "    }\n",
              "\n",
              "    [theme=dark] .colab-df-convert {\n",
              "      background-color: #3B4455;\n",
              "      fill: #D2E3FC;\n",
              "    }\n",
              "\n",
              "    [theme=dark] .colab-df-convert:hover {\n",
              "      background-color: #434B5C;\n",
              "      box-shadow: 0px 1px 3px 1px rgba(0, 0, 0, 0.15);\n",
              "      filter: drop-shadow(0px 1px 2px rgba(0, 0, 0, 0.3));\n",
              "      fill: #FFFFFF;\n",
              "    }\n",
              "  </style>\n",
              "\n",
              "    <script>\n",
              "      const buttonEl =\n",
              "        document.querySelector('#df-5fbac004-6f67-4dcc-ada7-1415a4d35e56 button.colab-df-convert');\n",
              "      buttonEl.style.display =\n",
              "        google.colab.kernel.accessAllowed ? 'block' : 'none';\n",
              "\n",
              "      async function convertToInteractive(key) {\n",
              "        const element = document.querySelector('#df-5fbac004-6f67-4dcc-ada7-1415a4d35e56');\n",
              "        const dataTable =\n",
              "          await google.colab.kernel.invokeFunction('convertToInteractive',\n",
              "                                                    [key], {});\n",
              "        if (!dataTable) return;\n",
              "\n",
              "        const docLinkHtml = 'Like what you see? Visit the ' +\n",
              "          '<a target=\"_blank\" href=https://colab.research.google.com/notebooks/data_table.ipynb>data table notebook</a>'\n",
              "          + ' to learn more about interactive tables.';\n",
              "        element.innerHTML = '';\n",
              "        dataTable['output_type'] = 'display_data';\n",
              "        await google.colab.output.renderOutput(dataTable, element);\n",
              "        const docLink = document.createElement('div');\n",
              "        docLink.innerHTML = docLinkHtml;\n",
              "        element.appendChild(docLink);\n",
              "      }\n",
              "    </script>\n",
              "  </div>\n",
              "\n",
              "\n",
              "<div id=\"df-56b8abc4-18da-47ca-9039-f8d059156cec\">\n",
              "  <button class=\"colab-df-quickchart\" onclick=\"quickchart('df-56b8abc4-18da-47ca-9039-f8d059156cec')\"\n",
              "            title=\"Suggest charts\"\n",
              "            style=\"display:none;\">\n",
              "\n",
              "<svg xmlns=\"http://www.w3.org/2000/svg\" height=\"24px\"viewBox=\"0 0 24 24\"\n",
              "     width=\"24px\">\n",
              "    <g>\n",
              "        <path d=\"M19 3H5c-1.1 0-2 .9-2 2v14c0 1.1.9 2 2 2h14c1.1 0 2-.9 2-2V5c0-1.1-.9-2-2-2zM9 17H7v-7h2v7zm4 0h-2V7h2v10zm4 0h-2v-4h2v4z\"/>\n",
              "    </g>\n",
              "</svg>\n",
              "  </button>\n",
              "\n",
              "<style>\n",
              "  .colab-df-quickchart {\n",
              "      --bg-color: #E8F0FE;\n",
              "      --fill-color: #1967D2;\n",
              "      --hover-bg-color: #E2EBFA;\n",
              "      --hover-fill-color: #174EA6;\n",
              "      --disabled-fill-color: #AAA;\n",
              "      --disabled-bg-color: #DDD;\n",
              "  }\n",
              "\n",
              "  [theme=dark] .colab-df-quickchart {\n",
              "      --bg-color: #3B4455;\n",
              "      --fill-color: #D2E3FC;\n",
              "      --hover-bg-color: #434B5C;\n",
              "      --hover-fill-color: #FFFFFF;\n",
              "      --disabled-bg-color: #3B4455;\n",
              "      --disabled-fill-color: #666;\n",
              "  }\n",
              "\n",
              "  .colab-df-quickchart {\n",
              "    background-color: var(--bg-color);\n",
              "    border: none;\n",
              "    border-radius: 50%;\n",
              "    cursor: pointer;\n",
              "    display: none;\n",
              "    fill: var(--fill-color);\n",
              "    height: 32px;\n",
              "    padding: 0;\n",
              "    width: 32px;\n",
              "  }\n",
              "\n",
              "  .colab-df-quickchart:hover {\n",
              "    background-color: var(--hover-bg-color);\n",
              "    box-shadow: 0 1px 2px rgba(60, 64, 67, 0.3), 0 1px 3px 1px rgba(60, 64, 67, 0.15);\n",
              "    fill: var(--button-hover-fill-color);\n",
              "  }\n",
              "\n",
              "  .colab-df-quickchart-complete:disabled,\n",
              "  .colab-df-quickchart-complete:disabled:hover {\n",
              "    background-color: var(--disabled-bg-color);\n",
              "    fill: var(--disabled-fill-color);\n",
              "    box-shadow: none;\n",
              "  }\n",
              "\n",
              "  .colab-df-spinner {\n",
              "    border: 2px solid var(--fill-color);\n",
              "    border-color: transparent;\n",
              "    border-bottom-color: var(--fill-color);\n",
              "    animation:\n",
              "      spin 1s steps(1) infinite;\n",
              "  }\n",
              "\n",
              "  @keyframes spin {\n",
              "    0% {\n",
              "      border-color: transparent;\n",
              "      border-bottom-color: var(--fill-color);\n",
              "      border-left-color: var(--fill-color);\n",
              "    }\n",
              "    20% {\n",
              "      border-color: transparent;\n",
              "      border-left-color: var(--fill-color);\n",
              "      border-top-color: var(--fill-color);\n",
              "    }\n",
              "    30% {\n",
              "      border-color: transparent;\n",
              "      border-left-color: var(--fill-color);\n",
              "      border-top-color: var(--fill-color);\n",
              "      border-right-color: var(--fill-color);\n",
              "    }\n",
              "    40% {\n",
              "      border-color: transparent;\n",
              "      border-right-color: var(--fill-color);\n",
              "      border-top-color: var(--fill-color);\n",
              "    }\n",
              "    60% {\n",
              "      border-color: transparent;\n",
              "      border-right-color: var(--fill-color);\n",
              "    }\n",
              "    80% {\n",
              "      border-color: transparent;\n",
              "      border-right-color: var(--fill-color);\n",
              "      border-bottom-color: var(--fill-color);\n",
              "    }\n",
              "    90% {\n",
              "      border-color: transparent;\n",
              "      border-bottom-color: var(--fill-color);\n",
              "    }\n",
              "  }\n",
              "</style>\n",
              "\n",
              "  <script>\n",
              "    async function quickchart(key) {\n",
              "      const quickchartButtonEl =\n",
              "        document.querySelector('#' + key + ' button');\n",
              "      quickchartButtonEl.disabled = true;  // To prevent multiple clicks.\n",
              "      quickchartButtonEl.classList.add('colab-df-spinner');\n",
              "      try {\n",
              "        const charts = await google.colab.kernel.invokeFunction(\n",
              "            'suggestCharts', [key], {});\n",
              "      } catch (error) {\n",
              "        console.error('Error during call to suggestCharts:', error);\n",
              "      }\n",
              "      quickchartButtonEl.classList.remove('colab-df-spinner');\n",
              "      quickchartButtonEl.classList.add('colab-df-quickchart-complete');\n",
              "    }\n",
              "    (() => {\n",
              "      let quickchartButtonEl =\n",
              "        document.querySelector('#df-56b8abc4-18da-47ca-9039-f8d059156cec button');\n",
              "      quickchartButtonEl.style.display =\n",
              "        google.colab.kernel.accessAllowed ? 'block' : 'none';\n",
              "    })();\n",
              "  </script>\n",
              "</div>\n",
              "\n",
              "    </div>\n",
              "  </div>\n"
            ],
            "application/vnd.google.colaboratory.intrinsic+json": {
              "type": "dataframe",
              "variable_name": "hbv_data",
              "summary": "{\n  \"name\": \"hbv_data\",\n  \"rows\": 1430,\n  \"fields\": [\n    {\n      \"column\": \"Unnamed: 0\",\n      \"properties\": {\n        \"dtype\": \"number\",\n        \"std\": 412,\n        \"min\": 0,\n        \"max\": 1429,\n        \"num_unique_values\": 1430,\n        \"samples\": [\n          123,\n          1190,\n          462\n        ],\n        \"semantic_type\": \"\",\n        \"description\": \"\"\n      }\n    },\n    {\n      \"column\": \"virus\",\n      \"properties\": {\n        \"dtype\": \"category\",\n        \"num_unique_values\": 1,\n        \"samples\": [\n          \"HBV\"\n        ],\n        \"semantic_type\": \"\",\n        \"description\": \"\"\n      }\n    },\n    {\n      \"column\": \"virus_ref\",\n      \"properties\": {\n        \"dtype\": \"category\",\n        \"num_unique_values\": 7,\n        \"samples\": [\n          \"X70185.1\"\n        ],\n        \"semantic_type\": \"\",\n        \"description\": \"\"\n      }\n    },\n    {\n      \"column\": \"begin_ref\",\n      \"properties\": {\n        \"dtype\": \"number\",\n        \"std\": 78182090,\n        \"min\": 54,\n        \"max\": 2000084860,\n        \"num_unique_values\": 1381,\n        \"samples\": [\n          88308333\n        ],\n        \"semantic_type\": \"\",\n        \"description\": \"\"\n      }\n    },\n    {\n      \"column\": \"stop_ref\",\n      \"properties\": {\n        \"dtype\": \"number\",\n        \"std\": 59421812,\n        \"min\": 27,\n        \"max\": 249241007,\n        \"num_unique_values\": 1399,\n        \"samples\": [\n          113831008\n        ],\n        \"semantic_type\": \"\",\n        \"description\": \"\"\n      }\n    },\n    {\n      \"column\": \"human_ref\",\n      \"properties\": {\n        \"dtype\": \"category\",\n        \"num_unique_values\": 2,\n        \"samples\": [\n          \"GRCh37\"\n        ],\n        \"semantic_type\": \"\",\n        \"description\": \"\"\n      }\n    },\n    {\n      \"column\": \"begin_breakpoint\",\n      \"properties\": {\n        \"dtype\": \"number\",\n        \"std\": 747,\n        \"min\": 1,\n        \"max\": 3210,\n        \"num_unique_values\": 821,\n        \"samples\": [\n          643\n        ],\n        \"semantic_type\": \"\",\n        \"description\": \"\"\n      }\n    },\n    {\n      \"column\": \"stop_breakpoint\",\n      \"properties\": {\n        \"dtype\": \"number\",\n        \"std\": 725,\n        \"min\": 31,\n        \"max\": 3646,\n        \"num_unique_values\": 821,\n        \"samples\": [\n          3101\n        ],\n        \"semantic_type\": \"\",\n        \"description\": \"\"\n      }\n    },\n    {\n      \"column\": \"spliced_seq\",\n      \"properties\": {\n        \"dtype\": \"string\",\n        \"num_unique_values\": 1430,\n        \"samples\": [\n          \"cagctcaccgcaacccacccctccctggttcaagcgattcttctgcctcagcctcccgagtagctgggattacaggcatgcatcaccatgtgcctggctaattttgtatttttagtagagaaggagtttcaccatgttggtcaggctggtctcgaactcccgacctcaggtgatctgcctacctcggcctgccaaaatgttgagattacaggcatgagccaccgtgcctggcccaagacctattgttaatttttaaaaagttataaaatagtaagtacaatattacagcatttgtgtttttaataatccaaaaccatatatatgtgcacacaaatataaatacactcatacagaaagtgaactgaaaagatagagaccaaactcttaacagaggttacttcaggaatggggagaaaagttgggaagaatgaaggaggTTTTCATATTTTAATTGATATATTTGGTATTTTACAAATATTTGCAAAGTTTATTTATATTATTTGTGTAGAAAACCCAAACAAACCAACTATCTATTTTTATGTAAGGGAACTGCTGAACATGATGGCAACATATAAAAATGAAAAAGATAGTTGTACCGAGATAGTTGGATGTTATATTTTTAAAATGTTTTTCCTTACTCAATTTTAAAAATAGACCTTTTGCTTAGAGTGAAGGTAAGGTGGAAATTTGTTTAACCACTATTAGTTTAGCATGCCAATTATCTTCTTTAATCCCTACACTCACTTGGGTGTACCTTGAGAGTGCCGGGAGACAACATAGGATGAGACATTATGCCAGGGAAAAGAAGAGGGGGAAGTCCTTTCTGTCCTTATCAAAGTTTCATTATCTTCTTAGATTCAAGGTAACAAAGGTAATTAGAGTTTTTACTCTCCCACGTGGTTCAATGACTAAGAATTATCTTCCTTTGGAATGATAGTCGGCCTGTAACATAAGGACAATTTAAAGACATTGTGATACTTCTCTTTTCACTCCCTTCAACAGTCGACCCTTGACTTCTTATGGCAATGGTTATACAGAGCAAAATTATCTGGCCAGGCTAAGGATAAATAAAGCTCTCTGAGACCATGAAGCATGAGACATATAATTAACTGAATATCCAATATAGTCTCTTCATTCCTTTCAGTGTCACATGGGGTGATGATCATGACTTAATCCCATGACTTGTTTTAGTAACTGAGAAGGAAGACGTTGGCCAATGATGACCTTCACCTTTCCAGTCTTTGCTTGGTTCATATTTCAATGTCATTCTCCACCTAGGctcactggtctgttatctccctgagaacaggaccctcttcagagacttcttggtatcatcttcacctggttcctgcctactgccttggacacaggagctactctAGATTAGGTTAAATTATCTTACACTGTTGGACGATAACTTCCAGATGCATCTGGTTTTGGAAAATTTGATATTTAAAAACTTAGCCTCATAAAACAGACAAGTTAAAAAGTTAGAGTCTGTGTCATAAAAGTTGGTTTTCTCTACAATAGTATTCACCACATGGCTTATTTTATTATGTTTCTTCTTTAGTGCATAGGAGTTTGTTTAATAATTGATCCTCATTTGGCAGAGGGTGAGTCCATAGAATATGAGTGATCATTATTACTCAATCATCCATTAGCAAAGAAGAAAAAGATCCTCTGAAATCATGATGCAAGGAATTGGAAAATTATTGCTGTGTTTCTTATCAACTTGTCAGCAACACATAAACCTGAGGAGAAACACACCTGCATGCCAAAGGGAAGGTTATCAGAGGGTCAtggttcccgaagtgtggtgccctgaccagcagaatccactttgcctggaaacttaatagaaatggaaatgcttgaacccacccatgatgggccaagcaatcagtgatttaacatgcccttcaggtgattctaatactgctaaaCTCTTGTAGGAAGATCAGATTTTGTAGAATGACTATAATTGGAAATTCAGCAGA\"\n        ],\n        \"semantic_type\": \"\",\n        \"description\": \"\"\n      }\n    },\n    {\n      \"column\": \"viral_seq\",\n      \"properties\": {\n        \"dtype\": \"string\",\n        \"num_unique_values\": 1074,\n        \"samples\": [\n          \"CTACTCCCATCTCTCCACCTCTAAGAGACAG\"\n        ],\n        \"semantic_type\": \"\",\n        \"description\": \"\"\n      }\n    },\n    {\n      \"column\": \"human_ref_sequence\",\n      \"properties\": {\n        \"dtype\": \"string\",\n        \"num_unique_values\": 1427,\n        \"samples\": [\n          \"TGTTGAGGGGAAGTGTTTAATCCTCACTCTAGTGGGGCCATCTTCCTTGTCAGCTTCACCCACTCTCCTGCATGTTTTGTGGAAATGGCAAACACCATTTTGTTGAGCAATACAAACACTGGCTTCCTACAGCCGGATCTCTGAGAATGTGCTTGAGATAATCCAGTGACTACAATTTCATTTTTTAATTTCAATTCAAAATTATATCAGAGGTAAGAGTCCCCTTTGGGGAGTTTGGTCcattttcaaagtgggaaaatagaagtatgcaagatgaaataacttgcttgaggtcacacagtcaagtactggcaggccggggatgagaagccagCATGGAACCCATGTGTCCTCCATTCCATTAGGGCTCACTCTTGGGCAAGCATCTCATATATAAAATTTGGGGTTCAGAAGCTCCTCTCCATTTTTAAACTGAAACGAAAGGCTTTGAGTTCTTAAAGGCCTCTCTGCTTATCAGCATCATTAGACATAATTCTGATCTATAAAAGCAAAACCACAATGAATGGCCCTTTGCATGATGTTCTACGAAGCAGCCAAGAGAAAATGAAGCatcaggtggaagctagacttgacatgaaaccacatctatgtctaacttttccctcttcctgtcctgtttctttcatccacatacatacaagtttctcctgattgcattgccttgataaatcactcatacaaatgcctgttttaggctctgcaactaggaaacctgctctaaaacGACTCCTAGCTGCTCTCTCTGAATCCACGGTTGATGGCTACAATCTGTCCTCCACATCACAAATATGATCATTCTCTACAGGCTTAGACCCTGGAAATAATTTCCATTGCTATTGGGATAAAGAGGAAACATTGCTATGGCCTCCCAGGTCTTTGGCAGAGGTCTGGctactgacctcccgctgccgtggccttggtcacgccggctttctttctccccctctaattcccagctttctttgccttggggcctttgcacatctggttcccctccttggtatatttttctctaccatcttcataccactgatccctactcactcttcagctcttagctcaatcactgcccatggagggatgtacccagtgggccttgagttagaagtccctccctggctcacattagttcctgccacttcctcccatagcagcttgtactccctctcttagcatttcattgttatcgcttgttttagtgatctttgcattagactataagctccatgaaggcaaggactgtattattattaatcttCTCTTTTATTAGCTTAACATTCTGATGAACTGTATCATTCTTAATGAATAAGTAAATTTATTTAAATTTCTtttattgtgcacctgtaatattccatgcatgtactagttgttaatagacactgtgggaaattgacactgtcctagccctctgggagtatatagtgtagtggagaatatagaagtaaattaaataatatatcattaaacagtgacaagtgctatgaaagacaactgcaaggtaTTATTATTATTATTACTAtttattttttgagacagagtcttgctctgttgcccaggctggagtgcagtggtgctgtcatggctcactgcagccacaacctcctgggttcaagaaatcctcccaccttagcctcctgcgtagctgggactacaggcatgctccaccatgcccagataattttttttgtattttttgtagagatggggtttcgccatgttgcccagggtggtctcgaacttcctgggctcaagcaatctgcccacctcagcctcccaaagtgctaggattacaagcatgcaccactgcacctggccATTATTACCATTTACAAAATTTTTTTTTCATTGCCAGTATCGGGAGATAATTTGTAGGGTATTATCTGACTCATCATTTTATTCCCTTTACCAAGCAAGTCTGATACACAATGGATGCTAAATAAAAATTTTGAAGGATTAAATAAACAACCTGGCTATTACGTTTTATTTTCCTCCTTCCCAGATACACATCTAGCCTTCTGAGAGTCCATCAGAATGAATAGGACATTTTCACATACCTCCTCAGTAAGTAGAATGATTTTAAATGCCTTAACTGATTCCAAGGAAATCTGTGAGAAGTAACTGCAAAATC\"\n        ],\n        \"semantic_type\": \"\",\n        \"description\": \"\"\n      }\n    },\n    {\n      \"column\": \"human_seq_upstream\",\n      \"properties\": {\n        \"dtype\": \"string\",\n        \"num_unique_values\": 1428,\n        \"samples\": [\n          \"TGTTGAGGGGAAGTGTTTAATCCTCACTCTAGTGGGGCCATCTTCCTTGTCAGCTTCACCCACTCTCCTGCATGTTTTGTGGAAATGGCAAACACCATTTTGTTGAGCAATACAAACACTGGCTTCCTACAGCCGGATCTCTGAGAATGTGCTTGAGATAATCCAGTGACTACAATTTCATTTTTTAATTTCAATTCAAAATTATATCAGAGGTAAGAGTCCCCTTTGGGGAGTTTGGTCcattttcaaagtgggaaaatagaagtatgcaagatgaaataacttgcttgaggtcacacagtcaagtactggcaggccggggatgagaagccagCATGGAACCCATGTGTCCTCCATTCCATTAGGGCTCACTCTTGGGCAAGCATCTCATATATAAAATTTGGGGTTCAGAAGCTCCTCTCCATTTTTAAACTGAAACGAAAGGCTTTGAGTTCTTAAAGGCCTCTCTGCTTATCAGCATCATTAGACATAATTCTGATCTATAAAAGCAAAACCACAATGAATGGCCCTTTGCATGATGTTCTACGAAGCAGCCAAGAGAAAATGAAGCatcaggtggaagctagacttgacatgaaaccacatctatgtctaacttttccctcttcctgtcctgtttctttcatccacatacatacaagtttctcctgattgcattgccttgataaatcactcatacaaatgcctgttttaggctctgcaactaggaaacctgctcta\"\n        ],\n        \"semantic_type\": \"\",\n        \"description\": \"\"\n      }\n    },\n    {\n      \"column\": \"human_seq_downstream\",\n      \"properties\": {\n        \"dtype\": \"string\",\n        \"num_unique_values\": 1426,\n        \"samples\": [\n          \"CACTCTTGGGCAAGCATCTCATATATAAAATTTGGGGTTCAGAAGCTCCTCTCCATTTTTAAACTGAAACGAAAGGCTTTGAGTTCTTAAAGGCCTCTCTGCTTATCAGCATCATTAGACATAATTCTGATCTATAAAAGCAAAACCACAATGAATGGCCCTTTGCATGATGTTCTACGAAGCAGCCAAGAGAAAATGAAGCatcaggtggaagctagacttgacatgaaaccacatctatgtctaacttttccctcttcctgtcctgtttctttcatccacatacatacaagttt\"\n        ],\n        \"semantic_type\": \"\",\n        \"description\": \"\"\n      }\n    }\n  ]\n}"
            }
          },
          "metadata": {},
          "execution_count": 13
        }
      ]
    },
    {
      "cell_type": "code",
      "source": [
        "# prompt: remove first row from hbv_Data\n",
        "hbv_data = hbv_data.iloc[1:]\n",
        "hbv_data = hbv_data[hbv_data['spliced_seq'].str.len() == 2000]"
      ],
      "metadata": {
        "id": "F9vOclz84wFk"
      },
      "execution_count": 14,
      "outputs": []
    },
    {
      "cell_type": "code",
      "source": [
        "# CHECK WORK\n",
        "def insertion_span(vir_start, vir_end, ref_start, ref_end):\n",
        "  import math\n",
        "  diff = abs(vir_start- vir_end)\n",
        "  dir =  0 if vir_start < vir_end else 1\n",
        "  return min(ref_start, ref_end), min(ref_start, ref_end) -diff, dir"
      ],
      "metadata": {
        "id": "h3Vzx0cyLM7E"
      },
      "execution_count": 18,
      "outputs": []
    },
    {
      "cell_type": "code",
      "source": [
        "#TROUBLESHOOT####################################################\n",
        "for index, row in hbv_data.iterrows():\n",
        "  read = create_bam_from_sequence('/content/drive/MyDrive/ACS_Research/VISDB_Data/Aligned_Sequences/'  +str(row['virus'])+str(index)+'.bam',row['spliced_seq'], row['human_ref_sequence'], 'hg19', row['begin_breakpoint'])\n",
        "  #print(read.query_sequence)\n",
        "  start,end,direction = insertion_span(row['begin_ref'], row['stop_ref'], row['begin_breakpoint'], row['stop_breakpoint'])\n",
        "\n",
        "  #generate matrix 1\n",
        "  #Data1, Label1=matrix_generator_uno(row['viral_seq'], len(row['viral_seq']))\n",
        "  #generate matrix 2\n",
        "  #Data2,Label2 =matrix_generator_dos (read, start, end, Matrix_Name ='HBV_Matrix_2_data', Label_Name='HBV_Label_2_data', save_file_path=os.getcwd())\n",
        "\n",
        "  #generate matrix 3\n",
        "  matrix_generator_tres(read, start, end, direction, Matrix_Name ='Matrix_data', Label_Name='Label_data', save_file_path=os.getcwd())\n"
      ],
      "metadata": {
        "colab": {
          "base_uri": "https://localhost:8080/",
          "height": 349
        },
        "id": "lh-qrKA1169f",
        "outputId": "ed5633c4-15f8-4c37-b17a-e537759c4a82",
        "collapsed": true
      },
      "execution_count": 44,
      "outputs": [
        {
          "output_type": "error",
          "ename": "NameError",
          "evalue": "name 'ggenerate_cigar' is not defined",
          "traceback": [
            "\u001b[0;31m---------------------------------------------------------------------------\u001b[0m",
            "\u001b[0;31mNameError\u001b[0m                                 Traceback (most recent call last)",
            "\u001b[0;32m<ipython-input-44-05762f5d5729>\u001b[0m in \u001b[0;36m<cell line: 0>\u001b[0;34m()\u001b[0m\n\u001b[1;32m      1\u001b[0m \u001b[0;31m#TROUBLESHOOT####################################################\u001b[0m\u001b[0;34m\u001b[0m\u001b[0;34m\u001b[0m\u001b[0m\n\u001b[1;32m      2\u001b[0m \u001b[0;32mfor\u001b[0m \u001b[0mindex\u001b[0m\u001b[0;34m,\u001b[0m \u001b[0mrow\u001b[0m \u001b[0;32min\u001b[0m \u001b[0mhbv_data\u001b[0m\u001b[0;34m.\u001b[0m\u001b[0miterrows\u001b[0m\u001b[0;34m(\u001b[0m\u001b[0;34m)\u001b[0m\u001b[0;34m:\u001b[0m\u001b[0;34m\u001b[0m\u001b[0;34m\u001b[0m\u001b[0m\n\u001b[0;32m----> 3\u001b[0;31m   \u001b[0mread\u001b[0m \u001b[0;34m=\u001b[0m \u001b[0mcreate_bam_from_sequence\u001b[0m\u001b[0;34m(\u001b[0m\u001b[0;34m'/content/drive/MyDrive/ACS_Research/VISDB_Data/Aligned_Sequences/'\u001b[0m  \u001b[0;34m+\u001b[0m\u001b[0mstr\u001b[0m\u001b[0;34m(\u001b[0m\u001b[0mrow\u001b[0m\u001b[0;34m[\u001b[0m\u001b[0;34m'virus'\u001b[0m\u001b[0;34m]\u001b[0m\u001b[0;34m)\u001b[0m\u001b[0;34m+\u001b[0m\u001b[0mstr\u001b[0m\u001b[0;34m(\u001b[0m\u001b[0mindex\u001b[0m\u001b[0;34m)\u001b[0m\u001b[0;34m+\u001b[0m\u001b[0;34m'.bam'\u001b[0m\u001b[0;34m,\u001b[0m\u001b[0mrow\u001b[0m\u001b[0;34m[\u001b[0m\u001b[0;34m'spliced_seq'\u001b[0m\u001b[0;34m]\u001b[0m\u001b[0;34m,\u001b[0m \u001b[0mrow\u001b[0m\u001b[0;34m[\u001b[0m\u001b[0;34m'human_ref_sequence'\u001b[0m\u001b[0;34m]\u001b[0m\u001b[0;34m,\u001b[0m \u001b[0;34m'hg19'\u001b[0m\u001b[0;34m,\u001b[0m \u001b[0mrow\u001b[0m\u001b[0;34m[\u001b[0m\u001b[0;34m'begin_breakpoint'\u001b[0m\u001b[0;34m]\u001b[0m\u001b[0;34m)\u001b[0m\u001b[0;34m\u001b[0m\u001b[0;34m\u001b[0m\u001b[0m\n\u001b[0m\u001b[1;32m      4\u001b[0m   \u001b[0;31m#print(read.query_sequence)\u001b[0m\u001b[0;34m\u001b[0m\u001b[0;34m\u001b[0m\u001b[0m\n\u001b[1;32m      5\u001b[0m   \u001b[0mstart\u001b[0m\u001b[0;34m,\u001b[0m\u001b[0mend\u001b[0m\u001b[0;34m,\u001b[0m\u001b[0mdirection\u001b[0m \u001b[0;34m=\u001b[0m \u001b[0minsertion_span\u001b[0m\u001b[0;34m(\u001b[0m\u001b[0mrow\u001b[0m\u001b[0;34m[\u001b[0m\u001b[0;34m'begin_ref'\u001b[0m\u001b[0;34m]\u001b[0m\u001b[0;34m,\u001b[0m \u001b[0mrow\u001b[0m\u001b[0;34m[\u001b[0m\u001b[0;34m'stop_ref'\u001b[0m\u001b[0;34m]\u001b[0m\u001b[0;34m,\u001b[0m \u001b[0mrow\u001b[0m\u001b[0;34m[\u001b[0m\u001b[0;34m'begin_breakpoint'\u001b[0m\u001b[0;34m]\u001b[0m\u001b[0;34m,\u001b[0m \u001b[0mrow\u001b[0m\u001b[0;34m[\u001b[0m\u001b[0;34m'stop_breakpoint'\u001b[0m\u001b[0;34m]\u001b[0m\u001b[0;34m)\u001b[0m\u001b[0;34m\u001b[0m\u001b[0;34m\u001b[0m\u001b[0m\n",
            "\u001b[0;32m<ipython-input-42-dc633aa2de8c>\u001b[0m in \u001b[0;36mcreate_bam_from_sequence\u001b[0;34m(output_bam_path, dna_sequence, ref_seq, reference_name, start_pos)\u001b[0m\n\u001b[1;32m     43\u001b[0m     \u001b[0mread_rev\u001b[0m\u001b[0;34m.\u001b[0m\u001b[0mreference_start\u001b[0m \u001b[0;34m=\u001b[0m \u001b[0mstart_pos\u001b[0m \u001b[0;34m-\u001b[0m \u001b[0;36m1\u001b[0m\u001b[0;34m\u001b[0m\u001b[0;34m\u001b[0m\u001b[0m\n\u001b[1;32m     44\u001b[0m     \u001b[0mread_rev\u001b[0m\u001b[0;34m.\u001b[0m\u001b[0mmapping_quality\u001b[0m \u001b[0;34m=\u001b[0m \u001b[0;36m60\u001b[0m\u001b[0;34m\u001b[0m\u001b[0;34m\u001b[0m\u001b[0m\n\u001b[0;32m---> 45\u001b[0;31m     \u001b[0mread_rev\u001b[0m\u001b[0;34m.\u001b[0m\u001b[0mcigartuples\u001b[0m \u001b[0;34m=\u001b[0m \u001b[0mggenerate_cigar\u001b[0m\u001b[0;34m(\u001b[0m\u001b[0mrev_seq\u001b[0m\u001b[0;34m,\u001b[0m\u001b[0mrev_ref\u001b[0m\u001b[0;34m)\u001b[0m\u001b[0;34m\u001b[0m\u001b[0;34m\u001b[0m\u001b[0m\n\u001b[0m\u001b[1;32m     46\u001b[0m \u001b[0;34m\u001b[0m\u001b[0m\n\u001b[1;32m     47\u001b[0m     \u001b[0mbam_file\u001b[0m\u001b[0;34m.\u001b[0m\u001b[0mwrite\u001b[0m\u001b[0;34m(\u001b[0m\u001b[0mread_rev\u001b[0m\u001b[0;34m)\u001b[0m\u001b[0;34m\u001b[0m\u001b[0;34m\u001b[0m\u001b[0m\n",
            "\u001b[0;31mNameError\u001b[0m: name 'ggenerate_cigar' is not defined"
          ]
        }
      ]
    },
    {
      "cell_type": "markdown",
      "source": [],
      "metadata": {
        "id": "6rJZ2D1TJy_l"
      }
    },
    {
      "cell_type": "code",
      "source": [
        "# prompt: loop through files in the aligned_sequences folder\n",
        "\n",
        "import os\n",
        "import pysam\n",
        "aligned_sequences_folder = '/content/drive/MyDrive/ACS_Research/VISDB_Data/Aligned_Sequences/HBV'\n",
        "\n",
        "for filename in os.listdir(aligned_sequences_folder):\n",
        "  if filename.endswith(\".bam\"):\n",
        "    filepath = os.path.join(aligned_sequences_folder, filename)\n",
        "    # Process each .bam file\n",
        "    samfile = pysam.AlignmentFile(filepath, \"rb\")\n",
        "    matrix_generator_dos (samfile, start, end, Matrix_Name ='Matrix_data', Label_Name='Label_data', save_file_path=os.getcwd())\n"
      ],
      "metadata": {
        "id": "vvFQ92iVHfYb"
      },
      "execution_count": null,
      "outputs": []
    }
  ]
}