{
  "nbformat": 4,
  "nbformat_minor": 0,
  "metadata": {
    "colab": {
      "provenance": [],
      "toc_visible": true,
      "authorship_tag": "ABX9TyNaZpjndBGxNqFOS71ij4Sf",
      "include_colab_link": true
    },
    "kernelspec": {
      "name": "python3",
      "display_name": "Python 3"
    },
    "language_info": {
      "name": "python"
    }
  },
  "cells": [
    {
      "cell_type": "markdown",
      "metadata": {
        "id": "view-in-github",
        "colab_type": "text"
      },
      "source": [
        "<a href=\"https://colab.research.google.com/github/Nubiancodingdelight/ACS-Project-Repository-/blob/main/Generate_Matrix.ipynb\" target=\"_parent\"><img src=\"https://colab.research.google.com/assets/colab-badge.svg\" alt=\"Open In Colab\"/></a>"
      ]
    },
    {
      "cell_type": "markdown",
      "source": [
        "This notebooks generates matrices as numpy arrays.\n",
        "Created By: Lorrayya Williams\n",
        "Updated On: 4/13/2025"
      ],
      "metadata": {
        "id": "UvXls329dons"
      }
    },
    {
      "cell_type": "markdown",
      "source": [],
      "metadata": {
        "id": "OQwohkdcd73v"
      }
    },
    {
      "cell_type": "code",
      "execution_count": 1,
      "metadata": {
        "id": "ETdsGE0vcgEq",
        "outputId": "0d28796c-e814-49f4-e816-04a2d5390421",
        "colab": {
          "base_uri": "https://localhost:8080/"
        }
      },
      "outputs": [
        {
          "output_type": "stream",
          "name": "stdout",
          "text": [
            "Mounted at /content/drive\n"
          ]
        }
      ],
      "source": [
        "#mounts google drive\n",
        "from google.colab import drive\n",
        "drive.mount('/content/drive', force_remount=True)"
      ]
    },
    {
      "cell_type": "code",
      "source": [
        "#set path\n",
        "%cd /content/drive/MyDrive/ACS_Research/VISDB_Data/"
      ],
      "metadata": {
        "id": "-I4DAI_3eAfu",
        "outputId": "dd7ad8ad-f021-4769-bd62-96852381d981",
        "colab": {
          "base_uri": "https://localhost:8080/"
        }
      },
      "execution_count": 2,
      "outputs": [
        {
          "output_type": "stream",
          "name": "stdout",
          "text": [
            "/content/drive/MyDrive/ACS_Research/VISDB_Data\n"
          ]
        }
      ]
    },
    {
      "cell_type": "markdown",
      "source": [
        "INSTALL"
      ],
      "metadata": {
        "id": "G--T3GMI_ORT"
      }
    },
    {
      "cell_type": "code",
      "source": [
        "!pip install pysam"
      ],
      "metadata": {
        "id": "cgQC1gd-_NO5",
        "outputId": "d5fa902d-afcb-46c1-d543-83d98bdb8850",
        "colab": {
          "base_uri": "https://localhost:8080/"
        }
      },
      "execution_count": 3,
      "outputs": [
        {
          "output_type": "stream",
          "name": "stdout",
          "text": [
            "Collecting pysam\n",
            "  Downloading pysam-0.23.0-cp311-cp311-manylinux_2_28_x86_64.whl.metadata (1.6 kB)\n",
            "Downloading pysam-0.23.0-cp311-cp311-manylinux_2_28_x86_64.whl (26.0 MB)\n",
            "\u001b[2K   \u001b[90m━━━━━━━━━━━━━━━━━━━━━━━━━━━━━━━━━━━━━━━━\u001b[0m \u001b[32m26.0/26.0 MB\u001b[0m \u001b[31m53.0 MB/s\u001b[0m eta \u001b[36m0:00:00\u001b[0m\n",
            "\u001b[?25hInstalling collected packages: pysam\n",
            "Successfully installed pysam-0.23.0\n"
          ]
        }
      ]
    },
    {
      "cell_type": "markdown",
      "source": [
        "Imports"
      ],
      "metadata": {
        "id": "m0qTrxoW_6Wa"
      }
    },
    {
      "cell_type": "code",
      "source": [
        "#imports\n",
        "import numpy as np\n",
        "import subprocess\n",
        "import shlex\n",
        "import pysam\n",
        "import re\n",
        "import tensorflow as tf\n",
        "import re\n",
        "import math\n",
        "import statistics as stat\n"
      ],
      "metadata": {
        "id": "IYWVvEG2_5qi"
      },
      "execution_count": 4,
      "outputs": []
    },
    {
      "cell_type": "markdown",
      "source": [
        "# Functions\n",
        "\n",
        "\n"
      ],
      "metadata": {
        "id": "rgXbYXkQAACJ"
      }
    },
    {
      "cell_type": "code",
      "source": [
        "\n",
        "#def align_seq(seq, start, stop,dir):\n"
      ],
      "metadata": {
        "id": "yhGDkFQn__Me"
      },
      "execution_count": null,
      "outputs": []
    },
    {
      "cell_type": "code",
      "source": [
        "import pysam\n",
        "from pysam import AlignmentHeader, AlignedSegment\n",
        "def create_bam_from_sequence(output_bam_path, dna_sequence, reference_name, start_pos):\n",
        "  \"\"\"\n",
        "  Creates a BAM file from a DNA sequence and its coordinates.\n",
        "\n",
        "  Args:\n",
        "      output_bam_path (str): Path to save the BAM file (e.g., \"output.bam\").\n",
        "      dna_sequence (str): DNA sequence (e.g., \"ATCGATCG\").\n",
        "      reference_name (str): Reference sequence name (e.g., \"chr1\").\n",
        "      start_pos (int): 1-based start position on the reference.\n",
        "  \"\"\"\n",
        "  # 1. Create a BAM header\n",
        "  header = AlignmentHeader.from_references(\n",
        "      [reference_name],  # List of reference names\n",
        "      [len(dna_sequence)]  # Lengths of references\n",
        "  )\n",
        "\n",
        "  # 2. Open a BAM file for writing\n",
        "  with pysam.AlignmentFile(output_bam_path, \"wb\", header=header) as bam_file:\n",
        "    # 3. Create an aligned segment (read)\n",
        "    read = AlignedSegment(header)\n",
        "    read.query_name = \"read1\"  # Read ID\n",
        "    read.query_sequence = dna_sequence  # DNA sequence\n",
        "    read.flag = 0  # No flags set (0 means mapped)\n",
        "    read.reference_id = 0  # Index of reference in header (0 = first one)\n",
        "    read.reference_start = start_pos - 1  # 0-based position\n",
        "    read.mapping_quality = 60  # High mapping quality\n",
        "    read.cigar = [(pysam.CMATCH, len(dna_sequence))]  # CIGAR string (exact match)\n",
        "    print(read.cigar)\n",
        "    print(read)\n",
        "    # 4. Write the read to the BAM file\n",
        "    bam_file.write(read)\n"
      ],
      "metadata": {
        "id": "53BK8xewyGHG"
      },
      "execution_count": 20,
      "outputs": []
    },
    {
      "cell_type": "markdown",
      "source": [
        "Generate BAM files"
      ],
      "metadata": {
        "id": "Ijhxns9W4dHN"
      }
    },
    {
      "cell_type": "markdown",
      "source": [
        "HBV"
      ],
      "metadata": {
        "id": "YNG3bU1c4bA1"
      }
    },
    {
      "cell_type": "code",
      "source": [
        "#load hbv data\n",
        "import pandas as pd\n",
        "hbv_data = pd.read_csv('Spliced_Data_HBV.csv')\n",
        "hbv_data.head()"
      ],
      "metadata": {
        "id": "P9ZMnmMX1mDP",
        "outputId": "0e70662f-5295-4bc2-9b76-7519cc6d778d",
        "colab": {
          "base_uri": "https://localhost:8080/",
          "height": 243
        }
      },
      "execution_count": 7,
      "outputs": [
        {
          "output_type": "execute_result",
          "data": {
            "text/plain": [
              "   Unnamed: 0 virus virus_ref  begin_ref   stop_ref    human_ref  \\\n",
              "0           0   HBV  X70185.1        420        437  GRCh37/hg19   \n",
              "1           1   HBV  X70185.1   97732036   97732056  GRCh37/hg19   \n",
              "2           2   HBV  X70185.1  194161891  194161910  GRCh37/hg19   \n",
              "3           3   HBV  X70185.1  171450967  171450816  GRCh37/hg19   \n",
              "4           4   HBV  X70185.1  171450967  171450816  GRCh37/hg19   \n",
              "\n",
              "   begin_breakpoint  stop_breakpoint  \\\n",
              "0              1720             1603   \n",
              "1              1246             1390   \n",
              "2              1603             1664   \n",
              "3              1623             1717   \n",
              "4              1638             1717   \n",
              "\n",
              "                                         spliced_seq  \\\n",
              "0  NNNNNNNNNNNNNNNNNNNNNNNNNNNNNNNNNNNNNNNNNNNNNN...   \n",
              "1  TATCAATTAAACAAATCATTGCTGTGTCCTGCAGTTCAGGGTTCTG...   \n",
              "2  CTTTAATTAATTGTTAGTATGACTAAAAATTTATTTCACAAAGTTG...   \n",
              "3  ctagtaagccagtgtttcctatgttggAACGCCCATCAGATCCTGC...   \n",
              "4  ctagtaagccagtgtttcctatgttgggtaaacacatttgcagtgg...   \n",
              "\n",
              "                                           viral_seq  \\\n",
              "0                                                NaN   \n",
              "1  TTTGTGGCTCCTCTGCCGATCCATACTGCGGAACTCCTAGCCGCTT...   \n",
              "2  GTTGCATGGAGACCACCGTGAACGCCCATCAGATCCTGCCCAAGGT...   \n",
              "3  AACGCCCATCAGATCCTGCCCAAGGTCTTACATAAGAGGACTCTTG...   \n",
              "4  CTGCCCAAGGTCTTACATAAGAGGACTCTTGGACTCTCAGCAATGT...   \n",
              "\n",
              "                                  human_seq_upstream  \\\n",
              "0  NNNNNNNNNNNNNNNNNNNNNNNNNNNNNNNNNNNNNNNNNNNNNN...   \n",
              "1  TATCAATTAAACAAATCATTGCTGTGTCCTGCAGTTCAGGGTTCTG...   \n",
              "2  CTTTAATTAATTGTTAGTATGACTAAAAATTTATTTCACAAAGTTG...   \n",
              "3                        ctagtaagccagtgtttcctatgttgg   \n",
              "4  ctagtaagccagtgtttcctatgttgggtaaacacatttgcagtgg...   \n",
              "\n",
              "                                human_seq_downstream  \n",
              "0                                   NNNNNNNNNNNNNNNN  \n",
              "1  gtaatttgtaatgaacagatattcatttCtttttttattattatta...  \n",
              "2  AGTGTTTGCTTTTTAAAATGTTAAGATTAAATCATATTGTTACttt...  \n",
              "3  caactatctccctgatcactgtaattggtccagagtaggacaaatg...  \n",
              "4  AGACTTTATATATGGCTACCTCTTGACCTCCAAATCCCATCCTCCT...  "
            ],
            "text/html": [
              "\n",
              "  <div id=\"df-5756702d-40b6-4cf0-b142-f10202dec55f\" class=\"colab-df-container\">\n",
              "    <div>\n",
              "<style scoped>\n",
              "    .dataframe tbody tr th:only-of-type {\n",
              "        vertical-align: middle;\n",
              "    }\n",
              "\n",
              "    .dataframe tbody tr th {\n",
              "        vertical-align: top;\n",
              "    }\n",
              "\n",
              "    .dataframe thead th {\n",
              "        text-align: right;\n",
              "    }\n",
              "</style>\n",
              "<table border=\"1\" class=\"dataframe\">\n",
              "  <thead>\n",
              "    <tr style=\"text-align: right;\">\n",
              "      <th></th>\n",
              "      <th>Unnamed: 0</th>\n",
              "      <th>virus</th>\n",
              "      <th>virus_ref</th>\n",
              "      <th>begin_ref</th>\n",
              "      <th>stop_ref</th>\n",
              "      <th>human_ref</th>\n",
              "      <th>begin_breakpoint</th>\n",
              "      <th>stop_breakpoint</th>\n",
              "      <th>spliced_seq</th>\n",
              "      <th>viral_seq</th>\n",
              "      <th>human_seq_upstream</th>\n",
              "      <th>human_seq_downstream</th>\n",
              "    </tr>\n",
              "  </thead>\n",
              "  <tbody>\n",
              "    <tr>\n",
              "      <th>0</th>\n",
              "      <td>0</td>\n",
              "      <td>HBV</td>\n",
              "      <td>X70185.1</td>\n",
              "      <td>420</td>\n",
              "      <td>437</td>\n",
              "      <td>GRCh37/hg19</td>\n",
              "      <td>1720</td>\n",
              "      <td>1603</td>\n",
              "      <td>NNNNNNNNNNNNNNNNNNNNNNNNNNNNNNNNNNNNNNNNNNNNNN...</td>\n",
              "      <td>NaN</td>\n",
              "      <td>NNNNNNNNNNNNNNNNNNNNNNNNNNNNNNNNNNNNNNNNNNNNNN...</td>\n",
              "      <td>NNNNNNNNNNNNNNNN</td>\n",
              "    </tr>\n",
              "    <tr>\n",
              "      <th>1</th>\n",
              "      <td>1</td>\n",
              "      <td>HBV</td>\n",
              "      <td>X70185.1</td>\n",
              "      <td>97732036</td>\n",
              "      <td>97732056</td>\n",
              "      <td>GRCh37/hg19</td>\n",
              "      <td>1246</td>\n",
              "      <td>1390</td>\n",
              "      <td>TATCAATTAAACAAATCATTGCTGTGTCCTGCAGTTCAGGGTTCTG...</td>\n",
              "      <td>TTTGTGGCTCCTCTGCCGATCCATACTGCGGAACTCCTAGCCGCTT...</td>\n",
              "      <td>TATCAATTAAACAAATCATTGCTGTGTCCTGCAGTTCAGGGTTCTG...</td>\n",
              "      <td>gtaatttgtaatgaacagatattcatttCtttttttattattatta...</td>\n",
              "    </tr>\n",
              "    <tr>\n",
              "      <th>2</th>\n",
              "      <td>2</td>\n",
              "      <td>HBV</td>\n",
              "      <td>X70185.1</td>\n",
              "      <td>194161891</td>\n",
              "      <td>194161910</td>\n",
              "      <td>GRCh37/hg19</td>\n",
              "      <td>1603</td>\n",
              "      <td>1664</td>\n",
              "      <td>CTTTAATTAATTGTTAGTATGACTAAAAATTTATTTCACAAAGTTG...</td>\n",
              "      <td>GTTGCATGGAGACCACCGTGAACGCCCATCAGATCCTGCCCAAGGT...</td>\n",
              "      <td>CTTTAATTAATTGTTAGTATGACTAAAAATTTATTTCACAAAGTTG...</td>\n",
              "      <td>AGTGTTTGCTTTTTAAAATGTTAAGATTAAATCATATTGTTACttt...</td>\n",
              "    </tr>\n",
              "    <tr>\n",
              "      <th>3</th>\n",
              "      <td>3</td>\n",
              "      <td>HBV</td>\n",
              "      <td>X70185.1</td>\n",
              "      <td>171450967</td>\n",
              "      <td>171450816</td>\n",
              "      <td>GRCh37/hg19</td>\n",
              "      <td>1623</td>\n",
              "      <td>1717</td>\n",
              "      <td>ctagtaagccagtgtttcctatgttggAACGCCCATCAGATCCTGC...</td>\n",
              "      <td>AACGCCCATCAGATCCTGCCCAAGGTCTTACATAAGAGGACTCTTG...</td>\n",
              "      <td>ctagtaagccagtgtttcctatgttgg</td>\n",
              "      <td>caactatctccctgatcactgtaattggtccagagtaggacaaatg...</td>\n",
              "    </tr>\n",
              "    <tr>\n",
              "      <th>4</th>\n",
              "      <td>4</td>\n",
              "      <td>HBV</td>\n",
              "      <td>X70185.1</td>\n",
              "      <td>171450967</td>\n",
              "      <td>171450816</td>\n",
              "      <td>GRCh37/hg19</td>\n",
              "      <td>1638</td>\n",
              "      <td>1717</td>\n",
              "      <td>ctagtaagccagtgtttcctatgttgggtaaacacatttgcagtgg...</td>\n",
              "      <td>CTGCCCAAGGTCTTACATAAGAGGACTCTTGGACTCTCAGCAATGT...</td>\n",
              "      <td>ctagtaagccagtgtttcctatgttgggtaaacacatttgcagtgg...</td>\n",
              "      <td>AGACTTTATATATGGCTACCTCTTGACCTCCAAATCCCATCCTCCT...</td>\n",
              "    </tr>\n",
              "  </tbody>\n",
              "</table>\n",
              "</div>\n",
              "    <div class=\"colab-df-buttons\">\n",
              "\n",
              "  <div class=\"colab-df-container\">\n",
              "    <button class=\"colab-df-convert\" onclick=\"convertToInteractive('df-5756702d-40b6-4cf0-b142-f10202dec55f')\"\n",
              "            title=\"Convert this dataframe to an interactive table.\"\n",
              "            style=\"display:none;\">\n",
              "\n",
              "  <svg xmlns=\"http://www.w3.org/2000/svg\" height=\"24px\" viewBox=\"0 -960 960 960\">\n",
              "    <path d=\"M120-120v-720h720v720H120Zm60-500h600v-160H180v160Zm220 220h160v-160H400v160Zm0 220h160v-160H400v160ZM180-400h160v-160H180v160Zm440 0h160v-160H620v160ZM180-180h160v-160H180v160Zm440 0h160v-160H620v160Z\"/>\n",
              "  </svg>\n",
              "    </button>\n",
              "\n",
              "  <style>\n",
              "    .colab-df-container {\n",
              "      display:flex;\n",
              "      gap: 12px;\n",
              "    }\n",
              "\n",
              "    .colab-df-convert {\n",
              "      background-color: #E8F0FE;\n",
              "      border: none;\n",
              "      border-radius: 50%;\n",
              "      cursor: pointer;\n",
              "      display: none;\n",
              "      fill: #1967D2;\n",
              "      height: 32px;\n",
              "      padding: 0 0 0 0;\n",
              "      width: 32px;\n",
              "    }\n",
              "\n",
              "    .colab-df-convert:hover {\n",
              "      background-color: #E2EBFA;\n",
              "      box-shadow: 0px 1px 2px rgba(60, 64, 67, 0.3), 0px 1px 3px 1px rgba(60, 64, 67, 0.15);\n",
              "      fill: #174EA6;\n",
              "    }\n",
              "\n",
              "    .colab-df-buttons div {\n",
              "      margin-bottom: 4px;\n",
              "    }\n",
              "\n",
              "    [theme=dark] .colab-df-convert {\n",
              "      background-color: #3B4455;\n",
              "      fill: #D2E3FC;\n",
              "    }\n",
              "\n",
              "    [theme=dark] .colab-df-convert:hover {\n",
              "      background-color: #434B5C;\n",
              "      box-shadow: 0px 1px 3px 1px rgba(0, 0, 0, 0.15);\n",
              "      filter: drop-shadow(0px 1px 2px rgba(0, 0, 0, 0.3));\n",
              "      fill: #FFFFFF;\n",
              "    }\n",
              "  </style>\n",
              "\n",
              "    <script>\n",
              "      const buttonEl =\n",
              "        document.querySelector('#df-5756702d-40b6-4cf0-b142-f10202dec55f button.colab-df-convert');\n",
              "      buttonEl.style.display =\n",
              "        google.colab.kernel.accessAllowed ? 'block' : 'none';\n",
              "\n",
              "      async function convertToInteractive(key) {\n",
              "        const element = document.querySelector('#df-5756702d-40b6-4cf0-b142-f10202dec55f');\n",
              "        const dataTable =\n",
              "          await google.colab.kernel.invokeFunction('convertToInteractive',\n",
              "                                                    [key], {});\n",
              "        if (!dataTable) return;\n",
              "\n",
              "        const docLinkHtml = 'Like what you see? Visit the ' +\n",
              "          '<a target=\"_blank\" href=https://colab.research.google.com/notebooks/data_table.ipynb>data table notebook</a>'\n",
              "          + ' to learn more about interactive tables.';\n",
              "        element.innerHTML = '';\n",
              "        dataTable['output_type'] = 'display_data';\n",
              "        await google.colab.output.renderOutput(dataTable, element);\n",
              "        const docLink = document.createElement('div');\n",
              "        docLink.innerHTML = docLinkHtml;\n",
              "        element.appendChild(docLink);\n",
              "      }\n",
              "    </script>\n",
              "  </div>\n",
              "\n",
              "\n",
              "<div id=\"df-e747ee73-64b9-4993-88e1-522cf3ce7dbf\">\n",
              "  <button class=\"colab-df-quickchart\" onclick=\"quickchart('df-e747ee73-64b9-4993-88e1-522cf3ce7dbf')\"\n",
              "            title=\"Suggest charts\"\n",
              "            style=\"display:none;\">\n",
              "\n",
              "<svg xmlns=\"http://www.w3.org/2000/svg\" height=\"24px\"viewBox=\"0 0 24 24\"\n",
              "     width=\"24px\">\n",
              "    <g>\n",
              "        <path d=\"M19 3H5c-1.1 0-2 .9-2 2v14c0 1.1.9 2 2 2h14c1.1 0 2-.9 2-2V5c0-1.1-.9-2-2-2zM9 17H7v-7h2v7zm4 0h-2V7h2v10zm4 0h-2v-4h2v4z\"/>\n",
              "    </g>\n",
              "</svg>\n",
              "  </button>\n",
              "\n",
              "<style>\n",
              "  .colab-df-quickchart {\n",
              "      --bg-color: #E8F0FE;\n",
              "      --fill-color: #1967D2;\n",
              "      --hover-bg-color: #E2EBFA;\n",
              "      --hover-fill-color: #174EA6;\n",
              "      --disabled-fill-color: #AAA;\n",
              "      --disabled-bg-color: #DDD;\n",
              "  }\n",
              "\n",
              "  [theme=dark] .colab-df-quickchart {\n",
              "      --bg-color: #3B4455;\n",
              "      --fill-color: #D2E3FC;\n",
              "      --hover-bg-color: #434B5C;\n",
              "      --hover-fill-color: #FFFFFF;\n",
              "      --disabled-bg-color: #3B4455;\n",
              "      --disabled-fill-color: #666;\n",
              "  }\n",
              "\n",
              "  .colab-df-quickchart {\n",
              "    background-color: var(--bg-color);\n",
              "    border: none;\n",
              "    border-radius: 50%;\n",
              "    cursor: pointer;\n",
              "    display: none;\n",
              "    fill: var(--fill-color);\n",
              "    height: 32px;\n",
              "    padding: 0;\n",
              "    width: 32px;\n",
              "  }\n",
              "\n",
              "  .colab-df-quickchart:hover {\n",
              "    background-color: var(--hover-bg-color);\n",
              "    box-shadow: 0 1px 2px rgba(60, 64, 67, 0.3), 0 1px 3px 1px rgba(60, 64, 67, 0.15);\n",
              "    fill: var(--button-hover-fill-color);\n",
              "  }\n",
              "\n",
              "  .colab-df-quickchart-complete:disabled,\n",
              "  .colab-df-quickchart-complete:disabled:hover {\n",
              "    background-color: var(--disabled-bg-color);\n",
              "    fill: var(--disabled-fill-color);\n",
              "    box-shadow: none;\n",
              "  }\n",
              "\n",
              "  .colab-df-spinner {\n",
              "    border: 2px solid var(--fill-color);\n",
              "    border-color: transparent;\n",
              "    border-bottom-color: var(--fill-color);\n",
              "    animation:\n",
              "      spin 1s steps(1) infinite;\n",
              "  }\n",
              "\n",
              "  @keyframes spin {\n",
              "    0% {\n",
              "      border-color: transparent;\n",
              "      border-bottom-color: var(--fill-color);\n",
              "      border-left-color: var(--fill-color);\n",
              "    }\n",
              "    20% {\n",
              "      border-color: transparent;\n",
              "      border-left-color: var(--fill-color);\n",
              "      border-top-color: var(--fill-color);\n",
              "    }\n",
              "    30% {\n",
              "      border-color: transparent;\n",
              "      border-left-color: var(--fill-color);\n",
              "      border-top-color: var(--fill-color);\n",
              "      border-right-color: var(--fill-color);\n",
              "    }\n",
              "    40% {\n",
              "      border-color: transparent;\n",
              "      border-right-color: var(--fill-color);\n",
              "      border-top-color: var(--fill-color);\n",
              "    }\n",
              "    60% {\n",
              "      border-color: transparent;\n",
              "      border-right-color: var(--fill-color);\n",
              "    }\n",
              "    80% {\n",
              "      border-color: transparent;\n",
              "      border-right-color: var(--fill-color);\n",
              "      border-bottom-color: var(--fill-color);\n",
              "    }\n",
              "    90% {\n",
              "      border-color: transparent;\n",
              "      border-bottom-color: var(--fill-color);\n",
              "    }\n",
              "  }\n",
              "</style>\n",
              "\n",
              "  <script>\n",
              "    async function quickchart(key) {\n",
              "      const quickchartButtonEl =\n",
              "        document.querySelector('#' + key + ' button');\n",
              "      quickchartButtonEl.disabled = true;  // To prevent multiple clicks.\n",
              "      quickchartButtonEl.classList.add('colab-df-spinner');\n",
              "      try {\n",
              "        const charts = await google.colab.kernel.invokeFunction(\n",
              "            'suggestCharts', [key], {});\n",
              "      } catch (error) {\n",
              "        console.error('Error during call to suggestCharts:', error);\n",
              "      }\n",
              "      quickchartButtonEl.classList.remove('colab-df-spinner');\n",
              "      quickchartButtonEl.classList.add('colab-df-quickchart-complete');\n",
              "    }\n",
              "    (() => {\n",
              "      let quickchartButtonEl =\n",
              "        document.querySelector('#df-e747ee73-64b9-4993-88e1-522cf3ce7dbf button');\n",
              "      quickchartButtonEl.style.display =\n",
              "        google.colab.kernel.accessAllowed ? 'block' : 'none';\n",
              "    })();\n",
              "  </script>\n",
              "</div>\n",
              "\n",
              "    </div>\n",
              "  </div>\n"
            ],
            "application/vnd.google.colaboratory.intrinsic+json": {
              "type": "dataframe",
              "variable_name": "hbv_data",
              "summary": "{\n  \"name\": \"hbv_data\",\n  \"rows\": 1430,\n  \"fields\": [\n    {\n      \"column\": \"Unnamed: 0\",\n      \"properties\": {\n        \"dtype\": \"number\",\n        \"std\": 412,\n        \"min\": 0,\n        \"max\": 1429,\n        \"num_unique_values\": 1430,\n        \"samples\": [\n          123,\n          1190,\n          462\n        ],\n        \"semantic_type\": \"\",\n        \"description\": \"\"\n      }\n    },\n    {\n      \"column\": \"virus\",\n      \"properties\": {\n        \"dtype\": \"category\",\n        \"num_unique_values\": 1,\n        \"samples\": [\n          \"HBV\"\n        ],\n        \"semantic_type\": \"\",\n        \"description\": \"\"\n      }\n    },\n    {\n      \"column\": \"virus_ref\",\n      \"properties\": {\n        \"dtype\": \"category\",\n        \"num_unique_values\": 7,\n        \"samples\": [\n          \"X70185.1\"\n        ],\n        \"semantic_type\": \"\",\n        \"description\": \"\"\n      }\n    },\n    {\n      \"column\": \"begin_ref\",\n      \"properties\": {\n        \"dtype\": \"number\",\n        \"std\": 78182090,\n        \"min\": 54,\n        \"max\": 2000084860,\n        \"num_unique_values\": 1381,\n        \"samples\": [\n          88308333\n        ],\n        \"semantic_type\": \"\",\n        \"description\": \"\"\n      }\n    },\n    {\n      \"column\": \"stop_ref\",\n      \"properties\": {\n        \"dtype\": \"number\",\n        \"std\": 59421812,\n        \"min\": 27,\n        \"max\": 249241007,\n        \"num_unique_values\": 1399,\n        \"samples\": [\n          113831008\n        ],\n        \"semantic_type\": \"\",\n        \"description\": \"\"\n      }\n    },\n    {\n      \"column\": \"human_ref\",\n      \"properties\": {\n        \"dtype\": \"category\",\n        \"num_unique_values\": 2,\n        \"samples\": [\n          \"GRCh37\"\n        ],\n        \"semantic_type\": \"\",\n        \"description\": \"\"\n      }\n    },\n    {\n      \"column\": \"begin_breakpoint\",\n      \"properties\": {\n        \"dtype\": \"number\",\n        \"std\": 747,\n        \"min\": 1,\n        \"max\": 3210,\n        \"num_unique_values\": 821,\n        \"samples\": [\n          643\n        ],\n        \"semantic_type\": \"\",\n        \"description\": \"\"\n      }\n    },\n    {\n      \"column\": \"stop_breakpoint\",\n      \"properties\": {\n        \"dtype\": \"number\",\n        \"std\": 725,\n        \"min\": 31,\n        \"max\": 3646,\n        \"num_unique_values\": 821,\n        \"samples\": [\n          3101\n        ],\n        \"semantic_type\": \"\",\n        \"description\": \"\"\n      }\n    },\n    {\n      \"column\": \"spliced_seq\",\n      \"properties\": {\n        \"dtype\": \"string\",\n        \"num_unique_values\": 1430,\n        \"samples\": [\n          \"ACCTTTCCAGTCTTTGCTTGGTTCATATTTCAATGTCATTCTCCACCTAGGctcactggtctgttatctccctgagaacaggaccctcttcagagacttcttggtatcatcttcacctggttcctgcctactgccttggacacaggagctactctAGATTAGGTTAAATTATCTTACACTGTTGGACGATAACTTCCAGATGCATCTGGTTT\"\n        ],\n        \"semantic_type\": \"\",\n        \"description\": \"\"\n      }\n    },\n    {\n      \"column\": \"viral_seq\",\n      \"properties\": {\n        \"dtype\": \"string\",\n        \"num_unique_values\": 1074,\n        \"samples\": [\n          \"CTACTCCCATCTCTCCACCTCTAAGAGACAG\"\n        ],\n        \"semantic_type\": \"\",\n        \"description\": \"\"\n      }\n    },\n    {\n      \"column\": \"human_seq_upstream\",\n      \"properties\": {\n        \"dtype\": \"string\",\n        \"num_unique_values\": 1423,\n        \"samples\": [\n          \"tttccttaaggtcttacaaaatattccataactctcttagcaatccagtttagtatttagtcacactgatgatca\"\n        ],\n        \"semantic_type\": \"\",\n        \"description\": \"\"\n      }\n    },\n    {\n      \"column\": \"human_seq_downstream\",\n      \"properties\": {\n        \"dtype\": \"string\",\n        \"num_unique_values\": 1425,\n        \"samples\": [\n          \"CTGTGGCAACCAACAAAAAACACAATGACGTTCTAGTGACCTAGATATAATTATGTTCCTTTCAGAAGTAAAGTTTTTTA\"\n        ],\n        \"semantic_type\": \"\",\n        \"description\": \"\"\n      }\n    }\n  ]\n}"
            }
          },
          "metadata": {},
          "execution_count": 7
        }
      ]
    },
    {
      "cell_type": "code",
      "source": [
        "# prompt: remove first row from hbv_Data\n",
        "\n",
        "hbv_data = hbv_data.iloc[1:]\n"
      ],
      "metadata": {
        "id": "F9vOclz84wFk"
      },
      "execution_count": 18,
      "outputs": []
    },
    {
      "cell_type": "code",
      "source": [
        "for index, row in hbv_data.iterrows():\n",
        "  create_bam_from_sequence('/content/drive/MyDrive/ACS_Research/VISDB_Data/Aligned_Sequences/HBV.bam',row['spliced_seq'], 'hg19', row['begin_breakpoint'])\n",
        "  break"
      ],
      "metadata": {
        "id": "lh-qrKA1169f",
        "outputId": "55a844dd-4683-4e51-d344-fab784c8b260",
        "colab": {
          "base_uri": "https://localhost:8080/"
        }
      },
      "execution_count": 21,
      "outputs": [
        {
          "output_type": "stream",
          "name": "stdout",
          "text": [
            "[(0, 345)]\n",
            "read1\t0\thg19\t1246\t60\t345M\t*\t0\t0\tTATCAATTAAACAAATCATTGCTGTGTCCTGCAGTTCAGGGTTCTGCATCTTTGGtgtcttaatctgctgtatgctgctatTTTGTGGCTCCTCTGCCGATCCATACTGCGGAACTCCTAGCCGCTTGTTTTGCTCGCAGCCGGTCTGGAGCAAAGCTCATCGGAACTGACAATTCTGTCGTCCTCTCGCGGAAATATACATCGTTTCCATGGCTGCTAGGCTGTAgtaatttgtaatgaacagatattcatttCtttttttattattattatacgttaagttctagggtacatgtgcacaacgggcaggtttgttacataggtatacatgtgccatgttggttt\tNone\t[]\n"
          ]
        }
      ]
    },
    {
      "cell_type": "code",
      "source": [
        "%pwd"
      ],
      "metadata": {
        "id": "aKpIvFBW2HfS",
        "outputId": "adc181f5-00a7-4af5-b491-9f3a8ac36a02",
        "colab": {
          "base_uri": "https://localhost:8080/",
          "height": 36
        }
      },
      "execution_count": 11,
      "outputs": [
        {
          "output_type": "execute_result",
          "data": {
            "text/plain": [
              "'/content/drive/MyDrive/ACS_Research/VISDB_Data/Aligned_Sequences'"
            ],
            "application/vnd.google.colaboratory.intrinsic+json": {
              "type": "string"
            }
          },
          "metadata": {},
          "execution_count": 11
        }
      ]
    },
    {
      "cell_type": "markdown",
      "source": [
        "Generate SAM file"
      ],
      "metadata": {
        "id": "ZP6x32b6AIAJ"
      }
    },
    {
      "cell_type": "markdown",
      "source": [
        "#Matrix Generator 1 -- DeepHBV\n"
      ],
      "metadata": {
        "id": "2exCcZa_Bdgg"
      }
    },
    {
      "cell_type": "code",
      "source": [
        "import numpy as np\n",
        "import os\n",
        "from scipy.io import loadmat\n",
        "# from array import array\n",
        "# from util import seq_matrix\n",
        "\n",
        "def seq_matrix(seq_list, dim):  # One Hot Encoding\n",
        "\n",
        "    tensor = np.zeros((len(seq_list), dim, 4))\n",
        "\n",
        "    for i in range(len(seq_list)):\n",
        "        seq = seq_list[i]\n",
        "        j = 0\n",
        "        for s in seq:\n",
        "            # if s == 'A' or s == 'a':\n",
        "            #    tensor[i][j] = [1, 0, 0, 1, 0, 1, 0, 0]\n",
        "            # if s == 'T' or s == 't':\n",
        "            #    tensor[i][j] = [0, 1, 0, 0, 1, 0, 0, 0]\n",
        "            # if s == 'C' or s == 'c':\n",
        "            #    tensor[i][j] = [0, 0, 1, 0, 0, 1, 0, 1]\n",
        "            # if s == 'G' or s == 'g':\n",
        "            #    tensor[i][j] = [0, 0, 0, 1, 0, 0, 1, 1]\n",
        "            # if s == 'N':\n",
        "            #    tensor[i][j] = [0, 0, 0, 0, 0, 0, 0, 0]\n",
        "            if s == 'A' or s == 'a':\n",
        "                tensor[i][j] = [1, 0, 0, 0]\n",
        "            if s == 'T' or s == 't':\n",
        "                tensor[i][j] = [0, 1, 0, 0]\n",
        "            if s == 'C' or s == 'c':\n",
        "                tensor[i][j] = [0, 0, 1, 0]\n",
        "            if s == 'G' or s == 'g':\n",
        "                tensor[i][j] = [0, 0, 0, 1]\n",
        "            if s == 'N':\n",
        "                tensor[i][j] = [0, 0, 0, 0]\n",
        "            j += 1\n",
        "    return tensor\n",
        "\n",
        "def fasta_to_matrix():\n",
        "    #seq_name_file = ['DNA_neg_Test.mat',\n",
        "    #                 'DNA_pos_Test.mat']  # data file\n",
        "    #mat file is a matlab file\n",
        "\n",
        "    #print(seq_name_file)\n",
        "    dim = 75\n",
        "\n",
        "#POSITIVE SEQUENCE TRAIN\n",
        "    seq = POS_SEQ\n",
        "    print('pos__Train_starting!')\n",
        "    global Data_pos_Train\n",
        "    Data_pos_Train = seq_matrix(seq, dim)\n",
        "    # global Data_pos_Train\n",
        "    print('pos__Train_ending!')\n",
        "\n",
        "#NEGATIVE SEQUENCE\n",
        "    seq = NEG_SEQ\n",
        "    print('neg_Train_starting!')\n",
        "    global Data_neg_Train\n",
        "    Data_neg_Train = seq_matrix(seq, dim)\n",
        "    # global Data_neg_Train\n",
        "    print('neg_Train_ending!')\n",
        "    Data_Train = np.concatenate([Data_pos_Train, Data_neg_Train])  # Train data\n",
        "    Label_Train = np.concatenate([np.ones(len(Data_pos_Train)), np.zeros(len(Data_neg_Train))])  # Trian_label\n",
        "    #Data_Test = np.concatenate([Data_pos_Test, Data_neg_Test])  # Test data\n",
        "    #print(Data_Test)\n",
        "    #Label_Test = np.concatenate([np.ones(len(Data_pos_Test)), np.zeros(len(Data_neg_Test))])  # Test label\n",
        "    #print(Label_Test)\n",
        "    np.save('Data/Simulation_Data1_Train', Data_Train)\n",
        "    np.save('Data/Simulation_Data1_Label_Train', Label_Train)\n",
        "    #np.save('Data_Test', Data_Test)\n",
        "    #np.save('Label_Test', Label_Test)\n",
        "\n",
        "if __name__ == '__main__':\n",
        "    fasta_to_matrix( )"
      ],
      "metadata": {
        "id": "_C1Rpc6h7JmQ"
      },
      "execution_count": null,
      "outputs": []
    },
    {
      "cell_type": "markdown",
      "source": [
        "# Matrix Generator 2 -- Novel Matrix"
      ],
      "metadata": {
        "id": "Ew7WzqoiBw49"
      }
    },
    {
      "cell_type": "code",
      "source": [
        "#matrix row generator from CIGAR, SEQuence, Position of Insert\n",
        "def matrix_row(CIG, SE, PO, INS):\n",
        "  matrix_list= []\n",
        "  label_list =[]\n",
        "  bases = ['A','T','C','G']\n",
        "  seq_list= list(SEQ)\n",
        "  cigar_list = re.split(r'(\\d+)', CIGAR)[1::]\n",
        "  tensor= np.zeros((1,75, 4))\n",
        "  if int(POS) in range(24020700,24020710):\n",
        "    label_list.append(1)\n",
        "  else:\n",
        "    label_list.append(0)\n",
        "\n",
        "  #print(len(seq_list))\n",
        "  #FIX LOOP\n",
        "  if len(cigar_list) ==2:\n",
        "    #if it is a matched a sequence of 1's based on the base are added\n",
        "    if cigar_list[1] == 'M':\n",
        "      i= 0\n",
        "      for j in range(int(cigar_list[0])):\n",
        "        num_list = [0,0,0,0]\n",
        "        try:\n",
        "          num_list[bases.index(seq_list[j])] = 1\n",
        "          #print(num_list)\n",
        "          tensor[i][j]= num_list\n",
        "          #print(tensor[i][j])\n",
        "        except ValueError:\n",
        "          tensor[i][j]= num_list\n",
        "\n",
        "\n",
        "    else:\n",
        "      for j in range(len(seq_list)):\n",
        "        num_list = [0,0,0,0]\n",
        "\n",
        "#  return tensor, label_list\n",
        "\n",
        "  else:\n",
        "    length = 0\n",
        "    i = 0\n",
        "    for time in range(int(len(cigar_list)/2)):\n",
        "      if cigar_list[(2*time)+1] == 'M':\n",
        "        for j in range(length,length + int(cigar_list[(2*time)])):\n",
        "          num_list = [0,0,0,0]\n",
        "          try:\n",
        "            num_list[bases.index(seq_list[j])] = 1\n",
        "            tensor[i][j]= num_list\n",
        "          except ValueError:\n",
        "            tensor[i][j]= num_list\n",
        "        length += int(cigar_list[(2*time)])\n",
        "  return tensor, label_list\n"
      ],
      "metadata": {
        "id": "fx6xyh275bOv"
      },
      "execution_count": null,
      "outputs": []
    },
    {
      "cell_type": "code",
      "source": [
        "def matrix_generator_dos (samfile, INS, Matrix_Name ='Matrix_data', Label_Name='Label_data', save_file_path=os.getcwd()):\n",
        "  final_matrix = []\n",
        "  label_list = []\n",
        "  COUNT =0\n",
        "  #loops through each line of the sam file and extracts the CIGAR Value, Sequence, and Current Position\n",
        "  for line in samfile:\n",
        "    line_list = str(line).split(\"\\t\")\n",
        "    CIGAR = line_list[5]\n",
        "    SEQ = line_list[9]\n",
        "    POS = line_list[3]\n",
        "    final_matrix_temp, label_list_temp = matrix_row(CIGAR, SEQ, POS, INS)\n",
        "    if len(final_matrix) == 0:\n",
        "      final_matrix = final_matrix_temp\n",
        "    else:\n",
        "      final_matrix = np.concatenate([final_matrix, final_matrix_temp])\n",
        "\n",
        "  label_list += label_list_temp\n",
        "\n",
        "  #saves matrix to specified path\n",
        "  os.chdir(save_file_path)\n",
        "  Data = np.asarray(final_matrix)\n",
        "  Label = np.asarray(label_list)\n",
        "  np.save(Matrix_Name, Data[:][:][:])                                                                                                                                                                                                                     ', Data[:4405][:][:])\n",
        "  np.save(Label_name, Label[:])"
      ],
      "metadata": {
        "id": "cgcsvh0R5d5_"
      },
      "execution_count": null,
      "outputs": []
    },
    {
      "cell_type": "markdown",
      "source": [
        "# Matrix Generator 3 -- 3D Matrix\n",
        "\n",
        "> Add blockquote\n",
        "\n"
      ],
      "metadata": {
        "id": "wgsWjkESB0Bs"
      }
    },
    {
      "cell_type": "code",
      "source": [
        "def matrix_generator_tres(samfile, int_start, int_end, Matrix_Name ='Matrix_data', Label_Name='Label_data', save_file_path=os.getcwd()):\n",
        "  for line in samfile:\n",
        "    line_list = str(line).split(\"\\t\")\n",
        "    CIGAR =  re.split(r'(\\d+)', line_list[5])[1::]\n",
        "    SEQ = list(line_list[9])\n",
        "    POS = line_list[3]\n",
        "    DIR = 1 if line_list[8][0] == '-' else 0\n",
        "\n",
        "    if len(CIGAR) ==2:\n",
        "    #if it is a matched a sequence of 1's based on the base are added\n",
        "      if CIGAR[1] == 'M':\n",
        "        mat = 1\n",
        "        for i in range(len(SEQ)):\n",
        "          mapping_list.append([SEQ[i], mat, int(POS) + i ,DIR, COUNT])\n",
        "\n",
        "      else:\n",
        "        mat=0\n",
        "        for i in range(len(SEQ)):\n",
        "          mapping_list.append([SEQ[i], mat, int(POS) + i ,DIR, COUNT])\n",
        "    else:\n",
        "      length = 0\n",
        "      i = 0\n",
        "      for time in range(int(len(CIGAR)/2)):\n",
        "        if CIGAR[(2*time)+1] == 'M':\n",
        "          for j in range(length,length + int(CIGAR[(2*time)])):\n",
        "            mapping_list.append([SEQ[i], mat, int(POS) + i ,DIR, COUNT])\n",
        "        else:\n",
        "          for j in range(length,length + int(CIGAR[(2*time)])):\n",
        "            mapping_list.append([SEQ[i], mat, int(POS) + i ,DIR, COUNT])\n",
        "        COUNT += 1\n",
        "\n",
        "  #order a list lists\n",
        "  df = pd.DataFrame(mapping_list, columns = ['Base', 'Match', 'Position', 'Direction', 'Row_count'])\n",
        "  df = df.sort_values(by=['Position'])\n",
        "  #df = df.reset_index(drop=True)\n",
        "  df = df.tail(-1).drop_duplicates()\n",
        "  df = df.reset_index(drop=True)\n",
        "  three_five = df[df['Direction'] ==0]\n",
        "  five_three = df[df['Direction'] ==1]\n",
        "\n",
        "    #create tensor\n",
        "  tensor = np.zeros((len(df),150,  4))\n",
        "  label = np.zeros(len(df))\n",
        "  label_list= [0] * len(df)\n",
        "\n",
        "  #\n",
        "  col_count = 0\n",
        "  curr_pos = 0\n",
        "  end_pos = 0\n",
        "\n",
        "\n",
        "\n",
        "\n",
        "for row in range(1,len(df)):\n",
        "  bases = ['A','T','C','G']\n",
        "  match_dict ={'A':'T', 'T':'A', 'C':'G', 'G':'C'}\n",
        "  #print(row)\n",
        "  #print(df['Position'][row])\n",
        "  curr_pos = df['Position'][row]\n",
        "\n",
        "#3' -->5' Direction\n",
        "  if df['Direction'][row] == 0:\n",
        "    #checks to see if it matches with alignment genome\n",
        "    if three_five['Base'][row] in bases and three_five['Match'][row] == 1:\n",
        "      tensor[row][col_count][bases.index(three_five['Base'][row])] = 1\n",
        "\n",
        "      #checks if the bases match with each other\n",
        "      #print(five_three[five_three['Position']== three_five['Position'][row]].Base.values[0])\n",
        "      if five_three[five_three['Position']== three_five['Position'][row]].Base.values[0] == match_dict[three_five['Base'][row]]:\n",
        "        tensor[row][col_count][bases.index(three_five['Base'][row])] =3\n",
        "\n",
        "    #checks if it matches with each other but not with alignment genome\n",
        "    elif five_three['Position'][row]['Base'] == match_dict[three_five['Base'][row]]:\n",
        "        tensor[row][col_count][bases.index(three_five['Base'][row])]=2\n",
        "\n",
        "#5'-->3' Direction\n",
        "  else:\n",
        "    #checks to see if it matches with alignment genome\n",
        "    if five_three['Base'][row] in bases and five_three['Match'][row] == 1:\n",
        "      tensor[row][col_count][bases.index(five_three['Base'][row])] = 1\n",
        "\n",
        "      #checks if the bases match with each other\n",
        "      #print( match_dict[five_three['Base'][row]])\n",
        "\n",
        "      #print(three_five[three_five['Position']== five_three['Position'][row]].Base.item())\n",
        "      if three_five[three_five['Position']== five_three['Position'][row]].Base.values[0] == match_dict[five_three['Base'][row]]:\n",
        "        tensor[row][col_count][bases.index(five_three['Base'][row])] =3\n",
        "\n",
        "    #checks if it matches with each other but not with alignment genome\n",
        "    elif three_five['Position'][row]['Base'] == match_dict[five_three['Base'][row]]:\n",
        "        tensor[row][col_count][bases.index(five_three['Base'][row])]=2\n",
        "\n",
        "  if curr_pos == end_pos:\n",
        "    if int(curr_pos) in range(int_start,int_end):\n",
        "      label_list.append(1)\n",
        "    else:\n",
        "      label_list.append(0)\n",
        "    end_pos +=75\n",
        "    col_count +=1\n",
        "    if col_count == 150:\n",
        "      col_count =0\n",
        "\n",
        "  elif end_pos == 0:\n",
        "    end_pos= curr_pos +75\n",
        "    if int(curr_pos) in range(int_start,int_end):\n",
        "      label_list.append(1)\n",
        "    else:\n",
        "      label_list.append(0)\n",
        "\n"
      ],
      "metadata": {
        "id": "toCzHoNZ7fy1"
      },
      "execution_count": null,
      "outputs": []
    },
    {
      "cell_type": "code",
      "source": [
        "for line in samfile:\n",
        "  line_list = str(line).split(\"\\t\")\n",
        "  CIGAR =  re.split(r'(\\d+)', line_list[5])[1::]\n",
        "  SEQ = list(line_list[9])\n",
        "  POS = line_list[3]\n",
        "  DIR = 1 if line_list[8][0] == '-' else 0\n",
        "\n",
        "\n",
        "  if len(CIGAR) ==2:\n",
        "  #if it is a matched a sequence of 1's based on the base are added\n",
        "    if CIGAR[1] == 'M':\n",
        "      mat = 1\n",
        "      for i in range(len(SEQ)):\n",
        "        mapping_list.append([SEQ[i], mat, int(POS) + i ,DIR, COUNT])\n",
        "\n",
        "    else:\n",
        "      mat=0\n",
        "      for i in range(len(SEQ)):\n",
        "        mapping_list.append([SEQ[i], mat, int(POS) + i ,DIR, COUNT])\n",
        "  else:\n",
        "    length = 0\n",
        "    i = 0\n",
        "    for time in range(int(len(CIGAR)/2)):\n",
        "      if CIGAR[(2*time)+1] == 'M':\n",
        "        for j in range(length,length + int(CIGAR[(2*time)])):\n",
        "          mapping_list.append([SEQ[i], mat, int(POS) + i ,DIR, COUNT])\n",
        "      else:\n",
        "        for j in range(length,length + int(CIGAR[(2*time)])):\n",
        "          mapping_list.append([SEQ[i], mat, int(POS) + i ,DIR, COUNT])\n",
        "      COUNT += 1"
      ],
      "metadata": {
        "id": "c58AqzsA78NF"
      },
      "execution_count": null,
      "outputs": []
    },
    {
      "cell_type": "code",
      "source": [
        "#order a list lists\n",
        "df = pd.DataFrame(mapping_list, columns = ['Base', 'Match', 'Position', 'Direction', 'Row_count'])\n",
        "df = df.sort_values(by=['Position'])\n",
        "#df = df.reset_index(drop=True)\n",
        "df = df.tail(-1).drop_duplicates()\n",
        "df = df.reset_index(drop=True)\n",
        "three_five = df[df['Direction'] ==0]\n",
        "five_three = df[df['Direction'] ==1]"
      ],
      "metadata": {
        "id": "9RtgAsZb8EOl"
      },
      "execution_count": null,
      "outputs": []
    },
    {
      "cell_type": "code",
      "source": [
        "#create tensor\n",
        "tensor = np.zeros((len(df),150,  4))\n",
        "label = np.zeros(len(df))\n",
        "label_list= [0] * len(df)\n",
        "\n",
        "#\n",
        "col_count = 0\n",
        "curr_pos = 0\n",
        "end_pos = 0"
      ],
      "metadata": {
        "id": "zEHOMSVM8FUp"
      },
      "execution_count": null,
      "outputs": []
    },
    {
      "cell_type": "code",
      "source": [
        "#generate Matrix\n",
        "\n",
        "for row in range(1,len(df)):\n",
        "  bases = ['A','T','C','G']\n",
        "  match_dict ={'A':'T', 'T':'A', 'C':'G', 'G':'C'}\n",
        "  #print(row)\n",
        "  #print(df['Position'][row])\n",
        "  curr_pos = df['Position'][row]\n",
        "\n",
        "#3' -->5' Direction\n",
        "  if df['Direction'][row] == 0:\n",
        "    #checks to see if it matches with alignment genome\n",
        "    if three_five['Base'][row] in bases and three_five['Match'][row] == 1:\n",
        "      tensor[row][col_count][bases.index(three_five['Base'][row])] = 1\n",
        "\n",
        "      #checks if the bases match with each other\n",
        "      #print(five_three[five_three['Position']== three_five['Position'][row]].Base.values[0])\n",
        "      if five_three[five_three['Position']== three_five['Position'][row]].Base.values[0] == match_dict[three_five['Base'][row]]:\n",
        "        tensor[row][col_count][bases.index(three_five['Base'][row])] =3\n",
        "\n",
        "    #checks if it matches with each other but not with alignment genome\n",
        "    elif five_three['Position'][row]['Base'] == match_dict[three_five['Base'][row]]:\n",
        "        tensor[row][col_count][bases.index(three_five['Base'][row])]=2\n",
        "\n",
        "#5'-->3' Direction\n",
        "  else:\n",
        "    #checks to see if it matches with alignment genome\n",
        "    if five_three['Base'][row] in bases and five_three['Match'][row] == 1:\n",
        "      tensor[row][col_count][bases.index(five_three['Base'][row])] = 1\n",
        "\n",
        "      #checks if the bases match with each other\n",
        "      #print( match_dict[five_three['Base'][row]])\n",
        "\n",
        "      #print(three_five[three_five['Position']== five_three['Position'][row]].Base.item())\n",
        "      if three_five[three_five['Position']== five_three['Position'][row]].Base.values[0] == match_dict[five_three['Base'][row]]:\n",
        "        tensor[row][col_count][bases.index(five_three['Base'][row])] =3\n",
        "\n",
        "    #checks if it matches with each other but not with alignment genome\n",
        "    elif three_five['Position'][row]['Base'] == match_dict[five_three['Base'][row]]:\n",
        "        tensor[row][col_count][bases.index(five_three['Base'][row])]=2\n",
        "\n",
        "  if curr_pos == end_pos:\n",
        "    if int(curr_pos) in range(24020700,24020710):\n",
        "      label_list.append(1)\n",
        "    else:\n",
        "      label_list.append(0)\n",
        "    print(\"Here\")\n",
        "    end_pos +=75\n",
        "    col_count +=1\n",
        "    if col_count == 150:\n",
        "      col_count =0\n",
        "\n",
        "  elif end_pos == 0:\n",
        "    print(\"Here\")\n",
        "    end_pos= curr_pos +75\n",
        "    if int(curr_pos) in range(24020700,24020710):\n",
        "      label_list.append(1)\n",
        "    else:\n",
        "      label_list.append(0)\n"
      ],
      "metadata": {
        "id": "M6h3ROrg8JRk"
      },
      "execution_count": null,
      "outputs": []
    },
    {
      "cell_type": "code",
      "source": [
        "#save tensor\n",
        "\n",
        "Data = np.asarray(tensor)\n",
        "Label = np.asarray(label_list)\n",
        "np.save('Data_Training_Exp3', Data[:22568][:][:])\n",
        "np.save('Data_Test_Exp3', Data[22568:][:][:])\n",
        "np.save('Label_Training_Exp3', Label[:22568])\n",
        "np.save('Label_Test_Exp3', Label[22568:])\n"
      ],
      "metadata": {
        "id": "F44_3G0C8LNt"
      },
      "execution_count": null,
      "outputs": []
    }
  ]
}