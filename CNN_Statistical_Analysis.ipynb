{
  "nbformat": 4,
  "nbformat_minor": 0,
  "metadata": {
    "colab": {
      "provenance": [],
      "toc_visible": true,
      "authorship_tag": "ABX9TyMmY7gN5AfaJmhxRLrYwIA0",
      "include_colab_link": true
    },
    "kernelspec": {
      "name": "python3",
      "display_name": "Python 3"
    },
    "language_info": {
      "name": "python"
    }
  },
  "cells": [
    {
      "cell_type": "markdown",
      "metadata": {
        "id": "view-in-github",
        "colab_type": "text"
      },
      "source": [
        "<a href=\"https://colab.research.google.com/github/Nubiancodingdelight/ACS-Project-Repository-/blob/main/CNN_Statistical_Analysis.ipynb\" target=\"_parent\"><img src=\"https://colab.research.google.com/assets/colab-badge.svg\" alt=\"Open In Colab\"/></a>"
      ]
    },
    {
      "cell_type": "code",
      "execution_count": null,
      "metadata": {
        "colab": {
          "base_uri": "https://localhost:8080/"
        },
        "id": "IJ7CY6mL8S94",
        "outputId": "d966eda9-aceb-40f3-cabd-48bf856ee5d1"
      },
      "outputs": [
        {
          "output_type": "stream",
          "name": "stdout",
          "text": [
            "Mounted at /content/drive\n"
          ]
        }
      ],
      "source": [
        "#mounts google drive\n",
        "from google.colab import drive\n",
        "drive.mount('/content/drive', force_remount=True)"
      ]
    },
    {
      "cell_type": "code",
      "source": [
        "#set path\n",
        "%cd /content/drive/MyDrive/ACS_Research/VISDB_Data/"
      ],
      "metadata": {
        "id": "V3YlX8kK8fqf",
        "colab": {
          "base_uri": "https://localhost:8080/"
        },
        "outputId": "45f66bfc-503d-42da-e2e7-39581eab8409"
      },
      "execution_count": null,
      "outputs": [
        {
          "output_type": "stream",
          "name": "stdout",
          "text": [
            "/content/drive/MyDrive/ACS_Research/VISDB_Data\n"
          ]
        }
      ]
    },
    {
      "cell_type": "code",
      "source": [
        "#imports\n",
        "import numpy as np\n",
        "import subprocess\n",
        "import shlex\n",
        "import re\n",
        "import tensorflow as tf\n",
        "import re\n",
        "import math\n",
        "import statistics as stat\n",
        "import pandas as pd\n",
        "import tensorflow as tf\n",
        "from tensorflow.keras import layers, models\n",
        "import numpy as np\n",
        "from sklearn.model_selection import train_test_split, KFold, cross_val_score"
      ],
      "metadata": {
        "id": "iCBM_UFORliO"
      },
      "execution_count": null,
      "outputs": []
    },
    {
      "cell_type": "markdown",
      "source": [
        "# Prepare Matrix Data"
      ],
      "metadata": {
        "id": "cazWNhQ-UaEJ"
      }
    },
    {
      "cell_type": "markdown",
      "source": [
        "## Matrix Method 1"
      ],
      "metadata": {
        "id": "G0T4dIGTRx3V"
      }
    },
    {
      "cell_type": "code",
      "source": [
        "%cd /content/drive/MyDrive/ACS_Research/VISDB_Data/Matrices/HBV/Experiment_1/"
      ],
      "metadata": {
        "colab": {
          "base_uri": "https://localhost:8080/"
        },
        "id": "G4jR3iWw4jfB",
        "outputId": "4ffae104-0a52-4a1b-fefc-0fed1e9d3920"
      },
      "execution_count": null,
      "outputs": [
        {
          "output_type": "stream",
          "name": "stdout",
          "text": [
            "/content/drive/MyDrive/ACS_Research/VISDB_Data/Matrices/HBV/Experiment_1\n"
          ]
        }
      ]
    },
    {
      "cell_type": "code",
      "source": [
        "# prompt: load numpy data and label files and concatenate them from the following path /content/drive/MyDrive/ACS_Research/VISDB_Data/Matrices/HBV/Experiment_1\n",
        "\n",
        "import os\n",
        "import numpy as np\n",
        "\n",
        "data_dir = \"/content/drive/MyDrive/ACS_Research/VISDB_Data/Matrices/HBV/Experiment_1/\"\n",
        "\n",
        "data_files = [f for f in os.listdir(data_dir) if f.endswith('Matrix_data.npy')]\n",
        "label_files = [f for f in os.listdir(data_dir) if f.endswith('Label_data.npy')]\n",
        "\n",
        "data = []\n",
        "labels = []\n",
        "\n",
        "for data_file in data_files:\n",
        "    data_path = os.path.join(data_dir, data_file)\n",
        "    data.append(np.load(data_path))\n",
        "\n",
        "for label_file in label_files:\n",
        "    label_path = os.path.join(data_dir, label_file)\n",
        "    labels.append(np.load(label_path))\n",
        "\n",
        "# Concatenate the data and labels\n",
        "concatenated_data_hbv_1 = np.concatenate(data, axis=0)  # Adjust axis if needed\n",
        "concatenated_labels_hbv_1 = np.concatenate(labels, axis=0) # Adjust axis if needed\n",
        "\n",
        "print(\"Concatenated data shape:\", concatenated_data_hbv_1.shape)\n",
        "print(\"Concatenated labels shape:\", concatenated_labels_hbv_1.shape)\n"
      ],
      "metadata": {
        "colab": {
          "base_uri": "https://localhost:8080/"
        },
        "id": "AvFLF7oScKts",
        "outputId": "d42b086a-d625-478e-c6c7-2a0438818bc3"
      },
      "execution_count": null,
      "outputs": [
        {
          "output_type": "stream",
          "name": "stdout",
          "text": [
            "Concatenated data shape: (1424, 2000, 4)\n",
            "Concatenated labels shape: (1424,)\n"
          ]
        }
      ]
    },
    {
      "cell_type": "code",
      "source": [
        "#HPV\n",
        "\n",
        "import os\n",
        "import numpy as np\n",
        "\n",
        "data_dir = \"/content/drive/MyDrive/ACS_Research/VISDB_Data/Matrices/HPV/Experiment_1/\"\n",
        "\n",
        "data_files = [f for f in os.listdir(data_dir) if f.endswith('Matrix_data.npy')]\n",
        "label_files = [f for f in os.listdir(data_dir) if f.endswith('Label_data.npy')]\n",
        "\n",
        "\n",
        "for data_file in data_files:\n",
        "    data_path = os.path.join(data_dir, data_file)\n",
        "    data.append(np.load(data_path))\n",
        "\n",
        "for label_file in label_files:\n",
        "    label_path = os.path.join(data_dir, label_file)\n",
        "    labels.append(np.load(label_path))\n",
        "\n",
        "# Concatenate the data and labels\n",
        "concatenated_data_hpv_1 = np.concatenate(data, axis=0)  # Adjust axis if needed\n",
        "concatenated_labels_hpv_1 = np.concatenate(labels, axis=0) # Adjust axis if needed\n",
        "\n",
        "print(\"Concatenated data shape:\", concatenated_data_hpv_1.shape)\n",
        "print(\"Concatenated labels shape:\", concatenated_data_hpv_1.shape)\n"
      ],
      "metadata": {
        "colab": {
          "base_uri": "https://localhost:8080/"
        },
        "id": "kVBa33Ta9pTu",
        "outputId": "36079a57-da42-4c46-99cf-4d83a0e269c3"
      },
      "execution_count": null,
      "outputs": [
        {
          "output_type": "stream",
          "name": "stdout",
          "text": [
            "Concatenated data shape: (1578, 2000, 4)\n",
            "Concatenated labels shape: (1578, 2000, 4)\n"
          ]
        }
      ]
    },
    {
      "cell_type": "code",
      "source": [
        "import os\n",
        "import numpy as np\n",
        "\n",
        "data_dir = \"/content/drive/MyDrive/ACS_Research/VISDB_Data/Matrices/References/Experiment_1/\"\n",
        "\n",
        "data_files = [f for f in os.listdir(data_dir) if f.endswith('Matrix_data.npy')]\n",
        "label_files = [f for f in os.listdir(data_dir) if f.endswith('Label_data.npy')]\n",
        "\n",
        "data = []\n",
        "labels = []\n",
        "\n",
        "for data_file in data_files:\n",
        "    data_path = os.path.join(data_dir, data_file)\n",
        "    data.append(np.load(data_path))\n",
        "\n",
        "for label_file in label_files:\n",
        "    label_path = os.path.join(data_dir, label_file)\n",
        "    labels.append(np.load(label_path))\n",
        "\n",
        "# Concatenate the data and labels\n",
        "concatenated_data_ref_1 = np.concatenate(data, axis=0)  # Adjust axis if needed\n",
        "concatenated_labels_ref_1 = np.concatenate(labels, axis=0) # Adjust axis if needed\n",
        "\n",
        "print(\"Concatenated data shape:\", concatenated_data_ref_1.shape)\n",
        "print(\"Concatenated labels shape:\", concatenated_labels_ref_1.shape)"
      ],
      "metadata": {
        "colab": {
          "base_uri": "https://localhost:8080/"
        },
        "id": "_ux9uGB9bvb7",
        "outputId": "a78a56ce-40d4-42e5-a614-60484e8256dc"
      },
      "execution_count": null,
      "outputs": [
        {
          "output_type": "stream",
          "name": "stdout",
          "text": [
            "Concatenated data shape: (1584, 2000, 4)\n",
            "Concatenated labels shape: (1584,)\n"
          ]
        }
      ]
    },
    {
      "cell_type": "code",
      "source": [
        "concatenated_data_1 = np.concatenate((concatenated_data_hbv_1, concatenated_data_hpv_1, concatenated_data_ref_1), axis=0)\n",
        "concatenated_labels_1 = np.concatenate((concatenated_labels_hbv_1, concatenated_labels_hpv_1, concatenated_labels_ref_1), axis=0)\n",
        "\n",
        "print(\"Combined concatenated data shape:\", concatenated_data_1.shape)\n",
        "print(\"Combined concatenated labels shape:\", concatenated_labels_1.shape)\n",
        "\n"
      ],
      "metadata": {
        "id": "UoVfhgRGEZ4s",
        "colab": {
          "base_uri": "https://localhost:8080/"
        },
        "outputId": "e5b7a86d-6234-4512-a22f-f1e66f2151be"
      },
      "execution_count": null,
      "outputs": [
        {
          "output_type": "stream",
          "name": "stdout",
          "text": [
            "Combined concatenated data shape: (4586, 2000, 4)\n",
            "Combined concatenated labels shape: (4586,)\n"
          ]
        }
      ]
    },
    {
      "cell_type": "code",
      "source": [
        "#split numpy arrays intro train and test\n",
        "\n",
        "from sklearn.model_selection import train_test_split\n",
        "\n",
        "X_train_1, X_test_1, y_train_1, y_test_1 = train_test_split(concatenated_data_1, concatenated_labels_1, test_size=0.2, random_state=42)\n",
        "\n",
        "print(\"Training data shape:\", X_train_1.shape)\n",
        "print(\"Testing data shape:\", X_test_1.shape)\n",
        "print(\"Training labels shape:\", y_train_1.shape)\n",
        "print(\"Testing labels shape:\", y_test_1.shape)\n"
      ],
      "metadata": {
        "id": "_HCETZ0fc7mQ",
        "colab": {
          "base_uri": "https://localhost:8080/"
        },
        "outputId": "4a784623-5303-4a20-a169-d7e4046f4607"
      },
      "execution_count": null,
      "outputs": [
        {
          "output_type": "stream",
          "name": "stdout",
          "text": [
            "Training data shape: (3668, 2000, 4)\n",
            "Testing data shape: (918, 2000, 4)\n",
            "Training labels shape: (3668,)\n",
            "Testing labels shape: (918,)\n"
          ]
        }
      ]
    },
    {
      "cell_type": "markdown",
      "source": [
        "##Matrix Method 2"
      ],
      "metadata": {
        "id": "tiEKvczWU5xs"
      }
    },
    {
      "cell_type": "code",
      "source": [
        "import os\n",
        "import numpy as np\n",
        "\n",
        "data_dir = \"/content/drive/MyDrive/ACS_Research/VISDB_Data/Matrices/HBV/Experiment_2/\"\n",
        "\n",
        "data_files = [f for f in os.listdir(data_dir) if f.endswith('Matrix_data.npy')]\n",
        "label_files = [f for f in os.listdir(data_dir) if f.endswith('Label_data.npy')]\n",
        "\n",
        "data = []\n",
        "labels = []\n",
        "\n",
        "for data_file in data_files:\n",
        "    data_path = os.path.join(data_dir, data_file)\n",
        "    data.append(np.load(data_path))\n",
        "\n",
        "for label_file in label_files:\n",
        "    label_path = os.path.join(data_dir, label_file)\n",
        "    labels.append(np.load(label_path))\n",
        "\n",
        "# Concatenate the data and labels\n",
        "concatenated_data_hbv_2 = np.concatenate(data, axis=0)  # Adjust axis if needed\n",
        "concatenated_labels_hbv_2 = np.concatenate(labels, axis=0) # Adjust axis if needed\n",
        "\n",
        "print(\"Concatenated data shape:\", concatenated_data_hbv_2.shape)\n",
        "print(\"Concatenated labels shape:\", concatenated_labels_hbv_2.shape)"
      ],
      "metadata": {
        "colab": {
          "base_uri": "https://localhost:8080/"
        },
        "id": "aDa-nKnreyKM",
        "outputId": "c7f1dabf-246f-4593-a273-8207faf22bb4"
      },
      "execution_count": null,
      "outputs": [
        {
          "output_type": "stream",
          "name": "stdout",
          "text": [
            "Concatenated data shape: (2848, 2000, 4)\n",
            "Concatenated labels shape: (2848,)\n"
          ]
        }
      ]
    },
    {
      "cell_type": "code",
      "source": [
        "import os\n",
        "import numpy as np\n",
        "\n",
        "data_dir = \"/content/drive/MyDrive/ACS_Research/VISDB_Data/Matrices/HPV/Experiment_2/\"\n",
        "\n",
        "data_files = [f for f in os.listdir(data_dir) if f.endswith('Matrix_data.npy')]\n",
        "label_files = [f for f in os.listdir(data_dir) if f.endswith('Label_data.npy')]\n",
        "\n",
        "data = []\n",
        "labels = []\n",
        "\n",
        "for data_file in data_files:\n",
        "    data_path = os.path.join(data_dir, data_file)\n",
        "    data.append(np.load(data_path))\n",
        "\n",
        "for label_file in label_files:\n",
        "    label_path = os.path.join(data_dir, label_file)\n",
        "    labels.append(np.load(label_path))\n",
        "\n",
        "# Concatenate the data and labels\n",
        "concatenated_data_hpv_2 = np.concatenate(data, axis=0)  # Adjust axis if needed\n",
        "concatenated_labels_hpv_2 = np.concatenate(labels, axis=0) # Adjust axis if needed\n",
        "\n",
        "print(\"Concatenated data shape:\", concatenated_data_hpv_2.shape)\n",
        "print(\"Concatenated labels shape:\", concatenated_labels_hpv_2.shape)"
      ],
      "metadata": {
        "id": "5ANnT431AFM8",
        "colab": {
          "base_uri": "https://localhost:8080/"
        },
        "outputId": "c56d83c5-0801-4ca4-ef68-65035df93fd2"
      },
      "execution_count": null,
      "outputs": [
        {
          "output_type": "stream",
          "name": "stdout",
          "text": [
            "Concatenated data shape: (308, 2000, 4)\n",
            "Concatenated labels shape: (308,)\n"
          ]
        }
      ]
    },
    {
      "cell_type": "code",
      "source": [
        "import os\n",
        "import numpy as np\n",
        "\n",
        "data_dir = \"/content/drive/MyDrive/ACS_Research/VISDB_Data/Matrices/References/Experiment_2/\"\n",
        "\n",
        "data_files = [f for f in os.listdir(data_dir) if f.endswith('Matrix_data.npy')]\n",
        "label_files = [f for f in os.listdir(data_dir) if f.endswith('Label_data.npy')]\n",
        "\n",
        "data = []\n",
        "labels = []\n",
        "\n",
        "for data_file in data_files:\n",
        "    data_path = os.path.join(data_dir, data_file)\n",
        "    data.append(np.load(data_path))\n",
        "\n",
        "for label_file in label_files:\n",
        "    label_path = os.path.join(data_dir, label_file)\n",
        "    labels.append(np.load(label_path))\n",
        "\n",
        "# Concatenate the data and labels\n",
        "concatenated_data_ref_2 = np.concatenate(data, axis=0)  # Adjust axis if needed\n",
        "concatenated_labels_ref_2 = np.concatenate(labels, axis=0) # Adjust axis if needed\n",
        "\n",
        "print(\"Concatenated data shape:\", concatenated_data_ref_2.shape)\n",
        "print(\"Concatenated labels shape:\", concatenated_labels_ref_2.shape)"
      ],
      "metadata": {
        "id": "fngzu1OcATJo",
        "colab": {
          "base_uri": "https://localhost:8080/"
        },
        "outputId": "285bb846-0067-4bd2-b476-1ab75238ba5d"
      },
      "execution_count": null,
      "outputs": [
        {
          "output_type": "stream",
          "name": "stdout",
          "text": [
            "Concatenated data shape: (3174, 2000, 4)\n",
            "Concatenated labels shape: (3174,)\n"
          ]
        }
      ]
    },
    {
      "cell_type": "code",
      "source": [
        "# prompt: concatenated_data_ref_2 conncatenate all\n",
        "\n",
        "concatenated_data_2 = np.concatenate((concatenated_data_hbv_2, concatenated_data_hpv_2, concatenated_data_ref_2), axis=0)\n",
        "concatenated_labels_2 = np.concatenate((concatenated_labels_hbv_2, concatenated_labels_hpv_2,  concatenated_labels_ref_2), axis=0)\n",
        "\n",
        "print(\"Combined concatenated data shape:\", concatenated_data_2.shape)\n",
        "print(\"Combined concatenated labels shape:\", concatenated_labels_2.shape)\n"
      ],
      "metadata": {
        "id": "_vP4x1nSC0kv",
        "colab": {
          "base_uri": "https://localhost:8080/"
        },
        "outputId": "de4f8169-47a3-4207-fdb2-76a49ace1c81"
      },
      "execution_count": null,
      "outputs": [
        {
          "output_type": "stream",
          "name": "stdout",
          "text": [
            "Combined concatenated data shape: (6330, 2000, 4)\n",
            "Combined concatenated labels shape: (6330,)\n"
          ]
        }
      ]
    },
    {
      "cell_type": "code",
      "source": [
        "#split numpy arrays intro train and test\n",
        "\n",
        "from sklearn.model_selection import train_test_split\n",
        "\n",
        "X_train_2, X_test_2, y_train_2, y_test_2 = train_test_split(concatenated_data_2, concatenated_labels_2, test_size=0.2, random_state=42)\n",
        "\n",
        "print(\"Training data shape:\", X_train_2.shape)\n",
        "print(\"Testing data shape:\", X_test_2.shape)\n",
        "print(\"Training labels shape:\", y_train_2.shape)\n",
        "print(\"Testing labels shape:\", y_test_2.shape)\n",
        "\n"
      ],
      "metadata": {
        "colab": {
          "base_uri": "https://localhost:8080/"
        },
        "id": "-JT2nmIhU5Pm",
        "outputId": "f9ca3128-7eb8-4e42-fb18-5a0ff622f2af"
      },
      "execution_count": null,
      "outputs": [
        {
          "output_type": "stream",
          "name": "stdout",
          "text": [
            "Training data shape: (5064, 2000, 4)\n",
            "Testing data shape: (1266, 2000, 4)\n",
            "Training labels shape: (5064,)\n",
            "Testing labels shape: (1266,)\n"
          ]
        }
      ]
    },
    {
      "cell_type": "markdown",
      "source": [
        "## Matrix Method 3"
      ],
      "metadata": {
        "id": "-tbNRBr1SFv8"
      }
    },
    {
      "cell_type": "code",
      "source": [
        "import os\n",
        "import numpy as np\n",
        "\n",
        "data_dir = \"/content/drive/MyDrive/ACS_Research/VISDB_Data/Matrices/HBV/Experiment_3/\"\n",
        "\n",
        "data_files = [f for f in os.listdir(data_dir) if f.endswith('Matrix_data.npy')]\n",
        "label_files = [f for f in os.listdir(data_dir) if f.endswith('Label_data.npy')]\n",
        "\n",
        "data = []\n",
        "labels = []\n",
        "\n",
        "for data_file in data_files:\n",
        "    data_path = os.path.join(data_dir, data_file)\n",
        "    data.append(np.load(data_path))\n",
        "\n",
        "for label_file in label_files:\n",
        "    label_path = os.path.join(data_dir, label_file)\n",
        "    labels.append(np.load(label_path))\n",
        "\n",
        "# Concatenate the data and labels\n",
        "concatenated_data_hbv_3 = np.concatenate(data, axis=0)  # Adjust axis if needed\n",
        "concatenated_labels_hbv_3 = np.concatenate(labels, axis=0) # Adjust axis if needed\n",
        "\n",
        "print(\"Concatenated data shape:\", concatenated_data_hbv_3.shape)\n",
        "print(\"Concatenated labels shape:\", concatenated_labels_hbv_3.shape)\n"
      ],
      "metadata": {
        "id": "S-BU8pumVLfw",
        "colab": {
          "base_uri": "https://localhost:8080/"
        },
        "outputId": "ab36a801-5bb4-4fba-894f-f6c400d1ff85"
      },
      "execution_count": null,
      "outputs": [
        {
          "output_type": "stream",
          "name": "stdout",
          "text": [
            "Concatenated data shape: (1399, 2000, 4)\n",
            "Concatenated labels shape: (1399,)\n"
          ]
        }
      ]
    },
    {
      "cell_type": "code",
      "source": [
        "import os\n",
        "import numpy as np\n",
        "\n",
        "data_dir = \"/content/drive/MyDrive/ACS_Research/VISDB_Data/Matrices/HPV/Experiment_3/\"\n",
        "\n",
        "data_files = [f for f in os.listdir(data_dir) if f.endswith('Matrix_data.npy')]\n",
        "label_files = [f for f in os.listdir(data_dir) if f.endswith('Label_data.npy')]\n",
        "\n",
        "data = []\n",
        "labels = []\n",
        "\n",
        "for data_file in data_files:\n",
        "    data_path = os.path.join(data_dir, data_file)\n",
        "    data.append(np.load(data_path))\n",
        "\n",
        "for label_file in label_files:\n",
        "    label_path = os.path.join(data_dir, label_file)\n",
        "    labels.append(np.load(label_path))\n",
        "\n",
        "# Concatenate the data and labels\n",
        "concatenated_data_hpv_3 = np.concatenate(data, axis=0)  # Adjust axis if needed\n",
        "concatenated_labels_hpv_3 = np.concatenate(labels, axis=0) # Adjust axis if needed\n",
        "\n",
        "print(\"Concatenated data shape:\", concatenated_data_hpv_3.shape)\n",
        "print(\"Concatenated labels shape:\", concatenated_labels_hpv_3.shape)\n"
      ],
      "metadata": {
        "id": "W3zUi4PUDNUv",
        "colab": {
          "base_uri": "https://localhost:8080/"
        },
        "outputId": "05dfad93-0b08-4b2d-ab28-c41e3eeb08c3"
      },
      "execution_count": null,
      "outputs": [
        {
          "output_type": "stream",
          "name": "stdout",
          "text": [
            "Concatenated data shape: (131, 2000, 4)\n",
            "Concatenated labels shape: (131,)\n"
          ]
        }
      ]
    },
    {
      "cell_type": "code",
      "source": [
        "import os\n",
        "import numpy as np\n",
        "\n",
        "data_dir = \"/content/drive/MyDrive/ACS_Research/VISDB_Data/Matrices/References/Experiment_3/\"\n",
        "\n",
        "data_files = [f for f in os.listdir(data_dir) if f.endswith('Matrix_data.npy')]\n",
        "label_files = [f for f in os.listdir(data_dir) if f.endswith('Label_data.npy')]\n",
        "\n",
        "data = []\n",
        "labels = []\n",
        "\n",
        "for data_file in data_files:\n",
        "    data_path = os.path.join(data_dir, data_file)\n",
        "    data.append(np.load(data_path))\n",
        "\n",
        "for label_file in label_files:\n",
        "    label_path = os.path.join(data_dir, label_file)\n",
        "    labels.append(np.load(label_path))\n",
        "\n",
        "# Concatenate the data and labels\n",
        "concatenated_data_ref_3 = np.concatenate(data, axis=0)  # Adjust axis if needed\n",
        "concatenated_labels_ref_3 = np.concatenate(labels, axis=0) # Adjust axis if needed\n",
        "\n",
        "print(\"Concatenated data shape:\", concatenated_data_ref_3.shape)\n",
        "print(\"Concatenated labels shape:\", concatenated_labels_ref_3.shape)\n"
      ],
      "metadata": {
        "id": "9T8UT7NaDKVX",
        "colab": {
          "base_uri": "https://localhost:8080/"
        },
        "outputId": "83603ade-4958-4efe-d90d-abae151dce6b"
      },
      "execution_count": null,
      "outputs": [
        {
          "output_type": "stream",
          "name": "stdout",
          "text": [
            "Concatenated data shape: (1584, 2000, 4)\n",
            "Concatenated labels shape: (1584,)\n"
          ]
        }
      ]
    },
    {
      "cell_type": "code",
      "source": [
        "# prompt: concatenate all  data and labels\n",
        "\n",
        "concatenated_data_3 = np.concatenate((concatenated_data_hbv_3, concatenated_data_hpv_3, concatenated_data_ref_3), axis=0)\n",
        "concatenated_labels_3 = np.concatenate((concatenated_labels_hbv_3, concatenated_labels_hpv_3, concatenated_labels_ref_3), axis=0)\n",
        "\n",
        "print(\"Combined concatenated data shape:\", concatenated_data_3.shape)\n",
        "print(\"Combined concatenated labels shape:\", concatenated_labels_3.shape)\n"
      ],
      "metadata": {
        "id": "zJrLy1nEECtv",
        "colab": {
          "base_uri": "https://localhost:8080/"
        },
        "outputId": "c1ce103f-0164-4f77-f226-594485cf996c"
      },
      "execution_count": null,
      "outputs": [
        {
          "output_type": "stream",
          "name": "stdout",
          "text": [
            "Combined concatenated data shape: (3114, 2000, 4)\n",
            "Combined concatenated labels shape: (3114,)\n"
          ]
        }
      ]
    },
    {
      "cell_type": "code",
      "source": [
        "#split numpy arrays intro train and test\n",
        "\n",
        "from sklearn.model_selection import train_test_split\n",
        "\n",
        "X_train_3, X_test_3, y_train_3, y_test_3 = train_test_split(concatenated_data_3, concatenated_labels_3, test_size=0.2, random_state=42)\n",
        "\n",
        "print(\"Training data shape:\", X_train_3.shape)\n",
        "print(\"Testing data shape:\", X_test_3.shape)\n",
        "print(\"Training labels shape:\", y_train_3.shape)\n",
        "print(\"Testing labels shape:\", y_test_3.shape)\n",
        "\n"
      ],
      "metadata": {
        "id": "TqFX_JkwfJ3h",
        "colab": {
          "base_uri": "https://localhost:8080/"
        },
        "outputId": "5142bae7-2f8f-4ac9-e930-8ffcaff6c4d1"
      },
      "execution_count": null,
      "outputs": [
        {
          "output_type": "stream",
          "name": "stdout",
          "text": [
            "Training data shape: (2491, 2000, 4)\n",
            "Testing data shape: (623, 2000, 4)\n",
            "Training labels shape: (2491,)\n",
            "Testing labels shape: (623,)\n"
          ]
        }
      ]
    },
    {
      "cell_type": "markdown",
      "source": [
        "#CNN"
      ],
      "metadata": {
        "id": "dbTYqkjT80vq"
      }
    },
    {
      "cell_type": "code",
      "source": [
        "#Basic CNN\n",
        "def create_cnn_model(input_shape):\n",
        "    model = models.Sequential()\n",
        "\n",
        "    # Convolutional Layer 1\n",
        "    model.add(layers.Conv1D(32, 3, activation='relu', input_shape=input_shape))\n",
        "    model.add(layers.MaxPooling1D(2))\n",
        "\n",
        "    # Convolutional Layer 2\n",
        "    model.add(layers.Conv1D(64, 3, activation='relu'))\n",
        "    model.add(layers.MaxPooling1D(2))\n",
        "\n",
        "    # Convolutional Layer 3\n",
        "    model.add(layers.Conv1D(64, 3, activation='relu'))\n",
        "    model.add(layers.MaxPooling1D(2))\n",
        "\n",
        "    # Flatten the results to feed into a Dense layer\n",
        "    model.add(layers.Flatten())\n",
        "\n",
        "    # Fully connected Dense layer\n",
        "    model.add(layers.Dense(64, activation='relu'))\n",
        "\n",
        "    # Output layer for classification\n",
        "    model.add(layers.Dense(1, activation='sigmoid'))\n",
        "\n",
        "    return model"
      ],
      "metadata": {
        "id": "DI8iXZc_80B8"
      },
      "execution_count": null,
      "outputs": []
    },
    {
      "cell_type": "markdown",
      "source": [
        "## Experiment 1"
      ],
      "metadata": {
        "id": "nQANi0Aeg-RI"
      }
    },
    {
      "cell_type": "code",
      "source": [
        "#create model\n",
        "input_shape = (2000, 4)  # Example input shape\n",
        "cnn_model1 = create_cnn_model(input_shape)\n",
        "cnn_model1.compile(optimizer='adam',\n",
        "              loss='binary_crossentropy',\n",
        "              metrics=['accuracy',\n",
        "        tf.keras.metrics.Recall(),\n",
        "     tf.keras.metrics.Precision()])"
      ],
      "metadata": {
        "id": "XU_JjcAqSx71",
        "colab": {
          "base_uri": "https://localhost:8080/"
        },
        "outputId": "0795827e-b9f7-491d-ed5f-bf6f95655328"
      },
      "execution_count": null,
      "outputs": [
        {
          "output_type": "stream",
          "name": "stderr",
          "text": [
            "/usr/local/lib/python3.11/dist-packages/keras/src/layers/convolutional/base_conv.py:107: UserWarning: Do not pass an `input_shape`/`input_dim` argument to a layer. When using Sequential models, prefer using an `Input(shape)` object as the first layer in the model instead.\n",
            "  super().__init__(activity_regularizer=activity_regularizer, **kwargs)\n"
          ]
        }
      ]
    },
    {
      "cell_type": "code",
      "source": [
        "kf = KFold(n_splits=5, shuffle=True, random_state=42)\n",
        "fold = 1\n",
        "acc_per_fold = []\n",
        "X = concatenated_data_1\n",
        "y = concatenated_labels_1\n",
        "for train_idx, test_idx in kf.split(X):\n",
        "\n",
        "    print(f\"\\nTraining on Fold {fold}\")\n",
        "\n",
        "    X_train_1, y_train_1 = X[train_idx], y[train_idx]\n",
        "    X_test_1, y_test_1 = X[test_idx], y[test_idx]\n",
        "\n",
        "    cnn_model1 = create_cnn_model(input_shape)\n",
        "    cnn_model1.compile(optimizer='adam',\n",
        "              loss='binary_crossentropy',\n",
        "              metrics=['accuracy',\n",
        "        tf.keras.metrics.Recall(),\n",
        "     tf.keras.metrics.Precision()])\n",
        "    cnn_model1.fit(X_train_1, y_train_1, epochs=10, batch_size=32, verbose=1)\n",
        "\n",
        "    scores = cnn_model1.evaluate(X_test_1, y_test_1, verbose=0)\n",
        "    print(f\"Fold {fold} Accuracy: {scores[1]*100:.2f}%\")\n",
        "    acc_per_fold.append(scores[1])"
      ],
      "metadata": {
        "colab": {
          "base_uri": "https://localhost:8080/"
        },
        "id": "7TtCOoPd7nL1",
        "outputId": "c86062b8-80f8-498a-aa58-9d277960e2cd"
      },
      "execution_count": null,
      "outputs": [
        {
          "output_type": "stream",
          "name": "stdout",
          "text": [
            "\n",
            "Training on Fold 1\n"
          ]
        },
        {
          "output_type": "stream",
          "name": "stderr",
          "text": [
            "/usr/local/lib/python3.11/dist-packages/keras/src/layers/convolutional/base_conv.py:107: UserWarning: Do not pass an `input_shape`/`input_dim` argument to a layer. When using Sequential models, prefer using an `Input(shape)` object as the first layer in the model instead.\n",
            "  super().__init__(activity_regularizer=activity_regularizer, **kwargs)\n"
          ]
        },
        {
          "output_type": "stream",
          "name": "stdout",
          "text": [
            "Epoch 1/10\n",
            "\u001b[1m115/115\u001b[0m \u001b[32m━━━━━━━━━━━━━━━━━━━━\u001b[0m\u001b[37m\u001b[0m \u001b[1m20s\u001b[0m 145ms/step - accuracy: 0.5854 - loss: 0.6969 - precision_1: 0.6357 - recall_1: 0.8254\n",
            "Epoch 2/10\n",
            "\u001b[1m115/115\u001b[0m \u001b[32m━━━━━━━━━━━━━━━━━━━━\u001b[0m\u001b[37m\u001b[0m \u001b[1m19s\u001b[0m 139ms/step - accuracy: 0.6550 - loss: 0.6102 - precision_1: 0.6642 - recall_1: 0.9464\n",
            "Epoch 3/10\n",
            "\u001b[1m115/115\u001b[0m \u001b[32m━━━━━━━━━━━━━━━━━━━━\u001b[0m\u001b[37m\u001b[0m \u001b[1m20s\u001b[0m 139ms/step - accuracy: 0.7034 - loss: 0.5509 - precision_1: 0.7194 - recall_1: 0.9002\n",
            "Epoch 4/10\n",
            "\u001b[1m115/115\u001b[0m \u001b[32m━━━━━━━━━━━━━━━━━━━━\u001b[0m\u001b[37m\u001b[0m \u001b[1m21s\u001b[0m 140ms/step - accuracy: 0.7974 - loss: 0.4473 - precision_1: 0.8124 - recall_1: 0.8981\n",
            "Epoch 5/10\n",
            "\u001b[1m115/115\u001b[0m \u001b[32m━━━━━━━━━━━━━━━━━━━━\u001b[0m\u001b[37m\u001b[0m \u001b[1m21s\u001b[0m 144ms/step - accuracy: 0.8755 - loss: 0.3016 - precision_1: 0.8870 - recall_1: 0.9327\n",
            "Epoch 6/10\n",
            "\u001b[1m115/115\u001b[0m \u001b[32m━━━━━━━━━━━━━━━━━━━━\u001b[0m\u001b[37m\u001b[0m \u001b[1m24s\u001b[0m 175ms/step - accuracy: 0.9554 - loss: 0.1502 - precision_1: 0.9687 - recall_1: 0.9633\n",
            "Epoch 7/10\n",
            "\u001b[1m115/115\u001b[0m \u001b[32m━━━━━━━━━━━━━━━━━━━━\u001b[0m\u001b[37m\u001b[0m \u001b[1m17s\u001b[0m 141ms/step - accuracy: 0.9853 - loss: 0.0636 - precision_1: 0.9896 - recall_1: 0.9879\n",
            "Epoch 8/10\n",
            "\u001b[1m115/115\u001b[0m \u001b[32m━━━━━━━━━━━━━━━━━━━━\u001b[0m\u001b[37m\u001b[0m \u001b[1m21s\u001b[0m 143ms/step - accuracy: 0.9983 - loss: 0.0213 - precision_1: 0.9982 - recall_1: 0.9991\n",
            "Epoch 9/10\n",
            "\u001b[1m115/115\u001b[0m \u001b[32m━━━━━━━━━━━━━━━━━━━━\u001b[0m\u001b[37m\u001b[0m \u001b[1m16s\u001b[0m 140ms/step - accuracy: 0.9999 - loss: 0.0057 - precision_1: 1.0000 - recall_1: 0.9999\n",
            "Epoch 10/10\n",
            "\u001b[1m115/115\u001b[0m \u001b[32m━━━━━━━━━━━━━━━━━━━━\u001b[0m\u001b[37m\u001b[0m \u001b[1m21s\u001b[0m 140ms/step - accuracy: 1.0000 - loss: 0.0019 - precision_1: 1.0000 - recall_1: 1.0000\n",
            "Fold 1 Accuracy: 77.02%\n",
            "\n",
            "Training on Fold 1\n",
            "Epoch 1/10\n",
            "\u001b[1m115/115\u001b[0m \u001b[32m━━━━━━━━━━━━━━━━━━━━\u001b[0m\u001b[37m\u001b[0m \u001b[1m23s\u001b[0m 143ms/step - accuracy: 0.6500 - loss: 0.6897 - precision_2: 0.6681 - recall_2: 0.9438\n",
            "Epoch 2/10\n",
            "\u001b[1m115/115\u001b[0m \u001b[32m━━━━━━━━━━━━━━━━━━━━\u001b[0m\u001b[37m\u001b[0m \u001b[1m20s\u001b[0m 141ms/step - accuracy: 0.6855 - loss: 0.5772 - precision_2: 0.6972 - recall_2: 0.9235\n",
            "Epoch 3/10\n",
            "\u001b[1m115/115\u001b[0m \u001b[32m━━━━━━━━━━━━━━━━━━━━\u001b[0m\u001b[37m\u001b[0m \u001b[1m16s\u001b[0m 141ms/step - accuracy: 0.7981 - loss: 0.4581 - precision_2: 0.8085 - recall_2: 0.9040\n",
            "Epoch 4/10\n",
            "\u001b[1m115/115\u001b[0m \u001b[32m━━━━━━━━━━━━━━━━━━━━\u001b[0m\u001b[37m\u001b[0m \u001b[1m28s\u001b[0m 245ms/step - accuracy: 0.9147 - loss: 0.2539 - precision_2: 0.9180 - recall_2: 0.9561\n",
            "Epoch 5/10\n",
            "\u001b[1m115/115\u001b[0m \u001b[32m━━━━━━━━━━━━━━━━━━━━\u001b[0m\u001b[37m\u001b[0m \u001b[1m37s\u001b[0m 213ms/step - accuracy: 0.9680 - loss: 0.1323 - precision_2: 0.9741 - recall_2: 0.9774\n",
            "Epoch 6/10\n",
            "\u001b[1m115/115\u001b[0m \u001b[32m━━━━━━━━━━━━━━━━━━━━\u001b[0m\u001b[37m\u001b[0m \u001b[1m46s\u001b[0m 255ms/step - accuracy: 0.9900 - loss: 0.0523 - precision_2: 0.9884 - recall_2: 0.9965\n",
            "Epoch 7/10\n",
            "\u001b[1m115/115\u001b[0m \u001b[32m━━━━━━━━━━━━━━━━━━━━\u001b[0m\u001b[37m\u001b[0m \u001b[1m30s\u001b[0m 156ms/step - accuracy: 0.9983 - loss: 0.0134 - precision_2: 0.9975 - recall_2: 1.0000\n",
            "Epoch 8/10\n",
            "\u001b[1m115/115\u001b[0m \u001b[32m━━━━━━━━━━━━━━━━━━━━\u001b[0m\u001b[37m\u001b[0m \u001b[1m29s\u001b[0m 252ms/step - accuracy: 0.9990 - loss: 0.0102 - precision_2: 1.0000 - recall_2: 0.9984\n",
            "Epoch 9/10\n",
            "\u001b[1m115/115\u001b[0m \u001b[32m━━━━━━━━━━━━━━━━━━━━\u001b[0m\u001b[37m\u001b[0m \u001b[1m38s\u001b[0m 230ms/step - accuracy: 1.0000 - loss: 0.0023 - precision_2: 1.0000 - recall_2: 1.0000\n",
            "Epoch 10/10\n",
            "\u001b[1m115/115\u001b[0m \u001b[32m━━━━━━━━━━━━━━━━━━━━\u001b[0m\u001b[37m\u001b[0m \u001b[1m31s\u001b[0m 142ms/step - accuracy: 0.9998 - loss: 0.0040 - precision_2: 0.9997 - recall_2: 1.0000\n",
            "Fold 1 Accuracy: 75.68%\n",
            "\n",
            "Training on Fold 1\n",
            "Epoch 1/10\n",
            "\u001b[1m115/115\u001b[0m \u001b[32m━━━━━━━━━━━━━━━━━━━━\u001b[0m\u001b[37m\u001b[0m \u001b[1m20s\u001b[0m 150ms/step - accuracy: 0.6600 - loss: 0.6513 - precision_3: 0.6691 - recall_3: 0.9752\n",
            "Epoch 2/10\n",
            "\u001b[1m115/115\u001b[0m \u001b[32m━━━━━━━━━━━━━━━━━━━━\u001b[0m\u001b[37m\u001b[0m \u001b[1m19s\u001b[0m 140ms/step - accuracy: 0.6620 - loss: 0.5804 - precision_3: 0.6691 - recall_3: 0.9500\n",
            "Epoch 3/10\n",
            "\u001b[1m115/115\u001b[0m \u001b[32m━━━━━━━━━━━━━━━━━━━━\u001b[0m\u001b[37m\u001b[0m \u001b[1m17s\u001b[0m 148ms/step - accuracy: 0.8010 - loss: 0.4323 - precision_3: 0.8081 - recall_3: 0.9169\n",
            "Epoch 4/10\n",
            "\u001b[1m115/115\u001b[0m \u001b[32m━━━━━━━━━━━━━━━━━━━━\u001b[0m\u001b[37m\u001b[0m \u001b[1m16s\u001b[0m 141ms/step - accuracy: 0.9159 - loss: 0.2469 - precision_3: 0.9307 - recall_3: 0.9412\n",
            "Epoch 5/10\n",
            "\u001b[1m115/115\u001b[0m \u001b[32m━━━━━━━━━━━━━━━━━━━━\u001b[0m\u001b[37m\u001b[0m \u001b[1m20s\u001b[0m 141ms/step - accuracy: 0.9842 - loss: 0.0853 - precision_3: 0.9828 - recall_3: 0.9935\n",
            "Epoch 6/10\n",
            "\u001b[1m115/115\u001b[0m \u001b[32m━━━━━━━━━━━━━━━━━━━━\u001b[0m\u001b[37m\u001b[0m \u001b[1m16s\u001b[0m 140ms/step - accuracy: 0.9928 - loss: 0.0363 - precision_3: 0.9940 - recall_3: 0.9950\n",
            "Epoch 7/10\n",
            "\u001b[1m115/115\u001b[0m \u001b[32m━━━━━━━━━━━━━━━━━━━━\u001b[0m\u001b[37m\u001b[0m \u001b[1m16s\u001b[0m 141ms/step - accuracy: 0.9992 - loss: 0.0081 - precision_3: 0.9999 - recall_3: 0.9988\n",
            "Epoch 8/10\n",
            "\u001b[1m115/115\u001b[0m \u001b[32m━━━━━━━━━━━━━━━━━━━━\u001b[0m\u001b[37m\u001b[0m \u001b[1m22s\u001b[0m 151ms/step - accuracy: 1.0000 - loss: 0.0049 - precision_3: 1.0000 - recall_3: 1.0000\n",
            "Epoch 9/10\n",
            "\u001b[1m115/115\u001b[0m \u001b[32m━━━━━━━━━━━━━━━━━━━━\u001b[0m\u001b[37m\u001b[0m \u001b[1m20s\u001b[0m 149ms/step - accuracy: 1.0000 - loss: 0.0024 - precision_3: 1.0000 - recall_3: 1.0000\n",
            "Epoch 10/10\n",
            "\u001b[1m115/115\u001b[0m \u001b[32m━━━━━━━━━━━━━━━━━━━━\u001b[0m\u001b[37m\u001b[0m \u001b[1m16s\u001b[0m 141ms/step - accuracy: 0.9999 - loss: 0.0038 - precision_3: 1.0000 - recall_3: 0.9998\n",
            "Fold 1 Accuracy: 78.84%\n",
            "\n",
            "Training on Fold 1\n",
            "Epoch 1/10\n",
            "\u001b[1m115/115\u001b[0m \u001b[32m━━━━━━━━━━━━━━━━━━━━\u001b[0m\u001b[37m\u001b[0m \u001b[1m19s\u001b[0m 141ms/step - accuracy: 0.6259 - loss: 0.6702 - precision_4: 0.6551 - recall_4: 0.9010\n",
            "Epoch 2/10\n",
            "\u001b[1m115/115\u001b[0m \u001b[32m━━━━━━━━━━━━━━━━━━━━\u001b[0m\u001b[37m\u001b[0m \u001b[1m16s\u001b[0m 140ms/step - accuracy: 0.6591 - loss: 0.6019 - precision_4: 0.6592 - recall_4: 0.9979\n",
            "Epoch 3/10\n",
            "\u001b[1m115/115\u001b[0m \u001b[32m━━━━━━━━━━━━━━━━━━━━\u001b[0m\u001b[37m\u001b[0m \u001b[1m22s\u001b[0m 148ms/step - accuracy: 0.7075 - loss: 0.5304 - precision_4: 0.7077 - recall_4: 0.9535\n",
            "Epoch 4/10\n",
            "\u001b[1m115/115\u001b[0m \u001b[32m━━━━━━━━━━━━━━━━━━━━\u001b[0m\u001b[37m\u001b[0m \u001b[1m17s\u001b[0m 147ms/step - accuracy: 0.8103 - loss: 0.4226 - precision_4: 0.8245 - recall_4: 0.9039\n",
            "Epoch 5/10\n",
            "\u001b[1m115/115\u001b[0m \u001b[32m━━━━━━━━━━━━━━━━━━━━\u001b[0m\u001b[37m\u001b[0m \u001b[1m33s\u001b[0m 255ms/step - accuracy: 0.9119 - loss: 0.2442 - precision_4: 0.9287 - recall_4: 0.9370\n",
            "Epoch 6/10\n",
            "\u001b[1m115/115\u001b[0m \u001b[32m━━━━━━━━━━━━━━━━━━━━\u001b[0m\u001b[37m\u001b[0m \u001b[1m30s\u001b[0m 157ms/step - accuracy: 0.9747 - loss: 0.0957 - precision_4: 0.9836 - recall_4: 0.9783\n",
            "Epoch 7/10\n",
            "\u001b[1m115/115\u001b[0m \u001b[32m━━━━━━━━━━━━━━━━━━━━\u001b[0m\u001b[37m\u001b[0m \u001b[1m22s\u001b[0m 171ms/step - accuracy: 0.9951 - loss: 0.0293 - precision_4: 0.9973 - recall_4: 0.9952\n",
            "Epoch 8/10\n",
            "\u001b[1m115/115\u001b[0m \u001b[32m━━━━━━━━━━━━━━━━━━━━\u001b[0m\u001b[37m\u001b[0m \u001b[1m30s\u001b[0m 263ms/step - accuracy: 0.9998 - loss: 0.0088 - precision_4: 1.0000 - recall_4: 0.9996\n",
            "Epoch 9/10\n",
            "\u001b[1m115/115\u001b[0m \u001b[32m━━━━━━━━━━━━━━━━━━━━\u001b[0m\u001b[37m\u001b[0m \u001b[1m39s\u001b[0m 244ms/step - accuracy: 0.9998 - loss: 0.0051 - precision_4: 0.9997 - recall_4: 1.0000\n",
            "Epoch 10/10\n",
            "\u001b[1m115/115\u001b[0m \u001b[32m━━━━━━━━━━━━━━━━━━━━\u001b[0m\u001b[37m\u001b[0m \u001b[1m31s\u001b[0m 162ms/step - accuracy: 0.9999 - loss: 0.0020 - precision_4: 1.0000 - recall_4: 0.9999\n",
            "Fold 1 Accuracy: 76.34%\n",
            "\n",
            "Training on Fold 1\n",
            "Epoch 1/10\n",
            "\u001b[1m115/115\u001b[0m \u001b[32m━━━━━━━━━━━━━━━━━━━━\u001b[0m\u001b[37m\u001b[0m \u001b[1m31s\u001b[0m 245ms/step - accuracy: 0.6047 - loss: 0.7098 - precision_5: 0.6532 - recall_5: 0.8431\n",
            "Epoch 2/10\n",
            "\u001b[1m115/115\u001b[0m \u001b[32m━━━━━━━━━━━━━━━━━━━━\u001b[0m\u001b[37m\u001b[0m \u001b[1m29s\u001b[0m 146ms/step - accuracy: 0.6468 - loss: 0.6242 - precision_5: 0.6534 - recall_5: 0.9720\n",
            "Epoch 3/10\n",
            "\u001b[1m115/115\u001b[0m \u001b[32m━━━━━━━━━━━━━━━━━━━━\u001b[0m\u001b[37m\u001b[0m \u001b[1m16s\u001b[0m 139ms/step - accuracy: 0.6916 - loss: 0.5660 - precision_5: 0.7062 - recall_5: 0.9054\n",
            "Epoch 4/10\n",
            "\u001b[1m115/115\u001b[0m \u001b[32m━━━━━━━━━━━━━━━━━━━━\u001b[0m\u001b[37m\u001b[0m \u001b[1m22s\u001b[0m 149ms/step - accuracy: 0.7713 - loss: 0.4830 - precision_5: 0.7805 - recall_5: 0.9057\n",
            "Epoch 5/10\n",
            "\u001b[1m115/115\u001b[0m \u001b[32m━━━━━━━━━━━━━━━━━━━━\u001b[0m\u001b[37m\u001b[0m \u001b[1m16s\u001b[0m 142ms/step - accuracy: 0.8869 - loss: 0.3133 - precision_5: 0.9008 - recall_5: 0.9315\n",
            "Epoch 6/10\n",
            "\u001b[1m115/115\u001b[0m \u001b[32m━━━━━━━━━━━━━━━━━━━━\u001b[0m\u001b[37m\u001b[0m \u001b[1m20s\u001b[0m 140ms/step - accuracy: 0.9587 - loss: 0.1558 - precision_5: 0.9661 - recall_5: 0.9722\n",
            "Epoch 7/10\n",
            "\u001b[1m115/115\u001b[0m \u001b[32m━━━━━━━━━━━━━━━━━━━━\u001b[0m\u001b[37m\u001b[0m \u001b[1m22s\u001b[0m 148ms/step - accuracy: 0.9870 - loss: 0.0760 - precision_5: 0.9868 - recall_5: 0.9932\n",
            "Epoch 8/10\n",
            "\u001b[1m115/115\u001b[0m \u001b[32m━━━━━━━━━━━━━━━━━━━━\u001b[0m\u001b[37m\u001b[0m \u001b[1m19s\u001b[0m 141ms/step - accuracy: 0.9958 - loss: 0.0377 - precision_5: 0.9963 - recall_5: 0.9971\n",
            "Epoch 9/10\n",
            "\u001b[1m115/115\u001b[0m \u001b[32m━━━━━━━━━━━━━━━━━━━━\u001b[0m\u001b[37m\u001b[0m \u001b[1m29s\u001b[0m 212ms/step - accuracy: 0.9990 - loss: 0.0133 - precision_5: 0.9984 - recall_5: 1.0000\n",
            "Epoch 10/10\n",
            "\u001b[1m115/115\u001b[0m \u001b[32m━━━━━━━━━━━━━━━━━━━━\u001b[0m\u001b[37m\u001b[0m \u001b[1m18s\u001b[0m 155ms/step - accuracy: 1.0000 - loss: 0.0031 - precision_5: 1.0000 - recall_5: 1.0000\n",
            "Fold 1 Accuracy: 74.81%\n"
          ]
        }
      ]
    },
    {
      "cell_type": "code",
      "source": [
        "#cnn_model1.fit(X_train_1, y_train_1, epochs=10, batch_size=32)"
      ],
      "metadata": {
        "id": "AMsf5xt1SsoW",
        "colab": {
          "base_uri": "https://localhost:8080/"
        },
        "outputId": "7b0442ba-b02b-42ec-98dc-3d45b2bfc7cd"
      },
      "execution_count": null,
      "outputs": [
        {
          "output_type": "stream",
          "name": "stdout",
          "text": [
            "Epoch 1/10\n",
            "\u001b[1m115/115\u001b[0m \u001b[32m━━━━━━━━━━━━━━━━━━━━\u001b[0m\u001b[37m\u001b[0m \u001b[1m22s\u001b[0m 157ms/step - accuracy: 0.6351 - loss: 0.6525 - precision: 0.6561 - recall: 0.9218\n",
            "Epoch 2/10\n",
            "\u001b[1m115/115\u001b[0m \u001b[32m━━━━━━━━━━━━━━━━━━━━\u001b[0m\u001b[37m\u001b[0m \u001b[1m17s\u001b[0m 144ms/step - accuracy: 0.6731 - loss: 0.5924 - precision: 0.6856 - recall: 0.9229\n",
            "Epoch 3/10\n",
            "\u001b[1m115/115\u001b[0m \u001b[32m━━━━━━━━━━━━━━━━━━━━\u001b[0m\u001b[37m\u001b[0m \u001b[1m20s\u001b[0m 141ms/step - accuracy: 0.7878 - loss: 0.4664 - precision: 0.7888 - recall: 0.9195\n",
            "Epoch 4/10\n",
            "\u001b[1m115/115\u001b[0m \u001b[32m━━━━━━━━━━━━━━━━━━━━\u001b[0m\u001b[37m\u001b[0m \u001b[1m23s\u001b[0m 160ms/step - accuracy: 0.9050 - loss: 0.2665 - precision: 0.9104 - recall: 0.9462\n",
            "Epoch 5/10\n",
            "\u001b[1m115/115\u001b[0m \u001b[32m━━━━━━━━━━━━━━━━━━━━\u001b[0m\u001b[37m\u001b[0m \u001b[1m27s\u001b[0m 234ms/step - accuracy: 0.9773 - loss: 0.1077 - precision: 0.9791 - recall: 0.9858\n",
            "Epoch 6/10\n",
            "\u001b[1m115/115\u001b[0m \u001b[32m━━━━━━━━━━━━━━━━━━━━\u001b[0m\u001b[37m\u001b[0m \u001b[1m31s\u001b[0m 143ms/step - accuracy: 0.9967 - loss: 0.0367 - precision: 0.9979 - recall: 0.9970\n",
            "Epoch 7/10\n",
            "\u001b[1m115/115\u001b[0m \u001b[32m━━━━━━━━━━━━━━━━━━━━\u001b[0m\u001b[37m\u001b[0m \u001b[1m29s\u001b[0m 217ms/step - accuracy: 0.9995 - loss: 0.0113 - precision: 0.9993 - recall: 1.0000\n",
            "Epoch 8/10\n",
            "\u001b[1m115/115\u001b[0m \u001b[32m━━━━━━━━━━━━━━━━━━━━\u001b[0m\u001b[37m\u001b[0m \u001b[1m38s\u001b[0m 190ms/step - accuracy: 0.9991 - loss: 0.0083 - precision: 0.9999 - recall: 0.9987\n",
            "Epoch 9/10\n",
            "\u001b[1m115/115\u001b[0m \u001b[32m━━━━━━━━━━━━━━━━━━━━\u001b[0m\u001b[37m\u001b[0m \u001b[1m35s\u001b[0m 142ms/step - accuracy: 0.9999 - loss: 0.0070 - precision: 1.0000 - recall: 0.9999\n",
            "Epoch 10/10\n",
            "\u001b[1m115/115\u001b[0m \u001b[32m━━━━━━━━━━━━━━━━━━━━\u001b[0m\u001b[37m\u001b[0m \u001b[1m16s\u001b[0m 142ms/step - accuracy: 0.9997 - loss: 0.0098 - precision: 0.9995 - recall: 1.0000\n"
          ]
        },
        {
          "output_type": "execute_result",
          "data": {
            "text/plain": [
              "<keras.src.callbacks.history.History at 0x7d090a0df190>"
            ]
          },
          "metadata": {},
          "execution_count": 14
        }
      ]
    },
    {
      "cell_type": "code",
      "source": [
        "results = cnn_model1.evaluate(X_test_1, y_test_1)"
      ],
      "metadata": {
        "id": "eFjB04jaSvWp",
        "colab": {
          "base_uri": "https://localhost:8080/"
        },
        "outputId": "6340ffc8-2220-49bd-e0ac-78cda2f63ac3"
      },
      "execution_count": null,
      "outputs": [
        {
          "output_type": "stream",
          "name": "stdout",
          "text": [
            "\u001b[1m29/29\u001b[0m \u001b[32m━━━━━━━━━━━━━━━━━━━━\u001b[0m\u001b[37m\u001b[0m \u001b[1m2s\u001b[0m 68ms/step - accuracy: 0.8741 - loss: 0.5066 - precision_5: 0.9433 - recall_5: 0.9103\n"
          ]
        }
      ]
    },
    {
      "cell_type": "code",
      "source": [
        "from sklearn.metrics import confusion_matrix\n",
        "import seaborn as sns\n",
        "import matplotlib.pyplot as plt\n",
        "\n",
        "# Make predictions on the test set\n",
        "y_pred = cnn_model1.predict(X_test_1)\n",
        "y_pred_classes = (y_pred > 0.5).astype(int)  # Convert probabilities to class labels\n",
        "\n",
        "# Compute the confusion matrix\n",
        "cm = confusion_matrix(y_test_1, y_pred_classes)\n",
        "\n",
        "# Plot the confusion matrix using seaborn\n",
        "plt.figure(figsize=(8, 6))\n",
        "sns.heatmap(cm, annot=True, fmt='d', cmap='Reds',\n",
        "            xticklabels=['Predicted Negative', 'Predicted Positive'],\n",
        "            yticklabels=['Actual Negative', 'Actual Positive'])\n",
        "plt.xlabel('Predicted Label')\n",
        "plt.ylabel('True Label')\n",
        "plt.title('Confusion Matrix')\n",
        "plt.show()\n"
      ],
      "metadata": {
        "colab": {
          "base_uri": "https://localhost:8080/",
          "height": 581
        },
        "id": "1iwNhN4TtYVf",
        "outputId": "b3a9cf5f-8275-44cf-a41c-b4116f3e3089"
      },
      "execution_count": null,
      "outputs": [
        {
          "output_type": "stream",
          "name": "stdout",
          "text": [
            "\u001b[1m29/29\u001b[0m \u001b[32m━━━━━━━━━━━━━━━━━━━━\u001b[0m\u001b[37m\u001b[0m \u001b[1m1s\u001b[0m 41ms/step\n"
          ]
        },
        {
          "output_type": "display_data",
          "data": {
            "text/plain": [
              "<Figure size 800x600 with 2 Axes>"
            ],
            "image/png": "[encoded data removed]"
          },
          "metadata": {}
        }
      ]
    },
    {
      "cell_type": "markdown",
      "source": [
        "## Experiment 2"
      ],
      "metadata": {
        "id": "4Xu6estTVWni"
      }
    },
    {
      "cell_type": "code",
      "source": [
        "input_shape = (2000, 4)  # Example input shape\n",
        "cnn_model2 = create_cnn_model(input_shape)\n",
        "cnn_model2.compile(optimizer='adam',\n",
        "              loss='binary_crossentropy',\n",
        "              metrics=['accuracy',\n",
        "        tf.keras.metrics.Recall(),\n",
        "     tf.keras.metrics.Precision()])"
      ],
      "metadata": {
        "id": "Gl7lUdIZVWFb",
        "colab": {
          "base_uri": "https://localhost:8080/"
        },
        "outputId": "6391dbd6-3319-448e-9d79-756ffea30f3f"
      },
      "execution_count": null,
      "outputs": [
        {
          "output_type": "stream",
          "name": "stderr",
          "text": [
            "/usr/local/lib/python3.11/dist-packages/keras/src/layers/convolutional/base_conv.py:107: UserWarning: Do not pass an `input_shape`/`input_dim` argument to a layer. When using Sequential models, prefer using an `Input(shape)` object as the first layer in the model instead.\n",
            "  super().__init__(activity_regularizer=activity_regularizer, **kwargs)\n"
          ]
        }
      ]
    },
    {
      "cell_type": "code",
      "source": [
        "kf = KFold(n_splits=5, shuffle=True, random_state=42)\n",
        "fold = 1\n",
        "acc_per_fold = []\n",
        "X = concatenated_data_2\n",
        "y = concatenated_labels_2\n",
        "for train_idx, test_idx in kf.split(X):\n",
        "\n",
        "    print(f\"\\nTraining on Fold {fold}\")\n",
        "\n",
        "    X_train, y_train = X[train_idx], y[train_idx]\n",
        "    X_test, y_test = X[test_idx], y[test_idx]\n",
        "\n",
        "    cnn_model2 = create_cnn_model(input_shape)\n",
        "    cnn_model2.compile(optimizer='adam',\n",
        "              loss='binary_crossentropy',\n",
        "              metrics=['accuracy',\n",
        "        tf.keras.metrics.Recall(),\n",
        "     tf.keras.metrics.Precision()])\n",
        "    cnn_model2.fit(X_train, y_train, epochs=10, batch_size=32, verbose=1)\n",
        "\n",
        "    scores_2 = cnn_model2.evaluate(X_test, y_test, verbose=0)\n",
        "    print(f\"Fold {fold} Accuracy: {scores_2[1]*100:.2f}%\")\n",
        "    acc_per_fold.append(scores_2[1])"
      ],
      "metadata": {
        "colab": {
          "base_uri": "https://localhost:8080/"
        },
        "id": "FAydHVf6-DBR",
        "outputId": "8d05ea8d-a2d3-4883-be78-23340206734f"
      },
      "execution_count": null,
      "outputs": [
        {
          "output_type": "stream",
          "name": "stdout",
          "text": [
            "\n",
            "Training on Fold 1\n"
          ]
        },
        {
          "output_type": "stream",
          "name": "stderr",
          "text": [
            "/usr/local/lib/python3.11/dist-packages/keras/src/layers/convolutional/base_conv.py:107: UserWarning: Do not pass an `input_shape`/`input_dim` argument to a layer. When using Sequential models, prefer using an `Input(shape)` object as the first layer in the model instead.\n",
            "  super().__init__(activity_regularizer=activity_regularizer, **kwargs)\n"
          ]
        },
        {
          "output_type": "stream",
          "name": "stdout",
          "text": [
            "Epoch 1/10\n",
            "\u001b[1m159/159\u001b[0m \u001b[32m━━━━━━━━━━━━━━━━━━━━\u001b[0m\u001b[37m\u001b[0m \u001b[1m29s\u001b[0m 149ms/step - accuracy: 0.7198 - loss: 0.5056 - precision_6: 0.8781 - recall_6: 0.5185\n",
            "Epoch 2/10\n",
            "\u001b[1m159/159\u001b[0m \u001b[32m━━━━━━━━━━━━━━━━━━━━\u001b[0m\u001b[37m\u001b[0m \u001b[1m39s\u001b[0m 244ms/step - accuracy: 0.7590 - loss: 0.4702 - precision_6: 1.0000 - recall_6: 0.5171\n",
            "Epoch 3/10\n",
            "\u001b[1m159/159\u001b[0m \u001b[32m━━━━━━━━━━━━━━━━━━━━\u001b[0m\u001b[37m\u001b[0m \u001b[1m47s\u001b[0m 282ms/step - accuracy: 0.7547 - loss: 0.4711 - precision_6: 1.0000 - recall_6: 0.5125\n",
            "Epoch 4/10\n",
            "\u001b[1m159/159\u001b[0m \u001b[32m━━━━━━━━━━━━━━━━━━━━\u001b[0m\u001b[37m\u001b[0m \u001b[1m59s\u001b[0m 139ms/step - accuracy: 0.7518 - loss: 0.4734 - precision_6: 1.0000 - recall_6: 0.5085\n",
            "Epoch 5/10\n",
            "\u001b[1m159/159\u001b[0m \u001b[32m━━━━━━━━━━━━━━━━━━━━\u001b[0m\u001b[37m\u001b[0m \u001b[1m41s\u001b[0m 141ms/step - accuracy: 0.7469 - loss: 0.4821 - precision_6: 1.0000 - recall_6: 0.4867\n",
            "Epoch 6/10\n",
            "\u001b[1m159/159\u001b[0m \u001b[32m━━━━━━━━━━━━━━━━━━━━\u001b[0m\u001b[37m\u001b[0m \u001b[1m39s\u001b[0m 130ms/step - accuracy: 0.7492 - loss: 0.4753 - precision_6: 1.0000 - recall_6: 0.5017\n",
            "Epoch 7/10\n",
            "\u001b[1m159/159\u001b[0m \u001b[32m━━━━━━━━━━━━━━━━━━━━\u001b[0m\u001b[37m\u001b[0m \u001b[1m42s\u001b[0m 138ms/step - accuracy: 0.7393 - loss: 0.4895 - precision_6: 1.0000 - recall_6: 0.4736\n",
            "Epoch 8/10\n",
            "\u001b[1m159/159\u001b[0m \u001b[32m━━━━━━━━━━━━━━━━━━━━\u001b[0m\u001b[37m\u001b[0m \u001b[1m41s\u001b[0m 138ms/step - accuracy: 0.7488 - loss: 0.4790 - precision_6: 1.0000 - recall_6: 0.4871\n",
            "Epoch 9/10\n",
            "\u001b[1m159/159\u001b[0m \u001b[32m━━━━━━━━━━━━━━━━━━━━\u001b[0m\u001b[37m\u001b[0m \u001b[1m22s\u001b[0m 135ms/step - accuracy: 0.7587 - loss: 0.4670 - precision_6: 0.9974 - recall_6: 0.5113\n",
            "Epoch 10/10\n",
            "\u001b[1m159/159\u001b[0m \u001b[32m━━━━━━━━━━━━━━━━━━━━\u001b[0m\u001b[37m\u001b[0m \u001b[1m28s\u001b[0m 174ms/step - accuracy: 0.7562 - loss: 0.4691 - precision_6: 0.9960 - recall_6: 0.5011\n",
            "Fold 1 Accuracy: 72.35%\n",
            "\n",
            "Training on Fold 1\n",
            "Epoch 1/10\n",
            "\u001b[1m159/159\u001b[0m \u001b[32m━━━━━━━━━━━━━━━━━━━━\u001b[0m\u001b[37m\u001b[0m \u001b[1m24s\u001b[0m 131ms/step - accuracy: 0.7178 - loss: 0.5069 - precision_7: 0.8579 - recall_7: 0.5561\n",
            "Epoch 2/10\n",
            "\u001b[1m159/159\u001b[0m \u001b[32m━━━━━━━━━━━━━━━━━━━━\u001b[0m\u001b[37m\u001b[0m \u001b[1m23s\u001b[0m 142ms/step - accuracy: 0.7564 - loss: 0.4775 - precision_7: 1.0000 - recall_7: 0.5009\n",
            "Epoch 3/10\n",
            "\u001b[1m159/159\u001b[0m \u001b[32m━━━━━━━━━━━━━━━━━━━━\u001b[0m\u001b[37m\u001b[0m \u001b[1m42s\u001b[0m 149ms/step - accuracy: 0.7404 - loss: 0.4855 - precision_7: 1.0000 - recall_7: 0.4876\n",
            "Epoch 4/10\n",
            "\u001b[1m159/159\u001b[0m \u001b[32m━━━━━━━━━━━━━━━━━━━━\u001b[0m\u001b[37m\u001b[0m \u001b[1m42s\u001b[0m 157ms/step - accuracy: 0.7447 - loss: 0.4848 - precision_7: 1.0000 - recall_7: 0.4839\n",
            "Epoch 5/10\n",
            "\u001b[1m159/159\u001b[0m \u001b[32m━━━━━━━━━━━━━━━━━━━━\u001b[0m\u001b[37m\u001b[0m \u001b[1m38s\u001b[0m 141ms/step - accuracy: 0.7498 - loss: 0.4781 - precision_7: 1.0000 - recall_7: 0.4930\n",
            "Epoch 6/10\n",
            "\u001b[1m159/159\u001b[0m \u001b[32m━━━━━━━━━━━━━━━━━━━━\u001b[0m\u001b[37m\u001b[0m \u001b[1m46s\u001b[0m 175ms/step - accuracy: 0.7508 - loss: 0.4781 - precision_7: 0.9992 - recall_7: 0.4970\n",
            "Epoch 7/10\n",
            "\u001b[1m159/159\u001b[0m \u001b[32m━━━━━━━━━━━━━━━━━━━━\u001b[0m\u001b[37m\u001b[0m \u001b[1m34s\u001b[0m 132ms/step - accuracy: 0.7451 - loss: 0.4807 - precision_7: 0.9974 - recall_7: 0.4882\n",
            "Epoch 8/10\n",
            "\u001b[1m159/159\u001b[0m \u001b[32m━━━━━━━━━━━━━━━━━━━━\u001b[0m\u001b[37m\u001b[0m \u001b[1m43s\u001b[0m 142ms/step - accuracy: 0.7467 - loss: 0.4736 - precision_7: 0.9976 - recall_7: 0.5007\n",
            "Epoch 9/10\n",
            "\u001b[1m159/159\u001b[0m \u001b[32m━━━━━━━━━━━━━━━━━━━━\u001b[0m\u001b[37m\u001b[0m \u001b[1m45s\u001b[0m 169ms/step - accuracy: 0.7498 - loss: 0.4722 - precision_7: 0.9989 - recall_7: 0.4973\n",
            "Epoch 10/10\n",
            "\u001b[1m159/159\u001b[0m \u001b[32m━━━━━━━━━━━━━━━━━━━━\u001b[0m\u001b[37m\u001b[0m \u001b[1m40s\u001b[0m 161ms/step - accuracy: 0.7454 - loss: 0.4781 - precision_7: 1.0000 - recall_7: 0.4857\n",
            "Fold 1 Accuracy: 74.49%\n",
            "\n",
            "Training on Fold 1\n",
            "Epoch 1/10\n",
            "\u001b[1m159/159\u001b[0m \u001b[32m━━━━━━━━━━━━━━━━━━━━\u001b[0m\u001b[37m\u001b[0m \u001b[1m34s\u001b[0m 192ms/step - accuracy: 0.7136 - loss: 0.5055 - precision_8: 0.8586 - recall_8: 0.5563\n",
            "Epoch 2/10\n",
            "\u001b[1m159/159\u001b[0m \u001b[32m━━━━━━━━━━━━━━━━━━━━\u001b[0m\u001b[37m\u001b[0m \u001b[1m33s\u001b[0m 143ms/step - accuracy: 0.7541 - loss: 0.4784 - precision_8: 1.0000 - recall_8: 0.5005\n",
            "Epoch 3/10\n",
            "\u001b[1m159/159\u001b[0m \u001b[32m━━━━━━━━━━━━━━━━━━━━\u001b[0m\u001b[37m\u001b[0m \u001b[1m21s\u001b[0m 131ms/step - accuracy: 0.7475 - loss: 0.4855 - precision_8: 1.0000 - recall_8: 0.4876\n",
            "Epoch 4/10\n",
            "\u001b[1m159/159\u001b[0m \u001b[32m━━━━━━━━━━━━━━━━━━━━\u001b[0m\u001b[37m\u001b[0m \u001b[1m41s\u001b[0m 131ms/step - accuracy: 0.7475 - loss: 0.4807 - precision_8: 1.0000 - recall_8: 0.4949\n",
            "Epoch 5/10\n",
            "\u001b[1m159/159\u001b[0m \u001b[32m━━━━━━━━━━━━━━━━━━━━\u001b[0m\u001b[37m\u001b[0m \u001b[1m46s\u001b[0m 160ms/step - accuracy: 0.7450 - loss: 0.4862 - precision_8: 1.0000 - recall_8: 0.4841\n",
            "Epoch 6/10\n",
            "\u001b[1m159/159\u001b[0m \u001b[32m━━━━━━━━━━━━━━━━━━━━\u001b[0m\u001b[37m\u001b[0m \u001b[1m21s\u001b[0m 133ms/step - accuracy: 0.7478 - loss: 0.4751 - precision_8: 0.9960 - recall_8: 0.4988\n",
            "Epoch 7/10\n",
            "\u001b[1m159/159\u001b[0m \u001b[32m━━━━━━━━━━━━━━━━━━━━\u001b[0m\u001b[37m\u001b[0m \u001b[1m41s\u001b[0m 132ms/step - accuracy: 0.7478 - loss: 0.4762 - precision_8: 0.9993 - recall_8: 0.4975\n",
            "Epoch 8/10\n",
            "\u001b[1m159/159\u001b[0m \u001b[32m━━━━━━━━━━━━━━━━━━━━\u001b[0m\u001b[37m\u001b[0m \u001b[1m49s\u001b[0m 181ms/step - accuracy: 0.7437 - loss: 0.4717 - precision_8: 0.9763 - recall_8: 0.5097\n",
            "Epoch 9/10\n",
            "\u001b[1m159/159\u001b[0m \u001b[32m━━━━━━━━━━━━━━━━━━━━\u001b[0m\u001b[37m\u001b[0m \u001b[1m34s\u001b[0m 137ms/step - accuracy: 0.7492 - loss: 0.4716 - precision_8: 0.9829 - recall_8: 0.5028\n",
            "Epoch 10/10\n",
            "\u001b[1m159/159\u001b[0m \u001b[32m━━━━━━━━━━━━━━━━━━━━\u001b[0m\u001b[37m\u001b[0m \u001b[1m25s\u001b[0m 153ms/step - accuracy: 0.7429 - loss: 0.4742 - precision_8: 0.9787 - recall_8: 0.5011\n",
            "Fold 1 Accuracy: 75.99%\n",
            "\n",
            "Training on Fold 1\n",
            "Epoch 1/10\n",
            "\u001b[1m159/159\u001b[0m \u001b[32m━━━━━━━━━━━━━━━━━━━━\u001b[0m\u001b[37m\u001b[0m \u001b[1m25s\u001b[0m 135ms/step - accuracy: 0.7058 - loss: 0.5147 - precision_9: 0.8484 - recall_9: 0.5428\n",
            "Epoch 2/10\n",
            "\u001b[1m159/159\u001b[0m \u001b[32m━━━━━━━━━━━━━━━━━━━━\u001b[0m\u001b[37m\u001b[0m \u001b[1m42s\u001b[0m 143ms/step - accuracy: 0.7468 - loss: 0.4864 - precision_9: 1.0000 - recall_9: 0.4850\n",
            "Epoch 3/10\n",
            "\u001b[1m159/159\u001b[0m \u001b[32m━━━━━━━━━━━━━━━━━━━━\u001b[0m\u001b[37m\u001b[0m \u001b[1m39s\u001b[0m 130ms/step - accuracy: 0.7395 - loss: 0.4881 - precision_9: 1.0000 - recall_9: 0.4794\n",
            "Epoch 4/10\n",
            "\u001b[1m159/159\u001b[0m \u001b[32m━━━━━━━━━━━━━━━━━━━━\u001b[0m\u001b[37m\u001b[0m \u001b[1m41s\u001b[0m 131ms/step - accuracy: 0.7459 - loss: 0.4838 - precision_9: 1.0000 - recall_9: 0.4896\n",
            "Epoch 5/10\n",
            "\u001b[1m159/159\u001b[0m \u001b[32m━━━━━━━━━━━━━━━━━━━━\u001b[0m\u001b[37m\u001b[0m \u001b[1m41s\u001b[0m 132ms/step - accuracy: 0.7451 - loss: 0.4803 - precision_9: 1.0000 - recall_9: 0.4966\n",
            "Epoch 6/10\n",
            "\u001b[1m159/159\u001b[0m \u001b[32m━━━━━━━━━━━━━━━━━━━━\u001b[0m\u001b[37m\u001b[0m \u001b[1m42s\u001b[0m 139ms/step - accuracy: 0.7418 - loss: 0.4823 - precision_9: 1.0000 - recall_9: 0.4908\n",
            "Epoch 7/10\n",
            "\u001b[1m159/159\u001b[0m \u001b[32m━━━━━━━━━━━━━━━━━━━━\u001b[0m\u001b[37m\u001b[0m \u001b[1m41s\u001b[0m 139ms/step - accuracy: 0.7438 - loss: 0.4827 - precision_9: 1.0000 - recall_9: 0.4923\n",
            "Epoch 8/10\n",
            "\u001b[1m159/159\u001b[0m \u001b[32m━━━━━━━━━━━━━━━━━━━━\u001b[0m\u001b[37m\u001b[0m \u001b[1m41s\u001b[0m 140ms/step - accuracy: 0.7521 - loss: 0.4745 - precision_9: 1.0000 - recall_9: 0.5011\n",
            "Epoch 9/10\n",
            "\u001b[1m159/159\u001b[0m \u001b[32m━━━━━━━━━━━━━━━━━━━━\u001b[0m\u001b[37m\u001b[0m \u001b[1m21s\u001b[0m 133ms/step - accuracy: 0.7531 - loss: 0.4748 - precision_9: 1.0000 - recall_9: 0.4977\n",
            "Epoch 10/10\n",
            "\u001b[1m159/159\u001b[0m \u001b[32m━━━━━━━━━━━━━━━━━━━━\u001b[0m\u001b[37m\u001b[0m \u001b[1m40s\u001b[0m 130ms/step - accuracy: 0.7430 - loss: 0.4790 - precision_9: 1.0000 - recall_9: 0.4870\n",
            "Fold 1 Accuracy: 75.04%\n",
            "\n",
            "Training on Fold 1\n",
            "Epoch 1/10\n",
            "\u001b[1m159/159\u001b[0m \u001b[32m━━━━━━━━━━━━━━━━━━━━\u001b[0m\u001b[37m\u001b[0m \u001b[1m25s\u001b[0m 143ms/step - accuracy: 0.7246 - loss: 0.5088 - precision_10: 0.8741 - recall_10: 0.5452\n",
            "Epoch 2/10\n",
            "\u001b[1m159/159\u001b[0m \u001b[32m━━━━━━━━━━━━━━━━━━━━\u001b[0m\u001b[37m\u001b[0m \u001b[1m21s\u001b[0m 132ms/step - accuracy: 0.7493 - loss: 0.4784 - precision_10: 1.0000 - recall_10: 0.4961\n",
            "Epoch 3/10\n",
            "\u001b[1m159/159\u001b[0m \u001b[32m━━━━━━━━━━━━━━━━━━━━\u001b[0m\u001b[37m\u001b[0m \u001b[1m41s\u001b[0m 131ms/step - accuracy: 0.7439 - loss: 0.4849 - precision_10: 1.0000 - recall_10: 0.4889\n",
            "Epoch 4/10\n",
            "\u001b[1m159/159\u001b[0m \u001b[32m━━━━━━━━━━━━━━━━━━━━\u001b[0m\u001b[37m\u001b[0m \u001b[1m41s\u001b[0m 133ms/step - accuracy: 0.7452 - loss: 0.4783 - precision_10: 1.0000 - recall_10: 0.4986\n",
            "Epoch 5/10\n",
            "\u001b[1m159/159\u001b[0m \u001b[32m━━━━━━━━━━━━━━━━━━━━\u001b[0m\u001b[37m\u001b[0m \u001b[1m42s\u001b[0m 140ms/step - accuracy: 0.7479 - loss: 0.4761 - precision_10: 1.0000 - recall_10: 0.5034\n",
            "Epoch 6/10\n",
            "\u001b[1m159/159\u001b[0m \u001b[32m━━━━━━━━━━━━━━━━━━━━\u001b[0m\u001b[37m\u001b[0m \u001b[1m41s\u001b[0m 141ms/step - accuracy: 0.7489 - loss: 0.4802 - precision_10: 1.0000 - recall_10: 0.4901\n",
            "Epoch 7/10\n",
            "\u001b[1m159/159\u001b[0m \u001b[32m━━━━━━━━━━━━━━━━━━━━\u001b[0m\u001b[37m\u001b[0m \u001b[1m41s\u001b[0m 139ms/step - accuracy: 0.7437 - loss: 0.4787 - precision_10: 0.9950 - recall_10: 0.4933\n",
            "Epoch 8/10\n",
            "\u001b[1m159/159\u001b[0m \u001b[32m━━━━━━━━━━━━━━━━━━━━\u001b[0m\u001b[37m\u001b[0m \u001b[1m41s\u001b[0m 140ms/step - accuracy: 0.7309 - loss: 0.4878 - precision_10: 1.0000 - recall_10: 0.4794\n",
            "Epoch 9/10\n",
            "\u001b[1m159/159\u001b[0m \u001b[32m━━━━━━━━━━━━━━━━━━━━\u001b[0m\u001b[37m\u001b[0m \u001b[1m41s\u001b[0m 141ms/step - accuracy: 0.7583 - loss: 0.4653 - precision_10: 1.0000 - recall_10: 0.5125\n",
            "Epoch 10/10\n",
            "\u001b[1m159/159\u001b[0m \u001b[32m━━━━━━━━━━━━━━━━━━━━\u001b[0m\u001b[37m\u001b[0m \u001b[1m41s\u001b[0m 141ms/step - accuracy: 0.7409 - loss: 0.4799 - precision_10: 1.0000 - recall_10: 0.4844\n",
            "Fold 1 Accuracy: 75.67%\n"
          ]
        }
      ]
    },
    {
      "cell_type": "code",
      "source": [
        "#cnn_model2.fit(X_train_2, y_train_2, epochs=10, batch_size=32)"
      ],
      "metadata": {
        "id": "GlslRu6EhQOJ",
        "colab": {
          "base_uri": "https://localhost:8080/"
        },
        "outputId": "143c932f-faeb-4af2-e961-a1fc5f0ac903"
      },
      "execution_count": null,
      "outputs": [
        {
          "output_type": "stream",
          "name": "stdout",
          "text": [
            "Epoch 1/10\n",
            "\u001b[1m159/159\u001b[0m \u001b[32m━━━━━━━━━━━━━━━━━━━━\u001b[0m\u001b[37m\u001b[0m \u001b[1m43s\u001b[0m 244ms/step - accuracy: 0.9647 - loss: 0.0825 - precision_1: 0.9937 - recall_1: 0.9647\n",
            "Epoch 2/10\n",
            "\u001b[1m159/159\u001b[0m \u001b[32m━━━━━━━━━━━━━━━━━━━━\u001b[0m\u001b[37m\u001b[0m \u001b[1m26s\u001b[0m 149ms/step - accuracy: 1.0000 - loss: 4.1083e-21 - precision_1: 1.0000 - recall_1: 1.0000\n",
            "Epoch 3/10\n",
            "\u001b[1m159/159\u001b[0m \u001b[32m━━━━━━━━━━━━━━━━━━━━\u001b[0m\u001b[37m\u001b[0m \u001b[1m21s\u001b[0m 133ms/step - accuracy: 1.0000 - loss: 4.0875e-21 - precision_1: 1.0000 - recall_1: 1.0000\n",
            "Epoch 4/10\n",
            "\u001b[1m159/159\u001b[0m \u001b[32m━━━━━━━━━━━━━━━━━━━━\u001b[0m\u001b[37m\u001b[0m \u001b[1m43s\u001b[0m 146ms/step - accuracy: 1.0000 - loss: 4.1040e-21 - precision_1: 1.0000 - recall_1: 1.0000\n",
            "Epoch 5/10\n",
            "\u001b[1m159/159\u001b[0m \u001b[32m━━━━━━━━━━━━━━━━━━━━\u001b[0m\u001b[37m\u001b[0m \u001b[1m39s\u001b[0m 136ms/step - accuracy: 1.0000 - loss: 4.1085e-21 - precision_1: 1.0000 - recall_1: 1.0000\n",
            "Epoch 6/10\n",
            "\u001b[1m159/159\u001b[0m \u001b[32m━━━━━━━━━━━━━━━━━━━━\u001b[0m\u001b[37m\u001b[0m \u001b[1m42s\u001b[0m 144ms/step - accuracy: 1.0000 - loss: 4.1266e-21 - precision_1: 1.0000 - recall_1: 1.0000\n",
            "Epoch 7/10\n",
            "\u001b[1m159/159\u001b[0m \u001b[32m━━━━━━━━━━━━━━━━━━━━\u001b[0m\u001b[37m\u001b[0m \u001b[1m22s\u001b[0m 140ms/step - accuracy: 1.0000 - loss: 4.1606e-21 - precision_1: 1.0000 - recall_1: 1.0000\n",
            "Epoch 8/10\n",
            "\u001b[1m159/159\u001b[0m \u001b[32m━━━━━━━━━━━━━━━━━━━━\u001b[0m\u001b[37m\u001b[0m \u001b[1m40s\u001b[0m 133ms/step - accuracy: 1.0000 - loss: 4.1007e-21 - precision_1: 1.0000 - recall_1: 1.0000\n",
            "Epoch 9/10\n",
            "\u001b[1m159/159\u001b[0m \u001b[32m━━━━━━━━━━━━━━━━━━━━\u001b[0m\u001b[37m\u001b[0m \u001b[1m44s\u001b[0m 149ms/step - accuracy: 1.0000 - loss: 4.1565e-21 - precision_1: 1.0000 - recall_1: 1.0000\n",
            "Epoch 10/10\n",
            "\u001b[1m159/159\u001b[0m \u001b[32m━━━━━━━━━━━━━━━━━━━━\u001b[0m\u001b[37m\u001b[0m \u001b[1m38s\u001b[0m 134ms/step - accuracy: 1.0000 - loss: 4.1804e-21 - precision_1: 1.0000 - recall_1: 1.0000\n"
          ]
        },
        {
          "output_type": "execute_result",
          "data": {
            "text/plain": [
              "<keras.src.callbacks.history.History at 0x7d0913c71e10>"
            ]
          },
          "metadata": {},
          "execution_count": 31
        }
      ]
    },
    {
      "cell_type": "code",
      "source": [
        "results = cnn_model2.evaluate(X_test_2, y_test_2)"
      ],
      "metadata": {
        "id": "y4twSuTuhTY-",
        "colab": {
          "base_uri": "https://localhost:8080/"
        },
        "outputId": "578e4eb3-69bc-4afe-cc03-c6f81225440b"
      },
      "execution_count": null,
      "outputs": [
        {
          "output_type": "stream",
          "name": "stdout",
          "text": [
            "\u001b[1m40/40\u001b[0m \u001b[32m━━━━━━━━━━━━━━━━━━━━\u001b[0m\u001b[37m\u001b[0m \u001b[1m1s\u001b[0m 34ms/step - accuracy: 0.7430 - loss: 0.4702 - precision_10: 1.0000 - recall_10: 0.4982\n"
          ]
        }
      ]
    },
    {
      "cell_type": "code",
      "source": [
        "from sklearn.metrics import confusion_matrix\n",
        "import seaborn as sns\n",
        "import matplotlib.pyplot as plt\n",
        "\n",
        "# Make predictions on the test set\n",
        "y_pred = cnn_model2.predict(X_test_2)\n",
        "y_pred_classes = (y_pred > 0.5).astype(int)  # Convert probabilities to class labels\n",
        "\n",
        "# Compute the confusion matrix\n",
        "cm = confusion_matrix(y_test_2, y_pred_classes)\n",
        "\n",
        "# Plot the confusion matrix using seaborn\n",
        "plt.figure(figsize=(8, 6))\n",
        "sns.heatmap(cm, annot=True, fmt='d', cmap='Reds',\n",
        "            xticklabels=['Predicted Negative', 'Predicted Positive'],\n",
        "            yticklabels=['Actual Negative', 'Actual Positive'])\n",
        "plt.xlabel('Predicted Label')\n",
        "plt.ylabel('True Label')\n",
        "plt.title('Confusion Matrix')\n",
        "plt.show()\n"
      ],
      "metadata": {
        "colab": {
          "base_uri": "https://localhost:8080/",
          "height": 581
        },
        "id": "av0kx7Qc0Fjg",
        "outputId": "d9c80b47-0eb7-4e6d-f4c2-d78865be25f8"
      },
      "execution_count": null,
      "outputs": [
        {
          "output_type": "stream",
          "name": "stdout",
          "text": [
            "\u001b[1m40/40\u001b[0m \u001b[32m━━━━━━━━━━━━━━━━━━━━\u001b[0m\u001b[37m\u001b[0m \u001b[1m3s\u001b[0m 61ms/step\n"
          ]
        },
        {
          "output_type": "display_data",
          "data": {
            "text/plain": [
              "<Figure size 800x600 with 2 Axes>"
            ],
            "image/png": "[encoded data removed]"
          },
          "metadata": {}
        }
      ]
    },
    {
      "cell_type": "markdown",
      "source": [
        "## Experiment 3"
      ],
      "metadata": {
        "id": "cnboIJwfhUHI"
      }
    },
    {
      "cell_type": "code",
      "source": [
        "input_shape = (2000, 4)  # Example input shape\n",
        "cnn_model3 = create_cnn_model(input_shape)\n",
        "cnn_model3.compile(optimizer='adam',\n",
        "              loss='binary_crossentropy',\n",
        "              metrics=['accuracy',\n",
        "        tf.keras.metrics.Recall(),\n",
        "     tf.keras.metrics.Precision()])"
      ],
      "metadata": {
        "id": "E25lAGuPhXiS"
      },
      "execution_count": null,
      "outputs": []
    },
    {
      "cell_type": "code",
      "source": [
        "kf = KFold(n_splits=5, shuffle=True, random_state=42)\n",
        "fold = 1\n",
        "acc_per_fold = []\n",
        "X = concatenated_data_3\n",
        "y = concatenated_labels_3\n",
        "for train_idx, test_idx in kf.split(X):\n",
        "\n",
        "    print(f\"\\nTraining on Fold {fold}\")\n",
        "\n",
        "    X_train, y_train = X[train_idx], y[train_idx]\n",
        "    X_test, y_test = X[test_idx], y[test_idx]\n",
        "\n",
        "    cnn_model3= create_cnn_model(input_shape)\n",
        "    cnn_model3.compile(optimizer='adam',\n",
        "              loss='binary_crossentropy',\n",
        "              metrics=['accuracy',\n",
        "        tf.keras.metrics.Recall(),\n",
        "     tf.keras.metrics.Precision()])\n",
        "    cnn_model3.fit(X_train, y_train, epochs=10, batch_size=32, verbose=1)\n",
        "\n",
        "    scores_3 = cnn_model3.evaluate(X_test, y_test, verbose=0)\n",
        "    print(f\"Fold {fold} Accuracy: {scores_3[1]*100:.2f}%\")\n",
        "    acc_per_fold.append(scores_3[1])"
      ],
      "metadata": {
        "colab": {
          "base_uri": "https://localhost:8080/"
        },
        "id": "0POGdAUZ-l6j",
        "outputId": "ae48924e-9f1e-46e7-df62-5e9f9a9ecf76"
      },
      "execution_count": null,
      "outputs": [
        {
          "output_type": "stream",
          "name": "stdout",
          "text": [
            "\n",
            "Training on Fold 1\n"
          ]
        },
        {
          "output_type": "stream",
          "name": "stderr",
          "text": [
            "/usr/local/lib/python3.11/dist-packages/keras/src/layers/convolutional/base_conv.py:107: UserWarning: Do not pass an `input_shape`/`input_dim` argument to a layer. When using Sequential models, prefer using an `Input(shape)` object as the first layer in the model instead.\n",
            "  super().__init__(activity_regularizer=activity_regularizer, **kwargs)\n"
          ]
        },
        {
          "output_type": "stream",
          "name": "stdout",
          "text": [
            "Epoch 1/10\n",
            "\u001b[1m78/78\u001b[0m \u001b[32m━━━━━━━━━━━━━━━━━━━━\u001b[0m\u001b[37m\u001b[0m \u001b[1m14s\u001b[0m 150ms/step - accuracy: 0.7846 - loss: 0.5214 - precision_11: 0.8164 - recall_11: 0.7155\n",
            "Epoch 2/10\n",
            "\u001b[1m78/78\u001b[0m \u001b[32m━━━━━━━━━━━━━━━━━━━━\u001b[0m\u001b[37m\u001b[0m \u001b[1m11s\u001b[0m 143ms/step - accuracy: 0.9858 - loss: 0.0442 - precision_11: 0.9854 - recall_11: 0.9858\n",
            "Epoch 3/10\n",
            "\u001b[1m78/78\u001b[0m \u001b[32m━━━━━━━━━━━━━━━━━━━━\u001b[0m\u001b[37m\u001b[0m \u001b[1m21s\u001b[0m 150ms/step - accuracy: 0.9849 - loss: 0.0377 - precision_11: 0.9865 - recall_11: 0.9824\n",
            "Epoch 4/10\n",
            "\u001b[1m78/78\u001b[0m \u001b[32m━━━━━━━━━━━━━━━━━━━━\u001b[0m\u001b[37m\u001b[0m \u001b[1m20s\u001b[0m 146ms/step - accuracy: 0.9904 - loss: 0.0373 - precision_11: 0.9920 - recall_11: 0.9883\n",
            "Epoch 5/10\n",
            "\u001b[1m78/78\u001b[0m \u001b[32m━━━━━━━━━━━━━━━━━━━━\u001b[0m\u001b[37m\u001b[0m \u001b[1m21s\u001b[0m 150ms/step - accuracy: 0.9986 - loss: 0.0069 - precision_11: 1.0000 - recall_11: 0.9972\n",
            "Epoch 6/10\n",
            "\u001b[1m78/78\u001b[0m \u001b[32m━━━━━━━━━━━━━━━━━━━━\u001b[0m\u001b[37m\u001b[0m \u001b[1m12s\u001b[0m 150ms/step - accuracy: 0.9974 - loss: 0.0084 - precision_11: 1.0000 - recall_11: 0.9946\n",
            "Epoch 7/10\n",
            "\u001b[1m78/78\u001b[0m \u001b[32m━━━━━━━━━━━━━━━━━━━━\u001b[0m\u001b[37m\u001b[0m \u001b[1m19s\u001b[0m 133ms/step - accuracy: 1.0000 - loss: 0.0010 - precision_11: 1.0000 - recall_11: 1.0000\n",
            "Epoch 8/10\n",
            "\u001b[1m78/78\u001b[0m \u001b[32m━━━━━━━━━━━━━━━━━━━━\u001b[0m\u001b[37m\u001b[0m \u001b[1m22s\u001b[0m 150ms/step - accuracy: 1.0000 - loss: 5.2177e-04 - precision_11: 1.0000 - recall_11: 1.0000\n",
            "Epoch 9/10\n",
            "\u001b[1m78/78\u001b[0m \u001b[32m━━━━━━━━━━━━━━━━━━━━\u001b[0m\u001b[37m\u001b[0m \u001b[1m12s\u001b[0m 151ms/step - accuracy: 1.0000 - loss: 3.4058e-04 - precision_11: 1.0000 - recall_11: 1.0000\n",
            "Epoch 10/10\n",
            "\u001b[1m78/78\u001b[0m \u001b[32m━━━━━━━━━━━━━━━━━━━━\u001b[0m\u001b[37m\u001b[0m \u001b[1m20s\u001b[0m 149ms/step - accuracy: 1.0000 - loss: 2.3919e-04 - precision_11: 1.0000 - recall_11: 1.0000\n",
            "Fold 1 Accuracy: 85.39%\n",
            "\n",
            "Training on Fold 1\n",
            "Epoch 1/10\n",
            "\u001b[1m78/78\u001b[0m \u001b[32m━━━━━━━━━━━━━━━━━━━━\u001b[0m\u001b[37m\u001b[0m \u001b[1m14s\u001b[0m 140ms/step - accuracy: 0.8163 - loss: 0.4479 - precision_12: 0.8382 - recall_12: 0.7453\n",
            "Epoch 2/10\n",
            "\u001b[1m78/78\u001b[0m \u001b[32m━━━━━━━━━━━━━━━━━━━━\u001b[0m\u001b[37m\u001b[0m \u001b[1m12s\u001b[0m 149ms/step - accuracy: 0.9835 - loss: 0.0491 - precision_12: 0.9822 - recall_12: 0.9831\n",
            "Epoch 3/10\n",
            "\u001b[1m78/78\u001b[0m \u001b[32m━━━━━━━━━━━━━━━━━━━━\u001b[0m\u001b[37m\u001b[0m \u001b[1m20s\u001b[0m 141ms/step - accuracy: 0.9964 - loss: 0.0137 - precision_12: 0.9980 - recall_12: 0.9944\n",
            "Epoch 4/10\n",
            "\u001b[1m78/78\u001b[0m \u001b[32m━━━━━━━━━━━━━━━━━━━━\u001b[0m\u001b[37m\u001b[0m \u001b[1m21s\u001b[0m 150ms/step - accuracy: 0.9975 - loss: 0.0149 - precision_12: 1.0000 - recall_12: 0.9950\n",
            "Epoch 5/10\n",
            "\u001b[1m78/78\u001b[0m \u001b[32m━━━━━━━━━━━━━━━━━━━━\u001b[0m\u001b[37m\u001b[0m \u001b[1m20s\u001b[0m 143ms/step - accuracy: 0.9986 - loss: 0.0044 - precision_12: 1.0000 - recall_12: 0.9972\n",
            "Epoch 6/10\n",
            "\u001b[1m78/78\u001b[0m \u001b[32m━━━━━━━━━━━━━━━━━━━━\u001b[0m\u001b[37m\u001b[0m \u001b[1m21s\u001b[0m 148ms/step - accuracy: 1.0000 - loss: 0.0013 - precision_12: 1.0000 - recall_12: 1.0000\n",
            "Epoch 7/10\n",
            "\u001b[1m78/78\u001b[0m \u001b[32m━━━━━━━━━━━━━━━━━━━━\u001b[0m\u001b[37m\u001b[0m \u001b[1m12s\u001b[0m 149ms/step - accuracy: 1.0000 - loss: 2.8245e-04 - precision_12: 1.0000 - recall_12: 1.0000\n",
            "Epoch 8/10\n",
            "\u001b[1m78/78\u001b[0m \u001b[32m━━━━━━━━━━━━━━━━━━━━\u001b[0m\u001b[37m\u001b[0m \u001b[1m19s\u001b[0m 132ms/step - accuracy: 1.0000 - loss: 1.2637e-04 - precision_12: 1.0000 - recall_12: 1.0000\n",
            "Epoch 9/10\n",
            "\u001b[1m78/78\u001b[0m \u001b[32m━━━━━━━━━━━━━━━━━━━━\u001b[0m\u001b[37m\u001b[0m \u001b[1m22s\u001b[0m 149ms/step - accuracy: 1.0000 - loss: 8.5776e-05 - precision_12: 1.0000 - recall_12: 1.0000\n",
            "Epoch 10/10\n",
            "\u001b[1m78/78\u001b[0m \u001b[32m━━━━━━━━━━━━━━━━━━━━\u001b[0m\u001b[37m\u001b[0m \u001b[1m19s\u001b[0m 126ms/step - accuracy: 1.0000 - loss: 8.8046e-05 - precision_12: 1.0000 - recall_12: 1.0000\n",
            "Fold 1 Accuracy: 87.00%\n",
            "\n",
            "Training on Fold 1\n",
            "Epoch 1/10\n",
            "\u001b[1m78/78\u001b[0m \u001b[32m━━━━━━━━━━━━━━━━━━━━\u001b[0m\u001b[37m\u001b[0m \u001b[1m13s\u001b[0m 135ms/step - accuracy: 0.7420 - loss: 0.5855 - precision_13: 0.7521 - recall_13: 0.6734\n",
            "Epoch 2/10\n",
            "\u001b[1m78/78\u001b[0m \u001b[32m━━━━━━━━━━━━━━━━━━━━\u001b[0m\u001b[37m\u001b[0m \u001b[1m22s\u001b[0m 150ms/step - accuracy: 0.9831 - loss: 0.0505 - precision_13: 0.9820 - recall_13: 0.9849\n",
            "Epoch 3/10\n",
            "\u001b[1m78/78\u001b[0m \u001b[32m━━━━━━━━━━━━━━━━━━━━\u001b[0m\u001b[37m\u001b[0m \u001b[1m20s\u001b[0m 141ms/step - accuracy: 0.9916 - loss: 0.0213 - precision_13: 0.9917 - recall_13: 0.9916\n",
            "Epoch 4/10\n",
            "\u001b[1m78/78\u001b[0m \u001b[32m━━━━━━━━━━━━━━━━━━━━\u001b[0m\u001b[37m\u001b[0m \u001b[1m21s\u001b[0m 149ms/step - accuracy: 0.9973 - loss: 0.0158 - precision_13: 1.0000 - recall_13: 0.9945\n",
            "Epoch 5/10\n",
            "\u001b[1m78/78\u001b[0m \u001b[32m━━━━━━━━━━━━━━━━━━━━\u001b[0m\u001b[37m\u001b[0m \u001b[1m12s\u001b[0m 148ms/step - accuracy: 0.9973 - loss: 0.0081 - precision_13: 1.0000 - recall_13: 0.9947\n",
            "Epoch 6/10\n",
            "\u001b[1m78/78\u001b[0m \u001b[32m━━━━━━━━━━━━━━━━━━━━\u001b[0m\u001b[37m\u001b[0m \u001b[1m19s\u001b[0m 129ms/step - accuracy: 1.0000 - loss: 0.0017 - precision_13: 1.0000 - recall_13: 1.0000\n",
            "Epoch 7/10\n",
            "\u001b[1m78/78\u001b[0m \u001b[32m━━━━━━━━━━━━━━━━━━━━\u001b[0m\u001b[37m\u001b[0m \u001b[1m12s\u001b[0m 148ms/step - accuracy: 1.0000 - loss: 3.1385e-04 - precision_13: 1.0000 - recall_13: 1.0000\n",
            "Epoch 8/10\n",
            "\u001b[1m78/78\u001b[0m \u001b[32m━━━━━━━━━━━━━━━━━━━━\u001b[0m\u001b[37m\u001b[0m \u001b[1m12s\u001b[0m 149ms/step - accuracy: 1.0000 - loss: 3.3605e-04 - precision_13: 1.0000 - recall_13: 1.0000\n",
            "Epoch 9/10\n",
            "\u001b[1m78/78\u001b[0m \u001b[32m━━━━━━━━━━━━━━━━━━━━\u001b[0m\u001b[37m\u001b[0m \u001b[1m12s\u001b[0m 148ms/step - accuracy: 1.0000 - loss: 2.1267e-04 - precision_13: 1.0000 - recall_13: 1.0000\n",
            "Epoch 10/10\n",
            "\u001b[1m78/78\u001b[0m \u001b[32m━━━━━━━━━━━━━━━━━━━━\u001b[0m\u001b[37m\u001b[0m \u001b[1m21s\u001b[0m 149ms/step - accuracy: 1.0000 - loss: 1.2606e-04 - precision_13: 1.0000 - recall_13: 1.0000\n",
            "Fold 1 Accuracy: 85.07%\n",
            "\n",
            "Training on Fold 1\n",
            "Epoch 1/10\n",
            "\u001b[1m78/78\u001b[0m \u001b[32m━━━━━━━━━━━━━━━━━━━━\u001b[0m\u001b[37m\u001b[0m \u001b[1m14s\u001b[0m 149ms/step - accuracy: 0.7387 - loss: 0.8237 - precision_14: 0.7052 - recall_14: 0.8581\n",
            "Epoch 2/10\n",
            "\u001b[1m78/78\u001b[0m \u001b[32m━━━━━━━━━━━━━━━━━━━━\u001b[0m\u001b[37m\u001b[0m \u001b[1m12s\u001b[0m 149ms/step - accuracy: 0.9770 - loss: 0.0571 - precision_14: 0.9868 - recall_14: 0.9676\n",
            "Epoch 3/10\n",
            "\u001b[1m78/78\u001b[0m \u001b[32m━━━━━━━━━━━━━━━━━━━━\u001b[0m\u001b[37m\u001b[0m \u001b[1m20s\u001b[0m 148ms/step - accuracy: 0.9954 - loss: 0.0173 - precision_14: 0.9971 - recall_14: 0.9934\n",
            "Epoch 4/10\n",
            "\u001b[1m78/78\u001b[0m \u001b[32m━━━━━━━━━━━━━━━━━━━━\u001b[0m\u001b[37m\u001b[0m \u001b[1m20s\u001b[0m 145ms/step - accuracy: 0.9959 - loss: 0.0224 - precision_14: 1.0000 - recall_14: 0.9919\n",
            "Epoch 5/10\n",
            "\u001b[1m78/78\u001b[0m \u001b[32m━━━━━━━━━━━━━━━━━━━━\u001b[0m\u001b[37m\u001b[0m \u001b[1m21s\u001b[0m 149ms/step - accuracy: 0.9965 - loss: 0.0125 - precision_14: 1.0000 - recall_14: 0.9928\n",
            "Epoch 6/10\n",
            "\u001b[1m78/78\u001b[0m \u001b[32m━━━━━━━━━━━━━━━━━━━━\u001b[0m\u001b[37m\u001b[0m \u001b[1m20s\u001b[0m 144ms/step - accuracy: 0.9976 - loss: 0.0048 - precision_14: 1.0000 - recall_14: 0.9953\n",
            "Epoch 7/10\n",
            "\u001b[1m78/78\u001b[0m \u001b[32m━━━━━━━━━━━━━━━━━━━━\u001b[0m\u001b[37m\u001b[0m \u001b[1m21s\u001b[0m 150ms/step - accuracy: 0.9992 - loss: 0.0025 - precision_14: 1.0000 - recall_14: 0.9984\n",
            "Epoch 8/10\n",
            "\u001b[1m78/78\u001b[0m \u001b[32m━━━━━━━━━━━━━━━━━━━━\u001b[0m\u001b[37m\u001b[0m \u001b[1m20s\u001b[0m 140ms/step - accuracy: 1.0000 - loss: 0.0020 - precision_14: 1.0000 - recall_14: 1.0000\n",
            "Epoch 9/10\n",
            "\u001b[1m78/78\u001b[0m \u001b[32m━━━━━━━━━━━━━━━━━━━━\u001b[0m\u001b[37m\u001b[0m \u001b[1m21s\u001b[0m 150ms/step - accuracy: 1.0000 - loss: 4.1165e-04 - precision_14: 1.0000 - recall_14: 1.0000\n",
            "Epoch 10/10\n",
            "\u001b[1m78/78\u001b[0m \u001b[32m━━━━━━━━━━━━━━━━━━━━\u001b[0m\u001b[37m\u001b[0m \u001b[1m20s\u001b[0m 145ms/step - accuracy: 1.0000 - loss: 3.3469e-04 - precision_14: 1.0000 - recall_14: 1.0000\n",
            "Fold 1 Accuracy: 89.73%\n",
            "\n",
            "Training on Fold 1\n",
            "Epoch 1/10\n",
            "\u001b[1m78/78\u001b[0m \u001b[32m━━━━━━━━━━━━━━━━━━━━\u001b[0m\u001b[37m\u001b[0m \u001b[1m13s\u001b[0m 128ms/step - accuracy: 0.8166 - loss: 0.4580 - precision_15: 0.8459 - recall_15: 0.7659\n",
            "Epoch 2/10\n",
            "\u001b[1m78/78\u001b[0m \u001b[32m━━━━━━━━━━━━━━━━━━━━\u001b[0m\u001b[37m\u001b[0m \u001b[1m12s\u001b[0m 152ms/step - accuracy: 0.9929 - loss: 0.0270 - precision_15: 0.9925 - recall_15: 0.9929\n",
            "Epoch 3/10\n",
            "\u001b[1m78/78\u001b[0m \u001b[32m━━━━━━━━━━━━━━━━━━━━\u001b[0m\u001b[37m\u001b[0m \u001b[1m20s\u001b[0m 151ms/step - accuracy: 0.9944 - loss: 0.0216 - precision_15: 0.9972 - recall_15: 0.9917\n",
            "Epoch 4/10\n",
            "\u001b[1m78/78\u001b[0m \u001b[32m━━━━━━━━━━━━━━━━━━━━\u001b[0m\u001b[37m\u001b[0m \u001b[1m10s\u001b[0m 132ms/step - accuracy: 0.9978 - loss: 0.0107 - precision_15: 0.9987 - recall_15: 0.9967\n",
            "Epoch 5/10\n",
            "\u001b[1m78/78\u001b[0m \u001b[32m━━━━━━━━━━━━━━━━━━━━\u001b[0m\u001b[37m\u001b[0m \u001b[1m22s\u001b[0m 152ms/step - accuracy: 0.9994 - loss: 0.0054 - precision_15: 0.9993 - recall_15: 0.9995\n",
            "Epoch 6/10\n",
            "\u001b[1m78/78\u001b[0m \u001b[32m━━━━━━━━━━━━━━━━━━━━\u001b[0m\u001b[37m\u001b[0m \u001b[1m12s\u001b[0m 150ms/step - accuracy: 0.9998 - loss: 8.9593e-04 - precision_15: 1.0000 - recall_15: 0.9997\n",
            "Epoch 7/10\n",
            "\u001b[1m78/78\u001b[0m \u001b[32m━━━━━━━━━━━━━━━━━━━━\u001b[0m\u001b[37m\u001b[0m \u001b[1m20s\u001b[0m 141ms/step - accuracy: 1.0000 - loss: 0.0013 - precision_15: 1.0000 - recall_15: 1.0000\n",
            "Epoch 8/10\n",
            "\u001b[1m78/78\u001b[0m \u001b[32m━━━━━━━━━━━━━━━━━━━━\u001b[0m\u001b[37m\u001b[0m \u001b[1m12s\u001b[0m 152ms/step - accuracy: 1.0000 - loss: 1.1744e-04 - precision_15: 1.0000 - recall_15: 1.0000\n",
            "Epoch 9/10\n",
            "\u001b[1m78/78\u001b[0m \u001b[32m━━━━━━━━━━━━━━━━━━━━\u001b[0m\u001b[37m\u001b[0m \u001b[1m19s\u001b[0m 138ms/step - accuracy: 1.0000 - loss: 6.3587e-05 - precision_15: 1.0000 - recall_15: 1.0000\n",
            "Epoch 10/10\n",
            "\u001b[1m78/78\u001b[0m \u001b[32m━━━━━━━━━━━━━━━━━━━━\u001b[0m\u001b[37m\u001b[0m \u001b[1m22s\u001b[0m 152ms/step - accuracy: 1.0000 - loss: 4.6007e-05 - precision_15: 1.0000 - recall_15: 1.0000\n",
            "Fold 1 Accuracy: 87.62%\n"
          ]
        }
      ]
    },
    {
      "cell_type": "code",
      "source": [
        "#cnn_model3.fit(X_train_3, y_train_3, epochs=10, batch_size=32)"
      ],
      "metadata": {
        "id": "f7Kys2JohXax"
      },
      "execution_count": null,
      "outputs": []
    },
    {
      "cell_type": "code",
      "source": [
        "results = cnn_model3.evaluate(X_test_3, y_test_3)"
      ],
      "metadata": {
        "id": "Adwbm9H0hXNb",
        "colab": {
          "base_uri": "https://localhost:8080/"
        },
        "outputId": "567ad0a5-a159-458c-bf84-8c14fea243d0"
      },
      "execution_count": null,
      "outputs": [
        {
          "output_type": "stream",
          "name": "stdout",
          "text": [
            "\u001b[1m20/20\u001b[0m \u001b[32m━━━━━━━━━━━━━━━━━━━━\u001b[0m\u001b[37m\u001b[0m \u001b[1m1s\u001b[0m 34ms/step - accuracy: 1.0000 - loss: 3.0279e-05 - precision_15: 1.0000 - recall_15: 1.0000\n"
          ]
        }
      ]
    },
    {
      "cell_type": "code",
      "source": [
        "from sklearn.metrics import confusion_matrix\n",
        "import seaborn as sns\n",
        "import matplotlib.pyplot as plt\n",
        "\n",
        "# Make predictions on the test set\n",
        "y_pred = cnn_model3.predict(X_test_3)\n",
        "y_pred_classes = (y_pred > 0.5).astype(int)  # Convert probabilities to class labels\n",
        "\n",
        "# Compute the confusion matrix\n",
        "cm = confusion_matrix(y_test_3, y_pred_classes)\n",
        "\n",
        "# Plot the confusion matrix using seaborn\n",
        "plt.figure(figsize=(8, 6))\n",
        "sns.heatmap(cm, annot=True, fmt='d', cmap='Reds',\n",
        "            xticklabels=['Predicted Negative', 'Predicted Positive'],\n",
        "            yticklabels=['Actual Negative', 'Actual Positive'])\n",
        "plt.xlabel('Predicted Label')\n",
        "plt.ylabel('True Label')\n",
        "plt.title('Confusion Matrix')\n",
        "plt.show()\n"
      ],
      "metadata": {
        "colab": {
          "base_uri": "https://localhost:8080/",
          "height": 581
        },
        "id": "vChrkF0EBgnJ",
        "outputId": "5e757bad-9dc3-4c1f-bfd5-89c119a9defb"
      },
      "execution_count": null,
      "outputs": [
        {
          "output_type": "stream",
          "name": "stdout",
          "text": [
            "\u001b[1m20/20\u001b[0m \u001b[32m━━━━━━━━━━━━━━━━━━━━\u001b[0m\u001b[37m\u001b[0m \u001b[1m1s\u001b[0m 33ms/step\n"
          ]
        },
        {
          "output_type": "display_data",
          "data": {
            "text/plain": [
              "<Figure size 800x600 with 2 Axes>"
            ],
            "image/png": "[encoded data removed]"
          },
          "metadata": {}
        }
      ]
    },
    {
      "cell_type": "markdown",
      "source": [
        "#Machine Learning"
      ],
      "metadata": {
        "id": "YLub4u3d833I"
      }
    },
    {
      "cell_type": "markdown",
      "source": [
        "## Logistic Regression"
      ],
      "metadata": {
        "id": "YMl_5fwt8-Zh"
      }
    },
    {
      "cell_type": "markdown",
      "source": [
        "### Experiment 1"
      ],
      "metadata": {
        "id": "A9VD3UvlDr3Z"
      }
    },
    {
      "cell_type": "code",
      "source": [
        "from sklearn.linear_model import LogisticRegressionCV\n",
        "from sklearn.metrics import accuracy_score\n",
        "\n",
        "# Reshape X_train_1 to have 2 dimensions\n",
        "X_train_1_reshaped = X_train_1.reshape(X_train_1.shape[0], -1)\n",
        "\n",
        "# Reshape X_test_1 to have 2 dimensions\n",
        "X_test_1_reshaped = X_test_1.reshape(X_test_1.shape[0], -1)\n",
        "\n",
        "# Now, you can use X_train_1_reshaped and X_test_1_reshaped with the LogisticRegression model\n",
        "lg_model1 = LogisticRegressionCV(cv=5, random_state=42)\n",
        "lg_model1.fit(X_train_1_reshaped, y_train_1)  # Use the reshaped data here\n",
        "y_pred_1 = lg_model1.predict(X_test_1_reshaped)  # Use the reshaped data here\n",
        "accuracy = accuracy_score(y_test_1, y_pred_1)\n",
        "print(\"Accuracy:\", accuracy)\n"
      ],
      "metadata": {
        "id": "iZ0vbAk987Fx",
        "colab": {
          "base_uri": "https://localhost:8080/"
        },
        "outputId": "0d126689-db8f-4aed-c1f2-4768b18103c6"
      },
      "execution_count": null,
      "outputs": [
        {
          "output_type": "stream",
          "name": "stdout",
          "text": [
            "Accuracy: 0.7404580152671756\n"
          ]
        }
      ]
    },
    {
      "cell_type": "markdown",
      "source": [
        "###Experiment 2"
      ],
      "metadata": {
        "id": "N4u8dLbaBsAY"
      }
    },
    {
      "cell_type": "code",
      "source": [
        "from sklearn.linear_model import LogisticRegressionCV\n",
        "from sklearn.metrics import accuracy_score\n",
        "\n",
        "# Reshape X_train_2 to have 2 dimensions\n",
        "X_train_2_reshaped = X_train_2.reshape(X_train_2.shape[0], -1)\n",
        "\n",
        "# Reshape X_test_2 to have 2 dimensions\n",
        "X_test_2_reshaped = X_test_2.reshape(X_test_2.shape[0], -1)\n",
        "\n",
        "# Now, you can use X_train_2_reshaped and X_test_2_reshaped with the LogisticRegression model\n",
        "lg_model2 = LogisticRegressionCV(cv=5, random_state=42)\n",
        "lg_model2.fit(X_train_2_reshaped, y_train_2)  # Use the reshaped data here\n",
        "y_pred_2 = lg_model2.predict(X_test_2_reshaped)  # Use the reshaped data here\n",
        "accuracy = accuracy_score(y_test_2, y_pred_2)\n",
        "print(\"Accuracy:\", accuracy)"
      ],
      "metadata": {
        "id": "3GVXTA8Aiqhi",
        "colab": {
          "base_uri": "https://localhost:8080/"
        },
        "outputId": "2f4d775c-8ce0-40be-a783-bcec9468629b"
      },
      "execution_count": null,
      "outputs": [
        {
          "output_type": "stream",
          "name": "stdout",
          "text": [
            "Accuracy: 0.7227488151658767\n"
          ]
        }
      ]
    },
    {
      "cell_type": "markdown",
      "source": [
        "###Experiment 3"
      ],
      "metadata": {
        "id": "qY1LA2OEDvXJ"
      }
    },
    {
      "cell_type": "code",
      "source": [
        "from sklearn.linear_model import LogisticRegressionCV\n",
        "from sklearn.metrics import accuracy_score\n",
        "\n",
        "# Reshape X_train_3 to have 3 dimensions\n",
        "X_train_3_reshaped = X_train_3.reshape(X_train_3.shape[0], -1)\n",
        "\n",
        "# Reshape X_test_3 to have 3 dimensions\n",
        "X_test_3_reshaped = X_test_3.reshape(X_test_3.shape[0], -1)\n",
        "\n",
        "# Now, you can use X_train_3_reshaped and X_test_3_reshaped with the LogisticRegression model\n",
        "lg_model3 = LogisticRegressionCV(cv=5, random_state=43)\n",
        "lg_model3.fit(X_train_3_reshaped, y_train_3)  # Use the reshaped data here\n",
        "y_pred_3 = lg_model3.predict(X_test_3_reshaped)  # Use the reshaped data here\n",
        "accuracy = accuracy_score(y_test_3, y_pred_3)\n",
        "print(\"Accuracy:\", accuracy)"
      ],
      "metadata": {
        "id": "G7L0g-X7ivYE",
        "colab": {
          "base_uri": "https://localhost:8080/"
        },
        "outputId": "908de574-5571-4ad5-b79e-cde0779e75b2"
      },
      "execution_count": null,
      "outputs": [
        {
          "output_type": "stream",
          "name": "stdout",
          "text": [
            "Accuracy: 0.9678972712680578\n"
          ]
        }
      ]
    },
    {
      "cell_type": "markdown",
      "source": [
        "# Compare Results"
      ],
      "metadata": {
        "id": "ocMf1f1LWzK6"
      }
    },
    {
      "cell_type": "code",
      "source": [
        "# prompt: make a roc_curve graph from the logistic regression and cnn results\n",
        "\n",
        "from sklearn.metrics import roc_curve, auc\n",
        "\n",
        "# Logistic Regression ROC Curve (Experiment 1)\n",
        "y_prob_lr1 = lg_model1.predict_proba(X_test_1_reshaped)[:, 1]\n",
        "fpr_lr1, tpr_lr1, thresholds_lr1 = roc_curve(y_test_1, y_prob_lr1)\n",
        "roc_auc_lr1 = auc(fpr_lr1, tpr_lr1)\n",
        "\n",
        "# CNN ROC Curve (Experiment 1)\n",
        "y_prob_cnn1 = cnn_model1.predict(X_test_1)\n",
        "fpr_cnn1, tpr_cnn1, thresholds_cnn1 = roc_curve(y_test_1, y_prob_cnn1)\n",
        "roc_auc_cnn1 = auc(fpr_cnn1, tpr_cnn1)\n",
        "\n",
        "# Plot ROC curves\n",
        "plt.figure(figsize=(8, 6))\n",
        "plt.plot(fpr_lr1, tpr_lr1, color='darkorange', lw=2, label=f'Logistic Regression (AUC = {roc_auc_lr1:.2f})')\n",
        "plt.plot(fpr_cnn1, tpr_cnn1, color='blue', lw=2, label=f'CNN (AUC = {roc_auc_cnn1:.2f})')\n",
        "plt.plot([0, 1], [0, 1], color='navy', lw=2, linestyle='--')\n",
        "plt.xlim([0.0, 1.0])\n",
        "plt.ylim([0.0, 1.05])\n",
        "plt.xlabel('False Positive Rate')\n",
        "plt.ylabel('True Positive Rate')\n",
        "plt.title('Receiver Operating Characteristic (ROC) Curve - Experiment 1')\n",
        "plt.legend(loc=\"lower right\")\n",
        "\n",
        "#plt.show()\n",
        "\n",
        "\n",
        "# Repeat for Experiment 2 and 3 (replace placeholders with actual model and data)\n",
        "\n",
        "# Logistic Regression ROC Curve (Experiment 2)\n",
        "y_prob_lr2 = lg_model2.predict_proba(X_test_2_reshaped)[:, 1]\n",
        "fpr_lr2, tpr_lr2, thresholds_lr2 = roc_curve(y_test_2, y_prob_lr2)\n",
        "roc_auc_lr2 = auc(fpr_lr2, tpr_lr2)\n",
        "\n",
        "# CNN ROC Curve (Experiment 2)\n",
        "y_prob_cnn2 = cnn_model2.predict(X_test_2)\n",
        "fpr_cnn2, tpr_cnn2, thresholds_cnn2 = roc_curve(y_test_2, y_prob_cnn2)\n",
        "roc_auc_cnn2 = auc(fpr_cnn2, tpr_cnn2)\n",
        "\n",
        "# Plot ROC curves - Experiment 2\n",
        "plt.figure(figsize=(8, 6))\n",
        "plt.plot(fpr_lr2, tpr_lr2, color='darkorange', lw=2, label=f'Logistic Regression (AUC = {roc_auc_lr2:.2f})')\n",
        "plt.plot(fpr_cnn2, tpr_cnn2, color='blue', lw=2, label=f'CNN (AUC = {roc_auc_cnn2:.2f})')\n",
        "plt.plot([0, 1], [0, 1], color='navy', lw=2, linestyle='--')\n",
        "plt.xlim([0.0, 1.0])\n",
        "plt.ylim([0.0, 1.05])\n",
        "plt.xlabel('False Positive Rate')\n",
        "plt.ylabel('True Positive Rate')\n",
        "plt.title('Receiver Operating Characteristic (ROC) Curve - Experiment 2')\n",
        "plt.legend(loc=\"lower right\")\n",
        "#plt.show()\n",
        "\n",
        "\n",
        "# Logistic Regression ROC Curve (Experiment 3)\n",
        "y_prob_lr3 = lg_model3.predict_proba(X_test_3_reshaped)[:, 1]\n",
        "fpr_lr3, tpr_lr3, thresholds_lr3 = roc_curve(y_test_3, y_prob_lr3)\n",
        "roc_auc_lr3 = auc(fpr_lr3, tpr_lr3)\n",
        "\n",
        "# CNN ROC Curve (Experiment 3)\n",
        "y_prob_cnn3 = cnn_model3.predict(X_test_3)\n",
        "fpr_cnn3, tpr_cnn3, thresholds_cnn3 = roc_curve(y_test_3, y_prob_cnn3)\n",
        "roc_auc_cnn3 = auc(fpr_cnn3, tpr_cnn3)\n",
        "\n",
        "# Plot ROC curves - Experiment 3\n",
        "plt.figure(figsize=(8, 6))\n",
        "plt.plot(fpr_lr3, tpr_lr3, color='darkorange', lw=2, label=f'Logistic Regression (AUC = {roc_auc_lr3:.2f})')\n",
        "plt.plot(fpr_cnn3, tpr_cnn3, color='blue', lw=2, label=f'CNN (AUC = {roc_auc_cnn3:.2f})')\n",
        "plt.plot([0, 1], [0, 1], color='navy', lw=2, linestyle='--')\n",
        "plt.xlim([0.0, 1.0])\n",
        "plt.ylim([0.0, 1.05])\n",
        "plt.xlabel('False Positive Rate')\n",
        "plt.ylabel('True Positive Rate')\n",
        "plt.title('Receiver Operating Characteristic (ROC) Curve - Experiment 3')\n",
        "plt.legend(loc=\"lower right\")\n",
        "plt.show()\n"
      ],
      "metadata": {
        "colab": {
          "base_uri": "https://localhost:8080/",
          "height": 1000
        },
        "id": "b0k8t5mJ9QR2",
        "outputId": "963c087b-3e68-4bac-e751-a97643607b09"
      },
      "execution_count": null,
      "outputs": [
        {
          "output_type": "stream",
          "name": "stdout",
          "text": [
            "\u001b[1m29/29\u001b[0m \u001b[32m━━━━━━━━━━━━━━━━━━━━\u001b[0m\u001b[37m\u001b[0m \u001b[1m2s\u001b[0m 56ms/step\n",
            "\u001b[1m40/40\u001b[0m \u001b[32m━━━━━━━━━━━━━━━━━━━━\u001b[0m\u001b[37m\u001b[0m \u001b[1m2s\u001b[0m 52ms/step\n",
            "\u001b[1m20/20\u001b[0m \u001b[32m━━━━━━━━━━━━━━━━━━━━\u001b[0m\u001b[37m\u001b[0m \u001b[1m1s\u001b[0m 36ms/step\n"
          ]
        },
        {
          "output_type": "display_data",
          "data": {
            "text/plain": [
              "<Figure size 800x600 with 1 Axes>"
            ],
            "image/png": "[encoded data removed]"
          },
          "metadata": {}
        },
        {
          "output_type": "display_data",
          "data": {
            "text/plain": [
              "<Figure size 800x600 with 1 Axes>"
            ],
            "image/png": "[encoded data removed]"
          },
          "metadata": {}
        },
        {
          "output_type": "display_data",
          "data": {
            "text/plain": [
              "<Figure size 800x600 with 1 Axes>"
            ],
            "image/png": "[encoded data removed]"
          },
          "metadata": {}
        }
      ]
    }
  ]
}